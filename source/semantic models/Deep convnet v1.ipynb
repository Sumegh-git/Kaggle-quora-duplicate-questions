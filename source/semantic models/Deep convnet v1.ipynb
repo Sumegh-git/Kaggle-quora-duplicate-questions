{
 "cells": [
  {
   "cell_type": "markdown",
   "metadata": {},
   "source": [
    "# Deep Convnet for each question\n"
   ]
  },
  {
   "cell_type": "markdown",
   "metadata": {},
   "source": [
    "\n",
    "a stacked deep convnet for each individual question similar to VGG for images:\n",
    "\n",
    "```\n",
    "sequence_input = Input(shape=(MAX_SEQUENCE_LENGTH,), dtype='int32')\n",
    "embedded_sequences = embedding_layer(sequence_input)\n",
    "x = Conv1D(128, 5, activation='relu')(embedded_sequences)\n",
    "x = MaxPooling1D(5)(x)\n",
    "x = Conv1D(128, 5, activation='relu')(x)\n",
    "x = MaxPooling1D(5)(x)\n",
    "x = Conv1D(128, 5, activation='relu')(x)\n",
    "x = MaxPooling1D(35)(x)  # global max pooling\n",
    "x = Flatten()(x)\n",
    "x = Dense(128, activation='relu')(x)\n",
    "preds = Dense(len(labels_index), activation='softmax')(x)\n",
    "```"
   ]
  },
  {
   "cell_type": "markdown",
   "metadata": {},
   "source": [
    "## Import packages"
   ]
  },
  {
   "cell_type": "code",
   "execution_count": 1,
   "metadata": {
    "collapsed": false
   },
   "outputs": [
    {
     "name": "stderr",
     "output_type": "stream",
     "text": [
      "Using Theano backend.\n",
      "WARNING (theano.sandbox.cuda): The cuda backend is deprecated and will be removed in the next release (v0.10).  Please switch to the gpuarray backend. You can get more information about how to switch at this URL:\n",
      " https://github.com/Theano/Theano/wiki/Converting-to-the-new-gpu-back-end%28gpuarray%29\n",
      "\n",
      "Using gpu device 0: Tesla K80 (CNMeM is enabled with initial size: 95.0% of memory, cuDNN 5103)\n"
     ]
    }
   ],
   "source": [
    "%matplotlib inline\n",
    "from __future__ import print_function\n",
    "import numpy as np\n",
    "import pandas as pd\n",
    "import datetime, time, json\n",
    "\n",
    "from keras.models import Sequential,Model\n",
    "from keras.layers import Embedding, Dense, Dropout, Reshape, Merge, BatchNormalization, TimeDistributed, Lambda, Activation\n",
    "from keras.layers import Conv1D , Flatten, Input\n",
    "from keras.layers.pooling import MaxPooling1D\n",
    "from keras.layers.convolutional import ZeroPadding1D\n",
    "\n",
    "\n",
    "\n",
    "from keras.regularizers import l2\n",
    "from keras.callbacks import Callback, ModelCheckpoint,EarlyStopping\n",
    "from keras import backend as K\n",
    "\n",
    "\n",
    "\n",
    "\n",
    "\n",
    "from sklearn.model_selection import train_test_split\n"
   ]
  },
  {
   "cell_type": "markdown",
   "metadata": {},
   "source": [
    "## Initialize global variables"
   ]
  },
  {
   "cell_type": "code",
   "execution_count": 2,
   "metadata": {
    "collapsed": true
   },
   "outputs": [],
   "source": [
    "\n",
    "\n",
    "path = '/home/ubuntu/quora/'\n",
    "data_home = path +\"data/\"\n",
    "\n",
    "Q1_TRAINING_DATA_FILE = data_home+'cache/q1_train.npy'\n",
    "Q2_TRAINING_DATA_FILE = data_home+'cache/q2_train.npy'\n",
    "LABEL_TRAINING_DATA_FILE = data_home+'cache/label_train.npy'\n",
    "WORD_EMBEDDING_MATRIX_FILE = data_home+'cache/word_embedding_matrix.npy'\n",
    "NB_WORDS_DATA_FILE = data_home+'cache/nb_words.json'\n",
    "Q1_TESTING_DATA_FILE = 'q1_test.npy'\n",
    "Q2_TESTING_DATA_FILE = 'q2_test.npy'\n",
    "\n",
    "\n",
    "MODEL_WEIGHTS_FILE = path+'weights/conv_weights_v1.h5'\n",
    "MAX_SEQUENCE_LENGTH = 35\n",
    "EMBEDDING_DIM = 300\n",
    "VALIDATION_SPLIT = 0.1\n",
    "TEST_SPLIT = 0.1\n",
    "RNG_SEED = 13371447\n",
    "NB_EPOCHS = 25"
   ]
  },
  {
   "cell_type": "markdown",
   "metadata": {},
   "source": [
    "## Load the dataset, embedding matrix and word count"
   ]
  },
  {
   "cell_type": "code",
   "execution_count": 3,
   "metadata": {
    "collapsed": true
   },
   "outputs": [],
   "source": [
    "q1_data = np.load(open(Q1_TRAINING_DATA_FILE, 'rb'))\n",
    "q2_data = np.load(open(Q2_TRAINING_DATA_FILE, 'rb'))\n",
    "labels = np.load(open(LABEL_TRAINING_DATA_FILE, 'rb'))\n",
    "word_embedding_matrix = np.load(open(WORD_EMBEDDING_MATRIX_FILE, 'rb'))\n",
    "with open(NB_WORDS_DATA_FILE, 'r') as f:\n",
    "    nb_words = json.load(f)['nb_words']"
   ]
  },
  {
   "cell_type": "code",
   "execution_count": 4,
   "metadata": {
    "collapsed": false
   },
   "outputs": [
    {
     "data": {
      "text/plain": [
       "((404290, 35), (404290, 35))"
      ]
     },
     "execution_count": 4,
     "metadata": {},
     "output_type": "execute_result"
    }
   ],
   "source": [
    "q1_data.shape,q2_data.shape"
   ]
  },
  {
   "cell_type": "markdown",
   "metadata": {},
   "source": [
    "## Partition the dataset into train and test sets"
   ]
  },
  {
   "cell_type": "code",
   "execution_count": 5,
   "metadata": {
    "collapsed": true
   },
   "outputs": [],
   "source": [
    "from sklearn.model_selection import StratifiedShuffleSplit\n",
    "\n",
    "sss = StratifiedShuffleSplit(n_splits=1, test_size=0.1, random_state=2019)\n"
   ]
  },
  {
   "cell_type": "code",
   "execution_count": 6,
   "metadata": {
    "collapsed": false
   },
   "outputs": [],
   "source": [
    "X = np.stack((q1_data, q2_data), axis=1)\n",
    "y = labels\n",
    "# X_train, X_test, y_train, y_test = train_test_split(X, y, test_size=TEST_SPLIT, random_state=RNG_SEED)\n",
    "# Q1_train = X_train[:,0]\n",
    "# Q2_train = X_train[:,1]\n",
    "# Q1_test = X_test[:,0]\n",
    "# Q2_test = X_test[:,1]"
   ]
  },
  {
   "cell_type": "code",
   "execution_count": 7,
   "metadata": {
    "collapsed": false
   },
   "outputs": [
    {
     "name": "stdout",
     "output_type": "stream",
     "text": [
      "TRAIN: [337176  17039  75113 ...,  41001 336218 115328] TEST: [283851 377233  35357 ..., 392228 325350 150065]\n"
     ]
    }
   ],
   "source": [
    "for train_index, test_index in sss.split(X, y):\n",
    "    print(\"TRAIN:\", train_index, \"TEST:\", test_index)\n",
    "    X_train, X_test = X[train_index], X[test_index]\n",
    "    y_train, y_test = y[train_index], y[test_index]\n",
    "\n"
   ]
  },
  {
   "cell_type": "code",
   "execution_count": 8,
   "metadata": {
    "collapsed": false,
    "scrolled": false
   },
   "outputs": [],
   "source": [
    "Q1_train = X_train[:,0]\n",
    "Q2_train = X_train[:,1]\n",
    "Q1_test = X_test[:,0]\n",
    "Q2_test = X_test[:,1]"
   ]
  },
  {
   "cell_type": "markdown",
   "metadata": {},
   "source": [
    "setting weights"
   ]
  },
  {
   "cell_type": "code",
   "execution_count": 9,
   "metadata": {
    "collapsed": true
   },
   "outputs": [],
   "source": [
    "class_weight = {0: 1.309028344, 1: 0.472001959}\n",
    "weight_val = np.ones(len(y_test))\n",
    "weight_val *= 0.472001959\n",
    "weight_val[y_test==0] = 1.309028344   "
   ]
  },
  {
   "cell_type": "markdown",
   "metadata": {},
   "source": [
    "## Define the model"
   ]
  },
  {
   "cell_type": "code",
   "execution_count": 10,
   "metadata": {
    "collapsed": true
   },
   "outputs": [],
   "source": [
    "\n",
    "nr_hidden = 200\n",
    "drop_out = 0.2 "
   ]
  },
  {
   "cell_type": "code",
   "execution_count": 11,
   "metadata": {
    "collapsed": false
   },
   "outputs": [],
   "source": [
    "def ConvBlock(x, num_blocks=2, filters=32):\n",
    "\n",
    "    for i in range(num_blocks):\n",
    "#         x = ZeroPadding1D(1)(x)\n",
    "        x = Conv1D(filters, kernel_size=4, padding='valid',activation='relu')(x)\n",
    "        x = BatchNormalization()(x)        \n",
    "        x = Dropout(drop_out)(x)\n",
    "        \n",
    "#     x =  MaxPooling1D(2)(x)\n",
    "    \n",
    "    return x          "
   ]
  },
  {
   "cell_type": "code",
   "execution_count": 14,
   "metadata": {
    "collapsed": false
   },
   "outputs": [
    {
     "name": "stderr",
     "output_type": "stream",
     "text": [
      "/home/ubuntu/anaconda2/envs/qenv/lib/python2.7/site-packages/ipykernel/__main__.py:97: UserWarning: The `Merge` layer is deprecated and will be removed after 08/2017. Use instead layers from `keras.layers.merge`, e.g. `add`, `concatenate`, etc.\n"
     ]
    }
   ],
   "source": [
    "from keras.layers.pooling import GlobalMaxPooling1D,GlobalAveragePooling1D\n",
    "from keras.layers.merge import concatenate\n",
    "\n",
    "\n",
    "graph_in = Input(shape=(MAX_SEQUENCE_LENGTH,EMBEDDING_DIM))\n",
    "x = BatchNormalization()(graph_in)\n",
    "\n",
    "\n",
    "\n",
    "## v4\n",
    "\n",
    "x = ConvBlock(x,2,32)\n",
    "x = ConvBlock(x,2,64)\n",
    "\n",
    "maxpool = GlobalMaxPooling1D()(x)\n",
    "avgpool = GlobalAveragePooling1D()(x)\n",
    "\n",
    "features = concatenate([maxpool,avgpool])\n",
    "\n",
    "x = Dense(nr_hidden, activation='relu')(features)\n",
    "x = BatchNormalization()(x)\n",
    "x = Dropout(drop_out)(x)\n",
    "\n",
    "## v3\n",
    "\n",
    "# x = ConvBlock(x,2,32)\n",
    "# x = ConvBlock(x,2,64)\n",
    "\n",
    "# x = GlobalMaxPooling1D()(x)\n",
    "\n",
    "# x = Dense(nr_hidden)(x)\n",
    "# x = BatchNormalization()(x)\n",
    "# x = Dropout(drop_out)(x)\n",
    "\n",
    "## v2\n",
    "# x = ConvBlock(x,2,32)\n",
    "# x = ConvBlock(x,2,64)\n",
    "# x = ConvBlock(x,2,128)\n",
    "\n",
    "## v1\n",
    "# x = ZeroPadding1D(1)(x)\n",
    "\n",
    "# the first two layers\n",
    "# x = ZeroPadding1D(1)(graph_in)\n",
    "# x = Conv1D(32, 2, activation='relu')(graph_in)\n",
    "# x = Dropout(0.2)(x)\n",
    "# # x = MaxPooling1D(2)(x)\n",
    "\n",
    "# # x = ZeroPadding1D(1)(graph_in)\n",
    "# x = Conv1D(32, 3, activation='relu')(x)\n",
    "# x = BatchNormalization()(x)\n",
    "# x = MaxPooling1D(2)(x)\n",
    "\n",
    "\n",
    "# deep conv layers\n",
    "# x = ConvBlock(x,2,128)\n",
    "# x = ConvBlock(x,3,256)\n",
    "# x = ConvBlock(x,3,512)\n",
    "# x = ConvBlock(x,3,512)\n",
    "# x = Flatten()(x)\n",
    "\n",
    "stackedConvLayers = Model(inputs=graph_in,outputs=x)\n",
    "\n",
    "\n",
    "### add computation graph to question 1 embeddings\n",
    "\n",
    "Q1 = Sequential()\n",
    "Q1.add(Embedding(nb_words + 1, \n",
    "                 EMBEDDING_DIM, \n",
    "                 weights=[word_embedding_matrix], \n",
    "                 input_length=MAX_SEQUENCE_LENGTH, \n",
    "                 trainable=False))\n",
    "\n",
    "\n",
    "Q1.add(stackedConvLayers)\n",
    "\n",
    "\n",
    "### Same ops for question 2\n",
    "\n",
    "Q2 = Sequential()\n",
    "Q2.add(Embedding(nb_words + 1, \n",
    "                 EMBEDDING_DIM, \n",
    "                 weights=[word_embedding_matrix], \n",
    "                 input_length=MAX_SEQUENCE_LENGTH, \n",
    "                 trainable=False))\n",
    "\n",
    "\n",
    "Q2.add(stackedConvLayers)\n",
    "\n",
    "\n",
    "model = Sequential()\n",
    "\n",
    "\n",
    "\n",
    "# vanilla dense:\n",
    "\n",
    "model.add(Merge([Q1, Q2], mode='concat'))\n",
    "\n",
    "\n",
    "model.add(BatchNormalization())\n",
    "\n",
    "model.add(Dense(200, activation='relu'))\n",
    "model.add(BatchNormalization())\n",
    "model.add(Dropout(drop_out))\n",
    "\n",
    "model.add(Dense(200, activation='relu'))\n",
    "model.add(BatchNormalization())\n",
    "model.add(Dropout(drop_out))\n",
    "\n",
    "model.add(BatchNormalization())\n",
    "model.add(Dense(1, activation='sigmoid'))\n",
    "\n",
    "model.compile(loss='binary_crossentropy', \n",
    "              optimizer='nadam', \n",
    "              metrics=['accuracy'])#, 'precision', 'recall', 'fbeta_score'])"
   ]
  },
  {
   "cell_type": "code",
   "execution_count": 12,
   "metadata": {
    "collapsed": false
   },
   "outputs": [],
   "source": [
    "# stackedConvLayers.summary()"
   ]
  },
  {
   "cell_type": "code",
   "execution_count": 13,
   "metadata": {
    "collapsed": false
   },
   "outputs": [],
   "source": [
    "# model.summary()"
   ]
  },
  {
   "cell_type": "markdown",
   "metadata": {},
   "source": [
    "## Siamese Style distance function"
   ]
  },
  {
   "cell_type": "code",
   "execution_count": 14,
   "metadata": {
    "collapsed": true
   },
   "outputs": [],
   "source": [
    "def euclidean_distance(vects):\n",
    "    x, y = vects\n",
    "    return K.sqrt(K.maximum(K.sum(K.square(x - y), axis=1, keepdims=True), K.epsilon()))\n",
    "\n",
    "\n",
    "def eucl_dist_output_shape(shapes):\n",
    "    shape1, shape2 = shapes\n",
    "    return (shape1[0], 1)\n",
    "\n",
    "\n",
    "def contrastive_loss(y_true, y_pred):\n",
    "    '''Contrastive loss from Hadsell-et-al.'06\n",
    "    http://yann.lecun.com/exdb/publis/pdf/hadsell-chopra-lecun-06.pdf\n",
    "    '''\n",
    "    margin = 1\n",
    "    return K.mean(y_true * K.square(y_pred) +\n",
    "                  (1 - y_true) * K.square(K.maximum(margin - y_pred, 0)))\n"
   ]
  },
  {
   "cell_type": "code",
   "execution_count": 24,
   "metadata": {
    "collapsed": true
   },
   "outputs": [],
   "source": [
    "def create_siamese_model():\n",
    "    \n",
    "    graph_in = Input(shape=(MAX_SEQUENCE_LENGTH,))\n",
    "    \n",
    "    embedded = Embedding(nb_words + 1, \n",
    "                 EMBEDDING_DIM, \n",
    "                 weights=[word_embedding_matrix], \n",
    "                 input_length=MAX_SEQUENCE_LENGTH, \n",
    "                 trainable=False)(graph_in)\n",
    "    \n",
    "    \n",
    "    x = BatchNormalization()(embedded)\n",
    "\n",
    "    \n",
    "## v5\n",
    "\n",
    "    x = MaxPooling1D(pool_size=3)(x)\n",
    "    x = MaxPooling1D(pool_size=3)(x)\n",
    "    x = GlobalMaxPooling1D()(x)\n",
    "    \n",
    "\n",
    "\n",
    "    \n",
    "    \n",
    "    \n",
    "    \n",
    "    ## v4\n",
    "\n",
    "#     x = ConvBlock(x,2,32)\n",
    "#     x = MaxPooling1D()(x)\n",
    "#     x = ConvBlock(x,2,64)\n",
    "#     x = MaxPooling1D()(x)\n",
    " \n",
    "\n",
    "\n",
    "#     x = Flatten()(x)\n",
    "#     maxpool = GlobalMaxPooling1D()(x)\n",
    "#     avgpool = GlobalAveragePooling1D()(x)\n",
    "\n",
    "#     features = concatenate([maxpool,avgpool])\n",
    "\n",
    "    x = Dense(nr_hidden, activation='relu')(x)\n",
    "    x = BatchNormalization()(x)\n",
    "    x = Dropout(drop_out)(x)\n",
    "\n",
    "    x = Dense(nr_hidden, activation='relu')(x)\n",
    "    x = BatchNormalization()(x)\n",
    "    x = Dropout(drop_out)(x)\n",
    "\n",
    "    return Model(inputs=graph_in,outputs=x)"
   ]
  },
  {
   "cell_type": "code",
   "execution_count": 25,
   "metadata": {
    "collapsed": false,
    "scrolled": true
   },
   "outputs": [],
   "source": [
    "from keras.layers.pooling import GlobalMaxPooling1D,GlobalAveragePooling1D\n",
    "from keras.layers.merge import concatenate\n",
    "\n",
    "\n",
    "input_a = Input(shape=(MAX_SEQUENCE_LENGTH,))\n",
    "input_b = Input(shape=(MAX_SEQUENCE_LENGTH,))\n",
    "\n",
    "\n",
    "siamese = create_siamese_model()\n",
    "\n",
    "\n",
    "\n",
    "\n",
    "# Siamese style Euclidean distance:\n",
    "\n",
    "processed_a = siamese(input_a)\n",
    "processed_b = siamese(input_b)\n",
    "\n",
    "distance = Lambda(euclidean_distance,\n",
    "                  output_shape=eucl_dist_output_shape)([processed_a, processed_b])\n",
    "\n",
    "distance = Dense(1, activation='sigmoid')(distance)\n",
    "model = Model([input_a, input_b], distance)\n",
    "\n",
    "# vanilla dense:\n",
    "\n",
    "# model.compile(loss=contrastive_loss, optimizer=\"nadam\",metrics=['accuracy'])\n",
    "\n",
    "model.compile(loss='binary_crossentropy', \n",
    "              optimizer='nadam', \n",
    "              metrics=['accuracy'])#, 'precision', 'recall', 'fbeta_score'])"
   ]
  },
  {
   "cell_type": "code",
   "execution_count": 27,
   "metadata": {
    "collapsed": false,
    "scrolled": true
   },
   "outputs": [],
   "source": [
    "# siamese.summary()"
   ]
  },
  {
   "cell_type": "markdown",
   "metadata": {},
   "source": [
    "## Train the model, checkpointing weights with best validation accuracy"
   ]
  },
  {
   "cell_type": "code",
   "execution_count": 15,
   "metadata": {
    "collapsed": false,
    "scrolled": true
   },
   "outputs": [
    {
     "name": "stdout",
     "output_type": "stream",
     "text": [
      "Starting training at 2017-05-02 13:55:14.442019\n",
      "Train on 363861 samples, validate on 40429 samples\n",
      "Epoch 1/50\n",
      "363861/363861 [==============================] - 78s - loss: 0.4028 - acc: 0.6748 - val_loss: 0.3966 - val_acc: 0.6975\n",
      "Epoch 2/50\n",
      "363861/363861 [==============================] - 78s - loss: 0.3583 - acc: 0.7124 - val_loss: 0.3492 - val_acc: 0.7233\n",
      "Epoch 3/50\n",
      "363861/363861 [==============================] - 78s - loss: 0.3464 - acc: 0.7241 - val_loss: 0.3429 - val_acc: 0.7132\n",
      "Epoch 4/50\n",
      "363861/363861 [==============================] - 78s - loss: 0.3383 - acc: 0.7325 - val_loss: 0.3302 - val_acc: 0.7396\n",
      "Epoch 5/50\n",
      "363861/363861 [==============================] - 78s - loss: 0.3324 - acc: 0.7383 - val_loss: 0.3269 - val_acc: 0.7367\n",
      "Epoch 6/50\n",
      "363861/363861 [==============================] - 77s - loss: 0.3272 - acc: 0.7434 - val_loss: 0.3313 - val_acc: 0.7131\n",
      "Epoch 7/50\n",
      "363861/363861 [==============================] - 78s - loss: 0.3227 - acc: 0.7471 - val_loss: 0.3221 - val_acc: 0.7391\n",
      "Epoch 8/50\n",
      "363861/363861 [==============================] - 78s - loss: 0.3185 - acc: 0.7508 - val_loss: 0.3145 - val_acc: 0.7496\n",
      "Epoch 9/50\n",
      "363861/363861 [==============================] - 78s - loss: 0.3143 - acc: 0.7553 - val_loss: 0.3104 - val_acc: 0.7561\n",
      "Epoch 10/50\n",
      "363861/363861 [==============================] - 77s - loss: 0.3104 - acc: 0.7595 - val_loss: 0.3142 - val_acc: 0.7527\n",
      "Epoch 11/50\n",
      "363861/363861 [==============================] - 77s - loss: 0.3080 - acc: 0.7624 - val_loss: 0.3182 - val_acc: 0.7713\n",
      "Epoch 12/50\n",
      "363861/363861 [==============================] - 77s - loss: 0.3045 - acc: 0.7654 - val_loss: 0.3140 - val_acc: 0.7422\n",
      "Epoch 13/50\n",
      "363861/363861 [==============================] - 78s - loss: 0.3024 - acc: 0.7672 - val_loss: 0.3066 - val_acc: 0.7572\n",
      "Epoch 14/50\n",
      "363861/363861 [==============================] - 78s - loss: 0.3004 - acc: 0.7702 - val_loss: 0.3043 - val_acc: 0.7566\n",
      "Epoch 15/50\n",
      "363861/363861 [==============================] - 77s - loss: 0.2980 - acc: 0.7732 - val_loss: 0.3049 - val_acc: 0.7573\n",
      "Epoch 16/50\n",
      "363861/363861 [==============================] - 78s - loss: 0.2960 - acc: 0.7744 - val_loss: 0.3010 - val_acc: 0.7607\n",
      "Epoch 17/50\n",
      "363861/363861 [==============================] - 78s - loss: 0.2946 - acc: 0.7759 - val_loss: 0.3000 - val_acc: 0.7714\n",
      "Epoch 18/50\n",
      "363861/363861 [==============================] - 77s - loss: 0.2925 - acc: 0.7785 - val_loss: 0.3047 - val_acc: 0.7541\n",
      "Epoch 19/50\n",
      "363861/363861 [==============================] - 77s - loss: 0.2911 - acc: 0.7794 - val_loss: 0.3019 - val_acc: 0.7631\n",
      "Epoch 20/50\n",
      "363861/363861 [==============================] - 77s - loss: 0.2896 - acc: 0.7806 - val_loss: 0.3012 - val_acc: 0.7691\n",
      "Epoch 21/50\n",
      "363861/363861 [==============================] - 77s - loss: 0.2884 - acc: 0.7819 - val_loss: 0.3013 - val_acc: 0.7637\n",
      "Epoch 22/50\n",
      "363861/363861 [==============================] - 78s - loss: 0.2877 - acc: 0.7829 - val_loss: 0.3002 - val_acc: 0.7676\n",
      "Training ended at 2017-05-02 14:24:25.727983\n",
      "Minutes elapsed: 29.188094\n"
     ]
    }
   ],
   "source": [
    "print(\"Starting training at\", datetime.datetime.now())\n",
    "t0 = time.time()\n",
    "\n",
    "\n",
    "MODEL_WEIGHTS_FILE = path+'weights/deepconv_2x32_2x64_gmax_gavg_prepC_fixedweights_epoch_{epoch:02d}_val_loss_{val_loss:.2f}.h5'\n",
    "\n",
    "early_stopping =EarlyStopping(monitor='val_loss', patience=4)\n",
    "callbacks = [ModelCheckpoint(MODEL_WEIGHTS_FILE, monitor='val_loss', save_best_only=True),early_stopping]\n",
    "\n",
    "history = model.fit([Q1_train, Q2_train],\n",
    "                    y_train,\n",
    "                    epochs=50,\n",
    "                    batch_size=256,\n",
    "                    validation_data = ([Q1_test, Q2_test],y_test,weight_val),\n",
    "                    class_weight=class_weight,\n",
    "                    callbacks=callbacks,shuffle=True)\n",
    "\n",
    "t1 = time.time()\n",
    "print(\"Training ended at\", datetime.datetime.now())\n",
    "print(\"Minutes elapsed: %f\" % ((t1 - t0) / 60.))"
   ]
  },
  {
   "cell_type": "markdown",
   "metadata": {},
   "source": [
    "## Plot training and validation accuracy"
   ]
  },
  {
   "cell_type": "code",
   "execution_count": 16,
   "metadata": {
    "collapsed": false
   },
   "outputs": [
    {
     "data": {
      "image/png": "[encoded data removed]",
      "text/plain": [
       "<matplotlib.figure.Figure at 0x7fd151336050>"
      ]
     },
     "metadata": {},
     "output_type": "display_data"
    }
   ],
   "source": [
    "acc = pd.DataFrame({'epoch': [ i + 1 for i in history.epoch ],\n",
    "                    'training': history.history['loss'],\n",
    "                    'validation': history.history['val_loss']})\n",
    "ax = acc.ix[:,:].plot(x='epoch', figsize={5,8}, grid=True)\n",
    "ax.set_ylabel(\"loss\")\n",
    "ax.set_ylim([0.0,1.0]);"
   ]
  },
  {
   "cell_type": "markdown",
   "metadata": {},
   "source": [
    "## Print best validation accuracy and epoch"
   ]
  },
  {
   "cell_type": "markdown",
   "metadata": {},
   "source": [
    "without cleaning: Maximum accuracy at epoch 8 = 0.8227\n",
    "with cleaning: Maximum accuracy at epoch 15 = 0.8268\n",
    "with cleaning and stratified: 0.8275"
   ]
  },
  {
   "cell_type": "code",
   "execution_count": 69,
   "metadata": {
    "collapsed": false
   },
   "outputs": [
    {
     "name": "stdout",
     "output_type": "stream",
     "text": [
      "Maximum loss at epoch 35 = 0.2896\n"
     ]
    }
   ],
   "source": [
    "min_val_loss, idx = min((val, idx) for (idx, val) in enumerate(history.history['val_loss']))\n",
    "print('Maximum loss at epoch', '{:d}'.format(idx+1), '=', '{:.4f}'.format(min_val_loss))"
   ]
  },
  {
   "cell_type": "markdown",
   "metadata": {},
   "source": [
    "## Evaluate the model with best validation accuracy on the test partition"
   ]
  },
  {
   "cell_type": "code",
   "execution_count": 46,
   "metadata": {
    "collapsed": false
   },
   "outputs": [],
   "source": [
    "# model.load_weights(MODEL_WEIGHTS_FILE)\n",
    "# loss, accuracy = model.evaluate([Q1_test, Q2_test], y_test) #, precision, recall, fbeta_score\n",
    "# print('')\n",
    "# print('loss      = {0:.4f}'.format(loss))\n",
    "# print('accuracy  = {0:.4f}'.format(accuracy))\n",
    "# # print('precision = {0:.4f}'.format(precision))\n",
    "# print('recall    = {0:.4f}'.format(recall))\n",
    "# print('F         = {0:.4f}'.format(fbeta_score))"
   ]
  },
  {
   "cell_type": "code",
   "execution_count": 17,
   "metadata": {
    "collapsed": true
   },
   "outputs": [],
   "source": [
    "model.load_weights(path+\"weights/deepconv_2x32_2x64_gmax_gavg_prepC_fixedweights_epoch_16_val_loss_0.30.h5\")"
   ]
  },
  {
   "cell_type": "code",
   "execution_count": 18,
   "metadata": {
    "collapsed": false,
    "scrolled": true
   },
   "outputs": [
    {
     "name": "stdout",
     "output_type": "stream",
     "text": [
      "0.464873303266\n",
      "0.471671306509\n",
      "0.464492488003\n",
      "0.464592693059\n"
     ]
    }
   ],
   "source": [
    "val_preds = model.predict([Q1_test, Q2_test])\n",
    "\n",
    "from sklearn.metrics import log_loss\n",
    "\n",
    "\n",
    "print (log_loss(y_test,val_preds))\n",
    "print (log_loss(y_test,np.clip(val_preds,1-0.90,0.90)))\n",
    "print (log_loss(y_test,np.clip(val_preds,1-0.98,0.98)))\n",
    "print (log_loss(y_test,np.clip(val_preds,1-0.99,0.99)))\n"
   ]
  },
  {
   "cell_type": "markdown",
   "metadata": {
    "collapsed": true
   },
   "source": [
    "2x64 kernel:2 dropout:0.1\n",
    "0.381922677204\n",
    "\n"
   ]
  },
  {
   "cell_type": "markdown",
   "metadata": {},
   "source": [
    "## Making predictions on test set"
   ]
  },
  {
   "cell_type": "code",
   "execution_count": 19,
   "metadata": {
    "collapsed": false
   },
   "outputs": [],
   "source": [
    "q1_test_data = np.load(open(data_home+\"cache/\"+Q1_TESTING_DATA_FILE, 'rb'))\n",
    "q2_test_data = np.load(open(data_home+\"cache/\"+Q2_TESTING_DATA_FILE, 'rb'))"
   ]
  },
  {
   "cell_type": "code",
   "execution_count": 20,
   "metadata": {
    "collapsed": false
   },
   "outputs": [
    {
     "name": "stdout",
     "output_type": "stream",
     "text": [
      "CPU times: user 3min 2s, sys: 34.9 s, total: 3min 37s\n",
      "Wall time: 3min 37s\n"
     ]
    }
   ],
   "source": [
    "%%time\n",
    "preds = model.predict([q1_test_data,q2_test_data], batch_size=256)\n",
    "preds_reverse = model.predict([q2_test_data,q1_test_data], batch_size=256)"
   ]
  },
  {
   "cell_type": "code",
   "execution_count": 21,
   "metadata": {
    "collapsed": false
   },
   "outputs": [
    {
     "data": {
      "text/plain": [
       "(2345796, 1)"
      ]
     },
     "execution_count": 21,
     "metadata": {},
     "output_type": "execute_result"
    }
   ],
   "source": [
    "preds.shape"
   ]
  },
  {
   "cell_type": "code",
   "execution_count": 22,
   "metadata": {
    "collapsed": true
   },
   "outputs": [],
   "source": [
    "preds = (preds+preds_reverse)/2.0"
   ]
  },
  {
   "cell_type": "code",
   "execution_count": 23,
   "metadata": {
    "collapsed": false
   },
   "outputs": [],
   "source": [
    "clip =0.98\n",
    "\n",
    "submission_name = \"subm/deep_conv_2x32_2x64_gmax_gavg_fixedweight_reverseaug_c98.csv\"\n",
    "flattend = preds.flatten()\n",
    "\n",
    "clipped = np.clip(flattend,1-clip,clip)"
   ]
  },
  {
   "cell_type": "code",
   "execution_count": 24,
   "metadata": {
    "collapsed": false
   },
   "outputs": [
    {
     "data": {
      "text/html": [
       "<div>\n",
       "<table border=\"1\" class=\"dataframe\">\n",
       "  <thead>\n",
       "    <tr style=\"text-align: right;\">\n",
       "      <th></th>\n",
       "      <th>is_duplicate</th>\n",
       "      <th>test_id</th>\n",
       "    </tr>\n",
       "  </thead>\n",
       "  <tbody>\n",
       "    <tr>\n",
       "      <th>0</th>\n",
       "      <td>0.021083</td>\n",
       "      <td>0</td>\n",
       "    </tr>\n",
       "    <tr>\n",
       "      <th>1</th>\n",
       "      <td>0.023120</td>\n",
       "      <td>1</td>\n",
       "    </tr>\n",
       "  </tbody>\n",
       "</table>\n",
       "</div>"
      ],
      "text/plain": [
       "   is_duplicate  test_id\n",
       "0      0.021083        0\n",
       "1      0.023120        1"
      ]
     },
     "execution_count": 24,
     "metadata": {},
     "output_type": "execute_result"
    }
   ],
   "source": [
    "df_test = pd.read_csv(data_home+'test.csv')\n",
    "\n",
    "sub = pd.DataFrame({'test_id': df_test['test_id'], 'is_duplicate': clipped})\n",
    "sub.head(2)"
   ]
  },
  {
   "cell_type": "code",
   "execution_count": 25,
   "metadata": {
    "collapsed": true
   },
   "outputs": [],
   "source": [
    "sub.to_csv(path+submission_name, index=False)"
   ]
  },
  {
   "cell_type": "code",
   "execution_count": 26,
   "metadata": {
    "collapsed": false,
    "scrolled": true
   },
   "outputs": [
    {
     "data": {
      "text/html": [
       "<a href='subm/deep_conv_2x32_2x64_gmax_gavg_fixedweight_reverseaug_c98.csv' target='_blank'>subm/deep_conv_2x32_2x64_gmax_gavg_fixedweight_reverseaug_c98.csv</a><br>"
      ],
      "text/plain": [
       "/home/ubuntu/quora/subm/deep_conv_2x32_2x64_gmax_gavg_fixedweight_reverseaug_c98.csv"
      ]
     },
     "execution_count": 26,
     "metadata": {},
     "output_type": "execute_result"
    }
   ],
   "source": [
    "from IPython.lib.display import FileLink\n",
    "\n",
    "FileLink(submission_name)"
   ]
  }
 ],
 "metadata": {
  "anaconda-cloud": {},
  "hide_input": false,
  "kernelspec": {
   "display_name": "Python [conda env:qenv]",
   "language": "python",
   "name": "conda-env-qenv-py"
  },
  "language_info": {
   "codemirror_mode": {
    "name": "ipython",
    "version": 2
   },
   "file_extension": ".py",
   "mimetype": "text/x-python",
   "name": "python",
   "nbconvert_exporter": "python",
   "pygments_lexer": "ipython2",
   "version": "2.7.12"
  }
 },
 "nbformat": 4,
 "nbformat_minor": 2
}
