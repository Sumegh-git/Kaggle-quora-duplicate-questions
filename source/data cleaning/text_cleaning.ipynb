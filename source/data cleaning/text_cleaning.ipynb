{
 "cells": [
  {
   "cell_type": "code",
   "execution_count": 1,
   "metadata": {
    "collapsed": false
   },
   "outputs": [],
   "source": [
    "import numpy as np\n",
    "import pandas as pd\n",
    "\n",
    "import csv, json\n",
    "from zipfile import ZipFile\n",
    "from os.path import expanduser, exists\n",
    "import sys\n",
    "import os \n",
    "\n",
    "import nltk\n",
    "from nltk import word_tokenize, Text\n",
    "\n",
    "import spacy\n",
    "import textacy\n",
    "\n",
    "import re \n",
    "from textacy.constants import PUNCT_REGEX\n",
    "\n",
    "from wordsegment import segment\n",
    "from autocorrect import spell\n",
    "\n",
    "\n",
    "\n",
    "import pickle"
   ]
  },
  {
   "cell_type": "code",
   "execution_count": 2,
   "metadata": {
    "collapsed": true
   },
   "outputs": [],
   "source": [
    "path = '/home/ubuntu/quora/'\n",
    "data_home = path +\"data/\"\n"
   ]
  },
  {
   "cell_type": "markdown",
   "metadata": {},
   "source": [
    "### Read Data"
   ]
  },
  {
   "cell_type": "code",
   "execution_count": 3,
   "metadata": {
    "collapsed": false
   },
   "outputs": [],
   "source": [
    "df_train = pd.read_csv(data_home+'train.csv'  ,encoding='utf-8'   )\n",
    "df_test = pd.read_csv(data_home+'test.csv' , encoding='utf-8'   )"
   ]
  },
  {
   "cell_type": "code",
   "execution_count": 4,
   "metadata": {
    "collapsed": true
   },
   "outputs": [],
   "source": [
    "df_train = df_train.fillna(\"empty\")\n",
    "df_test = df_test.fillna(\"empty\")\n",
    "\n",
    "# df_train['question1'] = df_train['question1'].apply(lambda x: x.encode('utf-8'))# .astype(str)\n",
    "# df_train['question2'] = df_train['question2'].apply(lambda x: x.encode('utf-8'))\n",
    "\n",
    "# df_test['question1'] = df_test['question1'].apply(lambda x: x.encode('utf-8'))\n",
    "# df_test['question2'] = df_test['question2'].apply(lambda x: x.encode('utf-8'))"
   ]
  },
  {
   "cell_type": "markdown",
   "metadata": {},
   "source": [
    "verify some troublesome patterns:"
   ]
  },
  {
   "cell_type": "code",
   "execution_count": 5,
   "metadata": {
    "collapsed": false,
    "scrolled": true
   },
   "outputs": [
    {
     "name": "stdout",
     "output_type": "stream",
     "text": [
      "length:  460\n"
     ]
    },
    {
     "data": {
      "text/plain": [
       "307461    What are the discontinuity and zero of the fun...\n",
       "308907    What does ‘[math]![/math]’ as in [math]n![/mat...\n",
       "309610    How do I integrate [math]\\displaystyle\\int_{\\f...\n",
       "311416    What is [math]\\int \\frac{1}{e^x + e^{-x}} dx[/...\n",
       "312215    How do I integrate [math]\\displaystyle\\int_{\\f...\n",
       "315358    How I find the sum of this series? [math]\\disp...\n",
       "316663    What is [math] \\displaystyle \\lim_{x\\to \\frac{...\n",
       "317455    How do you simplify [math] 1/(1-i)-1/ (1-2i) +...\n",
       "318170    What is the value of the sum [math]\\displaysty...\n",
       "318566    If x has a normal distribution, what is the ex...\n",
       "319146    How would you evaluate : [math] 2^{5/2}-2^{3/2...\n",
       "319439    How do you find the [math]\\frac{dy}{dx}[/math]...\n",
       "319601    How can I draw the graphic of [math]y=\\sqrt{2}...\n",
       "319674    How can I simplify the radical [math]\\sqrt{72}...\n",
       "320158    How do I show that the points [math](3, -1), (...\n",
       "320547    How can you determine the molar mass of [math]...\n",
       "320909    If f( x , x+y , x+y+z ) = 0 and z = z( x , y )...\n",
       "324009    How do I integrate [math]v^3(a^2-v^2)^{\\frac{1...\n",
       "324605    How do I prove [math]n^5-n[/math] is divisible...\n",
       "325020    How do you evaluate this indefinite integral [...\n",
       "325059    How does one evaluate [math]\\cos{\\theta}+\\sec{...\n",
       "325476    If [math]1\\circ4=5[/math] and [math]2\\circ5=12...\n",
       "325876    What is the integral of [math]\\sqrt {\\frac {1-...\n",
       "326486    How many numbers between 1 to [math]10^{10}[/m...\n",
       "328675    How do I solve the equation [math]y^{\\frac {2}...\n",
       "329143    What will be the integral of [math]\\frac{1}{t\\...\n",
       "333777    Why does [math]\\frac{\\frac{d}{dx} x}{x} = \\fra...\n",
       "333982         How do I graph [math]y=\\frac{1}{13x}[/math]?\n",
       "334703    A scientist finds [math] 0.012\\% [/math]of Car...\n",
       "334719    How do you solve [math]x^2=2^x[/math] analytic...\n",
       "                                ...                        \n",
       "375913    What is [math]\\displaystyle\\lim_{x\\to 0}\\frac{...\n",
       "376291    What are some real-life uses of the [math]\\sqr...\n",
       "376637    How do I find [math] \\int (\\sin 3x)^{-2}\\, \\ma...\n",
       "378199    What is the value of [math]\\displaystyle\\int_{...\n",
       "378519    How would you find the zero of the function fo...\n",
       "379257    How is [math]x = \\frac{1}{2}[/math] if [math]x...\n",
       "379367    How do I differentiate [math]\\frac{x-|x|}{x}[/...\n",
       "382534    How do you solve the following recurrence usin...\n",
       "382661    What is the perimeter of a square whose area i...\n",
       "382812    How does one integrate [math]\\displaystyle \\in...\n",
       "383093    If [math]x + y = 2[/math] and [math] x^2 + y^2...\n",
       "383402    What is the value of [math]\\lim\\limits_{x\\to\\i...\n",
       "383459    How can the quadratic equation [math]x^2  - 3x...\n",
       "384032    How do I solve this: [math] \\displaystyle \\lim...\n",
       "384924    If [math]x + y = 2[/math] and [math] x^2 + y^2...\n",
       "386656    How can I simplify the radical [math]\\sqrt{72}...\n",
       "386991    Why does the infinite sum [math]\\displaystyle\\...\n",
       "389859    How do I find the [math]n^\\text{th}[/math] der...\n",
       "390276    Must a continuous function [math]f:\\mathbb{R}^...\n",
       "390663    How do I prove (without computer) the inequali...\n",
       "390984    If [math]x + y = 2[/math] and [math] x^2 + y^2...\n",
       "393824    Is [math]\\frac{x}{y}[/math] odd if x and y are...\n",
       "393905    How do I integrate [math]\\int_{0}^{2} \\sqrt{4-...\n",
       "395974     How is the value of [math]\\pi[/math] calculated?\n",
       "396328    Is the series [math]\\displaystyle\\sum _{n=1}^{...\n",
       "397061    How do I solve the differential equation [math...\n",
       "397166    If [math]f(x) = 2x+5[/math], what is [math](f\\...\n",
       "399114          What is the inverse of [math]y=-x^3[/math]?\n",
       "399870    If [math]A:B = 3:4[/math], [math]B:C =8:10[/ma...\n",
       "401789    How can you solve [math]x^2  + y^2 - 12x - 4y ...\n",
       "Name: question1, dtype: object"
      ]
     },
     "execution_count": 5,
     "metadata": {},
     "output_type": "execute_result"
    }
   ],
   "source": [
    "samples = df_train.question1[df_train.question1.str.contains(r'\\[math\\]')]\n",
    "\n",
    "print \"length: \", len(samples)\n",
    "samples.tail(100)\n",
    "# print (len(df_train.question1[df_train.question1.str.contains('\\[math\\]')]))\n",
    "# some of the other insightful tokens to search for: www @  \\u \\'s japanese   [a-z]\\.[a-z]\\.'  (e.g. u.s. i.e.)\n",
    "#k\\$\n",
    "\n",
    "#remove $ sign\n",
    "# 5'8\", 5'9\"\n"
   ]
  },
  {
   "cell_type": "code",
   "execution_count": 13,
   "metadata": {
    "collapsed": false
   },
   "outputs": [],
   "source": [
    "maths = df_train.iloc[samples.index]"
   ]
  },
  {
   "cell_type": "code",
   "execution_count": 14,
   "metadata": {
    "collapsed": false
   },
   "outputs": [
    {
     "data": {
      "text/html": [
       "<div>\n",
       "<table border=\"1\" class=\"dataframe\">\n",
       "  <thead>\n",
       "    <tr style=\"text-align: right;\">\n",
       "      <th></th>\n",
       "      <th>id</th>\n",
       "      <th>qid1</th>\n",
       "      <th>qid2</th>\n",
       "      <th>question1</th>\n",
       "      <th>question2</th>\n",
       "      <th>is_duplicate</th>\n",
       "    </tr>\n",
       "  </thead>\n",
       "  <tbody>\n",
       "    <tr>\n",
       "      <th>22840</th>\n",
       "      <td>22840</td>\n",
       "      <td>42832</td>\n",
       "      <td>42833</td>\n",
       "      <td>How do I learn [math]\\LaTeX[/math]?</td>\n",
       "      <td>How can I learn latex in the easiest way?</td>\n",
       "      <td>1</td>\n",
       "    </tr>\n",
       "    <tr>\n",
       "      <th>29447</th>\n",
       "      <td>29447</td>\n",
       "      <td>54478</td>\n",
       "      <td>54479</td>\n",
       "      <td>Let [math]S_{n} = n^{2} + 20n + 12[/math], whe...</td>\n",
       "      <td>Given [math]S_n = n^2 +20n + 12[/math]. What w...</td>\n",
       "      <td>1</td>\n",
       "    </tr>\n",
       "    <tr>\n",
       "      <th>32982</th>\n",
       "      <td>32982</td>\n",
       "      <td>60660</td>\n",
       "      <td>60661</td>\n",
       "      <td>If real numbers are in [math]x[/math]-axis and...</td>\n",
       "      <td>If the real numbers are usually placed on the ...</td>\n",
       "      <td>1</td>\n",
       "    </tr>\n",
       "    <tr>\n",
       "      <th>72906</th>\n",
       "      <td>72906</td>\n",
       "      <td>125183</td>\n",
       "      <td>125184</td>\n",
       "      <td>How do I solve the problem: [math] A=\\begin{pm...</td>\n",
       "      <td>Given [math]A[/math], What is the general form...</td>\n",
       "      <td>1</td>\n",
       "    </tr>\n",
       "    <tr>\n",
       "      <th>84280</th>\n",
       "      <td>84280</td>\n",
       "      <td>142507</td>\n",
       "      <td>142508</td>\n",
       "      <td>How can you determine the derivative of [math]...</td>\n",
       "      <td>What is the derivative of [math]\\sin \\left(x^2...</td>\n",
       "      <td>1</td>\n",
       "    </tr>\n",
       "    <tr>\n",
       "      <th>116879</th>\n",
       "      <td>116879</td>\n",
       "      <td>190297</td>\n",
       "      <td>190298</td>\n",
       "      <td>What is the particular solution for [math]\\fra...</td>\n",
       "      <td>What is the general solution for [math]\\frac{d...</td>\n",
       "      <td>1</td>\n",
       "    </tr>\n",
       "    <tr>\n",
       "      <th>120855</th>\n",
       "      <td>120855</td>\n",
       "      <td>195960</td>\n",
       "      <td>195961</td>\n",
       "      <td>How would you simplify [math]i^{100}[/math]?</td>\n",
       "      <td>How do I simplify i∧100?</td>\n",
       "      <td>1</td>\n",
       "    </tr>\n",
       "    <tr>\n",
       "      <th>138639</th>\n",
       "      <td>138639</td>\n",
       "      <td>220717</td>\n",
       "      <td>220718</td>\n",
       "      <td>What's the value of [math]\\int^{\\pi}_{-\\pi} (\\...</td>\n",
       "      <td>What's the value of [math]\\int^{\\pi}_{-\\pi} \\s...</td>\n",
       "      <td>1</td>\n",
       "    </tr>\n",
       "    <tr>\n",
       "      <th>142377</th>\n",
       "      <td>142377</td>\n",
       "      <td>225809</td>\n",
       "      <td>225810</td>\n",
       "      <td>How do you solve the following recurrence usin...</td>\n",
       "      <td>How do you solve the following recurrence usin...</td>\n",
       "      <td>1</td>\n",
       "    </tr>\n",
       "    <tr>\n",
       "      <th>149317</th>\n",
       "      <td>149317</td>\n",
       "      <td>235232</td>\n",
       "      <td>235233</td>\n",
       "      <td>Why is [math]\\pi[/math] such a special number?</td>\n",
       "      <td>What is so special about π?</td>\n",
       "      <td>1</td>\n",
       "    </tr>\n",
       "    <tr>\n",
       "      <th>172471</th>\n",
       "      <td>172471</td>\n",
       "      <td>266281</td>\n",
       "      <td>225810</td>\n",
       "      <td>How do you solve this recurrence [math]T(n)=T\\...</td>\n",
       "      <td>How do you solve the following recurrence usin...</td>\n",
       "      <td>1</td>\n",
       "    </tr>\n",
       "    <tr>\n",
       "      <th>185045</th>\n",
       "      <td>185045</td>\n",
       "      <td>282581</td>\n",
       "      <td>214988</td>\n",
       "      <td>What is the value of [math]x[/math] in the equ...</td>\n",
       "      <td>What is the value of x in the equation [math]3...</td>\n",
       "      <td>1</td>\n",
       "    </tr>\n",
       "    <tr>\n",
       "      <th>193719</th>\n",
       "      <td>193719</td>\n",
       "      <td>53549</td>\n",
       "      <td>282394</td>\n",
       "      <td>How is the value of [math]\\pi[/math] calculated?</td>\n",
       "      <td>What is the value of π?</td>\n",
       "      <td>1</td>\n",
       "    </tr>\n",
       "    <tr>\n",
       "      <th>196725</th>\n",
       "      <td>196725</td>\n",
       "      <td>297488</td>\n",
       "      <td>297489</td>\n",
       "      <td>What is the result of [math]3^ {2^ {1^ {0^{-1^...</td>\n",
       "      <td>What is the result of [math]3^ {2^ {1^ {0^{-1^...</td>\n",
       "      <td>1</td>\n",
       "    </tr>\n",
       "    <tr>\n",
       "      <th>209916</th>\n",
       "      <td>209916</td>\n",
       "      <td>314333</td>\n",
       "      <td>314334</td>\n",
       "      <td>Given m and n are positive integers such that ...</td>\n",
       "      <td>Given m and n are positive integers such that ...</td>\n",
       "      <td>1</td>\n",
       "    </tr>\n",
       "    <tr>\n",
       "      <th>219548</th>\n",
       "      <td>219548</td>\n",
       "      <td>326450</td>\n",
       "      <td>326451</td>\n",
       "      <td>How many grams of glucose (C[math]_6[/math]H[m...</td>\n",
       "      <td>How many grams of glucose (c6H12O6) are needed...</td>\n",
       "      <td>1</td>\n",
       "    </tr>\n",
       "    <tr>\n",
       "      <th>259690</th>\n",
       "      <td>259690</td>\n",
       "      <td>375501</td>\n",
       "      <td>375502</td>\n",
       "      <td>How many polynomial [math]p(x)[/math] are ther...</td>\n",
       "      <td>What are all polynomials [math]p(x)[/math] suc...</td>\n",
       "      <td>1</td>\n",
       "    </tr>\n",
       "    <tr>\n",
       "      <th>273437</th>\n",
       "      <td>273437</td>\n",
       "      <td>391891</td>\n",
       "      <td>54478</td>\n",
       "      <td>Let's consider S[math]_{n}[/math]= n[math]^{2}...</td>\n",
       "      <td>Let [math]S_{n} = n^{2} + 20n + 12[/math], whe...</td>\n",
       "      <td>1</td>\n",
       "    </tr>\n",
       "    <tr>\n",
       "      <th>296316</th>\n",
       "      <td>296316</td>\n",
       "      <td>418500</td>\n",
       "      <td>418501</td>\n",
       "      <td>How many 2-digit numbers can be written as the...</td>\n",
       "      <td>How many 2-digit numbers can be written as the...</td>\n",
       "      <td>1</td>\n",
       "    </tr>\n",
       "    <tr>\n",
       "      <th>303108</th>\n",
       "      <td>303108</td>\n",
       "      <td>42832</td>\n",
       "      <td>154215</td>\n",
       "      <td>How do I learn [math]\\LaTeX[/math]?</td>\n",
       "      <td>Where can I learn LaTeX?</td>\n",
       "      <td>1</td>\n",
       "    </tr>\n",
       "    <tr>\n",
       "      <th>303715</th>\n",
       "      <td>303715</td>\n",
       "      <td>426892</td>\n",
       "      <td>426893</td>\n",
       "      <td>What is a short simple proof for [math]1+1=2[/...</td>\n",
       "      <td>Why does [math]1+1=2[/math]?</td>\n",
       "      <td>1</td>\n",
       "    </tr>\n",
       "    <tr>\n",
       "      <th>320158</th>\n",
       "      <td>320158</td>\n",
       "      <td>445674</td>\n",
       "      <td>445675</td>\n",
       "      <td>How do I show that the points [math](3, -1), (...</td>\n",
       "      <td>How do I show that the points (5,4), (-5,8), (...</td>\n",
       "      <td>1</td>\n",
       "    </tr>\n",
       "    <tr>\n",
       "      <th>320909</th>\n",
       "      <td>320909</td>\n",
       "      <td>446520</td>\n",
       "      <td>446521</td>\n",
       "      <td>If f( x , x+y , x+y+z ) = 0 and z = z( x , y )...</td>\n",
       "      <td>If f (x , x+y , x+y+z ) = 0 and z = z (x , y) ...</td>\n",
       "      <td>1</td>\n",
       "    </tr>\n",
       "    <tr>\n",
       "      <th>325059</th>\n",
       "      <td>325059</td>\n",
       "      <td>451251</td>\n",
       "      <td>451252</td>\n",
       "      <td>How does one evaluate [math]\\cos{\\theta}+\\sec{...</td>\n",
       "      <td>How do I evaluate cosθ+secθ given that 4cos²θ+...</td>\n",
       "      <td>1</td>\n",
       "    </tr>\n",
       "    <tr>\n",
       "      <th>353844</th>\n",
       "      <td>353844</td>\n",
       "      <td>482935</td>\n",
       "      <td>482936</td>\n",
       "      <td>What is the sum of [math]\\frac{1}{1-\\sqrt{2}}\\...</td>\n",
       "      <td>What is the value of [math]\\frac{1}{1-\\sqrt{2}...</td>\n",
       "      <td>1</td>\n",
       "    </tr>\n",
       "    <tr>\n",
       "      <th>358576</th>\n",
       "      <td>358576</td>\n",
       "      <td>488088</td>\n",
       "      <td>488089</td>\n",
       "      <td>How can you use a very efficient [math]O(\\sqrt...</td>\n",
       "      <td>How do you frame General AI as an NP-complete ...</td>\n",
       "      <td>1</td>\n",
       "    </tr>\n",
       "    <tr>\n",
       "      <th>382534</th>\n",
       "      <td>382534</td>\n",
       "      <td>225809</td>\n",
       "      <td>266281</td>\n",
       "      <td>How do you solve the following recurrence usin...</td>\n",
       "      <td>How do you solve this recurrence [math]T(n)=T\\...</td>\n",
       "      <td>1</td>\n",
       "    </tr>\n",
       "    <tr>\n",
       "      <th>390663</th>\n",
       "      <td>390663</td>\n",
       "      <td>523195</td>\n",
       "      <td>523196</td>\n",
       "      <td>How do I prove (without computer) the inequali...</td>\n",
       "      <td>Is there any idea to prove 9^{1/502}+502^{1/9}...</td>\n",
       "      <td>1</td>\n",
       "    </tr>\n",
       "    <tr>\n",
       "      <th>395974</th>\n",
       "      <td>395974</td>\n",
       "      <td>53549</td>\n",
       "      <td>168814</td>\n",
       "      <td>How is the value of [math]\\pi[/math] calculated?</td>\n",
       "      <td>What is the value pi?</td>\n",
       "      <td>1</td>\n",
       "    </tr>\n",
       "  </tbody>\n",
       "</table>\n",
       "</div>"
      ],
      "text/plain": [
       "            id    qid1    qid2  \\\n",
       "22840    22840   42832   42833   \n",
       "29447    29447   54478   54479   \n",
       "32982    32982   60660   60661   \n",
       "72906    72906  125183  125184   \n",
       "84280    84280  142507  142508   \n",
       "116879  116879  190297  190298   \n",
       "120855  120855  195960  195961   \n",
       "138639  138639  220717  220718   \n",
       "142377  142377  225809  225810   \n",
       "149317  149317  235232  235233   \n",
       "172471  172471  266281  225810   \n",
       "185045  185045  282581  214988   \n",
       "193719  193719   53549  282394   \n",
       "196725  196725  297488  297489   \n",
       "209916  209916  314333  314334   \n",
       "219548  219548  326450  326451   \n",
       "259690  259690  375501  375502   \n",
       "273437  273437  391891   54478   \n",
       "296316  296316  418500  418501   \n",
       "303108  303108   42832  154215   \n",
       "303715  303715  426892  426893   \n",
       "320158  320158  445674  445675   \n",
       "320909  320909  446520  446521   \n",
       "325059  325059  451251  451252   \n",
       "353844  353844  482935  482936   \n",
       "358576  358576  488088  488089   \n",
       "382534  382534  225809  266281   \n",
       "390663  390663  523195  523196   \n",
       "395974  395974   53549  168814   \n",
       "\n",
       "                                                question1  \\\n",
       "22840                 How do I learn [math]\\LaTeX[/math]?   \n",
       "29447   Let [math]S_{n} = n^{2} + 20n + 12[/math], whe...   \n",
       "32982   If real numbers are in [math]x[/math]-axis and...   \n",
       "72906   How do I solve the problem: [math] A=\\begin{pm...   \n",
       "84280   How can you determine the derivative of [math]...   \n",
       "116879  What is the particular solution for [math]\\fra...   \n",
       "120855       How would you simplify [math]i^{100}[/math]?   \n",
       "138639  What's the value of [math]\\int^{\\pi}_{-\\pi} (\\...   \n",
       "142377  How do you solve the following recurrence usin...   \n",
       "149317     Why is [math]\\pi[/math] such a special number?   \n",
       "172471  How do you solve this recurrence [math]T(n)=T\\...   \n",
       "185045  What is the value of [math]x[/math] in the equ...   \n",
       "193719   How is the value of [math]\\pi[/math] calculated?   \n",
       "196725  What is the result of [math]3^ {2^ {1^ {0^{-1^...   \n",
       "209916  Given m and n are positive integers such that ...   \n",
       "219548  How many grams of glucose (C[math]_6[/math]H[m...   \n",
       "259690  How many polynomial [math]p(x)[/math] are ther...   \n",
       "273437  Let's consider S[math]_{n}[/math]= n[math]^{2}...   \n",
       "296316  How many 2-digit numbers can be written as the...   \n",
       "303108                How do I learn [math]\\LaTeX[/math]?   \n",
       "303715  What is a short simple proof for [math]1+1=2[/...   \n",
       "320158  How do I show that the points [math](3, -1), (...   \n",
       "320909  If f( x , x+y , x+y+z ) = 0 and z = z( x , y )...   \n",
       "325059  How does one evaluate [math]\\cos{\\theta}+\\sec{...   \n",
       "353844  What is the sum of [math]\\frac{1}{1-\\sqrt{2}}\\...   \n",
       "358576  How can you use a very efficient [math]O(\\sqrt...   \n",
       "382534  How do you solve the following recurrence usin...   \n",
       "390663  How do I prove (without computer) the inequali...   \n",
       "395974   How is the value of [math]\\pi[/math] calculated?   \n",
       "\n",
       "                                                question2  is_duplicate  \n",
       "22840           How can I learn latex in the easiest way?             1  \n",
       "29447   Given [math]S_n = n^2 +20n + 12[/math]. What w...             1  \n",
       "32982   If the real numbers are usually placed on the ...             1  \n",
       "72906   Given [math]A[/math], What is the general form...             1  \n",
       "84280   What is the derivative of [math]\\sin \\left(x^2...             1  \n",
       "116879  What is the general solution for [math]\\frac{d...             1  \n",
       "120855                           How do I simplify i∧100?             1  \n",
       "138639  What's the value of [math]\\int^{\\pi}_{-\\pi} \\s...             1  \n",
       "142377  How do you solve the following recurrence usin...             1  \n",
       "149317                        What is so special about π?             1  \n",
       "172471  How do you solve the following recurrence usin...             1  \n",
       "185045  What is the value of x in the equation [math]3...             1  \n",
       "193719                            What is the value of π?             1  \n",
       "196725  What is the result of [math]3^ {2^ {1^ {0^{-1^...             1  \n",
       "209916  Given m and n are positive integers such that ...             1  \n",
       "219548  How many grams of glucose (c6H12O6) are needed...             1  \n",
       "259690  What are all polynomials [math]p(x)[/math] suc...             1  \n",
       "273437  Let [math]S_{n} = n^{2} + 20n + 12[/math], whe...             1  \n",
       "296316  How many 2-digit numbers can be written as the...             1  \n",
       "303108                           Where can I learn LaTeX?             1  \n",
       "303715                       Why does [math]1+1=2[/math]?             1  \n",
       "320158  How do I show that the points (5,4), (-5,8), (...             1  \n",
       "320909  If f (x , x+y , x+y+z ) = 0 and z = z (x , y) ...             1  \n",
       "325059  How do I evaluate cosθ+secθ given that 4cos²θ+...             1  \n",
       "353844  What is the value of [math]\\frac{1}{1-\\sqrt{2}...             1  \n",
       "358576  How do you frame General AI as an NP-complete ...             1  \n",
       "382534  How do you solve this recurrence [math]T(n)=T\\...             1  \n",
       "390663  Is there any idea to prove 9^{1/502}+502^{1/9}...             1  \n",
       "395974                              What is the value pi?             1  "
      ]
     },
     "execution_count": 14,
     "metadata": {},
     "output_type": "execute_result"
    }
   ],
   "source": [
    "maths[maths.is_duplicate==1]"
   ]
  },
  {
   "cell_type": "code",
   "execution_count": 49,
   "metadata": {
    "collapsed": false
   },
   "outputs": [],
   "source": [
    "# embeddings_index[\"ecommerce\"]"
   ]
  },
  {
   "cell_type": "code",
   "execution_count": 23,
   "metadata": {
    "collapsed": false
   },
   "outputs": [
    {
     "data": {
      "text/plain": [
       "u'What is the sum of [math]\\\\frac{1}{1-\\\\sqrt{2}}\\\\div\\\\frac{1}{1-\\\\sqrt{2}}\\\\div\\\\frac{1}{1-\\\\sqrt{2}}\\\\div\\\\frac{1}{1-\\\\sqrt{2}}\\\\div\\\\ldots[/math] up to 100 terms?'"
      ]
     },
     "execution_count": 23,
     "metadata": {},
     "output_type": "execute_result"
    }
   ],
   "source": [
    "maths.ix[353844].question1"
   ]
  },
  {
   "cell_type": "code",
   "execution_count": 24,
   "metadata": {
    "collapsed": false
   },
   "outputs": [
    {
     "data": {
      "text/plain": [
       "u'What is the value of [math]\\\\frac{1}{1-\\\\sqrt{2}}\\\\div\\\\frac{1}{1-\\\\sqrt{2}}\\\\div\\\\frac{1}{1-\\\\sqrt{2}}\\\\div\\\\frac{1}{1-\\\\sqrt{2}}\\\\div\\\\ldots[/math] up to 100 terms?'"
      ]
     },
     "execution_count": 24,
     "metadata": {},
     "output_type": "execute_result"
    }
   ],
   "source": [
    "maths.ix[353844].question2"
   ]
  },
  {
   "cell_type": "markdown",
   "metadata": {},
   "source": [
    "### Cleaning functions\n",
    "Function to fix bad spellings or combined words. "
   ]
  },
  {
   "cell_type": "markdown",
   "metadata": {},
   "source": [
    "first load Glove word embedding index; \n",
    "if a word isn't there it's either mis-spelled, grouped together (e.g. africanamierican), or just rubbish\n"
   ]
  },
  {
   "cell_type": "code",
   "execution_count": 17,
   "metadata": {
    "collapsed": true
   },
   "outputs": [],
   "source": [
    "with open(data_home+\"cache/embeddings_index.npy\", 'rb') as handle:\n",
    "    embeddings_index = pickle.load(handle)\n",
    "    "
   ]
  },
  {
   "cell_type": "markdown",
   "metadata": {},
   "source": [
    " 'no_embeddings' contains list of words from train/test dataset that were not found in embeddings_index"
   ]
  },
  {
   "cell_type": "code",
   "execution_count": 131,
   "metadata": {
    "collapsed": false
   },
   "outputs": [
    {
     "data": {
      "text/plain": [
       "32955"
      ]
     },
     "execution_count": 131,
     "metadata": {},
     "output_type": "execute_result"
    }
   ],
   "source": [
    "no_embeddings = np.load(open(data_home+\"cache/no_embeddings.npy\", 'rb'))\n",
    "\n",
    "len(no_embeddings)"
   ]
  },
  {
   "cell_type": "code",
   "execution_count": 132,
   "metadata": {
    "collapsed": false,
    "scrolled": true
   },
   "outputs": [
    {
     "data": {
      "text/plain": [
       "array(['zandikhohlisa', 'gazatted', 'freesteamgifts', 'naturopathix',\n",
       "       'throwaround', 'vologda', 'ctk3200', 'girokonto', 'targu', 'starboy'], \n",
       "      dtype='|S55')"
      ]
     },
     "execution_count": 132,
     "metadata": {},
     "output_type": "execute_result"
    }
   ],
   "source": [
    "no_embeddings[10:20]"
   ]
  },
  {
   "cell_type": "code",
   "execution_count": 31,
   "metadata": {
    "collapsed": true
   },
   "outputs": [],
   "source": [
    "def get_word_splits(unknown_words):\n",
    "    replacements = {}\n",
    "\n",
    "    for w in unknown_words:\n",
    "        proposal1 = segment(w)\n",
    "        print proposal1\n",
    "        \n",
    "#         if embeddings_index.has_key(proposal1):\n",
    "#             print (\"{} changed to {}\".format(w,proposal1))\n",
    "#             replacements[w] = proposal1\n",
    "\n",
    "        \n",
    "    return replacements "
   ]
  },
  {
   "cell_type": "code",
   "execution_count": 34,
   "metadata": {
    "collapsed": true
   },
   "outputs": [],
   "source": [
    "def get_spelling_corrections(unknown_words):\n",
    "    replacements = {}\n",
    "    \n",
    "    for w in unknown_words:\n",
    "        proposal1 = spell(w)\n",
    "#         print proposal1\n",
    "        \n",
    "        if embeddings_index.has_key(proposal1):\n",
    "            print (\"{} changed to {}\".format(w,proposal1))\n",
    "            replacements[w] = proposal1\n",
    "\n",
    "        \n",
    "    return replacements "
   ]
  },
  {
   "cell_type": "code",
   "execution_count": 37,
   "metadata": {
    "collapsed": false
   },
   "outputs": [
    {
     "name": "stdout",
     "output_type": "stream",
     "text": [
      "jan14 changed to jan\n",
      "1mwt changed to MWT\n",
      "msgf changed to MSGM\n",
      "leteral changed to lateral\n",
      "hgps changed to hips\n",
      "visme changed to vise\n",
      "premiya changed to premia\n",
      "2lpa changed to la\n",
      "jmfc changed to mac\n",
      "french56 changed to french\n",
      "ariyan changed to aryan\n",
      "harderned changed to hardened\n",
      "simulaion changed to simulation\n",
      "entc changed to etc\n",
      "bmse changed to base\n",
      "dashan changed to Dasha\n",
      "calsium changed to calcium\n",
      "sepcifically changed to specifically\n",
      "2xlt changed to felt\n",
      "sanon changed to salon\n",
      "multiphysic changed to multiphasic\n",
      "laate changed to late\n",
      "bjmc changed to bump\n",
      "searchimg changed to searching\n",
      "petah changed to petal\n",
      "ideas42 changed to ideas\n",
      "voltera changed to Volterra\n",
      "vladek changed to blade\n",
      "sltn changed to slt\n",
      "yatedo changed to hated\n",
      "akik changed to akin\n",
      "engifest changed to engines\n",
      "wpme changed to wpm\n",
      "recriminalizes changed to decriminalizes\n",
      "osmoregulator changed to osmoregulatory\n",
      "okha changed to okra\n",
      "mudsdale changed to muddle\n",
      "aast changed to last\n",
      "aasi changed to nasi\n",
      "mystici changed to mystic\n",
      "anybuddy changed to anybody\n",
      "phase8 changed to phase\n",
      "ttha changed to taha\n",
      "celgene changed to Celene\n",
      "famocracy changed to democracy\n",
      "munchhausen changed to Munchhausen\n",
      "astriks changed to strike\n",
      "0xbench changed to bench\n",
      "kiwix changed to kiwi\n",
      "januray changed to january\n",
      "beps changed to bees\n",
      "vikaas changed to villas\n",
      "satina changed to satin\n",
      "2result changed to result\n",
      "p5l changed to pal\n",
      "stifel changed to stifle\n",
      "a3x changed to ax\n",
      "usinig changed to using\n",
      "booard changed to board\n",
      "coetl changed to coat\n",
      "theorims changed to theories\n",
      "fe92 changed to felt\n",
      "after1a changed to after\n",
      "contunuity changed to continuity\n",
      "supplementry changed to supplementary\n",
      "enochs changed to Enochs\n",
      "channnels changed to channels\n",
      "getng changed to being\n",
      "kstart changed to start\n",
      "diercon changed to deacon\n",
      "antisemetism changed to antisemitism\n",
      "secoh changed to secos\n",
      "dexomethasone changed to dexamethasone\n",
      "blergs changed to bergs\n",
      "nfti changed to Noti\n",
      "seclore changed to secure\n",
      "tretin changed to retin\n",
      "grmmick changed to gimmick\n",
      "38z changed to nez\n",
      "zirin changed to mirin\n",
      "grabhic changed to graphic\n",
      "varzea changed to area\n",
      "theodorus changed to theodore\n",
      "idor changed to odor\n",
      "avenal changed to Avenal\n",
      "osnt changed to sont\n",
      "kakuna changed to Kaduna\n",
      "c2h2 changed to ch\n",
      "sairat changed to spirit\n",
      "messagess changed to messages\n",
      "omca changed to oca\n",
      "wimwi changed to wiwi\n",
      "promposal changed to proposal\n",
      "dkdm changed to dkm\n",
      "foucaults changed to Foucault\n",
      "wanted72 changed to wanted\n",
      "1usd changed to USD\n",
      "aiwmi changed to aim\n",
      "sisha changed to Tisha\n",
      "vaporwarez changed to vaporware\n",
      "semantics3 changed to semantics\n",
      "fehling changed to feeling\n",
      "lerdo changed to led\n",
      "novoed changed to moved\n",
      "berick changed to brick\n",
      "veeron changed to Veron\n",
      "dantzig changed to danzig\n",
      "velshi changed to welsh\n",
      "woxsen changed to worsen\n",
      "spjain changed to sprain\n",
      "shating changed to shaking\n",
      "styiish changed to stylish\n",
      "chlumsky changed to clumsy\n",
      "durong changed to during\n",
      "fesher changed to fester\n",
      "allahbad changed to Allahabad\n",
      "tapiture changed to capture\n",
      "trupay changed to truly\n",
      "bakkad changed to Akkad\n",
      "chipku changed to chip\n",
      "tnvat changed to that\n",
      "manose changed to mannose\n",
      "wolfington changed to Woffington\n",
      "electronices changed to electronics\n",
      "doluma changed to dolma\n",
      "r16m changed to room\n",
      "bet9ja changed to beta\n",
      "reevalution changed to reevaluation\n",
      "0mq changed to my\n",
      "avbl changed to aval\n",
      "prdcts changed to prices\n",
      "vinge changed to tinge\n",
      "narendar changed to calendar\n",
      "ldce changed to lace\n",
      "lipschitz changed to Lipschitz\n",
      "janaeu changed to jane\n",
      "4sync changed to async\n",
      "xsin changed to sin\n",
      "dublin1 changed to dublin\n",
      "scootry changed to sooty\n",
      "vishram changed to Wishram\n",
      "abvp changed to abp\n",
      "mortility changed to mortality\n",
      "swes changed to sees\n",
      "ps5k changed to PSK\n"
     ]
    },
    {
     "ename": "KeyboardInterrupt",
     "evalue": "",
     "output_type": "error",
     "traceback": [
      "\u001b[0;31m---------------------------------------------------------------------------\u001b[0m",
      "\u001b[0;31mKeyboardInterrupt\u001b[0m                         Traceback (most recent call last)",
      "\u001b[0;32m<ipython-input-37-63a38369d012>\u001b[0m in \u001b[0;36m<module>\u001b[0;34m()\u001b[0m\n\u001b[0;32m----> 1\u001b[0;31m \u001b[0mget_ipython\u001b[0m\u001b[0;34m(\u001b[0m\u001b[0;34m)\u001b[0m\u001b[0;34m.\u001b[0m\u001b[0mrun_cell_magic\u001b[0m\u001b[0;34m(\u001b[0m\u001b[0;34mu'time'\u001b[0m\u001b[0;34m,\u001b[0m \u001b[0;34mu''\u001b[0m\u001b[0;34m,\u001b[0m \u001b[0;34mu'\\nspelling_replacements = get_spelling_corrections(no_embeddings[10000:12050])\\n# print spelling_replacements'\u001b[0m\u001b[0;34m)\u001b[0m\u001b[0;34m\u001b[0m\u001b[0m\n\u001b[0m",
      "\u001b[0;32m/home/ubuntu/anaconda2/envs/qenv/lib/python2.7/site-packages/IPython/core/interactiveshell.pyc\u001b[0m in \u001b[0;36mrun_cell_magic\u001b[0;34m(self, magic_name, line, cell)\u001b[0m\n\u001b[1;32m   2113\u001b[0m             \u001b[0mmagic_arg_s\u001b[0m \u001b[0;34m=\u001b[0m \u001b[0mself\u001b[0m\u001b[0;34m.\u001b[0m\u001b[0mvar_expand\u001b[0m\u001b[0;34m(\u001b[0m\u001b[0mline\u001b[0m\u001b[0;34m,\u001b[0m \u001b[0mstack_depth\u001b[0m\u001b[0;34m)\u001b[0m\u001b[0;34m\u001b[0m\u001b[0m\n\u001b[1;32m   2114\u001b[0m             \u001b[0;32mwith\u001b[0m \u001b[0mself\u001b[0m\u001b[0;34m.\u001b[0m\u001b[0mbuiltin_trap\u001b[0m\u001b[0;34m:\u001b[0m\u001b[0;34m\u001b[0m\u001b[0m\n\u001b[0;32m-> 2115\u001b[0;31m                 \u001b[0mresult\u001b[0m \u001b[0;34m=\u001b[0m \u001b[0mfn\u001b[0m\u001b[0;34m(\u001b[0m\u001b[0mmagic_arg_s\u001b[0m\u001b[0;34m,\u001b[0m \u001b[0mcell\u001b[0m\u001b[0;34m)\u001b[0m\u001b[0;34m\u001b[0m\u001b[0m\n\u001b[0m\u001b[1;32m   2116\u001b[0m             \u001b[0;32mreturn\u001b[0m \u001b[0mresult\u001b[0m\u001b[0;34m\u001b[0m\u001b[0m\n\u001b[1;32m   2117\u001b[0m \u001b[0;34m\u001b[0m\u001b[0m\n",
      "\u001b[0;32m<decorator-gen-59>\u001b[0m in \u001b[0;36mtime\u001b[0;34m(self, line, cell, local_ns)\u001b[0m\n",
      "\u001b[0;32m/home/ubuntu/anaconda2/envs/qenv/lib/python2.7/site-packages/IPython/core/magic.pyc\u001b[0m in \u001b[0;36m<lambda>\u001b[0;34m(f, *a, **k)\u001b[0m\n\u001b[1;32m    186\u001b[0m     \u001b[0;31m# but it's overkill for just that one bit of state.\u001b[0m\u001b[0;34m\u001b[0m\u001b[0;34m\u001b[0m\u001b[0m\n\u001b[1;32m    187\u001b[0m     \u001b[0;32mdef\u001b[0m \u001b[0mmagic_deco\u001b[0m\u001b[0;34m(\u001b[0m\u001b[0marg\u001b[0m\u001b[0;34m)\u001b[0m\u001b[0;34m:\u001b[0m\u001b[0;34m\u001b[0m\u001b[0m\n\u001b[0;32m--> 188\u001b[0;31m         \u001b[0mcall\u001b[0m \u001b[0;34m=\u001b[0m \u001b[0;32mlambda\u001b[0m \u001b[0mf\u001b[0m\u001b[0;34m,\u001b[0m \u001b[0;34m*\u001b[0m\u001b[0ma\u001b[0m\u001b[0;34m,\u001b[0m \u001b[0;34m**\u001b[0m\u001b[0mk\u001b[0m\u001b[0;34m:\u001b[0m \u001b[0mf\u001b[0m\u001b[0;34m(\u001b[0m\u001b[0;34m*\u001b[0m\u001b[0ma\u001b[0m\u001b[0;34m,\u001b[0m \u001b[0;34m**\u001b[0m\u001b[0mk\u001b[0m\u001b[0;34m)\u001b[0m\u001b[0;34m\u001b[0m\u001b[0m\n\u001b[0m\u001b[1;32m    189\u001b[0m \u001b[0;34m\u001b[0m\u001b[0m\n\u001b[1;32m    190\u001b[0m         \u001b[0;32mif\u001b[0m \u001b[0mcallable\u001b[0m\u001b[0;34m(\u001b[0m\u001b[0marg\u001b[0m\u001b[0;34m)\u001b[0m\u001b[0;34m:\u001b[0m\u001b[0;34m\u001b[0m\u001b[0m\n",
      "\u001b[0;32m/home/ubuntu/anaconda2/envs/qenv/lib/python2.7/site-packages/IPython/core/magics/execution.pyc\u001b[0m in \u001b[0;36mtime\u001b[0;34m(self, line, cell, local_ns)\u001b[0m\n\u001b[1;32m   1178\u001b[0m         \u001b[0;32melse\u001b[0m\u001b[0;34m:\u001b[0m\u001b[0;34m\u001b[0m\u001b[0m\n\u001b[1;32m   1179\u001b[0m             \u001b[0mst\u001b[0m \u001b[0;34m=\u001b[0m \u001b[0mclock2\u001b[0m\u001b[0;34m(\u001b[0m\u001b[0;34m)\u001b[0m\u001b[0;34m\u001b[0m\u001b[0m\n\u001b[0;32m-> 1180\u001b[0;31m             \u001b[0;32mexec\u001b[0m\u001b[0;34m(\u001b[0m\u001b[0mcode\u001b[0m\u001b[0;34m,\u001b[0m \u001b[0mglob\u001b[0m\u001b[0;34m,\u001b[0m \u001b[0mlocal_ns\u001b[0m\u001b[0;34m)\u001b[0m\u001b[0;34m\u001b[0m\u001b[0m\n\u001b[0m\u001b[1;32m   1181\u001b[0m             \u001b[0mend\u001b[0m \u001b[0;34m=\u001b[0m \u001b[0mclock2\u001b[0m\u001b[0;34m(\u001b[0m\u001b[0;34m)\u001b[0m\u001b[0;34m\u001b[0m\u001b[0m\n\u001b[1;32m   1182\u001b[0m             \u001b[0mout\u001b[0m \u001b[0;34m=\u001b[0m \u001b[0mNone\u001b[0m\u001b[0;34m\u001b[0m\u001b[0m\n",
      "\u001b[0;32m<timed exec>\u001b[0m in \u001b[0;36m<module>\u001b[0;34m()\u001b[0m\n",
      "\u001b[0;32m<ipython-input-34-9a538476c063>\u001b[0m in \u001b[0;36mget_spelling_corrections\u001b[0;34m(unknown_words)\u001b[0m\n\u001b[1;32m      3\u001b[0m \u001b[0;34m\u001b[0m\u001b[0m\n\u001b[1;32m      4\u001b[0m     \u001b[0;32mfor\u001b[0m \u001b[0mw\u001b[0m \u001b[0;32min\u001b[0m \u001b[0munknown_words\u001b[0m\u001b[0;34m:\u001b[0m\u001b[0;34m\u001b[0m\u001b[0m\n\u001b[0;32m----> 5\u001b[0;31m         \u001b[0mproposal1\u001b[0m \u001b[0;34m=\u001b[0m \u001b[0mspell\u001b[0m\u001b[0;34m(\u001b[0m\u001b[0mw\u001b[0m\u001b[0;34m)\u001b[0m\u001b[0;34m\u001b[0m\u001b[0m\n\u001b[0m\u001b[1;32m      6\u001b[0m \u001b[0;31m#         print proposal1\u001b[0m\u001b[0;34m\u001b[0m\u001b[0;34m\u001b[0m\u001b[0m\n\u001b[1;32m      7\u001b[0m \u001b[0;34m\u001b[0m\u001b[0m\n",
      "\u001b[0;32m/home/ubuntu/anaconda2/envs/qenv/lib/python2.7/site-packages/autocorrect/__init__.pyc\u001b[0m in \u001b[0;36mspell\u001b[0;34m(word)\u001b[0m\n\u001b[1;32m     21\u001b[0m     \u001b[0mw\u001b[0m \u001b[0;34m=\u001b[0m \u001b[0mWord\u001b[0m\u001b[0;34m(\u001b[0m\u001b[0mword\u001b[0m\u001b[0;34m)\u001b[0m\u001b[0;34m\u001b[0m\u001b[0m\n\u001b[1;32m     22\u001b[0m     candidates = (common([word]) or exact([word]) or known([word]) or\n\u001b[0;32m---> 23\u001b[0;31m                   \u001b[0mknown\u001b[0m\u001b[0;34m(\u001b[0m\u001b[0mw\u001b[0m\u001b[0;34m.\u001b[0m\u001b[0mtypos\u001b[0m\u001b[0;34m(\u001b[0m\u001b[0;34m)\u001b[0m\u001b[0;34m)\u001b[0m \u001b[0;32mor\u001b[0m \u001b[0mcommon\u001b[0m\u001b[0;34m(\u001b[0m\u001b[0mw\u001b[0m\u001b[0;34m.\u001b[0m\u001b[0mdouble_typos\u001b[0m\u001b[0;34m(\u001b[0m\u001b[0;34m)\u001b[0m\u001b[0;34m)\u001b[0m \u001b[0;32mor\u001b[0m\u001b[0;34m\u001b[0m\u001b[0m\n\u001b[0m\u001b[1;32m     24\u001b[0m                   [word])\n\u001b[1;32m     25\u001b[0m     \u001b[0mcorrection\u001b[0m \u001b[0;34m=\u001b[0m \u001b[0mmax\u001b[0m\u001b[0;34m(\u001b[0m\u001b[0mcandidates\u001b[0m\u001b[0;34m,\u001b[0m \u001b[0mkey\u001b[0m\u001b[0;34m=\u001b[0m\u001b[0mNLP_COUNTS\u001b[0m\u001b[0;34m.\u001b[0m\u001b[0mget\u001b[0m\u001b[0;34m)\u001b[0m\u001b[0;34m\u001b[0m\u001b[0m\n",
      "\u001b[0;32m/home/ubuntu/anaconda2/envs/qenv/lib/python2.7/site-packages/autocorrect/word.pyc\u001b[0m in \u001b[0;36mdouble_typos\u001b[0;34m(self)\u001b[0m\n\u001b[1;32m     69\u001b[0m     \u001b[0;32mdef\u001b[0m \u001b[0mdouble_typos\u001b[0m\u001b[0;34m(\u001b[0m\u001b[0mself\u001b[0m\u001b[0;34m)\u001b[0m\u001b[0;34m:\u001b[0m\u001b[0;34m\u001b[0m\u001b[0m\n\u001b[1;32m     70\u001b[0m         \u001b[0;34m\"\"\"letter combinations two typos away from word\"\"\"\u001b[0m\u001b[0;34m\u001b[0m\u001b[0m\n\u001b[0;32m---> 71\u001b[0;31m         return {e2 for e1 in self.typos()\n\u001b[0m\u001b[1;32m     72\u001b[0m                 for e2 in Word(e1).typos()}\n\u001b[1;32m     73\u001b[0m \u001b[0;34m\u001b[0m\u001b[0m\n",
      "\u001b[0;32m/home/ubuntu/anaconda2/envs/qenv/lib/python2.7/site-packages/autocorrect/word.pyc\u001b[0m in \u001b[0;36m<setcomp>\u001b[0;34m((e1,))\u001b[0m\n\u001b[1;32m     70\u001b[0m         \u001b[0;34m\"\"\"letter combinations two typos away from word\"\"\"\u001b[0m\u001b[0;34m\u001b[0m\u001b[0m\n\u001b[1;32m     71\u001b[0m         return {e2 for e1 in self.typos()\n\u001b[0;32m---> 72\u001b[0;31m                 for e2 in Word(e1).typos()}\n\u001b[0m\u001b[1;32m     73\u001b[0m \u001b[0;34m\u001b[0m\u001b[0m\n\u001b[1;32m     74\u001b[0m \u001b[0;34m\u001b[0m\u001b[0m\n",
      "\u001b[0;31mKeyboardInterrupt\u001b[0m: "
     ]
    }
   ],
   "source": [
    "%%time\n",
    "\n",
    "spelling_replacements = get_spelling_corrections(no_embeddings[10000:12050])\n",
    "# print spelling_replacements\n"
   ]
  },
  {
   "cell_type": "markdown",
   "metadata": {},
   "source": [
    "shakey results, ignoring for now"
   ]
  },
  {
   "cell_type": "code",
   "execution_count": 36,
   "metadata": {
    "collapsed": false
   },
   "outputs": [
    {
     "name": "stdout",
     "output_type": "stream",
     "text": [
      "['thorstein']\n",
      "['shahjahan']\n",
      "['spider', 'oak']\n",
      "['30whrs']\n",
      "['has', '1paramtr']\n",
      "['ken', 'geri']\n",
      "['chir', 'rut']\n",
      "['kcsa']\n",
      "['turn', 'z']\n",
      "['turn', 'n']\n",
      "['wr104']\n",
      "['dhol', 'era']\n",
      "['sharing', 'han']\n",
      "['zond', 'le']\n",
      "['pahl', 'aj']\n",
      "['bone', 'town']\n",
      "['paramahansa']\n",
      "['recommed', 'er']\n",
      "['frescobaldi']\n",
      "['lifshitz']\n",
      "['quiz', 'friday']\n",
      "['tel', 'i', 'portation']\n",
      "['lay', 'iye']\n",
      "['agarwal', 's']\n",
      "['refer', 'rn', 'du']\n",
      "['send', 'inc']\n",
      "['mama', 'la']\n",
      "['x540ya']\n",
      "['print', 'ful']\n",
      "['mujica']\n",
      "['swayamsevak']\n",
      "['re', 'acters']\n",
      "['what', 'scan']\n",
      "['b', 'has', 'ad']\n",
      "['ambi', 'verts']\n",
      "['di', 'astro', 'phism']\n",
      "['haldiram', 's']\n",
      "['inf', 'etic']\n",
      "['kjk', 'juku']\n",
      "['brown', 'wash']\n",
      "['fast', 'charger']\n",
      "['zen2']\n",
      "['adh', 'uri']\n",
      "['georgi', 'sm']\n",
      "['chi', 'j']\n",
      "['hussain', 'sagar']\n",
      "['chrono', 'ns']\n",
      "['t', 'ewan', 'i']\n",
      "['naa', 'liga', 'i']\n",
      "['peer', 'some']\n"
     ]
    }
   ],
   "source": [
    "spelling_replacements = get_word_splits(no_embeddings[1200:1250])\n"
   ]
  },
  {
   "cell_type": "markdown",
   "metadata": {},
   "source": [
    "shaky results ignoring for now"
   ]
  },
  {
   "cell_type": "code",
   "execution_count": 249,
   "metadata": {
    "collapsed": false
   },
   "outputs": [],
   "source": [
    "### i could do it recursively but happy with one run for now\n",
    "### some quick checks suggests doing autocrorrect followed by segmentation is the right way\n",
    "\n",
    "# test: segment(\"dominations\"), spell(\"meaningsdenominations\"), embeddings_index.has_key(\"sharia\")\n",
    "\n",
    "\n",
    "def fix_spelling_and_segmentation(s):\n",
    "\n",
    "    words = s.split()\n",
    "    \n",
    "    #it's probably more efficient to replace words in place but using a replacement dic \n",
    "    # and doing str.replace is more maintainable and readable\n",
    "    \n",
    "    replacements = {}\n",
    "    \n",
    "    for i,word in enumerate(words):\n",
    "        \n",
    "        if  not embeddings_index.has_key(word):\n",
    "\n",
    "            ## first autocorrect, this yields one word\n",
    "            proposal1 = spell(word)\n",
    "            if embeddings_index.has_key(proposal1):\n",
    "                replacements[word] = proposal1\n",
    "              \n",
    "            \n",
    "            ## if still problematic, try to segmenting, this returns a list\n",
    "            \n",
    "            else:\n",
    "                proposal2 = segment(proposal1)\n",
    "                replacements[word] = \" \".join(proposal2)\n",
    "                \n",
    "        \n",
    "    \n",
    "    \n",
    "    for r in replacements:\n",
    "        s = s.replace(r,replacements[r])\n",
    "\n",
    "    \n",
    "    return s\n",
    "\n",
    "# fix_spelling_and_segmentation(\"hello proceducre sinapore linebyline word pourplatekjedahls fibrestextile grefide2 \")"
   ]
  },
  {
   "cell_type": "markdown",
   "metadata": {},
   "source": [
    "For clleaning the text, I'll remove the following in order: \n",
    "\n",
    "- bad unicodes \n",
    "- accents (transliterate)\n",
    "- websites\n",
    "- emails\n",
    "- math \n",
    "- punctuation\n",
    "\n",
    "- phone_numbers\n",
    "- numbers\n",
    "- contractions \n",
    "\n",
    "- punctuation (again)\n",
    "- combined words\n",
    "\n"
   ]
  },
  {
   "cell_type": "markdown",
   "metadata": {},
   "source": [
    "The right way is to remove punctuations completely and then segment/autocorrect non-existing words; but since it takes quite long to do that i'd proceed with the following first. "
   ]
  },
  {
   "cell_type": "code",
   "execution_count": 161,
   "metadata": {
    "collapsed": false
   },
   "outputs": [],
   "source": [
    "def clean_text_v1(s):\n",
    "    \n",
    "    #  dots excluded \"\\.\" not to mess with abbreviations    \n",
    "    punctuations = re.compile(ur\"[\\!\\\"\\#\\$\\%\\&\\\\'\\(\\)\\*\\+\\,\\-\\/\\:\\;\\<\\=\\>\\?\\@\\[\\\\\\]\\^\\_\\`\\{\\|\\}\\~]+\")\n",
    "    \n",
    "    \n",
    "    s = textacy.preprocess_text(s, fix_unicode=False, lowercase=False, transliterate=True,no_contractions=True,no_urls=True,no_emails=True)\n",
    "    s = s.replace(\"'s\",\" \")\n",
    "    s = s.replace(\"'d\",\" would \")\n",
    "\n",
    "    \n",
    "                  \n",
    "    \n",
    "    #replace [math]...[/math] formulas\n",
    "    #example: \"How do I find the zeros of the polynomial function [math]f(x)=\\\\dfrac{1}{2}x^{3}-3x[/math]?\")\n",
    "\n",
    "    s = re.compile(ur'\\[math\\][^\\[\\]]*\\[/math\\]').sub(\" FORMULA \",s)    \n",
    "    #not sure why \\[math\\][^math]*\\[/math\\] doesn't work\n",
    "    \n",
    "    \n",
    "\n",
    "    #  s = textacy.preprocess_text(s,no_punct=True)\n",
    "    s= punctuations.sub(\" \", s) \n",
    "\n",
    "    \n",
    "    \n",
    "    s = textacy.preprocess_text(s,  no_phone_numbers=True, no_numbers=True )\n",
    "#     s = textacy.preprocess_text(s,no_punct=True)\n",
    "    \n",
    "    s= punctuations.sub(\"\", s) #one more time to fix * additions by textacy lib\n",
    "    s = s.replace(\"*\",\" \")\n",
    "    \n",
    "#     s = fix_spelling_and_segmentation(s) \n",
    "#     takes incredibly long so ignoring it for now\n",
    "    \n",
    "    return s \n",
    "               \n",
    "    \n",
    "    \n",
    "    \n",
    "#####################  dump #####################\n",
    "# tokens = word_tokenize(df_train.question1[8])\n",
    "# text = Text(tokens)\n",
    "\n",
    "# textacy's remove punc causes words to combine, recreating my own and replacing puncts with space\n",
    "# s= PUNCT_REGEX.sub(\" \", s) > maybe solvable with segment lib\n",
    "\n",
    "\n",
    "\n",
    "\n",
    "\n",
    "#stop_words = ['the','a','an']\n",
    "              \n",
    "#               'and','but','if','or','because','as','what','which','this','that','these','those','then',\n",
    "#           'just','so','than','such','both','through','about','for','is','of','while','during','to','What','Which',\n",
    "#           'Is','If','While','This']\n",
    "\n",
    "    \n",
    "    ######  remove stop words\n",
    "#     filtered_words = [word for word in word_list if word not in stopwords.words('english')]\n",
    "#     stop_word_regex = re.compile('|'.join(map(re.escape, stop_words)))\n",
    "#     s = stop_word_regex.sub(\" \",s)\n",
    "    ######\n",
    "\n",
    "\n",
    "\n",
    "    ######  PUNCTUATIONS\n",
    "\n",
    "# def dashrepl(matchobj):\n",
    "# #     if matchobj.group(0) == '-': return ' '\n",
    "#     return matchobj.group(0).replace(\".\",\"\")\n",
    "\n",
    "# embeddings_index[\"a.k.a.\"]\n",
    "\n",
    "# re.sub(\"([A-Za-z]\\.)+\",dashrepl,df_train.question1[22574]+ \"e.g.\" )\n",
    "    ######\n",
    "\n",
    "    \n",
    "    \n",
    "    \n"
   ]
  },
  {
   "cell_type": "code",
   "execution_count": 9,
   "metadata": {
    "collapsed": false
   },
   "outputs": [
    {
     "name": "stdout",
     "output_type": "stream",
     "text": [
      "another 15000 keys\n",
      "more 60000 keys\n",
      "a 20 keys\n",
      "no 10keys\n",
      "2000 and another 3000 for me\n",
      "10000.\n"
     ]
    }
   ],
   "source": [
    "def substitute_thousands(text):\n",
    "    matches = re.finditer(r'[0-9]+(?P<thousands>\\s{0,2}k\\b)', text, flags=re.I)\n",
    "    result = ''\n",
    "    len_offset = 0\n",
    "    for match in matches:\n",
    "        result += '{}000'.format(text[len(result)-len_offset:match.start('thousands')])\n",
    "        len_offset += 3 - (match.end('thousands') - match.start('thousands'))\n",
    "    result += text[len(result)-len_offset:]\n",
    "    return result\n",
    "\n",
    "tests = ['another 15k keys', 'more 60 k keys', 'a 20 keys', 'no 10keys', '2k and another 3 k for me', '10K.']\n",
    "for test in tests:\n",
    "    print(substitute_thousands(test))"
   ]
  },
  {
   "cell_type": "code",
   "execution_count": 52,
   "metadata": {
    "collapsed": true
   },
   "outputs": [],
   "source": [
    "from textacy.constants import NONBREAKING_SPACE_REGEX\n",
    "\n",
    "def clean_text_v2(text):\n",
    "    \n",
    "    #  dots excluded \"\\.\" not to mess with abbreviations    \n",
    "#     punctuations = re.compile(ur\"[\\!\\\"\\#\\$\\%\\&\\\\'\\(\\)\\*\\+\\,\\-\\/\\:\\;\\<\\=\\>\\?\\@\\[\\\\\\]\\^\\_\\`\\{\\|\\}\\~]+\")\n",
    "    \n",
    "    \n",
    "    text = textacy.preprocess_text(text, fix_unicode=False, lowercase=False, \n",
    "                                transliterate=True,\n",
    "                                no_contractions=True,\n",
    "                                no_urls=False,no_emails=False)\n",
    "    \n",
    "    text = re.sub(r\"\\bwhat's\\b\", \"what is\", text,flags=re.IGNORECASE)\n",
    "\n",
    "    text = text.replace(\"'s\",\" \")\n",
    "    text = text.replace(\"'d\",\" would \")\n",
    "    text = text.replace(\"\\$\",\" \")    \n",
    "    \n",
    "    text = substitute_thousands(text)\n",
    "    \n",
    "    \n",
    "#     text = re.sub('(?<=[0-9])[\\ ]*pound[s]*(?=\\ |$|\\.)', ' pounds ', text,flags=re.IGNORECASE)\n",
    "#     text = re.sub('(?<=[0-9])[\\ ]*lb[s]*(?=\\ |$|\\.)', 'pounds ', text,flags=re.IGNORECASE)\n",
    "#     text = re.sub('(?<=[0-9])[\\ ]*gallon[s]*(?=\\ |$|\\.)', ' gallons ', text,flags=re.IGNORECASE)\n",
    "#     text = re.sub('(?<=[0-9])[\\ ]*gal(?=\\ |$|\\.)', ' gallons ', text,flags=re.IGNORECASE)\n",
    "#     text = re.sub('(?<=[0-9])[\\ ]*kg[s]*(?=\\ |$|\\.)', ' kilogram ', text,flags=re.IGNORECASE)\n",
    "\n",
    "\n",
    "    \n",
    "    ### \n",
    "    text = re.sub(r\"[^A-Za-z0-9^,\\?!.\\/'+-=]\", \" \", text)\n",
    "\n",
    "    \n",
    "    text = re.sub(r\",\", \" \", text)\n",
    "    text = re.sub(r\"\\.\", \" \", text)\n",
    "    text = re.sub(r\"!\", \" ! \", text)\n",
    "    text = re.sub(r\"\\/\", \" \", text)\n",
    "    text = re.sub(r\"\\^\", \" ^ \", text)\n",
    "    text = re.sub(r\"\\+\", \" + \", text)\n",
    "    text = re.sub(r\"\\-\", \" - \", text)\n",
    "    text = re.sub(r\"\\=\", \" = \", text)\n",
    "    text = re.sub(r\"'\", \" \", text)\n",
    "    text = re.sub(r\"\\\"\", \" \", text)\n",
    "    \n",
    "    \n",
    "    \n",
    "    ### \n",
    "    text = re.sub(r\"\\be g\\b\", \" example \", text)\n",
    "    text = re.sub(r\"\\bi e\\b\", \" mean \", text)\n",
    "\n",
    "#     text = re.sub(r\"\\bb g\\b\", \" bg \", text)\n",
    "    text = re.sub(r\"\\b\\0s\\b\", \"0\", text)\n",
    "    text = re.sub(r\"\\b9 11\\b\", \"911\", text)\n",
    "    text = re.sub(r\"e-mail\", \"email\", text)\n",
    "    text = re.sub(r\"e-commerce\", \"ecommerce\", text)\n",
    "    \n",
    "    text = re.sub(r\"quikly\", \"quickly\", text)\n",
    "    text = re.sub(r\"\\busa\\b\", \" America \", text,flags=re.IGNORECASE)\n",
    "    text = re.sub(r\"\\bu s\\b\", \" America \", text,flags=re.IGNORECASE)\n",
    "#     text = re.sub(r\"\\bu\\.s\\.\\b\", \" America \", text,flags=re.IGNORECASE)\n",
    "\n",
    "    text = re.sub(r\"imrovement\", \"improvement\", text)\n",
    "    text = re.sub(r\"intially\", \"initially\", text)\n",
    "    text = re.sub(r\"quora\", \"Quora\", text)\n",
    "    \n",
    "    text = re.sub(r\"\\bdms\\b\", \"direct messages \", text)  \n",
    "    text = re.sub(r\"demonitization\", \"demonetization\", text) \n",
    "    text = re.sub(r\"actived\", \"active\", text)\n",
    "    \n",
    "    text = re.sub(r\"kms\", \" kilometers \", text,flags=re.IGNORECASE)\n",
    "    text = re.sub(r\"kgs\", \" kilograms \", text,flags=re.IGNORECASE)\n",
    "    text = re.sub(r\"lbs\", \" pounds \", text,flags=re.IGNORECASE)\n",
    "\n",
    "    \n",
    "    text = re.sub(r\"\\bcs\\b\", \" computer science \", text) \n",
    "    text = re.sub(r\"\\bupvotes\\b\", \" up votes \", text)\n",
    "#     text = re.sub(r\"\\biPhone\\b\", \" phone \", text)\n",
    "\n",
    "    text = re.sub(r\"\\0rs \", \" rs \", text) \n",
    "    \n",
    "    text = re.sub(r\"calender\", \"calendar\", text)\n",
    "    text = re.sub(r\"ios\", \"operating system\", text)\n",
    "\n",
    "    text = re.sub(r\"programing\", \"programming\", text)\n",
    "    text = re.sub(r\"bestfriend\", \"best friend\", text)\n",
    "    text = re.sub(r\"dna\", \"DNA\", text)\n",
    "    text = re.sub(r\"III\", \"3\", text) \n",
    "    text = re.sub(r\"banglore\", \"Bangalore\", text)\n",
    "\n",
    "    text = re.sub(r\"\\bJ K\\b\", \" JK \", text)\n",
    "\n",
    "    \n",
    "    \n",
    "    ### \n",
    "    \n",
    "#     text = re.sub(r\"([a-zA-Z])\\/([a-zA-Z])\", r\"\\1 \\2\", text)\n",
    "#     text = re.sub(r\"\\b\\-\\b\", \" \", text)\n",
    "    text = re.sub(r\"\\bthe\\b\", \"\", text)\n",
    "    \n",
    "#     text = re.sub(r\"\\\"(\\w+)\\\"\", r\"\\1\", text)\n",
    "#     text = re.sub(r\"'(\\w+)'\", r\"\\1\", text)\n",
    "#     text = re.sub(r\"(\\w+)'\", r\"\\1\", text)\n",
    "\n",
    "           \n",
    "    \n",
    "    ###\n",
    "    \n",
    "\n",
    "    \n",
    "\n",
    "    \n",
    "    \n",
    "    text = re.sub(r\"\\s{2,}\", \" \", text)\n",
    "\n",
    "        \n",
    "        \n",
    "    return text     "
   ]
  },
  {
   "cell_type": "code",
   "execution_count": 55,
   "metadata": {
    "collapsed": false
   },
   "outputs": [
    {
     "data": {
      "text/plain": [
       "u'what is other people 1 000 99000 best America ? 18 kilograms 2k19'"
      ]
     },
     "execution_count": 55,
     "metadata": {},
     "output_type": "execute_result"
    }
   ],
   "source": [
    "clean_text_v2(\"What\\'s other people $1,000,99k best' U.S.? 18kgs 2k19\")"
   ]
  },
  {
   "cell_type": "markdown",
   "metadata": {},
   "source": [
    "#### Testing"
   ]
  },
  {
   "cell_type": "code",
   "execution_count": 56,
   "metadata": {
    "collapsed": false
   },
   "outputs": [],
   "source": [
    "#tested: 2399 2712 8776 73651 57393 3936 2056 11077 130783 25201 403974\n",
    "#fail: 8 23472\n",
    "question_id =  2399\n",
    "\n",
    "# print 'question 1:'\n",
    "# print\" \"\n",
    "# print df_train.question1[question_id]\n",
    "# print clean_text_v1(df_train.question1[question_id])\n",
    "\n",
    "# print\" \"\n",
    "# print 'question 2:'\n",
    "# print\" \"\n",
    "# print df_train.question2[question_id]\n",
    "# print clean_text_v1(df_train.question2[question_id])\n"
   ]
  },
  {
   "cell_type": "markdown",
   "metadata": {},
   "source": [
    "ToDo: \n",
    "- make sure clearing doesn't combine words badly ( ?)\n",
    "- replace [Math] blocks with 'formula' (done)\n",
    "- spelling correction (done but on hold)\n",
    "- combined word segmentation (done but on hold)"
   ]
  },
  {
   "cell_type": "markdown",
   "metadata": {},
   "source": [
    "##### Cleaning V2"
   ]
  },
  {
   "cell_type": "code",
   "execution_count": 40,
   "metadata": {
    "collapsed": false
   },
   "outputs": [
    {
     "name": "stdout",
     "output_type": "stream",
     "text": [
      "question 1:\n",
      " \n",
      "What should I do to get money?\n",
      "What should I do to get money?\n",
      " \n",
      "question 2:\n",
      " \n",
      "How can you get money without having money?\n",
      "How can you get money without having money?\n"
     ]
    }
   ],
   "source": [
    "#tested: 2399 2712 8776 73651 57393 3936 2056 11077 130783 25201 403974 11077 98888 44774\n",
    "#fail: 8 23472 124019\n",
    "#Wow: 77777\n",
    "question_id =   271777\n",
    "\n",
    "\n",
    "print 'question 1:'\n",
    "print\" \"\n",
    "print df_train.question1[question_id]\n",
    "print clean_text_v2(df_train.question1[question_id])\n",
    "\n",
    "print\" \"\n",
    "print 'question 2:'\n",
    "print\" \"\n",
    "print df_train.question2[question_id]\n",
    "print clean_text_v2(df_train.question2[question_id])\n"
   ]
  },
  {
   "cell_type": "markdown",
   "metadata": {},
   "source": [
    "### Transforming data\n"
   ]
  },
  {
   "cell_type": "code",
   "execution_count": 57,
   "metadata": {
    "collapsed": false
   },
   "outputs": [],
   "source": [
    "\n",
    "### IGNORE\n",
    "from multiprocessing import Process\n",
    "\n",
    "def multi(n_cores, tq, qln):\n",
    "    ''' Using multiple processes '''\n",
    "    procs = []\n",
    "    clean_txt = {}\n",
    "    # manager = Manager()\n",
    "    for i in range(n_cores):\n",
    "        # clean_txt[i] = manager.list()\n",
    "        clean_txt[i] = []\n",
    "\n",
    "    for index in range(n_cores):\n",
    "        tq_indexed = tq[index*len(tq)//n_cores:(index+1)*len(tq)//n_cores]\n",
    "        proc = Process(target=clean_text_v2, args=(index, clean_txt[index], tq_indexed, qln, ))\n",
    "        procs.append(proc)\n",
    "        proc.start()\n",
    "\n",
    "    for proc in procs:\n",
    "        proc.join()\n",
    "\n",
    "    clean_txt_list = []\n",
    "    for i in range(n_cores):\n",
    "        with open('temp_list_'+str(i)+'.pkl', 'rb') as fl_in:\n",
    "            clean_txt[i] = pickle.load(fl_in)\n",
    "        clean_txt_list += clean_txt[i]\n",
    "        os.remove('temp_list_'+str(i)+'.pkl')\n",
    "\n",
    "    print('{} records processed from {}'.format(len(clean_txt_list), qln))\n",
    "    print('-'*100)\n",
    "    return(clean_txt_list)\n",
    "\n",
    "# qtrain1s = multi(8, df_train.question1, 'train_question1')"
   ]
  },
  {
   "cell_type": "code",
   "execution_count": 58,
   "metadata": {
    "collapsed": false,
    "scrolled": true
   },
   "outputs": [
    {
     "name": "stdout",
     "output_type": "stream",
     "text": [
      "CPU times: user 2min 16s, sys: 120 ms, total: 2min 17s\n",
      "Wall time: 2min 16s\n"
     ]
    }
   ],
   "source": [
    "%%time \n",
    "\n",
    "#old time: 2min 30s\n",
    "\n",
    "qtrain1s = df_train.question1.apply(clean_text_v2)\n",
    "qtrain2s = df_train.question2.apply(clean_text_v2)"
   ]
  },
  {
   "cell_type": "code",
   "execution_count": 59,
   "metadata": {
    "collapsed": false,
    "scrolled": true
   },
   "outputs": [
    {
     "data": {
      "text/plain": [
       "(u'Dial 1 - 877 - 778 - 8969 Zoho Customer Service support Number America ?',\n",
       " u'My same face in world 7people?')"
      ]
     },
     "execution_count": 59,
     "metadata": {},
     "output_type": "execute_result"
    }
   ],
   "source": [
    "qtrain1s[3936],qtrain2s[3936] "
   ]
  },
  {
   "cell_type": "code",
   "execution_count": 60,
   "metadata": {
    "collapsed": true
   },
   "outputs": [],
   "source": [
    "# using vA rather than v1 to avoid confusion with question 1 and 2\n",
    "df_train['q1_clean_vB'] = qtrain1s\n",
    "df_train['q2_clean_vB'] = qtrain2s"
   ]
  },
  {
   "cell_type": "code",
   "execution_count": 61,
   "metadata": {
    "collapsed": true
   },
   "outputs": [],
   "source": [
    "df_train = df_train.drop(['question1','question2'],axis=1)"
   ]
  },
  {
   "cell_type": "code",
   "execution_count": 62,
   "metadata": {
    "collapsed": true
   },
   "outputs": [],
   "source": [
    "df_train.to_csv(data_home+\"train_clean_vB.csv\",encoding=\"utf-8\", index=False)\n"
   ]
  },
  {
   "cell_type": "code",
   "execution_count": 63,
   "metadata": {
    "collapsed": false
   },
   "outputs": [
    {
     "data": {
      "text/html": [
       "<div>\n",
       "<table border=\"1\" class=\"dataframe\">\n",
       "  <thead>\n",
       "    <tr style=\"text-align: right;\">\n",
       "      <th></th>\n",
       "      <th>id</th>\n",
       "      <th>qid1</th>\n",
       "      <th>qid2</th>\n",
       "      <th>is_duplicate</th>\n",
       "      <th>q1_clean_vB</th>\n",
       "      <th>q2_clean_vB</th>\n",
       "    </tr>\n",
       "  </thead>\n",
       "  <tbody>\n",
       "    <tr>\n",
       "      <th>0</th>\n",
       "      <td>0</td>\n",
       "      <td>1</td>\n",
       "      <td>2</td>\n",
       "      <td>0</td>\n",
       "      <td>What is step by step guide to invest in share ...</td>\n",
       "      <td>What is step by step guide to invest in share ...</td>\n",
       "    </tr>\n",
       "  </tbody>\n",
       "</table>\n",
       "</div>"
      ],
      "text/plain": [
       "   id  qid1  qid2  is_duplicate  \\\n",
       "0   0     1     2             0   \n",
       "\n",
       "                                         q1_clean_vB  \\\n",
       "0  What is step by step guide to invest in share ...   \n",
       "\n",
       "                                         q2_clean_vB  \n",
       "0  What is step by step guide to invest in share ...  "
      ]
     },
     "execution_count": 63,
     "metadata": {},
     "output_type": "execute_result"
    }
   ],
   "source": [
    "df_train.head(1)"
   ]
  },
  {
   "cell_type": "markdown",
   "metadata": {},
   "source": [
    "This is gonna be long .. \n",
    "before autocorrect and segmenting it was 14min 26s, expect it to be 20 times longer "
   ]
  },
  {
   "cell_type": "code",
   "execution_count": 64,
   "metadata": {
    "collapsed": false
   },
   "outputs": [
    {
     "name": "stdout",
     "output_type": "stream",
     "text": [
      "CPU times: user 13min 5s, sys: 1.13 s, total: 13min 6s\n",
      "Wall time: 13min 6s\n"
     ]
    }
   ],
   "source": [
    "%%time \n",
    "\n",
    "q1test = df_test.question1.apply(clean_text_v2)\n",
    "q2test = df_test.question2.apply(clean_text_v2)"
   ]
  },
  {
   "cell_type": "code",
   "execution_count": 65,
   "metadata": {
    "collapsed": true
   },
   "outputs": [],
   "source": [
    "df_test['q1_clean_vB'] = q1test\n",
    "df_test['q2_clean_vB'] = q2test\n"
   ]
  },
  {
   "cell_type": "code",
   "execution_count": 66,
   "metadata": {
    "collapsed": true
   },
   "outputs": [],
   "source": [
    "df_test = df_test.drop(['question1','question2'],axis=1)"
   ]
  },
  {
   "cell_type": "code",
   "execution_count": 67,
   "metadata": {
    "collapsed": true
   },
   "outputs": [],
   "source": [
    "df_test.to_csv(data_home+\"test_clean_vB.csv\",encoding=\"utf-8\", index=False)"
   ]
  },
  {
   "cell_type": "code",
   "execution_count": 68,
   "metadata": {
    "collapsed": false
   },
   "outputs": [
    {
     "data": {
      "text/html": [
       "<div>\n",
       "<table border=\"1\" class=\"dataframe\">\n",
       "  <thead>\n",
       "    <tr style=\"text-align: right;\">\n",
       "      <th></th>\n",
       "      <th>test_id</th>\n",
       "      <th>q1_clean_vB</th>\n",
       "      <th>q2_clean_vB</th>\n",
       "    </tr>\n",
       "  </thead>\n",
       "  <tbody>\n",
       "    <tr>\n",
       "      <th>0</th>\n",
       "      <td>0</td>\n",
       "      <td>How does Surface Pro himself 4 compare with iP...</td>\n",
       "      <td>Why did Microsoft choose core m3 and not core ...</td>\n",
       "    </tr>\n",
       "    <tr>\n",
       "      <th>1</th>\n",
       "      <td>1</td>\n",
       "      <td>Should I have a hair transplant at age 24? How...</td>\n",
       "      <td>How much cost does hair transplant require?</td>\n",
       "    </tr>\n",
       "    <tr>\n",
       "      <th>2</th>\n",
       "      <td>2</td>\n",
       "      <td>What but is best way to send money from China ...</td>\n",
       "      <td>What you send money to China?</td>\n",
       "    </tr>\n",
       "    <tr>\n",
       "      <th>3</th>\n",
       "      <td>3</td>\n",
       "      <td>Which food not emulsifiers?</td>\n",
       "      <td>What foods fibre?</td>\n",
       "    </tr>\n",
       "    <tr>\n",
       "      <th>4</th>\n",
       "      <td>4</td>\n",
       "      <td>How aberystwyth start reading?</td>\n",
       "      <td>How their can I start reading?</td>\n",
       "    </tr>\n",
       "  </tbody>\n",
       "</table>\n",
       "</div>"
      ],
      "text/plain": [
       "   test_id                                        q1_clean_vB  \\\n",
       "0        0  How does Surface Pro himself 4 compare with iP...   \n",
       "1        1  Should I have a hair transplant at age 24? How...   \n",
       "2        2  What but is best way to send money from China ...   \n",
       "3        3                        Which food not emulsifiers?   \n",
       "4        4                     How aberystwyth start reading?   \n",
       "\n",
       "                                         q2_clean_vB  \n",
       "0  Why did Microsoft choose core m3 and not core ...  \n",
       "1        How much cost does hair transplant require?  \n",
       "2                      What you send money to China?  \n",
       "3                                  What foods fibre?  \n",
       "4                     How their can I start reading?  "
      ]
     },
     "execution_count": 68,
     "metadata": {},
     "output_type": "execute_result"
    }
   ],
   "source": [
    "## verify if saved correctly\n",
    "check_test_df = pd.read_csv(data_home+\"test_clean_vB.csv\",encoding=\"utf-8\")\n",
    "check_test_df.head()"
   ]
  },
  {
   "cell_type": "code",
   "execution_count": 69,
   "metadata": {
    "collapsed": false
   },
   "outputs": [
    {
     "data": {
      "text/plain": [
       "1"
      ]
     },
     "execution_count": 69,
     "metadata": {},
     "output_type": "execute_result"
    }
   ],
   "source": [
    "1"
   ]
  },
  {
   "cell_type": "code",
   "execution_count": null,
   "metadata": {
    "collapsed": true
   },
   "outputs": [],
   "source": []
  }
 ],
 "metadata": {
  "anaconda-cloud": {},
  "kernelspec": {
   "display_name": "Python [conda env:qenv]",
   "language": "python",
   "name": "conda-env-qenv-py"
  },
  "language_info": {
   "codemirror_mode": {
    "name": "ipython",
    "version": 2
   },
   "file_extension": ".py",
   "mimetype": "text/x-python",
   "name": "python",
   "nbconvert_exporter": "python",
   "pygments_lexer": "ipython2",
   "version": "2.7.12"
  }
 },
 "nbformat": 4,
 "nbformat_minor": 1
}
