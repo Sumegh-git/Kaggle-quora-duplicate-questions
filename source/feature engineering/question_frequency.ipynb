{
 "cells": [
  {
   "cell_type": "code",
   "execution_count": 1,
   "metadata": {
    "collapsed": true
   },
   "outputs": [],
   "source": [
    "import numpy as np\n",
    "import pandas as pd\n",
    "import timeit"
   ]
  },
  {
   "cell_type": "code",
   "execution_count": 2,
   "metadata": {
    "collapsed": true
   },
   "outputs": [],
   "source": [
    "train_orig =  pd.read_csv('data/train.csv', header=0)\n",
    "test_orig =  pd.read_csv('data/test.csv', header=0)\n"
   ]
  },
  {
   "cell_type": "code",
   "execution_count": 3,
   "metadata": {
    "collapsed": true
   },
   "outputs": [],
   "source": [
    "df1 = train_orig[['question1']].copy()\n",
    "df2 = train_orig[['question2']].copy()\n",
    "df1_test = test_orig[['question1']].copy()\n",
    "df2_test = test_orig[['question2']].copy()\n"
   ]
  },
  {
   "cell_type": "code",
   "execution_count": 5,
   "metadata": {
    "collapsed": true
   },
   "outputs": [],
   "source": [
    "df2.rename(columns = {'question2':'question1'},inplace=True)\n",
    "df2_test.rename(columns = {'question2':'question1'},inplace=True)\n"
   ]
  },
  {
   "cell_type": "code",
   "execution_count": 7,
   "metadata": {
    "collapsed": true
   },
   "outputs": [],
   "source": [
    "train_questions = df1.append(df2)\n",
    "train_questions = train_questions.append(df1_test)\n",
    "train_questions = train_questions.append(df2_test)\n",
    "#train_questions.drop_duplicates(subset = ['qid1'],inplace=True)\n",
    "train_questions.drop_duplicates(subset = ['question1'],inplace=True)\n"
   ]
  },
  {
   "cell_type": "code",
   "execution_count": 8,
   "metadata": {
    "collapsed": true
   },
   "outputs": [],
   "source": [
    "train_questions.reset_index(inplace=True,drop=True) #combining all questions, no duplicates "
   ]
  },
  {
   "cell_type": "code",
   "execution_count": 10,
   "metadata": {
    "collapsed": false
   },
   "outputs": [],
   "source": [
    "questions_dict = pd.Series(train_questions.index.values,index=train_questions.question1.values).to_dict()"
   ]
  },
  {
   "cell_type": "code",
   "execution_count": 16,
   "metadata": {
    "collapsed": false
   },
   "outputs": [],
   "source": [
    "train_cp = train_orig.copy()\n",
    "test_cp = test_orig.copy()\n",
    "train_cp.drop(['qid1','qid2'],axis=1,inplace=True)\n",
    "\n",
    "test_cp['is_duplicate'] = -1\n",
    "test_cp.rename(columns={'test_id':'id'},inplace=True)\n",
    "comb = pd.concat([train_cp,test_cp])"
   ]
  },
  {
   "cell_type": "code",
   "execution_count": 18,
   "metadata": {
    "collapsed": false
   },
   "outputs": [
    {
     "data": {
      "text/plain": [
       "(2750086, 2345796)"
      ]
     },
     "execution_count": 18,
     "metadata": {},
     "output_type": "execute_result"
    }
   ],
   "source": [
    "len(comb), len(test_cp)"
   ]
  },
  {
   "cell_type": "code",
   "execution_count": 19,
   "metadata": {
    "collapsed": true
   },
   "outputs": [],
   "source": [
    "comb['q1_hash'] = comb['question1'].map(questions_dict)\n",
    "comb['q2_hash'] = comb['question2'].map(questions_dict)\n"
   ]
  },
  {
   "cell_type": "code",
   "execution_count": 21,
   "metadata": {
    "collapsed": false
   },
   "outputs": [],
   "source": [
    "# comb['q1_hash'] "
   ]
  },
  {
   "cell_type": "code",
   "execution_count": 22,
   "metadata": {
    "collapsed": true
   },
   "outputs": [],
   "source": [
    "q1_vc = comb.q1_hash.value_counts().to_dict()\n",
    "q2_vc = comb.q2_hash.value_counts().to_dict()\n"
   ]
  },
  {
   "cell_type": "code",
   "execution_count": 25,
   "metadata": {
    "collapsed": true
   },
   "outputs": [],
   "source": [
    "def try_apply_dict(x,dict_to_apply):\n",
    "    try:\n",
    "        return dict_to_apply[x]\n",
    "    except KeyError:\n",
    "        return 0"
   ]
  },
  {
   "cell_type": "code",
   "execution_count": 35,
   "metadata": {
    "collapsed": false
   },
   "outputs": [
    {
     "data": {
      "text/plain": [
       "1999    1991\n",
       "2000    1992\n",
       "Name: q1_hash, dtype: int64"
      ]
     },
     "execution_count": 35,
     "metadata": {},
     "output_type": "execute_result"
    }
   ],
   "source": [
    "comb['q1_hash'][1999:2001]"
   ]
  },
  {
   "cell_type": "code",
   "execution_count": 28,
   "metadata": {
    "collapsed": true
   },
   "outputs": [],
   "source": [
    "#map to frequency space\n",
    "comb['q1_freq'] = comb['q1_hash'].map(lambda x: try_apply_dict(x,q1_vc) + try_apply_dict(x,q2_vc))\n",
    "comb['q2_freq'] = comb['q2_hash'].map(lambda x: try_apply_dict(x,q1_vc) + try_apply_dict(x,q2_vc))\n"
   ]
  },
  {
   "cell_type": "code",
   "execution_count": 38,
   "metadata": {
    "collapsed": true
   },
   "outputs": [],
   "source": [
    "train_comb = comb[comb['is_duplicate'] >= 0][['id','q1_hash','q2_hash','q1_freq','q2_freq','is_duplicate']]\n",
    "test_comb = comb[comb['is_duplicate'] < 0][['id','q1_hash','q2_hash','q1_freq','q2_freq']]"
   ]
  },
  {
   "cell_type": "code",
   "execution_count": 40,
   "metadata": {
    "collapsed": false
   },
   "outputs": [
    {
     "data": {
      "text/html": [
       "<div>\n",
       "<table border=\"1\" class=\"dataframe\">\n",
       "  <thead>\n",
       "    <tr style=\"text-align: right;\">\n",
       "      <th></th>\n",
       "      <th>id</th>\n",
       "      <th>q1_hash</th>\n",
       "      <th>q2_hash</th>\n",
       "      <th>q1_freq</th>\n",
       "      <th>q2_freq</th>\n",
       "      <th>is_duplicate</th>\n",
       "    </tr>\n",
       "  </thead>\n",
       "  <tbody>\n",
       "    <tr>\n",
       "      <th>id</th>\n",
       "      <td>1.000000</td>\n",
       "      <td>0.692730</td>\n",
       "      <td>0.286969</td>\n",
       "      <td>-0.001608</td>\n",
       "      <td>-0.000777</td>\n",
       "      <td>-0.008784</td>\n",
       "    </tr>\n",
       "    <tr>\n",
       "      <th>q1_hash</th>\n",
       "      <td>0.692730</td>\n",
       "      <td>1.000000</td>\n",
       "      <td>0.492993</td>\n",
       "      <td>-0.341777</td>\n",
       "      <td>-0.202545</td>\n",
       "      <td>-0.206498</td>\n",
       "    </tr>\n",
       "    <tr>\n",
       "      <th>q2_hash</th>\n",
       "      <td>0.286969</td>\n",
       "      <td>0.492993</td>\n",
       "      <td>1.000000</td>\n",
       "      <td>-0.392605</td>\n",
       "      <td>-0.466434</td>\n",
       "      <td>-0.349626</td>\n",
       "    </tr>\n",
       "    <tr>\n",
       "      <th>q1_freq</th>\n",
       "      <td>-0.001608</td>\n",
       "      <td>-0.341777</td>\n",
       "      <td>-0.392605</td>\n",
       "      <td>1.000000</td>\n",
       "      <td>0.494315</td>\n",
       "      <td>0.296621</td>\n",
       "    </tr>\n",
       "    <tr>\n",
       "      <th>q2_freq</th>\n",
       "      <td>-0.000777</td>\n",
       "      <td>-0.202545</td>\n",
       "      <td>-0.466434</td>\n",
       "      <td>0.494315</td>\n",
       "      <td>1.000000</td>\n",
       "      <td>0.198609</td>\n",
       "    </tr>\n",
       "    <tr>\n",
       "      <th>is_duplicate</th>\n",
       "      <td>-0.008784</td>\n",
       "      <td>-0.206498</td>\n",
       "      <td>-0.349626</td>\n",
       "      <td>0.296621</td>\n",
       "      <td>0.198609</td>\n",
       "      <td>1.000000</td>\n",
       "    </tr>\n",
       "  </tbody>\n",
       "</table>\n",
       "</div>"
      ],
      "text/plain": [
       "                    id   q1_hash   q2_hash   q1_freq   q2_freq  is_duplicate\n",
       "id            1.000000  0.692730  0.286969 -0.001608 -0.000777     -0.008784\n",
       "q1_hash       0.692730  1.000000  0.492993 -0.341777 -0.202545     -0.206498\n",
       "q2_hash       0.286969  0.492993  1.000000 -0.392605 -0.466434     -0.349626\n",
       "q1_freq      -0.001608 -0.341777 -0.392605  1.000000  0.494315      0.296621\n",
       "q2_freq      -0.000777 -0.202545 -0.466434  0.494315  1.000000      0.198609\n",
       "is_duplicate -0.008784 -0.206498 -0.349626  0.296621  0.198609      1.000000"
      ]
     },
     "execution_count": 40,
     "metadata": {},
     "output_type": "execute_result"
    }
   ],
   "source": [
    "corr_mat = train_comb.corr()\n",
    "corr_mat"
   ]
  },
  {
   "cell_type": "code",
   "execution_count": null,
   "metadata": {
    "collapsed": true
   },
   "outputs": [],
   "source": []
  }
 ],
 "metadata": {
  "kernelspec": {
   "display_name": "Python 2",
   "language": "python",
   "name": "python2"
  },
  "language_info": {
   "codemirror_mode": {
    "name": "ipython",
    "version": 2
   },
   "file_extension": ".py",
   "mimetype": "text/x-python",
   "name": "python",
   "nbconvert_exporter": "python",
   "pygments_lexer": "ipython2",
   "version": "2.7.13"
  }
 },
 "nbformat": 4,
 "nbformat_minor": 0
}
