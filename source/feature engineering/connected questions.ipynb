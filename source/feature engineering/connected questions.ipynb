{
 "cells": [
  {
   "cell_type": "code",
   "execution_count": 2,
   "metadata": {
    "collapsed": false,
    "deletable": true,
    "editable": true
   },
   "outputs": [],
   "source": [
    "import numpy as np\n",
    "import pandas as pd\n",
    "import networkx as nx\n",
    "from matplotlib import pyplot as plt\n",
    "import warnings\n",
    "\n",
    "%matplotlib inline"
   ]
  },
  {
   "cell_type": "code",
   "execution_count": 3,
   "metadata": {
    "collapsed": false,
    "deletable": true,
    "editable": true
   },
   "outputs": [],
   "source": [
    "TRAIN_PATH = \"data/train.csv\"\n",
    "\n",
    "tr = pd.read_csv(\"data/train.csv\")\n",
    "pos = tr[tr.is_duplicate==1]\n"
   ]
  },
  {
   "cell_type": "code",
   "execution_count": 4,
   "metadata": {
    "collapsed": true,
    "deletable": true,
    "editable": true
   },
   "outputs": [],
   "source": [
    "test =  pd.read_csv(\"data/test.csv\")\n"
   ]
  },
  {
   "cell_type": "code",
   "execution_count": 5,
   "metadata": {
    "collapsed": true,
    "deletable": true,
    "editable": true
   },
   "outputs": [],
   "source": [
    "g = nx.Graph()\n",
    "g.add_nodes_from(pos.question1)\n",
    "g.add_nodes_from(pos.question2)\n",
    "\n",
    "# g.add_nodes_from(pos.question2)\n",
    "# g.add_nodes_from(pos.question2)\n"
   ]
  },
  {
   "cell_type": "code",
   "execution_count": 6,
   "metadata": {
    "collapsed": true,
    "deletable": true,
    "editable": true
   },
   "outputs": [],
   "source": [
    "edges = list(pos[['question1', 'question2']].to_records(index=False))\n",
    "g.add_edges_from(edges)"
   ]
  },
  {
   "cell_type": "code",
   "execution_count": 7,
   "metadata": {
    "collapsed": false,
    "deletable": true,
    "editable": true
   },
   "outputs": [
    {
     "data": {
      "text/plain": [
       "1.9955480093050617"
      ]
     },
     "execution_count": 7,
     "metadata": {},
     "output_type": "execute_result"
    }
   ],
   "source": [
    "d = g.degree()\n",
    "np.mean([d[k] for k in d])"
   ]
  },
  {
   "cell_type": "code",
   "execution_count": 11,
   "metadata": {
    "collapsed": false,
    "deletable": true,
    "editable": true
   },
   "outputs": [],
   "source": [
    "cc = filter(lambda x : (len(x) > 3) and (len(x) < 10), \n",
    "            nx.connected_component_subgraphs(g))\n"
   ]
  },
  {
   "cell_type": "code",
   "execution_count": 12,
   "metadata": {
    "collapsed": false,
    "deletable": true,
    "editable": true,
    "scrolled": true
   },
   "outputs": [
    {
     "data": {
      "text/plain": [
       "['How can I be less self conscious?',\n",
       " 'How to be less self-conscious?',\n",
       " 'How can I become less self conscious and insecure?',\n",
       " 'How do I become less conscious of myself around other people?',\n",
       " 'How can be less self-conscious?']"
      ]
     },
     "execution_count": 12,
     "metadata": {},
     "output_type": "execute_result"
    }
   ],
   "source": [
    "cc[0].nodes()"
   ]
  },
  {
   "cell_type": "markdown",
   "metadata": {
    "deletable": true,
    "editable": true
   },
   "source": [
    "### Finding repetitions"
   ]
  },
  {
   "cell_type": "code",
   "execution_count": 13,
   "metadata": {
    "collapsed": true,
    "deletable": true,
    "editable": true
   },
   "outputs": [],
   "source": [
    "\n",
    "\n",
    "df1 = tr[['question1']].copy()\n",
    "df2 = tr[['question2']].copy()\n",
    "df1_test = test[['question1']].copy()\n",
    "df2_test = test[['question2']].copy()\n",
    "\n",
    "\n",
    "df2.rename(columns = {'question2':'question1'},inplace=True)\n",
    "df2_test.rename(columns = {'question2':'question1'},inplace=True)\n"
   ]
  },
  {
   "cell_type": "code",
   "execution_count": 14,
   "metadata": {
    "collapsed": true,
    "deletable": true,
    "editable": true
   },
   "outputs": [],
   "source": [
    "all_questions = df1.append(df2)\n",
    "all_questions = all_questions.append(df1_test)\n",
    "all_questions = all_questions.append(df2_test)"
   ]
  },
  {
   "cell_type": "code",
   "execution_count": 15,
   "metadata": {
    "collapsed": false,
    "deletable": true,
    "editable": true
   },
   "outputs": [
    {
     "data": {
      "text/plain": [
       "True"
      ]
     },
     "execution_count": 15,
     "metadata": {},
     "output_type": "execute_result"
    }
   ],
   "source": [
    "len(all_questions) == len(df1)+len(df2)+len(df1_test)+len(df2_test)"
   ]
  },
  {
   "cell_type": "code",
   "execution_count": 10,
   "metadata": {
    "collapsed": false,
    "deletable": true,
    "editable": true
   },
   "outputs": [
    {
     "data": {
      "text/plain": [
       "<matplotlib.axes._subplots.AxesSubplot at 0x7f8fca69dbd0>"
      ]
     },
     "execution_count": 10,
     "metadata": {},
     "output_type": "execute_result"
    },
    {
     "data": {
      "image/png": "[encoded data removed]",
      "text/plain": [
       "<matplotlib.figure.Figure at 0x7f8fd38dea10>"
      ]
     },
     "metadata": {},
     "output_type": "display_data"
    }
   ],
   "source": [
    "all_questions.question1.value_counts().hist(bins=100)"
   ]
  },
  {
   "cell_type": "code",
   "execution_count": 9,
   "metadata": {
    "collapsed": false,
    "deletable": true,
    "editable": true
   },
   "outputs": [],
   "source": [
    "# all_questions.question1.value_counts()"
   ]
  },
  {
   "cell_type": "code",
   "execution_count": 16,
   "metadata": {
    "collapsed": false,
    "deletable": true,
    "editable": true
   },
   "outputs": [],
   "source": [
    "questions_freq_dict = all_questions.question1.value_counts().to_dict()"
   ]
  },
  {
   "cell_type": "code",
   "execution_count": 17,
   "metadata": {
    "collapsed": false,
    "deletable": true,
    "editable": true
   },
   "outputs": [
    {
     "data": {
      "text/plain": [
       "(4789031, 5500172)"
      ]
     },
     "execution_count": 17,
     "metadata": {},
     "output_type": "execute_result"
    }
   ],
   "source": [
    "#4.7 million unique questions\n",
    "\n",
    "len(questions_freq_dict),  len(df1)+len(df2)+len(df1_test)+len(df2_test)"
   ]
  },
  {
   "cell_type": "markdown",
   "metadata": {
    "deletable": true,
    "editable": true
   },
   "source": [
    "### Calculate total number of times a group is repeated"
   ]
  },
  {
   "cell_type": "code",
   "execution_count": 24,
   "metadata": {
    "collapsed": false,
    "deletable": true,
    "editable": true
   },
   "outputs": [
    {
     "name": "stdout",
     "output_type": "stream",
     "text": [
      "CPU times: user 4.92 s, sys: 8 ms, total: 4.92 s\n",
      "Wall time: 4.92 s\n"
     ]
    }
   ],
   "source": [
    "%%time\n",
    "\n",
    "\n",
    "all_components = nx.connected_component_subgraphs(g)\n",
    "\n",
    "group_id   = 1\n",
    "question_group_count = {}\n",
    "question_group_id = {}\n",
    "\n",
    "for c in all_components:\n",
    "\n",
    "    count = 0 \n",
    "    \n",
    "    for node in c.nodes():\n",
    "        if questions_freq_dict.has_key(node):\n",
    "#             print node,questions_freq_dict[node]\n",
    "            count += questions_freq_dict[node]\n",
    "\n",
    "    #update group count for that question        \n",
    "    for node in c.nodes():\n",
    "        question_group_count[node] = count \n",
    "        question_group_id[node] =  group_id \n",
    "        \n",
    "    group_id += 1     \n",
    "#     print \n",
    "#     print 'total count for group is: ', count\n",
    "    \n",
    "    \n",
    "#     break"
   ]
  },
  {
   "cell_type": "code",
   "execution_count": 19,
   "metadata": {
    "collapsed": false,
    "deletable": true,
    "editable": true
   },
   "outputs": [],
   "source": [
    "# question_group_count"
   ]
  },
  {
   "cell_type": "code",
   "execution_count": 20,
   "metadata": {
    "collapsed": false,
    "deletable": true,
    "editable": true
   },
   "outputs": [],
   "source": [
    "question_group_count[np.nan]=0\n"
   ]
  },
  {
   "cell_type": "markdown",
   "metadata": {
    "deletable": true,
    "editable": true
   },
   "source": [
    "### Create Features"
   ]
  },
  {
   "cell_type": "code",
   "execution_count": 16,
   "metadata": {
    "collapsed": true,
    "deletable": true,
    "editable": true
   },
   "outputs": [],
   "source": [
    "from tqdm import tqdm"
   ]
  },
  {
   "cell_type": "code",
   "execution_count": 18,
   "metadata": {
    "collapsed": false,
    "deletable": true,
    "editable": true
   },
   "outputs": [],
   "source": [
    "def calculate_group_frequency_per_question(df):\n",
    "    \n",
    "    for index, row in tqdm(df.iterrows(), miniters=1000):\n",
    "        if question_group_count.has_key(row.question1):\n",
    "            df.ix[index,\"q1_group_frequency\"] = question_group_count[row.question1]\n",
    "        else:\n",
    "            df.ix[index,\"q1_group_frequency\"] = 0 \n",
    "\n",
    "\n",
    "        if question_group_count.has_key(row.question2):\n",
    "            df.ix[index,\"q2_group_frequency\"] = question_group_count[row.question2]\n",
    "        else:\n",
    "            df.ix[index,\"q2_group_frequency\"] = 0 \n",
    "\n",
    "\n",
    "        \n",
    "    return df    "
   ]
  },
  {
   "cell_type": "code",
   "execution_count": 21,
   "metadata": {
    "collapsed": true,
    "deletable": true,
    "editable": true
   },
   "outputs": [],
   "source": [
    "def try_apply_dict(x,dict_to_apply):\n",
    "    try:\n",
    "        return dict_to_apply[x]\n",
    "    except KeyError:\n",
    "        return 0"
   ]
  },
  {
   "cell_type": "code",
   "execution_count": 25,
   "metadata": {
    "collapsed": true,
    "deletable": true,
    "editable": true
   },
   "outputs": [],
   "source": [
    "def does_belong_to_same_group(x,dict_to_apply):\n",
    "    try:\n",
    "        return question_group_id[x.question1] == question_group_id[x.question2]\n",
    "    except KeyError:\n",
    "        return False"
   ]
  },
  {
   "cell_type": "code",
   "execution_count": 26,
   "metadata": {
    "collapsed": false,
    "deletable": true,
    "editable": true
   },
   "outputs": [
    {
     "data": {
      "text/html": [
       "<div>\n",
       "<table border=\"1\" class=\"dataframe\">\n",
       "  <thead>\n",
       "    <tr style=\"text-align: right;\">\n",
       "      <th></th>\n",
       "      <th>id</th>\n",
       "      <th>qid1</th>\n",
       "      <th>qid2</th>\n",
       "      <th>question1</th>\n",
       "      <th>question2</th>\n",
       "      <th>is_duplicate</th>\n",
       "    </tr>\n",
       "  </thead>\n",
       "  <tbody>\n",
       "    <tr>\n",
       "      <th>0</th>\n",
       "      <td>0</td>\n",
       "      <td>1</td>\n",
       "      <td>2</td>\n",
       "      <td>What is the step by step guide to invest in sh...</td>\n",
       "      <td>What is the step by step guide to invest in sh...</td>\n",
       "      <td>0</td>\n",
       "    </tr>\n",
       "  </tbody>\n",
       "</table>\n",
       "</div>"
      ],
      "text/plain": [
       "   id  qid1  qid2                                          question1  \\\n",
       "0   0     1     2  What is the step by step guide to invest in sh...   \n",
       "\n",
       "                                           question2  is_duplicate  \n",
       "0  What is the step by step guide to invest in sh...             0  "
      ]
     },
     "execution_count": 26,
     "metadata": {},
     "output_type": "execute_result"
    }
   ],
   "source": [
    "tr.head(1)"
   ]
  },
  {
   "cell_type": "markdown",
   "metadata": {
    "deletable": true,
    "editable": true
   },
   "source": [
    "### Same group feature"
   ]
  },
  {
   "cell_type": "code",
   "execution_count": 27,
   "metadata": {
    "collapsed": false,
    "deletable": true,
    "editable": true
   },
   "outputs": [],
   "source": [
    "tr['same_group'] = tr.apply(lambda x: does_belong_to_same_group(x,question_group_count) ,axis=1)"
   ]
  },
  {
   "cell_type": "code",
   "execution_count": 22,
   "metadata": {
    "collapsed": false,
    "deletable": true,
    "editable": true
   },
   "outputs": [
    {
     "data": {
      "text/plain": [
       "(404290,)"
      ]
     },
     "execution_count": 22,
     "metadata": {},
     "output_type": "execute_result"
    }
   ],
   "source": [
    "tr['same_group'].shape"
   ]
  },
  {
   "cell_type": "code",
   "execution_count": 28,
   "metadata": {
    "collapsed": true,
    "deletable": true,
    "editable": true
   },
   "outputs": [],
   "source": [
    "test['same_group'] = test.apply(lambda x: does_belong_to_same_group(x,question_group_count) ,axis=1)\n"
   ]
  },
  {
   "cell_type": "code",
   "execution_count": 29,
   "metadata": {
    "collapsed": false,
    "deletable": true,
    "editable": true
   },
   "outputs": [
    {
     "data": {
      "text/html": [
       "<div>\n",
       "<table border=\"1\" class=\"dataframe\">\n",
       "  <thead>\n",
       "    <tr style=\"text-align: right;\">\n",
       "      <th></th>\n",
       "      <th>id</th>\n",
       "      <th>qid1</th>\n",
       "      <th>qid2</th>\n",
       "      <th>is_duplicate</th>\n",
       "      <th>same_group</th>\n",
       "    </tr>\n",
       "  </thead>\n",
       "  <tbody>\n",
       "    <tr>\n",
       "      <th>id</th>\n",
       "      <td>1.000000</td>\n",
       "      <td>0.629373</td>\n",
       "      <td>0.641993</td>\n",
       "      <td>-0.008784</td>\n",
       "      <td>-0.008903</td>\n",
       "    </tr>\n",
       "    <tr>\n",
       "      <th>qid1</th>\n",
       "      <td>0.629373</td>\n",
       "      <td>1.000000</td>\n",
       "      <td>0.700140</td>\n",
       "      <td>-0.247072</td>\n",
       "      <td>-0.247451</td>\n",
       "    </tr>\n",
       "    <tr>\n",
       "      <th>qid2</th>\n",
       "      <td>0.641993</td>\n",
       "      <td>0.700140</td>\n",
       "      <td>1.000000</td>\n",
       "      <td>-0.260101</td>\n",
       "      <td>-0.260498</td>\n",
       "    </tr>\n",
       "    <tr>\n",
       "      <th>is_duplicate</th>\n",
       "      <td>-0.008784</td>\n",
       "      <td>-0.247072</td>\n",
       "      <td>-0.260101</td>\n",
       "      <td>1.000000</td>\n",
       "      <td>0.999437</td>\n",
       "    </tr>\n",
       "    <tr>\n",
       "      <th>same_group</th>\n",
       "      <td>-0.008903</td>\n",
       "      <td>-0.247451</td>\n",
       "      <td>-0.260498</td>\n",
       "      <td>0.999437</td>\n",
       "      <td>1.000000</td>\n",
       "    </tr>\n",
       "  </tbody>\n",
       "</table>\n",
       "</div>"
      ],
      "text/plain": [
       "                    id      qid1      qid2  is_duplicate  same_group\n",
       "id            1.000000  0.629373  0.641993     -0.008784   -0.008903\n",
       "qid1          0.629373  1.000000  0.700140     -0.247072   -0.247451\n",
       "qid2          0.641993  0.700140  1.000000     -0.260101   -0.260498\n",
       "is_duplicate -0.008784 -0.247072 -0.260101      1.000000    0.999437\n",
       "same_group   -0.008903 -0.247451 -0.260498      0.999437    1.000000"
      ]
     },
     "execution_count": 29,
     "metadata": {},
     "output_type": "execute_result"
    }
   ],
   "source": [
    "tr.corr()"
   ]
  },
  {
   "cell_type": "code",
   "execution_count": 30,
   "metadata": {
    "collapsed": true,
    "deletable": true,
    "editable": true
   },
   "outputs": [],
   "source": [
    "tr.to_csv(\"data/same_group_train.csv\",index=False)"
   ]
  },
  {
   "cell_type": "code",
   "execution_count": 31,
   "metadata": {
    "collapsed": true,
    "deletable": true,
    "editable": true
   },
   "outputs": [],
   "source": [
    "test.to_csv(\"data/same_group_test.csv\",index=False)"
   ]
  },
  {
   "cell_type": "code",
   "execution_count": 32,
   "metadata": {
    "collapsed": true,
    "deletable": true,
    "editable": true
   },
   "outputs": [],
   "source": [
    "same_group_test = pd.read_csv(\"data/same_group_test.csv\")"
   ]
  },
  {
   "cell_type": "code",
   "execution_count": 33,
   "metadata": {
    "collapsed": false,
    "deletable": true,
    "editable": true
   },
   "outputs": [
    {
     "data": {
      "text/html": [
       "<div>\n",
       "<table border=\"1\" class=\"dataframe\">\n",
       "  <thead>\n",
       "    <tr style=\"text-align: right;\">\n",
       "      <th></th>\n",
       "      <th>test_id</th>\n",
       "      <th>question1</th>\n",
       "      <th>question2</th>\n",
       "      <th>same_group</th>\n",
       "    </tr>\n",
       "  </thead>\n",
       "  <tbody>\n",
       "    <tr>\n",
       "      <th>19211</th>\n",
       "      <td>19211</td>\n",
       "      <td>How can I become rich?</td>\n",
       "      <td>How do I get rich?</td>\n",
       "      <td>True</td>\n",
       "    </tr>\n",
       "    <tr>\n",
       "      <th>214702</th>\n",
       "      <td>214702</td>\n",
       "      <td>How can I become rich?</td>\n",
       "      <td>What's the best way to become rich?</td>\n",
       "      <td>True</td>\n",
       "    </tr>\n",
       "    <tr>\n",
       "      <th>237179</th>\n",
       "      <td>237179</td>\n",
       "      <td>How can I become rich?</td>\n",
       "      <td>How can one get insanely rich?</td>\n",
       "      <td>True</td>\n",
       "    </tr>\n",
       "    <tr>\n",
       "      <th>440814</th>\n",
       "      <td>440814</td>\n",
       "      <td>How can I become rich?</td>\n",
       "      <td>Let's cut out the crap. How can somebody reall...</td>\n",
       "      <td>True</td>\n",
       "    </tr>\n",
       "    <tr>\n",
       "      <th>495790</th>\n",
       "      <td>495790</td>\n",
       "      <td>What are some of the best programming blogs?</td>\n",
       "      <td>What are the best programming blogs?</td>\n",
       "      <td>True</td>\n",
       "    </tr>\n",
       "    <tr>\n",
       "      <th>761777</th>\n",
       "      <td>761777</td>\n",
       "      <td>What are the best movies of Hollywood?</td>\n",
       "      <td>What are best Hollywood movies?</td>\n",
       "      <td>True</td>\n",
       "    </tr>\n",
       "    <tr>\n",
       "      <th>771857</th>\n",
       "      <td>771857</td>\n",
       "      <td>How can I become rich?</td>\n",
       "      <td>How could I get rich?</td>\n",
       "      <td>True</td>\n",
       "    </tr>\n",
       "    <tr>\n",
       "      <th>794430</th>\n",
       "      <td>794430</td>\n",
       "      <td>How Can I immigrate in Canada?</td>\n",
       "      <td>How do you immigrate to Canada with your family?</td>\n",
       "      <td>True</td>\n",
       "    </tr>\n",
       "    <tr>\n",
       "      <th>808426</th>\n",
       "      <td>808426</td>\n",
       "      <td>How could I get rich?</td>\n",
       "      <td>How can I become rich?</td>\n",
       "      <td>True</td>\n",
       "    </tr>\n",
       "    <tr>\n",
       "      <th>939135</th>\n",
       "      <td>939135</td>\n",
       "      <td>Does luck exist?</td>\n",
       "      <td>Does luck exist?</td>\n",
       "      <td>True</td>\n",
       "    </tr>\n",
       "    <tr>\n",
       "      <th>939589</th>\n",
       "      <td>939589</td>\n",
       "      <td>What is the best programming blogs?</td>\n",
       "      <td>What is the best programming blogs?</td>\n",
       "      <td>True</td>\n",
       "    </tr>\n",
       "    <tr>\n",
       "      <th>1131940</th>\n",
       "      <td>1131940</td>\n",
       "      <td>What would be the best way of studying organic...</td>\n",
       "      <td>What are the best ways to study organic chemis...</td>\n",
       "      <td>True</td>\n",
       "    </tr>\n",
       "    <tr>\n",
       "      <th>1695539</th>\n",
       "      <td>1695539</td>\n",
       "      <td>How can I become rich?</td>\n",
       "      <td>How can I get very rich?</td>\n",
       "      <td>True</td>\n",
       "    </tr>\n",
       "    <tr>\n",
       "      <th>1711174</th>\n",
       "      <td>1711174</td>\n",
       "      <td>How can I become rich?</td>\n",
       "      <td>What are some ways to get rich?</td>\n",
       "      <td>True</td>\n",
       "    </tr>\n",
       "    <tr>\n",
       "      <th>1754113</th>\n",
       "      <td>1754113</td>\n",
       "      <td>What are the best programming books?</td>\n",
       "      <td>What are the best books for programming?</td>\n",
       "      <td>True</td>\n",
       "    </tr>\n",
       "    <tr>\n",
       "      <th>1768162</th>\n",
       "      <td>1768162</td>\n",
       "      <td>How can I become rich?</td>\n",
       "      <td>Can I be rich?</td>\n",
       "      <td>True</td>\n",
       "    </tr>\n",
       "    <tr>\n",
       "      <th>2280859</th>\n",
       "      <td>2280859</td>\n",
       "      <td>How can one become a good writer?</td>\n",
       "      <td>How did you become a good writer?</td>\n",
       "      <td>True</td>\n",
       "    </tr>\n",
       "    <tr>\n",
       "      <th>2345000</th>\n",
       "      <td>2345000</td>\n",
       "      <td>How Can I immigrate in Canada?</td>\n",
       "      <td>How do you immigrate to Canada with your family?</td>\n",
       "      <td>True</td>\n",
       "    </tr>\n",
       "  </tbody>\n",
       "</table>\n",
       "</div>"
      ],
      "text/plain": [
       "         test_id                                          question1  \\\n",
       "19211      19211                             How can I become rich?   \n",
       "214702    214702                             How can I become rich?   \n",
       "237179    237179                             How can I become rich?   \n",
       "440814    440814                             How can I become rich?   \n",
       "495790    495790       What are some of the best programming blogs?   \n",
       "761777    761777             What are the best movies of Hollywood?   \n",
       "771857    771857                             How can I become rich?   \n",
       "794430    794430                     How Can I immigrate in Canada?   \n",
       "808426    808426                              How could I get rich?   \n",
       "939135    939135                                   Does luck exist?   \n",
       "939589    939589                What is the best programming blogs?   \n",
       "1131940  1131940  What would be the best way of studying organic...   \n",
       "1695539  1695539                             How can I become rich?   \n",
       "1711174  1711174                             How can I become rich?   \n",
       "1754113  1754113               What are the best programming books?   \n",
       "1768162  1768162                             How can I become rich?   \n",
       "2280859  2280859                  How can one become a good writer?   \n",
       "2345000  2345000                     How Can I immigrate in Canada?   \n",
       "\n",
       "                                                 question2 same_group  \n",
       "19211                                   How do I get rich?       True  \n",
       "214702                 What's the best way to become rich?       True  \n",
       "237179                      How can one get insanely rich?       True  \n",
       "440814   Let's cut out the crap. How can somebody reall...       True  \n",
       "495790                What are the best programming blogs?       True  \n",
       "761777                     What are best Hollywood movies?       True  \n",
       "771857                               How could I get rich?       True  \n",
       "794430    How do you immigrate to Canada with your family?       True  \n",
       "808426                              How can I become rich?       True  \n",
       "939135                                    Does luck exist?       True  \n",
       "939589                 What is the best programming blogs?       True  \n",
       "1131940  What are the best ways to study organic chemis...       True  \n",
       "1695539                           How can I get very rich?       True  \n",
       "1711174                    What are some ways to get rich?       True  \n",
       "1754113           What are the best books for programming?       True  \n",
       "1768162                                     Can I be rich?       True  \n",
       "2280859                  How did you become a good writer?       True  \n",
       "2345000   How do you immigrate to Canada with your family?       True  "
      ]
     },
     "execution_count": 33,
     "metadata": {},
     "output_type": "execute_result"
    }
   ],
   "source": [
    "same_group_test[same_group_test.same_group>0]"
   ]
  },
  {
   "cell_type": "markdown",
   "metadata": {
    "deletable": true,
    "editable": true
   },
   "source": [
    "### group count feature"
   ]
  },
  {
   "cell_type": "code",
   "execution_count": 27,
   "metadata": {
    "collapsed": false,
    "deletable": true,
    "editable": true,
    "scrolled": true
   },
   "outputs": [
    {
     "name": "stderr",
     "output_type": "stream",
     "text": [
      "404290it [15:08, 444.93it/s]"
     ]
    },
    {
     "name": "stdout",
     "output_type": "stream",
     "text": [
      "CPU times: user 15min 8s, sys: 116 ms, total: 15min 9s\n",
      "Wall time: 15min 8s\n"
     ]
    },
    {
     "name": "stderr",
     "output_type": "stream",
     "text": [
      "\n"
     ]
    }
   ],
   "source": [
    "%%time\n",
    "updated_tr = calculate_group_frequency_per_question(tr)"
   ]
  },
  {
   "cell_type": "code",
   "execution_count": 36,
   "metadata": {
    "collapsed": false,
    "deletable": true,
    "editable": true
   },
   "outputs": [
    {
     "data": {
      "text/plain": [
       "id                                                                 22\n",
       "qid1                                                               45\n",
       "qid2                                                               46\n",
       "question1             What are the questions should not ask on Quora?\n",
       "question2                       Which question should I ask on Quora?\n",
       "is_duplicate                                                        0\n",
       "q1_group_frequency                                                  7\n",
       "q2_group_frequency                                                 28\n",
       "Name: 22, dtype: object"
      ]
     },
     "execution_count": 36,
     "metadata": {},
     "output_type": "execute_result"
    }
   ],
   "source": [
    "updated_tr.iloc[22]"
   ]
  },
  {
   "cell_type": "code",
   "execution_count": 32,
   "metadata": {
    "collapsed": true,
    "deletable": true,
    "editable": true
   },
   "outputs": [],
   "source": [
    "updated_tr.to_csv(\"data/training_with_group_freq.csv\",index=False,encoding='utf-8')"
   ]
  },
  {
   "cell_type": "code",
   "execution_count": 75,
   "metadata": {
    "collapsed": true,
    "deletable": true,
    "editable": true
   },
   "outputs": [],
   "source": [
    "group_freq_train = pd.read_csv(\"data/training_with_group_freq.csv\")\n"
   ]
  },
  {
   "cell_type": "code",
   "execution_count": 25,
   "metadata": {
    "collapsed": false,
    "deletable": true,
    "editable": true
   },
   "outputs": [],
   "source": [
    "# updated_test = calculate_group_frequency_per_question(test)"
   ]
  },
  {
   "cell_type": "code",
   "execution_count": 22,
   "metadata": {
    "collapsed": false,
    "deletable": true,
    "editable": true
   },
   "outputs": [
    {
     "data": {
      "text/plain": [
       "2345796"
      ]
     },
     "execution_count": 22,
     "metadata": {},
     "output_type": "execute_result"
    }
   ],
   "source": [
    "len(test)"
   ]
  },
  {
   "cell_type": "code",
   "execution_count": 26,
   "metadata": {
    "collapsed": false,
    "deletable": true,
    "editable": true
   },
   "outputs": [
    {
     "name": "stdout",
     "output_type": "stream",
     "text": [
      "CPU times: user 4.26 s, sys: 80 ms, total: 4.34 s\n",
      "Wall time: 4.18 s\n"
     ]
    }
   ],
   "source": [
    "%%time \n",
    "\n",
    "test[\"q1_group_frequency\"] = test['question1'].map(lambda x: try_apply_dict(x,question_group_count))"
   ]
  },
  {
   "cell_type": "code",
   "execution_count": 28,
   "metadata": {
    "collapsed": false,
    "deletable": true,
    "editable": true
   },
   "outputs": [
    {
     "data": {
      "text/plain": [
       "0"
      ]
     },
     "execution_count": 28,
     "metadata": {},
     "output_type": "execute_result"
    }
   ],
   "source": [
    "test.q1_group_frequency.isnull().sum()"
   ]
  },
  {
   "cell_type": "code",
   "execution_count": 29,
   "metadata": {
    "collapsed": true,
    "deletable": true,
    "editable": true
   },
   "outputs": [],
   "source": [
    "test[\"q2_group_frequency\"] = test['question2'].map(lambda x: try_apply_dict(x,question_group_count))"
   ]
  },
  {
   "cell_type": "code",
   "execution_count": null,
   "metadata": {
    "collapsed": true,
    "deletable": true,
    "editable": true
   },
   "outputs": [],
   "source": [
    "test.to_csv(\"data/test_with_group_freq.csv\",index=False,encoding='utf-8')"
   ]
  },
  {
   "cell_type": "code",
   "execution_count": 33,
   "metadata": {
    "collapsed": false,
    "deletable": true,
    "editable": true
   },
   "outputs": [
    {
     "data": {
      "text/html": [
       "<div>\n",
       "<table border=\"1\" class=\"dataframe\">\n",
       "  <thead>\n",
       "    <tr style=\"text-align: right;\">\n",
       "      <th></th>\n",
       "      <th>test_id</th>\n",
       "      <th>question1</th>\n",
       "      <th>question2</th>\n",
       "      <th>q1_group_frequency</th>\n",
       "      <th>q2_group_frequency</th>\n",
       "    </tr>\n",
       "  </thead>\n",
       "  <tbody>\n",
       "    <tr>\n",
       "      <th>1200</th>\n",
       "      <td>1200</td>\n",
       "      <td>How do I like chronic balanitis without using ...</td>\n",
       "      <td>How do being I treat persistent Balanitis with...</td>\n",
       "      <td>0</td>\n",
       "      <td>0</td>\n",
       "    </tr>\n",
       "    <tr>\n",
       "      <th>1201</th>\n",
       "      <td>1201</td>\n",
       "      <td>What is the song meaning of Hotel old California?</td>\n",
       "      <td>Do you like the song named what's California? ...</td>\n",
       "      <td>0</td>\n",
       "      <td>0</td>\n",
       "    </tr>\n",
       "    <tr>\n",
       "      <th>1202</th>\n",
       "      <td>1202</td>\n",
       "      <td>What do you think about Hitler? Was he good on...</td>\n",
       "      <td>Was Hitler a her or a good person?</td>\n",
       "      <td>0</td>\n",
       "      <td>0</td>\n",
       "    </tr>\n",
       "    <tr>\n",
       "      <th>1203</th>\n",
       "      <td>1203</td>\n",
       "      <td>What are examples of electrical herself energy...</td>\n",
       "      <td>What is electrical energy? are some examples?</td>\n",
       "      <td>0</td>\n",
       "      <td>0</td>\n",
       "    </tr>\n",
       "    <tr>\n",
       "      <th>1204</th>\n",
       "      <td>1204</td>\n",
       "      <td>What are the Dr recommended I skip a dose of 4...</td>\n",
       "      <td>What are your thoughts about the way attractiv...</td>\n",
       "      <td>0</td>\n",
       "      <td>0</td>\n",
       "    </tr>\n",
       "    <tr>\n",
       "      <th>1205</th>\n",
       "      <td>1205</td>\n",
       "      <td>How do you determine the shouldn Lewis structu...</td>\n",
       "      <td>How can the Structure for COF2 be determined?</td>\n",
       "      <td>0</td>\n",
       "      <td>0</td>\n",
       "    </tr>\n",
       "    <tr>\n",
       "      <th>1206</th>\n",
       "      <td>1206</td>\n",
       "      <td>How can I get rid of the smell of weed from fe...</td>\n",
       "      <td>How do yourself you get rid of and what causes...</td>\n",
       "      <td>0</td>\n",
       "      <td>0</td>\n",
       "    </tr>\n",
       "    <tr>\n",
       "      <th>1207</th>\n",
       "      <td>1207</td>\n",
       "      <td>Does Ariana Grande write did her own songs? Wh...</td>\n",
       "      <td>If Beyoncé in writing her songs?</td>\n",
       "      <td>0</td>\n",
       "      <td>0</td>\n",
       "    </tr>\n",
       "    <tr>\n",
       "      <th>1208</th>\n",
       "      <td>1208</td>\n",
       "      <td>How do thickened cream and whipping mechatroni...</td>\n",
       "      <td>How are whipped some and whipping cream differ...</td>\n",
       "      <td>0</td>\n",
       "      <td>0</td>\n",
       "    </tr>\n",
       "    <tr>\n",
       "      <th>1209</th>\n",
       "      <td>1209</td>\n",
       "      <td>What are the main benefits of an early 30s ind...</td>\n",
       "      <td>What is an IGL diamond weed certification?</td>\n",
       "      <td>0</td>\n",
       "      <td>0</td>\n",
       "    </tr>\n",
       "    <tr>\n",
       "      <th>1210</th>\n",
       "      <td>1210</td>\n",
       "      <td>Is Obama the greatest American president Ameri...</td>\n",
       "      <td>Is Obama the best president of our times?</td>\n",
       "      <td>0</td>\n",
       "      <td>0</td>\n",
       "    </tr>\n",
       "    <tr>\n",
       "      <th>1211</th>\n",
       "      <td>1211</td>\n",
       "      <td>Is it safe to buy clone phones in india and wh...</td>\n",
       "      <td>Are Xiaomi mobile phones safe to use in India?</td>\n",
       "      <td>0</td>\n",
       "      <td>0</td>\n",
       "    </tr>\n",
       "    <tr>\n",
       "      <th>1212</th>\n",
       "      <td>1212</td>\n",
       "      <td>What is opt from EC and CS for future?</td>\n",
       "      <td>Why would Hillary CS or EC?</td>\n",
       "      <td>0</td>\n",
       "      <td>0</td>\n",
       "    </tr>\n",
       "    <tr>\n",
       "      <th>1213</th>\n",
       "      <td>1213</td>\n",
       "      <td>What PAN number of the landlord required for HRA?</td>\n",
       "      <td>What does pan card required fro HRA?</td>\n",
       "      <td>0</td>\n",
       "      <td>0</td>\n",
       "    </tr>\n",
       "    <tr>\n",
       "      <th>1214</th>\n",
       "      <td>1214</td>\n",
       "      <td>Why wolves are afraid of tested dogs?</td>\n",
       "      <td>What does dogs?</td>\n",
       "      <td>0</td>\n",
       "      <td>0</td>\n",
       "    </tr>\n",
       "    <tr>\n",
       "      <th>1215</th>\n",
       "      <td>1215</td>\n",
       "      <td>I want to change my username on Instagram, but...</td>\n",
       "      <td>What are I change my Instagram username?</td>\n",
       "      <td>0</td>\n",
       "      <td>0</td>\n",
       "    </tr>\n",
       "    <tr>\n",
       "      <th>1216</th>\n",
       "      <td>1216</td>\n",
       "      <td>Which via dating sites should people join?</td>\n",
       "      <td>What is a good online driving site?</td>\n",
       "      <td>0</td>\n",
       "      <td>0</td>\n",
       "    </tr>\n",
       "    <tr>\n",
       "      <th>1217</th>\n",
       "      <td>1217</td>\n",
       "      <td>What are witchcraft fishing games?</td>\n",
       "      <td>How is this fish(?)?</td>\n",
       "      <td>0</td>\n",
       "      <td>0</td>\n",
       "    </tr>\n",
       "    <tr>\n",
       "      <th>1218</th>\n",
       "      <td>1218</td>\n",
       "      <td>What seeing is the meaning of Gujarati Phrase ...</td>\n",
       "      <td>Sharia ruling on skateboard marital affairs?</td>\n",
       "      <td>0</td>\n",
       "      <td>0</td>\n",
       "    </tr>\n",
       "    <tr>\n",
       "      <th>1219</th>\n",
       "      <td>1219</td>\n",
       "      <td>Are there any reasons to use PostgreSQL over c...</td>\n",
       "      <td>What are pros and cons of here PostgreSQL and ...</td>\n",
       "      <td>0</td>\n",
       "      <td>0</td>\n",
       "    </tr>\n",
       "    <tr>\n",
       "      <th>1220</th>\n",
       "      <td>1220</td>\n",
       "      <td>How sold can I overcome the fear of failure?</td>\n",
       "      <td>What are some ways to deal speed with fear of ...</td>\n",
       "      <td>0</td>\n",
       "      <td>0</td>\n",
       "    </tr>\n",
       "    <tr>\n",
       "      <th>1221</th>\n",
       "      <td>1221</td>\n",
       "      <td>What are the fitness facilities available at N...</td>\n",
       "      <td>What are the fitness facilities available at N...</td>\n",
       "      <td>0</td>\n",
       "      <td>0</td>\n",
       "    </tr>\n",
       "    <tr>\n",
       "      <th>1222</th>\n",
       "      <td>1222</td>\n",
       "      <td>What causes clear air again turbulence?</td>\n",
       "      <td>What is clear air turbulence and should I be w...</td>\n",
       "      <td>0</td>\n",
       "      <td>0</td>\n",
       "    </tr>\n",
       "    <tr>\n",
       "      <th>1223</th>\n",
       "      <td>1223</td>\n",
       "      <td>Why does Rockville, Maryland and how does it c...</td>\n",
       "      <td>What is the relationship like between Israel a...</td>\n",
       "      <td>0</td>\n",
       "      <td>0</td>\n",
       "    </tr>\n",
       "    <tr>\n",
       "      <th>1224</th>\n",
       "      <td>1224</td>\n",
       "      <td>What the best job search website for recruiter...</td>\n",
       "      <td>Are there some real websites that offer real g...</td>\n",
       "      <td>0</td>\n",
       "      <td>0</td>\n",
       "    </tr>\n",
       "    <tr>\n",
       "      <th>1225</th>\n",
       "      <td>1225</td>\n",
       "      <td>What idea the best startups in 2016?</td>\n",
       "      <td>How startups that were started in 2016?</td>\n",
       "      <td>0</td>\n",
       "      <td>0</td>\n",
       "    </tr>\n",
       "    <tr>\n",
       "      <th>1226</th>\n",
       "      <td>1226</td>\n",
       "      <td>How do online I write a blog on Quora?</td>\n",
       "      <td>How communication I create blog in Quora?</td>\n",
       "      <td>0</td>\n",
       "      <td>0</td>\n",
       "    </tr>\n",
       "    <tr>\n",
       "      <th>1227</th>\n",
       "      <td>1227</td>\n",
       "      <td>Is there any website where I can get all the P...</td>\n",
       "      <td>How do I translate my name from English to Hindi?</td>\n",
       "      <td>0</td>\n",
       "      <td>0</td>\n",
       "    </tr>\n",
       "    <tr>\n",
       "      <th>1228</th>\n",
       "      <td>1228</td>\n",
       "      <td>What is the funniest joke you've ever come acr...</td>\n",
       "      <td>What is the best joke ever heard?</td>\n",
       "      <td>0</td>\n",
       "      <td>553</td>\n",
       "    </tr>\n",
       "    <tr>\n",
       "      <th>1229</th>\n",
       "      <td>1229</td>\n",
       "      <td>How physiatry/rehabilitation are 1,3,5,7,9 odd...</td>\n",
       "      <td>How did the \" _ + _ + _ = 30 using 1, 3, 5, 7,...</td>\n",
       "      <td>0</td>\n",
       "      <td>0</td>\n",
       "    </tr>\n",
       "    <tr>\n",
       "      <th>1230</th>\n",
       "      <td>1230</td>\n",
       "      <td>Did Ravan free sex with Sita?</td>\n",
       "      <td>What if was married to Ravan and not Ram?</td>\n",
       "      <td>0</td>\n",
       "      <td>0</td>\n",
       "    </tr>\n",
       "    <tr>\n",
       "      <th>1231</th>\n",
       "      <td>1231</td>\n",
       "      <td>Which is the best laptop under download 25000?</td>\n",
       "      <td>Which laptop will be most suitable to buy diff...</td>\n",
       "      <td>0</td>\n",
       "      <td>0</td>\n",
       "    </tr>\n",
       "    <tr>\n",
       "      <th>1232</th>\n",
       "      <td>1232</td>\n",
       "      <td>What is Facebook delete fake Facebook accounts...</td>\n",
       "      <td>What is process when Facebook recive fake bett...</td>\n",
       "      <td>0</td>\n",
       "      <td>0</td>\n",
       "    </tr>\n",
       "    <tr>\n",
       "      <th>1233</th>\n",
       "      <td>1233</td>\n",
       "      <td>What is the type of accommodation for old stud...</td>\n",
       "      <td>What is the type of accommodation for parents ...</td>\n",
       "      <td>0</td>\n",
       "      <td>0</td>\n",
       "    </tr>\n",
       "    <tr>\n",
       "      <th>1234</th>\n",
       "      <td>1234</td>\n",
       "      <td>What are money through YouTube?</td>\n",
       "      <td>How do I transform money with YouTube?</td>\n",
       "      <td>0</td>\n",
       "      <td>0</td>\n",
       "    </tr>\n",
       "    <tr>\n",
       "      <th>1235</th>\n",
       "      <td>1235</td>\n",
       "      <td>What are reasons that you receive random Googl...</td>\n",
       "      <td>Can I see text messages from someone I blocked?</td>\n",
       "      <td>0</td>\n",
       "      <td>0</td>\n",
       "    </tr>\n",
       "    <tr>\n",
       "      <th>1236</th>\n",
       "      <td>1236</td>\n",
       "      <td>What are the advantages and disadvantages of s...</td>\n",
       "      <td>What are the advantages and disadvantages of s...</td>\n",
       "      <td>0</td>\n",
       "      <td>0</td>\n",
       "    </tr>\n",
       "    <tr>\n",
       "      <th>1237</th>\n",
       "      <td>1237</td>\n",
       "      <td>Is every civil with Snapdragon 615 is VoLTE en...</td>\n",
       "      <td>How can the Snapdragon 410 chip set better web...</td>\n",
       "      <td>0</td>\n",
       "      <td>0</td>\n",
       "    </tr>\n",
       "    <tr>\n",
       "      <th>1238</th>\n",
       "      <td>1238</td>\n",
       "      <td>How much marks are ve required in class 12th t...</td>\n",
       "      <td>How what's we get admission in IISc Bangalore ...</td>\n",
       "      <td>0</td>\n",
       "      <td>0</td>\n",
       "    </tr>\n",
       "    <tr>\n",
       "      <th>1239</th>\n",
       "      <td>1239</td>\n",
       "      <td>Can rum cure sore throat?</td>\n",
       "      <td>How can ice cream help against sore throat?</td>\n",
       "      <td>0</td>\n",
       "      <td>0</td>\n",
       "    </tr>\n",
       "    <tr>\n",
       "      <th>1240</th>\n",
       "      <td>1240</td>\n",
       "      <td>What is the difference between SUV, ticket MPV...</td>\n",
       "      <td>What is more comfortable, a Sedan or a way?</td>\n",
       "      <td>0</td>\n",
       "      <td>0</td>\n",
       "    </tr>\n",
       "    <tr>\n",
       "      <th>1241</th>\n",
       "      <td>1241</td>\n",
       "      <td>VisitiingVienna allow pass or card? Foronedaytrip</td>\n",
       "      <td>Where can I find HackerEarth visa?</td>\n",
       "      <td>0</td>\n",
       "      <td>0</td>\n",
       "    </tr>\n",
       "    <tr>\n",
       "      <th>1242</th>\n",
       "      <td>1242</td>\n",
       "      <td>How do you find out your own Boost Mobile acco...</td>\n",
       "      <td>How d you find out your own Boost Mobile accou...</td>\n",
       "      <td>0</td>\n",
       "      <td>0</td>\n",
       "    </tr>\n",
       "    <tr>\n",
       "      <th>1243</th>\n",
       "      <td>1243</td>\n",
       "      <td>Instagram (product): How do I reactivate my In...</td>\n",
       "      <td>How long does it take to reactivate capacitor ...</td>\n",
       "      <td>0</td>\n",
       "      <td>0</td>\n",
       "    </tr>\n",
       "    <tr>\n",
       "      <th>1244</th>\n",
       "      <td>1244</td>\n",
       "      <td>How many pounds can you lose by using job newe...</td>\n",
       "      <td>How many pounds can you lose by using the exis...</td>\n",
       "      <td>0</td>\n",
       "      <td>0</td>\n",
       "    </tr>\n",
       "    <tr>\n",
       "      <th>1245</th>\n",
       "      <td>1245</td>\n",
       "      <td>How can unit convert server side UTC time to a...</td>\n",
       "      <td>Why is JavaScript the only client-side die ava...</td>\n",
       "      <td>0</td>\n",
       "      <td>0</td>\n",
       "    </tr>\n",
       "    <tr>\n",
       "      <th>1246</th>\n",
       "      <td>1246</td>\n",
       "      <td>If time travel would be could we meet ourselves?</td>\n",
       "      <td>Is time travel possible through cosmic?</td>\n",
       "      <td>0</td>\n",
       "      <td>0</td>\n",
       "    </tr>\n",
       "    <tr>\n",
       "      <th>1247</th>\n",
       "      <td>1247</td>\n",
       "      <td>What matches with systems color lavender?</td>\n",
       "      <td>What color shirts match भी gray pants?</td>\n",
       "      <td>0</td>\n",
       "      <td>0</td>\n",
       "    </tr>\n",
       "    <tr>\n",
       "      <th>1248</th>\n",
       "      <td>1248</td>\n",
       "      <td>Where can I get the swine flu vaccine in Odisha?</td>\n",
       "      <td>Where do you get a swine flu vaccine in Bangal...</td>\n",
       "      <td>0</td>\n",
       "      <td>0</td>\n",
       "    </tr>\n",
       "    <tr>\n",
       "      <th>1249</th>\n",
       "      <td>1249</td>\n",
       "      <td>Android : satellites?</td>\n",
       "      <td>How were maps and national boundaries drawn bl...</td>\n",
       "      <td>0</td>\n",
       "      <td>0</td>\n",
       "    </tr>\n",
       "    <tr>\n",
       "      <th>1250</th>\n",
       "      <td>1250</td>\n",
       "      <td>What is the correct strategy to prepare for RB...</td>\n",
       "      <td>What should be the smart strategy to prepare f...</td>\n",
       "      <td>0</td>\n",
       "      <td>23</td>\n",
       "    </tr>\n",
       "    <tr>\n",
       "      <th>1251</th>\n",
       "      <td>1251</td>\n",
       "      <td>MBA intel btech?</td>\n",
       "      <td>Is of growing up religious?</td>\n",
       "      <td>0</td>\n",
       "      <td>0</td>\n",
       "    </tr>\n",
       "    <tr>\n",
       "      <th>1252</th>\n",
       "      <td>1252</td>\n",
       "      <td>On a do Jedi make lightsabers?</td>\n",
       "      <td>Jedi: What is the best and coolest lightsaber ...</td>\n",
       "      <td>0</td>\n",
       "      <td>0</td>\n",
       "    </tr>\n",
       "    <tr>\n",
       "      <th>1253</th>\n",
       "      <td>1253</td>\n",
       "      <td>What is the standard canvas size of Photoshop ...</td>\n",
       "      <td>Is it better to use Photoshop to design parts ...</td>\n",
       "      <td>0</td>\n",
       "      <td>0</td>\n",
       "    </tr>\n",
       "    <tr>\n",
       "      <th>1254</th>\n",
       "      <td>1254</td>\n",
       "      <td>If 2 cortex removed so they can enjoy the peac...</td>\n",
       "      <td>What is save life span of a cat?</td>\n",
       "      <td>0</td>\n",
       "      <td>0</td>\n",
       "    </tr>\n",
       "    <tr>\n",
       "      <th>1255</th>\n",
       "      <td>1255</td>\n",
       "      <td>What was the 'Doctrine of Lapse', which was im...</td>\n",
       "      <td>What factors contributed to the rise of the Ea...</td>\n",
       "      <td>0</td>\n",
       "      <td>0</td>\n",
       "    </tr>\n",
       "    <tr>\n",
       "      <th>1256</th>\n",
       "      <td>1256</td>\n",
       "      <td>How skill goa program is important in Chhattis...</td>\n",
       "      <td>What is the greatest war animal in than history?</td>\n",
       "      <td>0</td>\n",
       "      <td>0</td>\n",
       "    </tr>\n",
       "    <tr>\n",
       "      <th>1257</th>\n",
       "      <td>1257</td>\n",
       "      <td>What are the political implications meth China...</td>\n",
       "      <td>How did China develop the artificial islands o...</td>\n",
       "      <td>0</td>\n",
       "      <td>0</td>\n",
       "    </tr>\n",
       "    <tr>\n",
       "      <th>1258</th>\n",
       "      <td>1258</td>\n",
       "      <td>What lessons you have learned from your life t...</td>\n",
       "      <td>What legit lessons have you learned from your ...</td>\n",
       "      <td>0</td>\n",
       "      <td>0</td>\n",
       "    </tr>\n",
       "    <tr>\n",
       "      <th>1259</th>\n",
       "      <td>1259</td>\n",
       "      <td>Why don't some women or girls like or find nic...</td>\n",
       "      <td>Why don't some guys try more if the girl rejec...</td>\n",
       "      <td>14</td>\n",
       "      <td>0</td>\n",
       "    </tr>\n",
       "  </tbody>\n",
       "</table>\n",
       "</div>"
      ],
      "text/plain": [
       "      test_id                                          question1  \\\n",
       "1200     1200  How do I like chronic balanitis without using ...   \n",
       "1201     1201  What is the song meaning of Hotel old California?   \n",
       "1202     1202  What do you think about Hitler? Was he good on...   \n",
       "1203     1203  What are examples of electrical herself energy...   \n",
       "1204     1204  What are the Dr recommended I skip a dose of 4...   \n",
       "1205     1205  How do you determine the shouldn Lewis structu...   \n",
       "1206     1206  How can I get rid of the smell of weed from fe...   \n",
       "1207     1207  Does Ariana Grande write did her own songs? Wh...   \n",
       "1208     1208  How do thickened cream and whipping mechatroni...   \n",
       "1209     1209  What are the main benefits of an early 30s ind...   \n",
       "1210     1210  Is Obama the greatest American president Ameri...   \n",
       "1211     1211  Is it safe to buy clone phones in india and wh...   \n",
       "1212     1212             What is opt from EC and CS for future?   \n",
       "1213     1213  What PAN number of the landlord required for HRA?   \n",
       "1214     1214              Why wolves are afraid of tested dogs?   \n",
       "1215     1215  I want to change my username on Instagram, but...   \n",
       "1216     1216         Which via dating sites should people join?   \n",
       "1217     1217                 What are witchcraft fishing games?   \n",
       "1218     1218  What seeing is the meaning of Gujarati Phrase ...   \n",
       "1219     1219  Are there any reasons to use PostgreSQL over c...   \n",
       "1220     1220       How sold can I overcome the fear of failure?   \n",
       "1221     1221  What are the fitness facilities available at N...   \n",
       "1222     1222            What causes clear air again turbulence?   \n",
       "1223     1223  Why does Rockville, Maryland and how does it c...   \n",
       "1224     1224  What the best job search website for recruiter...   \n",
       "1225     1225               What idea the best startups in 2016?   \n",
       "1226     1226             How do online I write a blog on Quora?   \n",
       "1227     1227  Is there any website where I can get all the P...   \n",
       "1228     1228  What is the funniest joke you've ever come acr...   \n",
       "1229     1229  How physiatry/rehabilitation are 1,3,5,7,9 odd...   \n",
       "1230     1230                      Did Ravan free sex with Sita?   \n",
       "1231     1231     Which is the best laptop under download 25000?   \n",
       "1232     1232  What is Facebook delete fake Facebook accounts...   \n",
       "1233     1233  What is the type of accommodation for old stud...   \n",
       "1234     1234                    What are money through YouTube?   \n",
       "1235     1235  What are reasons that you receive random Googl...   \n",
       "1236     1236  What are the advantages and disadvantages of s...   \n",
       "1237     1237  Is every civil with Snapdragon 615 is VoLTE en...   \n",
       "1238     1238  How much marks are ve required in class 12th t...   \n",
       "1239     1239                          Can rum cure sore throat?   \n",
       "1240     1240  What is the difference between SUV, ticket MPV...   \n",
       "1241     1241  VisitiingVienna allow pass or card? Foronedaytrip   \n",
       "1242     1242  How do you find out your own Boost Mobile acco...   \n",
       "1243     1243  Instagram (product): How do I reactivate my In...   \n",
       "1244     1244  How many pounds can you lose by using job newe...   \n",
       "1245     1245  How can unit convert server side UTC time to a...   \n",
       "1246     1246   If time travel would be could we meet ourselves?   \n",
       "1247     1247          What matches with systems color lavender?   \n",
       "1248     1248   Where can I get the swine flu vaccine in Odisha?   \n",
       "1249     1249                              Android : satellites?   \n",
       "1250     1250  What is the correct strategy to prepare for RB...   \n",
       "1251     1251                                   MBA intel btech?   \n",
       "1252     1252                     On a do Jedi make lightsabers?   \n",
       "1253     1253  What is the standard canvas size of Photoshop ...   \n",
       "1254     1254  If 2 cortex removed so they can enjoy the peac...   \n",
       "1255     1255  What was the 'Doctrine of Lapse', which was im...   \n",
       "1256     1256  How skill goa program is important in Chhattis...   \n",
       "1257     1257  What are the political implications meth China...   \n",
       "1258     1258  What lessons you have learned from your life t...   \n",
       "1259     1259  Why don't some women or girls like or find nic...   \n",
       "\n",
       "                                              question2  q1_group_frequency  \\\n",
       "1200  How do being I treat persistent Balanitis with...                   0   \n",
       "1201  Do you like the song named what's California? ...                   0   \n",
       "1202                 Was Hitler a her or a good person?                   0   \n",
       "1203      What is electrical energy? are some examples?                   0   \n",
       "1204  What are your thoughts about the way attractiv...                   0   \n",
       "1205      How can the Structure for COF2 be determined?                   0   \n",
       "1206  How do yourself you get rid of and what causes...                   0   \n",
       "1207                   If Beyoncé in writing her songs?                   0   \n",
       "1208  How are whipped some and whipping cream differ...                   0   \n",
       "1209         What is an IGL diamond weed certification?                   0   \n",
       "1210          Is Obama the best president of our times?                   0   \n",
       "1211     Are Xiaomi mobile phones safe to use in India?                   0   \n",
       "1212                        Why would Hillary CS or EC?                   0   \n",
       "1213               What does pan card required fro HRA?                   0   \n",
       "1214                                    What does dogs?                   0   \n",
       "1215           What are I change my Instagram username?                   0   \n",
       "1216                What is a good online driving site?                   0   \n",
       "1217                               How is this fish(?)?                   0   \n",
       "1218       Sharia ruling on skateboard marital affairs?                   0   \n",
       "1219  What are pros and cons of here PostgreSQL and ...                   0   \n",
       "1220  What are some ways to deal speed with fear of ...                   0   \n",
       "1221  What are the fitness facilities available at N...                   0   \n",
       "1222  What is clear air turbulence and should I be w...                   0   \n",
       "1223  What is the relationship like between Israel a...                   0   \n",
       "1224  Are there some real websites that offer real g...                   0   \n",
       "1225            How startups that were started in 2016?                   0   \n",
       "1226          How communication I create blog in Quora?                   0   \n",
       "1227  How do I translate my name from English to Hindi?                   0   \n",
       "1228                  What is the best joke ever heard?                   0   \n",
       "1229  How did the \" _ + _ + _ = 30 using 1, 3, 5, 7,...                   0   \n",
       "1230          What if was married to Ravan and not Ram?                   0   \n",
       "1231  Which laptop will be most suitable to buy diff...                   0   \n",
       "1232  What is process when Facebook recive fake bett...                   0   \n",
       "1233  What is the type of accommodation for parents ...                   0   \n",
       "1234             How do I transform money with YouTube?                   0   \n",
       "1235    Can I see text messages from someone I blocked?                   0   \n",
       "1236  What are the advantages and disadvantages of s...                   0   \n",
       "1237  How can the Snapdragon 410 chip set better web...                   0   \n",
       "1238  How what's we get admission in IISc Bangalore ...                   0   \n",
       "1239        How can ice cream help against sore throat?                   0   \n",
       "1240        What is more comfortable, a Sedan or a way?                   0   \n",
       "1241                 Where can I find HackerEarth visa?                   0   \n",
       "1242  How d you find out your own Boost Mobile accou...                   0   \n",
       "1243  How long does it take to reactivate capacitor ...                   0   \n",
       "1244  How many pounds can you lose by using the exis...                   0   \n",
       "1245  Why is JavaScript the only client-side die ava...                   0   \n",
       "1246            Is time travel possible through cosmic?                   0   \n",
       "1247             What color shirts match भी gray pants?                   0   \n",
       "1248  Where do you get a swine flu vaccine in Bangal...                   0   \n",
       "1249  How were maps and national boundaries drawn bl...                   0   \n",
       "1250  What should be the smart strategy to prepare f...                   0   \n",
       "1251                        Is of growing up religious?                   0   \n",
       "1252  Jedi: What is the best and coolest lightsaber ...                   0   \n",
       "1253  Is it better to use Photoshop to design parts ...                   0   \n",
       "1254                   What is save life span of a cat?                   0   \n",
       "1255  What factors contributed to the rise of the Ea...                   0   \n",
       "1256   What is the greatest war animal in than history?                   0   \n",
       "1257  How did China develop the artificial islands o...                   0   \n",
       "1258  What legit lessons have you learned from your ...                   0   \n",
       "1259  Why don't some guys try more if the girl rejec...                  14   \n",
       "\n",
       "      q2_group_frequency  \n",
       "1200                   0  \n",
       "1201                   0  \n",
       "1202                   0  \n",
       "1203                   0  \n",
       "1204                   0  \n",
       "1205                   0  \n",
       "1206                   0  \n",
       "1207                   0  \n",
       "1208                   0  \n",
       "1209                   0  \n",
       "1210                   0  \n",
       "1211                   0  \n",
       "1212                   0  \n",
       "1213                   0  \n",
       "1214                   0  \n",
       "1215                   0  \n",
       "1216                   0  \n",
       "1217                   0  \n",
       "1218                   0  \n",
       "1219                   0  \n",
       "1220                   0  \n",
       "1221                   0  \n",
       "1222                   0  \n",
       "1223                   0  \n",
       "1224                   0  \n",
       "1225                   0  \n",
       "1226                   0  \n",
       "1227                   0  \n",
       "1228                 553  \n",
       "1229                   0  \n",
       "1230                   0  \n",
       "1231                   0  \n",
       "1232                   0  \n",
       "1233                   0  \n",
       "1234                   0  \n",
       "1235                   0  \n",
       "1236                   0  \n",
       "1237                   0  \n",
       "1238                   0  \n",
       "1239                   0  \n",
       "1240                   0  \n",
       "1241                   0  \n",
       "1242                   0  \n",
       "1243                   0  \n",
       "1244                   0  \n",
       "1245                   0  \n",
       "1246                   0  \n",
       "1247                   0  \n",
       "1248                   0  \n",
       "1249                   0  \n",
       "1250                  23  \n",
       "1251                   0  \n",
       "1252                   0  \n",
       "1253                   0  \n",
       "1254                   0  \n",
       "1255                   0  \n",
       "1256                   0  \n",
       "1257                   0  \n",
       "1258                   0  \n",
       "1259                   0  "
      ]
     },
     "execution_count": 33,
     "metadata": {},
     "output_type": "execute_result"
    }
   ],
   "source": [
    "test.ix[1200:1259]"
   ]
  },
  {
   "cell_type": "code",
   "execution_count": 17,
   "metadata": {
    "collapsed": true,
    "deletable": true,
    "editable": true
   },
   "outputs": [],
   "source": [
    "group_freq = pd.read_csv(\"data/test_with_group_freq.csv\")\n",
    "q_freq = pd.read_csv(\"data/question_frequency_test.csv\")"
   ]
  },
  {
   "cell_type": "code",
   "execution_count": 52,
   "metadata": {
    "collapsed": false,
    "deletable": true,
    "editable": true
   },
   "outputs": [
    {
     "data": {
      "text/plain": [
       "id           1250\n",
       "q1_hash    538565\n",
       "q2_hash    361647\n",
       "q1_freq         4\n",
       "q2_freq         4\n",
       "Name: 1250, dtype: int64"
      ]
     },
     "execution_count": 52,
     "metadata": {},
     "output_type": "execute_result"
    }
   ],
   "source": [
    "#1224\n",
    "\n",
    "qid = 1250\n",
    "q_freq.ix[qid]"
   ]
  },
  {
   "cell_type": "code",
   "execution_count": 66,
   "metadata": {
    "collapsed": false,
    "deletable": true,
    "editable": true
   },
   "outputs": [
    {
     "data": {
      "text/plain": [
       "'What should be the smart strategy to prepare for RBI grade B exam?'"
      ]
     },
     "execution_count": 66,
     "metadata": {},
     "output_type": "execute_result"
    }
   ],
   "source": [
    "sample = group_freq.ix[qid].question2\n",
    "sample"
   ]
  },
  {
   "cell_type": "code",
   "execution_count": 67,
   "metadata": {
    "collapsed": false,
    "deletable": true,
    "editable": true
   },
   "outputs": [
    {
     "data": {
      "text/plain": [
       "4"
      ]
     },
     "execution_count": 67,
     "metadata": {},
     "output_type": "execute_result"
    }
   ],
   "source": [
    "questions_freq_dict[sample]"
   ]
  },
  {
   "cell_type": "code",
   "execution_count": 68,
   "metadata": {
    "collapsed": false,
    "deletable": true,
    "editable": true
   },
   "outputs": [
    {
     "data": {
      "text/plain": [
       "test_id                                                            1250\n",
       "question1             What is the correct strategy to prepare for RB...\n",
       "question2             What should be the smart strategy to prepare f...\n",
       "q1_group_frequency                                                    0\n",
       "q2_group_frequency                                                   23\n",
       "Name: 1250, dtype: object"
      ]
     },
     "execution_count": 68,
     "metadata": {},
     "output_type": "execute_result"
    }
   ],
   "source": [
    "group_freq.ix[qid]"
   ]
  },
  {
   "cell_type": "code",
   "execution_count": 71,
   "metadata": {
    "collapsed": false,
    "deletable": true,
    "editable": true
   },
   "outputs": [
    {
     "data": {
      "text/html": [
       "<div>\n",
       "<table border=\"1\" class=\"dataframe\">\n",
       "  <thead>\n",
       "    <tr style=\"text-align: right;\">\n",
       "      <th></th>\n",
       "      <th>id</th>\n",
       "      <th>qid1</th>\n",
       "      <th>qid2</th>\n",
       "      <th>question1</th>\n",
       "      <th>question2</th>\n",
       "      <th>is_duplicate</th>\n",
       "    </tr>\n",
       "  </thead>\n",
       "  <tbody>\n",
       "    <tr>\n",
       "      <th>105868</th>\n",
       "      <td>105868</td>\n",
       "      <td>73190</td>\n",
       "      <td>174489</td>\n",
       "      <td>What are suggested books for RBI grade B exam?</td>\n",
       "      <td>What should be the smart strategy to prepare f...</td>\n",
       "      <td>1</td>\n",
       "    </tr>\n",
       "    <tr>\n",
       "      <th>175444</th>\n",
       "      <td>175444</td>\n",
       "      <td>73189</td>\n",
       "      <td>174489</td>\n",
       "      <td>What is a strategy to crack the RBI Grade B exam?</td>\n",
       "      <td>What should be the smart strategy to prepare f...</td>\n",
       "      <td>1</td>\n",
       "    </tr>\n",
       "    <tr>\n",
       "      <th>194936</th>\n",
       "      <td>194936</td>\n",
       "      <td>83694</td>\n",
       "      <td>174489</td>\n",
       "      <td>What shoud be strategy to crack RBI Grade B 2016?</td>\n",
       "      <td>What should be the smart strategy to prepare f...</td>\n",
       "      <td>1</td>\n",
       "    </tr>\n",
       "  </tbody>\n",
       "</table>\n",
       "</div>"
      ],
      "text/plain": [
       "            id   qid1    qid2  \\\n",
       "105868  105868  73190  174489   \n",
       "175444  175444  73189  174489   \n",
       "194936  194936  83694  174489   \n",
       "\n",
       "                                                question1  \\\n",
       "105868     What are suggested books for RBI grade B exam?   \n",
       "175444  What is a strategy to crack the RBI Grade B exam?   \n",
       "194936  What shoud be strategy to crack RBI Grade B 2016?   \n",
       "\n",
       "                                                question2  is_duplicate  \n",
       "105868  What should be the smart strategy to prepare f...             1  \n",
       "175444  What should be the smart strategy to prepare f...             1  \n",
       "194936  What should be the smart strategy to prepare f...             1  "
      ]
     },
     "execution_count": 71,
     "metadata": {},
     "output_type": "execute_result"
    }
   ],
   "source": [
    "tr[(tr.question1 == sample ) | ( tr.question2 == sample) ]"
   ]
  },
  {
   "cell_type": "code",
   "execution_count": 72,
   "metadata": {
    "collapsed": false,
    "deletable": true,
    "editable": true
   },
   "outputs": [
    {
     "data": {
      "text/html": [
       "<div>\n",
       "<table border=\"1\" class=\"dataframe\">\n",
       "  <thead>\n",
       "    <tr style=\"text-align: right;\">\n",
       "      <th></th>\n",
       "      <th>test_id</th>\n",
       "      <th>question1</th>\n",
       "      <th>question2</th>\n",
       "    </tr>\n",
       "  </thead>\n",
       "  <tbody>\n",
       "    <tr>\n",
       "      <th>1250</th>\n",
       "      <td>1250</td>\n",
       "      <td>What is the correct strategy to prepare for RB...</td>\n",
       "      <td>What should be the smart strategy to prepare f...</td>\n",
       "    </tr>\n",
       "  </tbody>\n",
       "</table>\n",
       "</div>"
      ],
      "text/plain": [
       "      test_id                                          question1  \\\n",
       "1250     1250  What is the correct strategy to prepare for RB...   \n",
       "\n",
       "                                              question2  \n",
       "1250  What should be the smart strategy to prepare f...  "
      ]
     },
     "execution_count": 72,
     "metadata": {},
     "output_type": "execute_result"
    }
   ],
   "source": [
    "test[(test.question1 == sample ) | ( test.question2 == sample) ]"
   ]
  },
  {
   "cell_type": "markdown",
   "metadata": {
    "deletable": true,
    "editable": true
   },
   "source": [
    "##### checking if the q2_group_frequency makes sense"
   ]
  },
  {
   "cell_type": "code",
   "execution_count": 74,
   "metadata": {
    "collapsed": false,
    "deletable": true,
    "editable": true
   },
   "outputs": [
    {
     "name": "stdout",
     "output_type": "stream",
     "text": [
      "What are suggested books for RBI grade B exam? 4\n",
      "What is a strategy to crack the RBI Grade B exam? 11\n",
      "What should be the smart strategy to prepare for RBI grade B exam? 4\n",
      "What shoud be strategy to crack RBI Grade B 2016? 4\n"
     ]
    }
   ],
   "source": [
    "all_components = nx.connected_component_subgraphs(g)\n",
    "\n",
    "i   = 0\n",
    "question_group_count = {}\n",
    "\n",
    "\n",
    "for c in all_components:\n",
    "\n",
    "    count = 0 \n",
    "    \n",
    "    for node in c.nodes():\n",
    "        if questions_freq_dict.has_key(node):\n",
    "#             print node,questions_freq_dict[node]\n",
    "            count += questions_freq_dict[node]\n",
    "\n",
    "    #update group count for that question        \n",
    "    for node in c.nodes():\n",
    "        question_group_count[node] = count \n",
    "        \n",
    "    if sample in c.nodes():\n",
    "        for node in c.nodes():\n",
    "            if questions_freq_dict.has_key(node): \n",
    "                print node, questions_freq_dict[node]\n",
    "        "
   ]
  },
  {
   "cell_type": "markdown",
   "metadata": {
    "deletable": true,
    "editable": true
   },
   "source": [
    "### double checking TRAINING group frequencies "
   ]
  },
  {
   "cell_type": "code",
   "execution_count": 79,
   "metadata": {
    "collapsed": false,
    "deletable": true,
    "editable": true
   },
   "outputs": [
    {
     "data": {
      "text/html": [
       "<div>\n",
       "<table border=\"1\" class=\"dataframe\">\n",
       "  <thead>\n",
       "    <tr style=\"text-align: right;\">\n",
       "      <th></th>\n",
       "      <th>id</th>\n",
       "      <th>qid1</th>\n",
       "      <th>qid2</th>\n",
       "      <th>question1</th>\n",
       "      <th>question2</th>\n",
       "      <th>is_duplicate</th>\n",
       "      <th>q1_group_frequency</th>\n",
       "      <th>q2_group_frequency</th>\n",
       "    </tr>\n",
       "  </thead>\n",
       "  <tbody>\n",
       "    <tr>\n",
       "      <th>1920</th>\n",
       "      <td>1920</td>\n",
       "      <td>3821</td>\n",
       "      <td>3822</td>\n",
       "      <td>How do I open a SnapChat message without the o...</td>\n",
       "      <td>How do I delete messages on snapchat that the ...</td>\n",
       "      <td>0</td>\n",
       "      <td>0.0</td>\n",
       "      <td>0.0</td>\n",
       "    </tr>\n",
       "    <tr>\n",
       "      <th>1921</th>\n",
       "      <td>1921</td>\n",
       "      <td>3823</td>\n",
       "      <td>3824</td>\n",
       "      <td>What are the best value Michelin-starred resta...</td>\n",
       "      <td>What are the best Greek restaurants in NYC?</td>\n",
       "      <td>0</td>\n",
       "      <td>0.0</td>\n",
       "      <td>0.0</td>\n",
       "    </tr>\n",
       "    <tr>\n",
       "      <th>1922</th>\n",
       "      <td>1922</td>\n",
       "      <td>3825</td>\n",
       "      <td>3826</td>\n",
       "      <td>How can you find what your cell phone number is?</td>\n",
       "      <td>How do I find my cell phone number?</td>\n",
       "      <td>1</td>\n",
       "      <td>8.0</td>\n",
       "      <td>8.0</td>\n",
       "    </tr>\n",
       "    <tr>\n",
       "      <th>1923</th>\n",
       "      <td>1923</td>\n",
       "      <td>3827</td>\n",
       "      <td>3828</td>\n",
       "      <td>Given that alpha and beta are roots of the equ...</td>\n",
       "      <td>The roots of the equation [math]x^2+3x-10=0[/m...</td>\n",
       "      <td>0</td>\n",
       "      <td>0.0</td>\n",
       "      <td>0.0</td>\n",
       "    </tr>\n",
       "    <tr>\n",
       "      <th>1924</th>\n",
       "      <td>1924</td>\n",
       "      <td>3829</td>\n",
       "      <td>3830</td>\n",
       "      <td>How will the ban on Rs 500 and 1000 notes impa...</td>\n",
       "      <td>How does the ban on 500/1000 denominations aff...</td>\n",
       "      <td>1</td>\n",
       "      <td>1326.0</td>\n",
       "      <td>1326.0</td>\n",
       "    </tr>\n",
       "    <tr>\n",
       "      <th>1925</th>\n",
       "      <td>1925</td>\n",
       "      <td>3831</td>\n",
       "      <td>3832</td>\n",
       "      <td>Why has Malaysia failed to develop into a firs...</td>\n",
       "      <td>How did Malaysia become a developed country be...</td>\n",
       "      <td>0</td>\n",
       "      <td>0.0</td>\n",
       "      <td>0.0</td>\n",
       "    </tr>\n",
       "    <tr>\n",
       "      <th>1926</th>\n",
       "      <td>1926</td>\n",
       "      <td>3833</td>\n",
       "      <td>3834</td>\n",
       "      <td>Who are Jains before conversion? Brahmins, Ksh...</td>\n",
       "      <td>Can a Shudra read Vedas?</td>\n",
       "      <td>0</td>\n",
       "      <td>0.0</td>\n",
       "      <td>0.0</td>\n",
       "    </tr>\n",
       "    <tr>\n",
       "      <th>1927</th>\n",
       "      <td>1927</td>\n",
       "      <td>3835</td>\n",
       "      <td>3836</td>\n",
       "      <td>Why is Vermont so liberal?</td>\n",
       "      <td>Is there any culture in Vermont?</td>\n",
       "      <td>0</td>\n",
       "      <td>0.0</td>\n",
       "      <td>0.0</td>\n",
       "    </tr>\n",
       "    <tr>\n",
       "      <th>1928</th>\n",
       "      <td>1928</td>\n",
       "      <td>3837</td>\n",
       "      <td>3838</td>\n",
       "      <td>Will you continue to do a thing that you think...</td>\n",
       "      <td>Renting a apt in bankruptcy?</td>\n",
       "      <td>0</td>\n",
       "      <td>0.0</td>\n",
       "      <td>0.0</td>\n",
       "    </tr>\n",
       "    <tr>\n",
       "      <th>1929</th>\n",
       "      <td>1929</td>\n",
       "      <td>3839</td>\n",
       "      <td>3840</td>\n",
       "      <td>How do we live a meaningful life?</td>\n",
       "      <td>How do I lead a meaningful life?</td>\n",
       "      <td>1</td>\n",
       "      <td>7.0</td>\n",
       "      <td>7.0</td>\n",
       "    </tr>\n",
       "    <tr>\n",
       "      <th>1930</th>\n",
       "      <td>1930</td>\n",
       "      <td>3841</td>\n",
       "      <td>3842</td>\n",
       "      <td>What's the safest and cheapest place to buy go...</td>\n",
       "      <td>Is buying WoW gold safe?</td>\n",
       "      <td>0</td>\n",
       "      <td>0.0</td>\n",
       "      <td>0.0</td>\n",
       "    </tr>\n",
       "  </tbody>\n",
       "</table>\n",
       "</div>"
      ],
      "text/plain": [
       "        id  qid1  qid2                                          question1  \\\n",
       "1920  1920  3821  3822  How do I open a SnapChat message without the o...   \n",
       "1921  1921  3823  3824  What are the best value Michelin-starred resta...   \n",
       "1922  1922  3825  3826   How can you find what your cell phone number is?   \n",
       "1923  1923  3827  3828  Given that alpha and beta are roots of the equ...   \n",
       "1924  1924  3829  3830  How will the ban on Rs 500 and 1000 notes impa...   \n",
       "1925  1925  3831  3832  Why has Malaysia failed to develop into a firs...   \n",
       "1926  1926  3833  3834  Who are Jains before conversion? Brahmins, Ksh...   \n",
       "1927  1927  3835  3836                         Why is Vermont so liberal?   \n",
       "1928  1928  3837  3838  Will you continue to do a thing that you think...   \n",
       "1929  1929  3839  3840                  How do we live a meaningful life?   \n",
       "1930  1930  3841  3842  What's the safest and cheapest place to buy go...   \n",
       "\n",
       "                                              question2  is_duplicate  \\\n",
       "1920  How do I delete messages on snapchat that the ...             0   \n",
       "1921        What are the best Greek restaurants in NYC?             0   \n",
       "1922                How do I find my cell phone number?             1   \n",
       "1923  The roots of the equation [math]x^2+3x-10=0[/m...             0   \n",
       "1924  How does the ban on 500/1000 denominations aff...             1   \n",
       "1925  How did Malaysia become a developed country be...             0   \n",
       "1926                           Can a Shudra read Vedas?             0   \n",
       "1927                   Is there any culture in Vermont?             0   \n",
       "1928                       Renting a apt in bankruptcy?             0   \n",
       "1929                   How do I lead a meaningful life?             1   \n",
       "1930                           Is buying WoW gold safe?             0   \n",
       "\n",
       "      q1_group_frequency  q2_group_frequency  \n",
       "1920                 0.0                 0.0  \n",
       "1921                 0.0                 0.0  \n",
       "1922                 8.0                 8.0  \n",
       "1923                 0.0                 0.0  \n",
       "1924              1326.0              1326.0  \n",
       "1925                 0.0                 0.0  \n",
       "1926                 0.0                 0.0  \n",
       "1927                 0.0                 0.0  \n",
       "1928                 0.0                 0.0  \n",
       "1929                 7.0                 7.0  \n",
       "1930                 0.0                 0.0  "
      ]
     },
     "execution_count": 79,
     "metadata": {},
     "output_type": "execute_result"
    }
   ],
   "source": [
    "group_freq_train.ix[1920:1930]"
   ]
  },
  {
   "cell_type": "code",
   "execution_count": 82,
   "metadata": {
    "collapsed": false,
    "deletable": true,
    "editable": true
   },
   "outputs": [
    {
     "data": {
      "text/plain": [
       "id               1924\n",
       "q1_hash          1917\n",
       "q2_hash         47008\n",
       "q1_freq            46\n",
       "q2_freq             9\n",
       "is_duplicate        1\n",
       "Name: 1924, dtype: int64"
      ]
     },
     "execution_count": 82,
     "metadata": {},
     "output_type": "execute_result"
    }
   ],
   "source": [
    "q_freq = pd.read_csv(\"data/question_frequency_train.csv\")\n",
    "\n",
    "qid = 1924\n",
    "q_freq.ix[qid]"
   ]
  },
  {
   "cell_type": "code",
   "execution_count": 85,
   "metadata": {
    "collapsed": false,
    "deletable": true,
    "editable": true
   },
   "outputs": [
    {
     "data": {
      "text/plain": [
       "'How will the ban on Rs 500 and 1000 notes impact the Indian economy?'"
      ]
     },
     "execution_count": 85,
     "metadata": {},
     "output_type": "execute_result"
    }
   ],
   "source": [
    "sample = group_freq_train.ix[qid].question1\n",
    "sample"
   ]
  },
  {
   "cell_type": "code",
   "execution_count": 86,
   "metadata": {
    "collapsed": false,
    "deletable": true,
    "editable": true
   },
   "outputs": [
    {
     "data": {
      "text/plain": [
       "46"
      ]
     },
     "execution_count": 86,
     "metadata": {},
     "output_type": "execute_result"
    }
   ],
   "source": [
    "questions_freq_dict[sample]"
   ]
  },
  {
   "cell_type": "code",
   "execution_count": 90,
   "metadata": {
    "collapsed": false,
    "deletable": true,
    "editable": true
   },
   "outputs": [
    {
     "data": {
      "text/plain": [
       "id                                                                 1924\n",
       "qid1                                                               3829\n",
       "qid2                                                               3830\n",
       "question1             How will the ban on Rs 500 and 1000 notes impa...\n",
       "question2             How does the ban on 500/1000 denominations aff...\n",
       "is_duplicate                                                          1\n",
       "q1_group_frequency                                                 1326\n",
       "q2_group_frequency                                                 1326\n",
       "Name: 1924, dtype: object"
      ]
     },
     "execution_count": 90,
     "metadata": {},
     "output_type": "execute_result"
    }
   ],
   "source": [
    "group_freq_train.ix[qid]"
   ]
  },
  {
   "cell_type": "code",
   "execution_count": 93,
   "metadata": {
    "collapsed": false,
    "deletable": true,
    "editable": true
   },
   "outputs": [
    {
     "data": {
      "text/plain": [
       "((35, 6), (11, 3))"
      ]
     },
     "execution_count": 93,
     "metadata": {},
     "output_type": "execute_result"
    }
   ],
   "source": [
    "tr[(tr.question1 == sample ) | ( tr.question2 == sample) ].shape, test[(test.question1 == sample ) | ( test.question2 == sample) ].shape"
   ]
  },
  {
   "cell_type": "code",
   "execution_count": 95,
   "metadata": {
    "collapsed": false,
    "deletable": true,
    "editable": true
   },
   "outputs": [
    {
     "name": "stdout",
     "output_type": "stream",
     "text": [
      "Modi's announcement on banning 500 and 1000 currency notes. How would it affect economy? 28\n",
      "Will the currency ban in India affect the economy? 12\n",
      "What will be the consequences of 500 and 1000 rupee notes banning? 33\n",
      "What are the repercussions of 500 and 1000 rupee notes not being legal tender anymore? 29\n",
      "What is the use of banning 500 and 1000 rupee notes and introducing new 500 and 2000 rupee notes? 37\n",
      "How is banning 500 and 1000 INR going to help Indian economy? 36\n",
      "What will be the impact of the step taken to ban the 500 & 1000 rupee note on Indian economy? 24\n",
      "How will the ban on Rs. 1000 and Rs. 500 notes impact Indian economy? 34\n",
      "How Indian economy got affected after ban of 500 1000 notes? 31\n",
      "How will our economy will be affected by demonetizing Rs 500 and Rs 1000 notes? 24\n",
      "What drastic changes can take place in Indian economy owing to ban on 500₹ and 1000₹ notes? 2\n",
      "What will be the effects after banning on 500 and 1000 rupee notes? 28\n",
      "How will ban on 500 and 1000 rupees note affect economy of India in different sectors? 19\n",
      "What are the economic implications of banning 500 and 1000 rupee notes? 36\n",
      "What are the ill effects of demonetization of 500 and 1000 rupee notes in India? 30\n",
      "How will India be affected now that 500 and 1000 rupee notes have been banned? 35\n",
      "What will be the impact of banning Rs. 500 and Rs. 1000 on the Indian economy? 43\n",
      "What are the benefits of ban on 500 and 1000 rupees note? 21\n",
      "How does the ban on 500/1000 denominations affect various domains of the Indian economy? 9\n",
      "How does India benefit after demonetization of Rs 500 and 1000, as currency bills? 1\n",
      "How will discontinuing ₹500 and ₹1000 notes affect India's economy? 8\n",
      "How will the ban of 1000 and 500 rupee notes affect the Indian economy? 51\n",
      "Will the economy of India collapse due to the banning of ₹500 and ₹1000 notes? 7\n",
      "What will be the impact in the Indian economy of sudden 500 & 1000 rupee notes withdrawal of by the government? 37\n",
      "What could be the consequences of recalling 500 and 1000 rupee note? 21\n",
      "What would be the effect on the Indian economy after banning 500 and 1,000 notes? 16\n",
      "How will the ban of Rs 500 and Rs 1000 notes affect Indian economy? 58\n",
      "How will Indian GDP be affected from banning 500 and 1000 rupees notes? 40\n",
      "What will be the impact of banning Rs. 500, Rs. 1000 notes on Indian economy and Businesses? 18\n",
      "Will scraping 500 and 1000 rupees change anything in reality? 7\n",
      "What can be the possible effects of removing 500 and 1000 rupee currency notes? 32\n",
      "Now that Modi govt has decided to stop circulation of Rs.500 & 1000 notes, how will this impact the Indian economy? 5\n",
      "How does the introduction of new 500 and 2000 denomination currency and stopping old 500 & 1000 denomination currency help/ affect India's economy? 12\n",
      "Will the value of Indian rupee increase after the ban of 500 and 1000 rupee notes? 41\n",
      "Which are the positive benefits of banning existing ₹500 and ₹1000 currency notes in India? 4\n",
      "How can the ban of 500 and 1000 rupee notes increase the Indian economy? 40\n",
      "What will be the implications of banning 500 and 1000 rupees currency notes on Indian economy? 49\n",
      "What will be the effects of demonetisation of 500 and 1000 notes on the Indian economy? 32\n",
      "What will be the effects of demonitizing 500 and 1000 rupees notes in Indian economy? 46\n",
      "How it will the latest change in the denominations of Rs. 500 and 1000 affect the economy? 25\n",
      "1000 and 500 notes have been banned in Indian. What will be the short and long term impact of this? 10\n",
      "What are the expected consequences of Declaring 500 and 1000 rupee notes as illegal? 21\n",
      "What will be the repercussions of banning Rs 500 and Rs 1000 notes on Indian economy? 46\n",
      "What would be the possible impact on Indian economy after cancellation of 500 and 1000 Rs notes? 32\n",
      "What are benefits of change in ₹500 ₹1000 notes? 3\n",
      "What are your views on India banning 500 and 1000 notes? In what way it will affect Indian economy? 44\n",
      "What would be the basic benefit of demonetizing 500 and 1000 Rs currency? 11\n",
      "Will the scraping of 500 and 1000 rupees have negative effect on Indias's economy? 24\n",
      "How will the ban on 500₹ and 1000₹ notes impact the Indian economy? 22\n",
      "How does economy of India get affected by bannig 500,1000 rupee notes? 6\n",
      "How will the ban on Rs 500 and 1000 notes impact the Indian economy? 46\n",
      "1326\n"
     ]
    }
   ],
   "source": [
    "all_components = nx.connected_component_subgraphs(g)\n",
    "\n",
    "i   = 0\n",
    "question_group_count = {}\n",
    "\n",
    "\n",
    "for c in all_components:\n",
    "\n",
    "    count = 0 \n",
    "    \n",
    "    for node in c.nodes():\n",
    "        if questions_freq_dict.has_key(node):\n",
    "#             print node,questions_freq_dict[node]\n",
    "            count += questions_freq_dict[node]\n",
    "\n",
    "    #update group count for that question        \n",
    "    for node in c.nodes():\n",
    "        question_group_count[node] = count \n",
    "        \n",
    "    if sample in c.nodes():\n",
    "        for node in c.nodes():\n",
    "            if questions_freq_dict.has_key(node): \n",
    "                print node, questions_freq_dict[node]\n",
    "                \n",
    "        print count       "
   ]
  },
  {
   "cell_type": "code",
   "execution_count": null,
   "metadata": {
    "collapsed": true,
    "deletable": true,
    "editable": true
   },
   "outputs": [],
   "source": []
  }
 ],
 "metadata": {
  "kernelspec": {
   "display_name": "Python 2",
   "language": "python",
   "name": "python2"
  },
  "language_info": {
   "codemirror_mode": {
    "name": "ipython",
    "version": 2
   },
   "file_extension": ".py",
   "mimetype": "text/x-python",
   "name": "python",
   "nbconvert_exporter": "python",
   "pygments_lexer": "ipython2",
   "version": "2.7.13"
  }
 },
 "nbformat": 4,
 "nbformat_minor": 0
}
