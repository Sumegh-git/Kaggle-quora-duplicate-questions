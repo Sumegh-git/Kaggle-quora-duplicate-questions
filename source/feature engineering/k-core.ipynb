{
 "cells": [
  {
   "cell_type": "markdown",
   "metadata": {},
   "source": [
    "https://www.kaggle.com/tarobxl/magic-feature-v2-0-045-gain\n",
    "\n",
    "https://www.kaggle.com/c/quora-question-pairs/discussion/33371"
   ]
  },
  {
   "cell_type": "code",
   "execution_count": 1,
   "metadata": {
    "collapsed": true
   },
   "outputs": [],
   "source": [
    "import numpy as np # linear algebra\n",
    "import pandas as pd # data processing, CSV file I/O (e.g. pd.read_csv)\n",
    "from collections import defaultdict"
   ]
  },
  {
   "cell_type": "code",
   "execution_count": 2,
   "metadata": {
    "collapsed": true
   },
   "outputs": [],
   "source": [
    "train_orig =  pd.read_csv('data/train.csv', header=0)\n",
    "test_orig =  pd.read_csv('data/test.csv', header=0)\n"
   ]
  },
  {
   "cell_type": "code",
   "execution_count": 3,
   "metadata": {},
   "outputs": [
    {
     "name": "stdout",
     "output_type": "stream",
     "text": [
      "((290654, 2), (299364, 2))\n",
      "((290654, 2), (299364, 2), (537933, 2))\n"
     ]
    }
   ],
   "source": [
    "df_id1 = train_orig[[\"qid1\", \"question1\"]].drop_duplicates(keep=\"first\").copy().reset_index(drop=True)\n",
    "df_id2 = train_orig[[\"qid2\", \"question2\"]].drop_duplicates(keep=\"first\").copy().reset_index(drop=True)\n",
    "\n",
    "df_id1.columns = [\"qid\", \"question\"]\n",
    "df_id2.columns = [\"qid\", \"question\"]\n",
    "\n",
    "print(df_id1.shape, df_id2.shape)\n",
    "\n",
    "df_id = pd.concat([df_id1, df_id2]).drop_duplicates(keep=\"first\").reset_index(drop=True)\n",
    "print(df_id1.shape, df_id2.shape, df_id.shape)"
   ]
  },
  {
   "cell_type": "code",
   "execution_count": 5,
   "metadata": {},
   "outputs": [
    {
     "name": "stdout",
     "output_type": "stream",
     "text": [
      "['test_id', 'question1', 'question2', 'qid1', 'qid2']\n"
     ]
    }
   ],
   "source": [
    "import csv\n",
    "dict_questions = df_id.set_index('question').to_dict()\n",
    "dict_questions = dict_questions[\"qid\"]\n",
    "\n",
    "new_id = 538000 # df_id[\"qid\"].max() ==> 537933\n",
    "\n",
    "def get_id(question):\n",
    "    global dict_questions \n",
    "    global new_id \n",
    "    \n",
    "    if question in dict_questions:\n",
    "        return dict_questions[question]\n",
    "    else:\n",
    "        new_id += 1\n",
    "        dict_questions[question] = new_id\n",
    "        return new_id\n",
    "    \n",
    "rows = []\n",
    "max_lines = 10\n",
    "if True:\n",
    "    with open('data/test.csv', 'r') as infile:\n",
    "        reader = csv.reader(infile, delimiter=\",\")\n",
    "        header = next(reader)\n",
    "        header.append('qid1')\n",
    "        header.append('qid2')\n",
    "        \n",
    "        if True:\n",
    "            print(header)\n",
    "            pos, max_lines = 0, 10*1000*1000\n",
    "            for row in reader:\n",
    "                # \"test_id\",\"question1\",\"question2\"\n",
    "                question1 = row[1]\n",
    "                question2 = row[2]\n",
    "\n",
    "                qid1 = get_id(question1)\n",
    "                qid2 = get_id(question2)\n",
    "                row.append(qid1)\n",
    "                row.append(qid2)\n",
    "\n",
    "                pos += 1\n",
    "                if pos >= max_lines:\n",
    "                    break\n",
    "                rows.append(row)"
   ]
  },
  {
   "cell_type": "code",
   "execution_count": 6,
   "metadata": {},
   "outputs": [
    {
     "data": {
      "text/plain": [
       "['0',\n",
       " 'How does the Surface Pro himself 4 compare with iPad Pro?',\n",
       " 'Why did Microsoft choose core m3 and not core i3 home Surface Pro 4?',\n",
       " 538001,\n",
       " 538002]"
      ]
     },
     "execution_count": 6,
     "metadata": {},
     "output_type": "execute_result"
    }
   ],
   "source": [
    "rows[0]"
   ]
  },
  {
   "cell_type": "code",
   "execution_count": 7,
   "metadata": {
    "collapsed": true
   },
   "outputs": [],
   "source": [
    "with open('data/test_with_ids.csv', 'w') as infile:\n",
    "    writer = csv.writer(infile, delimiter=\",\")\n",
    "    writer.writerow(header)\n",
    "    writer.writerows(rows)\n",
    "    "
   ]
  },
  {
   "cell_type": "code",
   "execution_count": 6,
   "metadata": {
    "collapsed": true
   },
   "outputs": [],
   "source": [
    "DATA_DIR = \"data/\""
   ]
  },
  {
   "cell_type": "code",
   "execution_count": 7,
   "metadata": {},
   "outputs": [
    {
     "name": "stdout",
     "output_type": "stream",
     "text": [
      "('df_all.shape:', (2750086, 2))\n"
     ]
    }
   ],
   "source": [
    "df_train = pd.read_csv(DATA_DIR + \"train.csv\", usecols=[\"qid1\", \"qid2\"])\n",
    "\n",
    "df_test = pd.read_csv(DATA_DIR + \"test_with_ids.csv\", usecols=[\"qid1\", \"qid2\"])\n",
    "\n",
    "df_all = pd.concat([df_train, df_test])\n",
    "\n",
    "print(\"df_all.shape:\", df_all.shape) # df_all.shape: (2750086, 2)\n",
    "\n",
    "df = df_all"
   ]
  },
  {
   "cell_type": "code",
   "execution_count": 10,
   "metadata": {},
   "outputs": [
    {
     "name": "stdout",
     "output_type": "stream",
     "text": [
      "(2454493, 4789604)\n",
      "(2750086, 2743365)\n"
     ]
    }
   ],
   "source": [
    "import networkx as nx\n",
    "\n",
    "g = nx.Graph()\n",
    "\n",
    "g.add_nodes_from(df.qid1)\n",
    "\n",
    "edges = list(df[['qid1', 'qid2']].to_records(index=False))\n",
    "\n",
    "g.add_edges_from(edges)\n",
    "\n",
    "g.remove_edges_from(g.selfloop_edges())\n",
    "\n",
    "print(len(set(df.qid1)), g.number_of_nodes()) # 4789604\n",
    "\n",
    "print(len(df), g.number_of_edges()) # 2743365 (after self-edges)\n"
   ]
  },
  {
   "cell_type": "code",
   "execution_count": 11,
   "metadata": {},
   "outputs": [
    {
     "name": "stdout",
     "output_type": "stream",
     "text": [
      "('df_output.shape:', (4789604, 1))\n"
     ]
    }
   ],
   "source": [
    "df_output = pd.DataFrame(data=g.nodes(), columns=[\"qid\"])\n",
    "\n",
    "print(\"df_output.shape:\", df_output.shape)"
   ]
  },
  {
   "cell_type": "code",
   "execution_count": 12,
   "metadata": {},
   "outputs": [
    {
     "name": "stdout",
     "output_type": "stream",
     "text": [
      "('fieldname = ', 'kcore2')\n",
      "('len(ck) = ', 104340)\n",
      "('fieldname = ', 'kcore3')\n",
      "('len(ck) = ', 37019)\n",
      "('fieldname = ', 'kcore4')\n",
      "('len(ck) = ', 20580)\n",
      "('fieldname = ', 'kcore5')\n",
      "('len(ck) = ', 13552)\n",
      "('fieldname = ', 'kcore6')\n",
      "('len(ck) = ', 9949)\n",
      "('fieldname = ', 'kcore7')\n",
      "('len(ck) = ', 7674)\n",
      "('fieldname = ', 'kcore8')\n",
      "('len(ck) = ', 6156)\n",
      "('fieldname = ', 'kcore9')\n",
      "('len(ck) = ', 5124)\n",
      "('fieldname = ', 'kcore10')\n",
      "('len(ck) = ', 4190)\n",
      "('fieldname = ', 'kcore11')\n",
      "('len(ck) = ', 3606)\n",
      "('fieldname = ', 'kcore12')\n",
      "('len(ck) = ', 2979)\n",
      "('fieldname = ', 'kcore13')\n",
      "('len(ck) = ', 2529)\n",
      "('fieldname = ', 'kcore14')\n",
      "('len(ck) = ', 2167)\n",
      "('fieldname = ', 'kcore15')\n",
      "('len(ck) = ', 1807)\n",
      "('fieldname = ', 'kcore16')\n",
      "('len(ck) = ', 1633)\n",
      "('fieldname = ', 'kcore17')\n",
      "('len(ck) = ', 1523)\n",
      "('fieldname = ', 'kcore18')\n",
      "('len(ck) = ', 1270)\n",
      "('fieldname = ', 'kcore19')\n",
      "('len(ck) = ', 1125)\n",
      "('fieldname = ', 'kcore20')\n",
      "('len(ck) = ', 1024)\n"
     ]
    }
   ],
   "source": [
    "NB_CORES = 20\n",
    "\n",
    "for k in range(2, NB_CORES + 1):\n",
    "\n",
    "    fieldname = \"kcore{}\".format(k)\n",
    "\n",
    "    print(\"fieldname = \", fieldname)\n",
    "\n",
    "    ck = nx.k_core(g, k=k).nodes()\n",
    "\n",
    "    print(\"len(ck) = \", len(ck))\n",
    "\n",
    "    df_output[fieldname] = 0\n",
    "\n",
    "    df_output.ix[df_output.qid.isin(ck), fieldname] = k\n",
    "\n",
    "df_output.to_csv(\"data/cache/question_kcores.csv\", index=None)"
   ]
  },
  {
   "cell_type": "code",
   "execution_count": 13,
   "metadata": {
    "collapsed": true
   },
   "outputs": [],
   "source": [
    "df_cores = pd.read_csv(\"data/cache/question_kcores.csv\", index_col=\"qid\")\n",
    "\n",
    "df_cores.index.names = [\"qid\"]\n",
    "\n",
    "df_cores['max_kcore'] = df_cores.apply(lambda row: max(row), axis=1)\n",
    "\n",
    "df_cores[['max_kcore']].to_csv(\"data/cache/question_max_kcores.csv\") # with index"
   ]
  },
  {
   "cell_type": "code",
   "execution_count": 4,
   "metadata": {
    "collapsed": true
   },
   "outputs": [],
   "source": [
    "cores_dict = pd.read_csv(\"data/cache/question_max_kcores.csv\", index_col=\"qid\").to_dict()[\"max_kcore\"]\n"
   ]
  },
  {
   "cell_type": "code",
   "execution_count": 9,
   "metadata": {
    "collapsed": true
   },
   "outputs": [],
   "source": [
    "def gen_qid1_max_kcore(row):\n",
    "    return cores_dict[row[\"qid1\"]]\n",
    "def gen_qid2_max_kcore(row):\n",
    "    return cores_dict[row[\"qid2\"]]"
   ]
  },
  {
   "cell_type": "code",
   "execution_count": 10,
   "metadata": {
    "collapsed": true
   },
   "outputs": [],
   "source": [
    "train_orig[\"qid1_max_kcore\"] = df_train.apply(gen_qid1_max_kcore, axis=1)\n",
    "test_orig[\"qid1_max_kcore\"] = df_test.apply(gen_qid1_max_kcore, axis=1)\n",
    "\n",
    "\n",
    "train_orig[\"qid2_max_kcore\"] = df_train.apply(gen_qid2_max_kcore, axis=1)\n",
    "test_orig[\"qid2_max_kcore\"] = df_test.apply(gen_qid2_max_kcore, axis=1)\n",
    "\n",
    "\n",
    "#df_train[\"max_kcore\"] = df_train.apply(gen_max_kcore, axis=1)\n",
    "#df_test[\"max_kcore\"] = df_test.apply(gen_max_kcore, axis=1)"
   ]
  },
  {
   "cell_type": "code",
   "execution_count": 12,
   "metadata": {
    "collapsed": true
   },
   "outputs": [],
   "source": [
    "train_orig[[\"qid1_max_kcore\",\"qid2_max_kcore\"]].to_csv(\"data/max_kcore_train.csv\",index=False)"
   ]
  },
  {
   "cell_type": "code",
   "execution_count": 13,
   "metadata": {
    "collapsed": true
   },
   "outputs": [],
   "source": [
    "test_orig[[\"qid1_max_kcore\",\"qid2_max_kcore\"]].to_csv(\"data/max_kcore_test.csv\",index=False)"
   ]
  },
  {
   "cell_type": "code",
   "execution_count": 14,
   "metadata": {},
   "outputs": [
    {
     "data": {
      "text/html": [
       "<div>\n",
       "<table border=\"1\" class=\"dataframe\">\n",
       "  <thead>\n",
       "    <tr style=\"text-align: right;\">\n",
       "      <th></th>\n",
       "      <th>qid1_max_kcore</th>\n",
       "      <th>qid2_max_kcore</th>\n",
       "    </tr>\n",
       "  </thead>\n",
       "  <tbody>\n",
       "    <tr>\n",
       "      <th>count</th>\n",
       "      <td>404290.000000</td>\n",
       "      <td>404290.000000</td>\n",
       "    </tr>\n",
       "    <tr>\n",
       "      <th>mean</th>\n",
       "      <td>2.102231</td>\n",
       "      <td>2.168960</td>\n",
       "    </tr>\n",
       "    <tr>\n",
       "      <th>std</th>\n",
       "      <td>4.313840</td>\n",
       "      <td>4.372536</td>\n",
       "    </tr>\n",
       "    <tr>\n",
       "      <th>min</th>\n",
       "      <td>0.000000</td>\n",
       "      <td>0.000000</td>\n",
       "    </tr>\n",
       "    <tr>\n",
       "      <th>25%</th>\n",
       "      <td>0.000000</td>\n",
       "      <td>0.000000</td>\n",
       "    </tr>\n",
       "    <tr>\n",
       "      <th>50%</th>\n",
       "      <td>0.000000</td>\n",
       "      <td>0.000000</td>\n",
       "    </tr>\n",
       "    <tr>\n",
       "      <th>75%</th>\n",
       "      <td>2.000000</td>\n",
       "      <td>2.000000</td>\n",
       "    </tr>\n",
       "    <tr>\n",
       "      <th>max</th>\n",
       "      <td>20.000000</td>\n",
       "      <td>20.000000</td>\n",
       "    </tr>\n",
       "  </tbody>\n",
       "</table>\n",
       "</div>"
      ],
      "text/plain": [
       "       qid1_max_kcore  qid2_max_kcore\n",
       "count   404290.000000   404290.000000\n",
       "mean         2.102231        2.168960\n",
       "std          4.313840        4.372536\n",
       "min          0.000000        0.000000\n",
       "25%          0.000000        0.000000\n",
       "50%          0.000000        0.000000\n",
       "75%          2.000000        2.000000\n",
       "max         20.000000       20.000000"
      ]
     },
     "execution_count": 14,
     "metadata": {},
     "output_type": "execute_result"
    }
   ],
   "source": [
    "train_orig[[\"qid1_max_kcore\",\"qid2_max_kcore\"]].describe()"
   ]
  },
  {
   "cell_type": "code",
   "execution_count": null,
   "metadata": {
    "collapsed": true
   },
   "outputs": [],
   "source": []
  }
 ],
 "metadata": {
  "kernelspec": {
   "display_name": "Python [conda env:qenv]",
   "language": "python",
   "name": "conda-env-qenv-py"
  },
  "language_info": {
   "codemirror_mode": {
    "name": "ipython",
    "version": 2
   },
   "file_extension": ".py",
   "mimetype": "text/x-python",
   "name": "python",
   "nbconvert_exporter": "python",
   "pygments_lexer": "ipython2",
   "version": "2.7.12"
  }
 },
 "nbformat": 4,
 "nbformat_minor": 2
}
