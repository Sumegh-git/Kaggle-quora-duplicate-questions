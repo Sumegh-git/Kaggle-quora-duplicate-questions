{
 "cells": [
  {
   "cell_type": "markdown",
   "metadata": {},
   "source": [
    "## Extra nlp features based on letter ngrams and SVD"
   ]
  },
  {
   "cell_type": "code",
   "execution_count": 1,
   "metadata": {},
   "outputs": [
    {
     "name": "stderr",
     "output_type": "stream",
     "text": [
      "/home/ubuntu/anaconda2/envs/qenv/lib/python2.7/site-packages/sklearn/cross_validation.py:44: DeprecationWarning: This module was deprecated in version 0.18 in favor of the model_selection module into which all the refactored classes and functions are moved. Also note that the interface of the new CV iterators are different from that of this module. This module will be removed in 0.20.\n",
      "  \"This module will be removed in 0.20.\", DeprecationWarning)\n"
     ]
    }
   ],
   "source": [
    "%matplotlib inline\n",
    "import matplotlib\n",
    "import numpy as np\n",
    "import matplotlib.pyplot as plt\n",
    "import pandas as pd\n",
    "pd.set_option('display.max_columns', 500)\n",
    "import seaborn as sns\n",
    "sns.set_style(\"dark\")\n",
    "plt.rcParams['figure.figsize'] = 16, 12\n",
    "from tqdm import tqdm, tqdm_notebook\n",
    "import itertools as it\n",
    "import pickle\n",
    "import glob\n",
    "import os\n",
    "import string\n",
    "\n",
    "from scipy import sparse\n",
    "\n",
    "import nltk\n",
    "import spacy\n",
    "\n",
    "from sklearn.model_selection import StratifiedKFold, cross_val_score, GridSearchCV\n",
    "from sklearn.pipeline import Pipeline\n",
    "from sklearn.feature_extraction.text import CountVectorizer\n",
    "from sklearn.feature_extraction.text import TfidfTransformer\n",
    "from sklearn.linear_model import SGDClassifier\n",
    "from sklearn.preprocessing import StandardScaler\n",
    "from sklearn.metrics import log_loss, make_scorer\n",
    "from sklearn.decomposition import TruncatedSVD\n",
    "\n",
    "from scipy.optimize import minimize\n",
    "\n",
    "import eli5\n",
    "from IPython.display import display\n",
    "\n",
    "import xgboost as xgb"
   ]
  },
  {
   "cell_type": "markdown",
   "metadata": {},
   "source": [
    "## load data"
   ]
  },
  {
   "cell_type": "code",
   "execution_count": 2,
   "metadata": {
    "collapsed": true
   },
   "outputs": [],
   "source": [
    "df_train = pd.read_csv('data/train_clean_vB.csv', \n",
    "                       dtype={\n",
    "                           'q1_clean_vB': np.str,\n",
    "                           'q2_clean_vB': np.str\n",
    "                       })\n",
    "\n",
    "\n",
    "\n",
    "df_test = pd.read_csv('data/test_clean_vB.csv', \n",
    "                      dtype={\n",
    "                          'q1_clean_vB': np.str,\n",
    "                          'q2_clean_vB': np.str\n",
    "                      })"
   ]
  },
  {
   "cell_type": "code",
   "execution_count": 4,
   "metadata": {},
   "outputs": [
    {
     "name": "stdout",
     "output_type": "stream",
     "text": [
      "id               int64\n",
      "is_duplicate     int64\n",
      "qid1             int64\n",
      "qid2             int64\n",
      "question1       object\n",
      "question2       object\n",
      "test_id          int64\n",
      "dtype: object\n"
     ]
    }
   ],
   "source": [
    "df_train.rename(columns={\"q1_clean_vB\":\"question1\", \"q2_clean_vB\":\"question2\"}, inplace=True)\n",
    "df_test.rename(columns={\"q1_clean_vB\":\"question1\", \"q2_clean_vB\":\"question2\"}, inplace=True)\n",
    "\n",
    "df_train['test_id'] = -1\n",
    "df_test['id'] = -1\n",
    "df_test['qid1'] = -1\n",
    "df_test['qid2'] = -1\n",
    "df_test['is_duplicate'] = -1\n",
    "\n",
    "df = pd.concat([df_train, df_test])\n",
    "df['question1'] = df['question1'].fillna('')\n",
    "df['question2'] = df['question2'].fillna('')\n",
    "df['uid'] = np.arange(df.shape[0])\n",
    "df = df.set_index(['uid'])\n",
    "print df.dtypes\n",
    "del(df_train, df_test)"
   ]
  },
  {
   "cell_type": "code",
   "execution_count": 21,
   "metadata": {
    "collapsed": true
   },
   "outputs": [],
   "source": [
    "df = pd.read_csv(\"data/cache/extra_features_v2.csv\")"
   ]
  },
  {
   "cell_type": "code",
   "execution_count": 22,
   "metadata": {
    "collapsed": true
   },
   "outputs": [],
   "source": [
    "ix_train = np.where(df['id'] >= 0)[0]\n",
    "ix_test = np.where(df['id'] == -1)[0]\n",
    "ix_is_dup = np.where(df['is_duplicate'] == 1)[0]\n",
    "ix_not_dup = np.where(df['is_duplicate'] == 0)[0]"
   ]
  },
  {
   "cell_type": "markdown",
   "metadata": {},
   "source": [
    "### helper functions"
   ]
  },
  {
   "cell_type": "code",
   "execution_count": 4,
   "metadata": {
    "collapsed": true
   },
   "outputs": [],
   "source": [
    "def cosine_sparse (m_q1_tf,m_q2_tf):\n",
    "    \n",
    "    v_num = np.array(m_q1_tf.multiply(m_q2_tf).sum(axis=1))[:, 0]\n",
    "    v_den = np.array(np.sqrt(m_q1_tf.multiply(m_q1_tf).sum(axis=1)))[:, 0] * \\\n",
    "            np.array(np.sqrt(m_q2_tf.multiply(m_q2_tf).sum(axis=1)))[:, 0]\n",
    "    v_num[np.where(v_den == 0)] = 1\n",
    "    v_den[np.where(v_den == 0)] = 1\n",
    "\n",
    "    v_score = 1 - v_num/v_den\n",
    "    \n",
    "    return v_score"
   ]
  },
  {
   "cell_type": "code",
   "execution_count": 5,
   "metadata": {
    "collapsed": true
   },
   "outputs": [],
   "source": [
    "def euclidean_sparse (m_q1_tf,m_q2_tf):\n",
    "        \n",
    "    v_score = (m_q1_tf - m_q2_tf)\n",
    "    v_score = np.sqrt(np.array(v_score.multiply(v_score).sum(axis=1))[:, 0])\n",
    "\n",
    "    return v_score\n",
    "    \n",
    " "
   ]
  },
  {
   "cell_type": "code",
   "execution_count": 6,
   "metadata": {
    "collapsed": true
   },
   "outputs": [],
   "source": [
    "def save_sparse_csr(fname, sm):\n",
    "    np.savez(fname, \n",
    "             data=sm.data, \n",
    "             indices=sm.indices,\n",
    "             indptr=sm.indptr, \n",
    "             shape=sm.shape)\n",
    "\n",
    "def load_sparse_csr(fname):\n",
    "    loader = np.load(fname)\n",
    "    return sparse.csr_matrix((\n",
    "        loader['data'], \n",
    "        loader['indices'], \n",
    "        loader['indptr']),\n",
    "        shape=loader['shape'])\n"
   ]
  },
  {
   "cell_type": "code",
   "execution_count": 7,
   "metadata": {
    "collapsed": true
   },
   "outputs": [],
   "source": [
    "\n",
    "def plot_real_feature(fname):\n",
    "    plt.rcParams['figure.figsize'] = 16, 12\n",
    "    \n",
    "    \n",
    "    fig = plt.figure()\n",
    "    ax1 = plt.subplot2grid((3, 2), (0, 0), colspan=2)\n",
    "    ax2 = plt.subplot2grid((3, 2), (1, 0), colspan=2)\n",
    "    ax3 = plt.subplot2grid((3, 2), (2, 0))\n",
    "    ax4 = plt.subplot2grid((3, 2), (2, 1))\n",
    "    ax1.set_title('Distribution of %s' % fname, fontsize=20)\n",
    "    sns.distplot(df.loc[ix_train][fname], \n",
    "                 bins=50, \n",
    "                 ax=ax1)    \n",
    "    sns.distplot(df.loc[ix_is_dup][fname], \n",
    "                 bins=50, \n",
    "                 ax=ax2,\n",
    "                 label='is dup')    \n",
    "    sns.distplot(df.loc[ix_not_dup][fname], \n",
    "                 bins=50, \n",
    "                 ax=ax2,\n",
    "                 label='not dup')\n",
    "    ax2.legend(loc='upper right', prop={'size': 18})\n",
    "    sns.boxplot(y=fname, \n",
    "                x='is_duplicate', \n",
    "                data=df.loc[ix_train], \n",
    "                ax=ax3)\n",
    "    sns.violinplot(y=fname, \n",
    "                   x='is_duplicate', \n",
    "                   data=df.loc[ix_train], \n",
    "                   ax=ax4)\n",
    "    plt.show()"
   ]
  },
  {
   "cell_type": "markdown",
   "metadata": {},
   "source": [
    "### load cached data or do CountVectorizer"
   ]
  },
  {
   "cell_type": "code",
   "execution_count": 7,
   "metadata": {},
   "outputs": [
    {
     "name": "stdout",
     "output_type": "stream",
     "text": [
      "loading existing files\n",
      "CPU times: user 2.26 s, sys: 72 ms, total: 2.34 s\n",
      "Wall time: 2.33 s\n"
     ]
    }
   ],
   "source": [
    "%%time\n",
    "if os.path.isfile('tmp/cv_char.pkl') and os.path.isfile('tmp/ch_freq.pkl'):\n",
    "    print \"loading existing files\"\n",
    "    with open('tmp/cv_char.pkl', 'rb') as f:\n",
    "        cv_char = pickle.load(f)\n",
    "    with open('tmp/ch_freq.pkl', 'rb') as f:\n",
    "        ch_freq = pickle.load(f)\n",
    "else:\n",
    "    cv_char = CountVectorizer(ngram_range=(1, 4), analyzer='char')\n",
    "    ch_freq = np.array(cv_char.fit_transform(df['question1'].tolist() + df['question2'].tolist()).sum(axis=0))[0, :]\n",
    "    with open('tmp/cv_char.pkl', 'wb') as f:\n",
    "        pickle.dump(cv_char, f)\n",
    "    with open('tmp/ch_freq.pkl', 'wb') as f:\n",
    "        pickle.dump(ch_freq, f)"
   ]
  },
  {
   "cell_type": "code",
   "execution_count": 8,
   "metadata": {},
   "outputs": [
    {
     "name": "stdout",
     "output_type": "stream",
     "text": [
      "Unigrams: 46\n",
      "Bigrams:  1625\n",
      "Trigrams: 25769\n",
      "Quadgrams: 174207\n"
     ]
    }
   ],
   "source": [
    "unigrams = dict([(k, v) for (k, v) in cv_char.vocabulary_.items() if len(k) == 1])\n",
    "ix_unigrams = np.sort(unigrams.values())\n",
    "print 'Unigrams:', len(unigrams)\n",
    "bigrams = dict([(k, v) for (k, v) in cv_char.vocabulary_.items() if len(k) == 2])\n",
    "ix_bigrams = np.sort(bigrams.values())\n",
    "print 'Bigrams: ', len(bigrams)\n",
    "trigrams = dict([(k, v) for (k, v) in cv_char.vocabulary_.items() if len(k) == 3])\n",
    "ix_trigrams = np.sort(trigrams.values())\n",
    "print 'Trigrams:', len(trigrams)\n",
    "\n",
    "quadgrams = dict([(k, v) for (k, v) in cv_char.vocabulary_.items() if len(k) == 4])\n",
    "ix_quadgrams = np.sort(quadgrams.values())\n",
    "print 'Quadgrams:', len(quadgrams)"
   ]
  },
  {
   "cell_type": "code",
   "execution_count": 9,
   "metadata": {},
   "outputs": [
    {
     "name": "stdout",
     "output_type": "stream",
     "text": [
      "loading existing files\n",
      "CPU times: user 15.1 s, sys: 7.17 s, total: 22.3 s\n",
      "Wall time: 1min 2s\n"
     ]
    }
   ],
   "source": [
    "%%time\n",
    "\n",
    "if os.path.isfile('tmp/m_q1.npz') and os.path.isfile('tmp/m_q2.npz'):\n",
    "    print 'loading existing files'\n",
    "    m_q1 = load_sparse_csr('tmp/m_q1.npz')\n",
    "    m_q2 = load_sparse_csr('tmp/m_q2.npz')\n",
    "else:\n",
    "    m_q1 = cv_char.transform(df['question1'].values)\n",
    "    m_q2 = cv_char.transform(df['question2'].values)\n",
    "    save_sparse_csr('tmp/m_q1.npz', m_q1)\n",
    "    save_sparse_csr('tmp/m_q2.npz', m_q2)"
   ]
  },
  {
   "cell_type": "markdown",
   "metadata": {},
   "source": [
    "### letter n-gram new distance functions \n",
    "besides the previous jaccard calculations, we add euclidean and cosine for CountVectorizer.transform of question1 and question2 "
   ]
  },
  {
   "cell_type": "code",
   "execution_count": 18,
   "metadata": {
    "collapsed": true
   },
   "outputs": [],
   "source": [
    "def create_distance_features_for_letter_ngrams(indices,ngram=\"\"):\n",
    "    m_q1_tf = m_q1[:, indices] \n",
    "    m_q2_tf = m_q2[:, indices] \n",
    "    \n",
    "    \n",
    "    #euclidean\n",
    "    \n",
    "    v_score = (m_q1_tf - m_q2_tf)\n",
    "    v_score = np.sqrt(np.array(v_score.multiply(v_score).sum(axis=1))[:, 0])\n",
    "\n",
    "    df['{}gr_cv_euclidean'.format(ngram)] = v_score\n",
    "    \n",
    "    \n",
    "    #cosine\n",
    "\n",
    "\n",
    "    v_num = np.array(m_q1_tf.multiply(m_q2_tf).sum(axis=1))[:, 0]\n",
    "    v_den = np.array(np.sqrt(m_q1_tf.multiply(m_q1_tf).sum(axis=1)))[:, 0] * \\\n",
    "            np.array(np.sqrt(m_q2_tf.multiply(m_q2_tf).sum(axis=1)))[:, 0]\n",
    "    \n",
    "    v_num[np.where(v_den == 0)] = 1\n",
    "    v_den[np.where(v_den == 0)] = 1\n",
    "\n",
    "    v_score = 1 - v_num/v_den\n",
    "    \n",
    "    df['{}gr_cv_cosine'.format(ngram)] = v_score\n"
   ]
  },
  {
   "cell_type": "code",
   "execution_count": 24,
   "metadata": {
    "collapsed": true
   },
   "outputs": [],
   "source": [
    "create_distance_features_for_letter_ngrams(ix_unigrams,\"1\")\n",
    "create_distance_features_for_letter_ngrams(ix_bigrams,\"2\")\n",
    "create_distance_features_for_letter_ngrams(ix_trigrams,\"3\")\n"
   ]
  },
  {
   "cell_type": "code",
   "execution_count": 36,
   "metadata": {
    "collapsed": true
   },
   "outputs": [],
   "source": [
    "create_distance_features_for_letter_ngrams(ix_quadgrams,\"4\")"
   ]
  },
  {
   "cell_type": "code",
   "execution_count": 42,
   "metadata": {
    "collapsed": true
   },
   "outputs": [],
   "source": [
    "# plot_real_feature('3gr_cv_euclidean')"
   ]
  },
  {
   "cell_type": "code",
   "execution_count": 34,
   "metadata": {
    "collapsed": true
   },
   "outputs": [],
   "source": [
    "# plot_real_feature('2gr_cv_euclidean')"
   ]
  },
  {
   "cell_type": "code",
   "execution_count": 40,
   "metadata": {
    "collapsed": true
   },
   "outputs": [],
   "source": [
    "# plot_real_feature('3gr_cv_cosine')"
   ]
  },
  {
   "cell_type": "markdown",
   "metadata": {},
   "source": [
    "## word n-grams"
   ]
  },
  {
   "cell_type": "markdown",
   "metadata": {},
   "source": [
    "### 1-gram"
   ]
  },
  {
   "cell_type": "code",
   "execution_count": 8,
   "metadata": {},
   "outputs": [
    {
     "name": "stdout",
     "output_type": "stream",
     "text": [
      "CPU times: user 1.33 s, sys: 12 ms, total: 1.34 s\n",
      "Wall time: 1.36 s\n"
     ]
    }
   ],
   "source": [
    "%%time\n",
    "if os.path.isfile('tmp/cv_word_lemma.pkl') and os.path.isfile('tmp/wl_freq.pkl'):\n",
    "    with open('tmp/cv_word_lemma.pkl', 'rb') as f:\n",
    "        cv_words = pickle.load(f)\n",
    "    with open('tmp/wl_freq.pkl', 'rb') as f:\n",
    "        w_freq = pickle.load(f)\n",
    "else:\n",
    "    cv_words = CountVectorizer(ngram_range=(1, 1), analyzer='word')\n",
    "    w_freq = np.array(cv_words.fit_transform(\n",
    "        [' '.join(s) for s in q1] + [' '.join(s) for s in q2]).sum(axis=0))[0, :]\n",
    "    with open('tmp/cv_word_lemma.pkl', 'wb') as f:\n",
    "        pickle.dump(cv_words, f)\n",
    "    with open('tmp/wl_freq.pkl', 'wb') as f:\n",
    "        pickle.dump(w_freq, f)"
   ]
  },
  {
   "cell_type": "code",
   "execution_count": 9,
   "metadata": {
    "collapsed": true
   },
   "outputs": [],
   "source": [
    "if os.path.isfile('tmp/m_q1_wl.npz') and os.path.isfile('tmp/m_q2_wl.npz'):\n",
    "    m_q1 = load_sparse_csr('tmp/m_q1_wl.npz')\n",
    "    m_q2 = load_sparse_csr('tmp/m_q2_wl.npz')\n",
    "else:\n",
    "    m_q1 = cv_words.transform([' '.join(s) for s in q1])\n",
    "    m_q2 = cv_words.transform([' '.join(s) for s in q2])\n",
    "    save_sparse_csr('tmp/m_q1_wl.npz', m_q1)\n",
    "    save_sparse_csr('tmp/m_q2_wl.npz', m_q2)"
   ]
  },
  {
   "cell_type": "markdown",
   "metadata": {},
   "source": [
    "#### TF vs TFIDF, L1 vs L2 normalization"
   ]
  },
  {
   "cell_type": "code",
   "execution_count": 52,
   "metadata": {
    "collapsed": true
   },
   "outputs": [],
   "source": [
    "tft = TfidfTransformer(\n",
    "    norm='l2', \n",
    "    use_idf=False,  # <<< \n",
    "    smooth_idf=True, \n",
    "    sublinear_tf=False)\n",
    "\n",
    "tft = tft.fit(sparse.vstack((m_q1, m_q2)))\n",
    "m_q1_tf = tft.transform(m_q1)\n",
    "m_q2_tf = tft.transform(m_q2)\n",
    "\n",
    "\n",
    "df['1wl_tf_l2_cosine'] = cosine_sparse(m_q1_tf,m_q2_tf)\n"
   ]
  },
  {
   "cell_type": "code",
   "execution_count": null,
   "metadata": {
    "collapsed": true
   },
   "outputs": [],
   "source": [
    "# plot_real_feature('1wl_tf_l2_cosine')"
   ]
  },
  {
   "cell_type": "code",
   "execution_count": 60,
   "metadata": {
    "collapsed": true
   },
   "outputs": [],
   "source": [
    "tft = TfidfTransformer(\n",
    "    norm='l1', \n",
    "    use_idf=True,  # <<< \n",
    "    smooth_idf=True, \n",
    "    sublinear_tf=False)\n",
    "\n",
    "tft = tft.fit(sparse.vstack((m_q1, m_q2)))\n",
    "m_q1_tf = tft.transform(m_q1)\n",
    "m_q2_tf = tft.transform(m_q2)\n",
    "\n",
    "\n",
    "df['1wl_tfidf_l1_euclidean'] = euclidean_sparse(m_q1_tf,m_q2_tf)\n"
   ]
  },
  {
   "cell_type": "markdown",
   "metadata": {},
   "source": [
    "1wl_tfidf_l1_cosine was exactly like l2, ignoring"
   ]
  },
  {
   "cell_type": "code",
   "execution_count": 63,
   "metadata": {
    "collapsed": true
   },
   "outputs": [],
   "source": [
    "tft = TfidfTransformer(\n",
    "    norm='l1', \n",
    "    use_idf=False,  # <<< \n",
    "    smooth_idf=True, \n",
    "    sublinear_tf=False)\n",
    "\n",
    "tft = tft.fit(sparse.vstack((m_q1, m_q2)))\n",
    "m_q1_tf = tft.transform(m_q1)\n",
    "m_q2_tf = tft.transform(m_q2)\n",
    "\n",
    "\n",
    "df['1wl_tf_l1_cosine'] = cosine_sparse(m_q1_tf,m_q2_tf)\n"
   ]
  },
  {
   "cell_type": "code",
   "execution_count": 68,
   "metadata": {
    "collapsed": true
   },
   "outputs": [],
   "source": [
    "tft = TfidfTransformer(\n",
    "    norm='l1', \n",
    "    use_idf=False,  # <<< \n",
    "    smooth_idf=True, \n",
    "    sublinear_tf=False)\n",
    "\n",
    "tft = tft.fit(sparse.vstack((m_q1, m_q2)))\n",
    "m_q1_tf = tft.transform(m_q1)\n",
    "m_q2_tf = tft.transform(m_q2)\n",
    "\n",
    "\n",
    "df['1wl_tf_l1_euclidean'] = euclidean_sparse(m_q1_tf,m_q2_tf)\n"
   ]
  },
  {
   "cell_type": "code",
   "execution_count": 70,
   "metadata": {
    "collapsed": true
   },
   "outputs": [],
   "source": [
    "# plot_real_feature('1wl_tf_l1_euclidean')"
   ]
  },
  {
   "cell_type": "code",
   "execution_count": 34,
   "metadata": {
    "collapsed": true
   },
   "outputs": [],
   "source": [
    "df.to_csv(\"data/cache/extra_features_v2.csv\",index=False)"
   ]
  },
  {
   "cell_type": "markdown",
   "metadata": {},
   "source": [
    "### Horizontal SVD of TF l2 normalized word 1grams"
   ]
  },
  {
   "cell_type": "code",
   "execution_count": 10,
   "metadata": {
    "collapsed": true
   },
   "outputs": [],
   "source": [
    "tft = TfidfTransformer(\n",
    "    norm='l2', \n",
    "    use_idf=False,  # <<< \n",
    "    smooth_idf=True, \n",
    "    sublinear_tf=False)\n",
    "\n",
    "tft = tft.fit(sparse.vstack((m_q1, m_q2)))\n",
    "m_q1_tf = tft.transform(m_q1)\n",
    "m_q2_tf = tft.transform(m_q2)\n",
    "\n"
   ]
  },
  {
   "cell_type": "code",
   "execution_count": 73,
   "metadata": {},
   "outputs": [
    {
     "name": "stdout",
     "output_type": "stream",
     "text": [
      "CPU times: user 10min 2s, sys: 2min 45s, total: 12min 48s\n",
      "Wall time: 4min 43s\n"
     ]
    }
   ],
   "source": [
    "%%time\n",
    "if not os.path.isfile('tmp/w1g_horizontal_svd.pkl'):\n",
    "    svd = TruncatedSVD(n_components=100)\n",
    "    m_svd = svd.fit_transform(sparse.csc_matrix(sparse.hstack((m_q1_tf, m_q2_tf))))\n",
    "    with open('tmp/w1g_horizontal_svd.pkl', 'wb') as f:\n",
    "        pickle.dump(svd, f)\n",
    "    with open('tmp/w1g_horizontal_svd_htransformed.npz', 'wb') as f:\n",
    "        np.savez(f, m_svd)\n",
    "else:\n",
    "    print 'loading existing data'\n",
    "    with open('tmp/w1g_horizontal_svd.pkl', 'rb') as f:\n",
    "        svd = pickle.load(f)\n",
    "    with open('tmp/w1g_horizontal_svd_htransformed.npz', 'rb') as f:\n",
    "        m_svd = np.load(f)['arr_0']"
   ]
  },
  {
   "cell_type": "code",
   "execution_count": 83,
   "metadata": {
    "collapsed": true
   },
   "outputs": [],
   "source": [
    "df['w1g_tf_q1_q2_tf_svd1'] = m_svd[:, 1]\n",
    "# plot_real_feature('w1g_tf_q1_q2_tf_svd1')"
   ]
  },
  {
   "cell_type": "code",
   "execution_count": 25,
   "metadata": {
    "collapsed": true
   },
   "outputs": [],
   "source": [
    "df.to_csv(\"data/cache/extra_features_v2.csv\",index=False)"
   ]
  },
  {
   "cell_type": "code",
   "execution_count": 86,
   "metadata": {},
   "outputs": [
    {
     "data": {
      "text/plain": [
       "53672"
      ]
     },
     "execution_count": 86,
     "metadata": {},
     "output_type": "execute_result"
    }
   ],
   "source": [
    "import gc\n",
    "gc.collect()"
   ]
  },
  {
   "cell_type": "markdown",
   "metadata": {},
   "source": [
    "### Vertical SVD of TF l2 normalized word 1grams"
   ]
  },
  {
   "cell_type": "code",
   "execution_count": 11,
   "metadata": {},
   "outputs": [
    {
     "name": "stdout",
     "output_type": "stream",
     "text": [
      "CPU times: user 15min 25s, sys: 3min 38s, total: 19min 3s\n",
      "Wall time: 6min 8s\n"
     ]
    }
   ],
   "source": [
    "%%time \n",
    "\n",
    "if not os.path.isfile('tmp/w1g_vertical_svd.pkl'):\n",
    "    svd = TruncatedSVD(n_components=100)\n",
    "    m_svd = svd.fit_transform(sparse.csc_matrix(sparse.vstack((m_q1_tf, m_q2_tf))))\n",
    "    with open('tmp/w1g_vertical_svd.pkl', 'wb') as f:\n",
    "        pickle.dump(svd, f)\n",
    "    with open('tmp/w1g_vertical_svd_vtransformed.npz', 'wb') as f:\n",
    "        np.savez(f, m_svd)\n",
    "else:\n",
    "    print 'loading existing data'\n",
    "    with open('tmp/w1g_vertical_svd.pkl', 'rb') as f:\n",
    "        svd = pickle.load(f)\n",
    "    with open('tmp/w1g_vertical_svd_vtransformed.npz', 'rb') as f:\n",
    "        m_svd = np.load(f)['arr_0']"
   ]
  },
  {
   "cell_type": "code",
   "execution_count": 12,
   "metadata": {
    "collapsed": true
   },
   "outputs": [],
   "source": [
    "m_svd_q1 = m_svd[:m_svd.shape[0]/2, :]\n",
    "m_svd_q2 = m_svd[m_svd.shape[0]/2:, :]"
   ]
  },
  {
   "cell_type": "code",
   "execution_count": null,
   "metadata": {
    "collapsed": true
   },
   "outputs": [],
   "source": [
    "del(m_svd)\n",
    "del(m_q1_tf, m_q2_tf)"
   ]
  },
  {
   "cell_type": "code",
   "execution_count": 13,
   "metadata": {
    "collapsed": true
   },
   "outputs": [],
   "source": [
    "df['w1g_vstack_svd_q1_q1_euclidean'] = ((m_svd_q1 - m_svd_q2)**2).mean(axis=1)"
   ]
  },
  {
   "cell_type": "code",
   "execution_count": 17,
   "metadata": {
    "collapsed": true
   },
   "outputs": [],
   "source": [
    "# plot_real_feature('w1g_vstack_svd_q1_q1_euclidean')"
   ]
  },
  {
   "cell_type": "code",
   "execution_count": 14,
   "metadata": {
    "collapsed": true
   },
   "outputs": [],
   "source": [
    "num = (m_svd_q1*m_svd_q2).sum(axis=1)\n",
    "den = np.sqrt((m_svd_q1**2).sum(axis=1))*np.sqrt((m_svd_q2**2).sum(axis=1))\n",
    "num[np.where(den == 0)] = 0\n",
    "den[np.where(den == 0)] = 1\n",
    "df['w1g_vstack_svd_q1_q1_cosine'] = 1 - num/den"
   ]
  },
  {
   "cell_type": "code",
   "execution_count": 18,
   "metadata": {
    "collapsed": true
   },
   "outputs": [],
   "source": [
    "# plot_real_feature('w1g_vstack_svd_q1_q1_cosine')"
   ]
  },
  {
   "cell_type": "code",
   "execution_count": 19,
   "metadata": {},
   "outputs": [
    {
     "name": "stdout",
     "output_type": "stream",
     "text": [
      "creating cityblock_distance\n",
      "creating jaccard_distance\n",
      "creating canberra_distance\n",
      "creating minkowski_distance\n",
      "creating braycurtis_distance\n"
     ]
    }
   ],
   "source": [
    "from scipy.spatial.distance import cosine ,euclidean, minkowski, braycurtis,cityblock, jaccard, canberra\n",
    "\n",
    "\n",
    "print ('creating cityblock_distance')\n",
    "df['w1g_vsvd_cityblock_distance'] = [cityblock(x, y) for (x, y) in zip(m_svd_q1,m_svd_q2)]\n",
    "\n",
    "print ('creating jaccard_distance')\n",
    "df['w1g_vsvd_jaccard_distance'] = [jaccard(x, y) for (x, y) in zip(m_svd_q1,m_svd_q2)]\n",
    "\n",
    "print ('creating canberra_distance')\n",
    "df['w1g_vsvd_canberra_distance'] = [canberra(x, y) for (x, y) in zip(m_svd_q1,m_svd_q2)]\n",
    "\n",
    "\n",
    "print ('creating minkowski_distance')\n",
    "df['w1g_vsvd_minkowski_distance'] = [minkowski(x, y, 3) for (x, y) in zip(m_svd_q1,m_svd_q2)]\n",
    "\n",
    "print ('creating braycurtis_distance')\n",
    "df['w1g_vsvd_braycurtis_distance'] = [braycurtis(x, y) for (x, y) in zip(m_svd_q1,m_svd_q2)]\n"
   ]
  },
  {
   "cell_type": "markdown",
   "metadata": {
    "collapsed": true
   },
   "source": [
    "## word 2-gram vertical stack and then SVD\n",
    "3-gram gets memory error so resorting to 2-gram"
   ]
  },
  {
   "cell_type": "code",
   "execution_count": 9,
   "metadata": {},
   "outputs": [
    {
     "name": "stdout",
     "output_type": "stream",
     "text": [
      "loading existing file\n"
     ]
    }
   ],
   "source": [
    "SYMBOLS = set(' '.join(string.punctuation).split(' ') + ['...', '“', '”', '\\'ve'])\n",
    "\n",
    "if not os.path.isfile('tmp/bow_lemma.pkl'):\n",
    "    q1 = []\n",
    "\n",
    "    for doc in nlp.pipe(df['question1'].str.decode('utf-8'), n_threads=16, batch_size=10000):\n",
    "        q1.append([c.lemma_ for c in doc if c.lemma_ not in SYMBOLS])\n",
    "\n",
    "    q2 = []\n",
    "\n",
    "    for doc in nlp.pipe(df['question2'].str.decode('utf-8'), n_threads=16, batch_size=10000):\n",
    "        q2.append([c.lemma_ for c in doc if c.lemma_ not in SYMBOLS])\n",
    "        \n",
    "    with open('tmp/bow_lemma.pkl', 'wb') as f:\n",
    "        pickle.dump({\n",
    "            'q1': q1,\n",
    "            'q2': q2\n",
    "        }, f)\n",
    "else:\n",
    "    with open('tmp/bow_lemma.pkl', 'rb') as f:\n",
    "        print 'loading existing file'\n",
    "        tmp = pickle.load(f)\n",
    "        q1 = tmp['q1']\n",
    "        q2 = tmp['q2']\n",
    "        del(tmp)"
   ]
  },
  {
   "cell_type": "code",
   "execution_count": 10,
   "metadata": {},
   "outputs": [
    {
     "name": "stdout",
     "output_type": "stream",
     "text": [
      "CPU times: user 2min 12s, sys: 1.73 s, total: 2min 14s\n",
      "Wall time: 2min 14s\n"
     ]
    }
   ],
   "source": [
    "%%time\n",
    "cv_words = CountVectorizer(ngram_range=(2, 2), analyzer='word')\n",
    "cv_words.fit([' '.join(s) for s in q1] + [' '.join(s) for s in q2])\n"
   ]
  },
  {
   "cell_type": "code",
   "execution_count": 11,
   "metadata": {},
   "outputs": [
    {
     "name": "stdout",
     "output_type": "stream",
     "text": [
      "CPU times: user 1min 54s, sys: 812 ms, total: 1min 55s\n",
      "Wall time: 1min 54s\n"
     ]
    }
   ],
   "source": [
    "%%time\n",
    "\n",
    "m_q1 = cv_words.transform([' '.join(s) for s in q1])\n",
    "m_q2 = cv_words.transform([' '.join(s) for s in q2])\n"
   ]
  },
  {
   "cell_type": "code",
   "execution_count": 17,
   "metadata": {
    "collapsed": true
   },
   "outputs": [],
   "source": [
    "tft = TfidfTransformer(\n",
    "    norm='l2', \n",
    "    use_idf=False, \n",
    "    smooth_idf=True, \n",
    "    sublinear_tf=False)\n",
    "\n",
    "tft = tft.fit(sparse.vstack((m_q1, m_q2)))\n",
    "m_q1_tf = tft.transform(m_q1)\n",
    "m_q2_tf = tft.transform(m_q2)"
   ]
  },
  {
   "cell_type": "code",
   "execution_count": 18,
   "metadata": {
    "collapsed": true,
    "scrolled": true
   },
   "outputs": [],
   "source": [
    "# save_sparse_csr(\"data/cache/w2g_m_q1_tf.npz\",m_q1_tf)\n",
    "# save_sparse_csr(\"data/cache/w2g_m_q2_tf.npz\",m_q2_tf)"
   ]
  },
  {
   "cell_type": "code",
   "execution_count": 8,
   "metadata": {
    "collapsed": true
   },
   "outputs": [],
   "source": [
    "m_q1_tf = load_sparse_csr(\"data/cache/w2g_m_q1_tf.npz\")\n",
    "m_q2_tf = load_sparse_csr(\"data/cache/w2g_m_q2_tf.npz\")"
   ]
  },
  {
   "cell_type": "code",
   "execution_count": 24,
   "metadata": {},
   "outputs": [
    {
     "name": "stdout",
     "output_type": "stream",
     "text": [
      "loading existing data\n",
      "CPU times: user 1min 3s, sys: 24.8 s, total: 1min 27s\n",
      "Wall time: 2min\n"
     ]
    }
   ],
   "source": [
    "%%time \n",
    "\n",
    "if not os.path.isfile('tmp/w2g_vertical_svd.pkl'):\n",
    "    svd = TruncatedSVD(n_components=100)\n",
    "    m_svd = svd.fit_transform(sparse.csc_matrix(sparse.vstack((m_q1_tf, m_q2_tf))))\n",
    "    \n",
    "    with open('tmp/w2g_vertical_svd.pkl', 'wb') as f:\n",
    "        pickle.dump(svd, f)\n",
    "    with open('tmp/w2g_vertical_svd_vtransformed.npz', 'wb') as f:\n",
    "        np.savez(f, m_svd)\n",
    "else:\n",
    "    print 'loading existing data'\n",
    "    with open('tmp/w2g_vertical_svd.pkl', 'rb') as f:\n",
    "        svd = pickle.load(f)\n",
    "    with open('tmp/w2g_vertical_svd_vtransformed.npz', 'rb') as f:\n",
    "        m_svd = np.load(f)['arr_0']"
   ]
  },
  {
   "cell_type": "code",
   "execution_count": 25,
   "metadata": {
    "collapsed": true
   },
   "outputs": [],
   "source": [
    "m_svd_q1 = m_svd[:m_svd.shape[0]/2, :]\n",
    "m_svd_q2 = m_svd[m_svd.shape[0]/2:, :]"
   ]
  },
  {
   "cell_type": "code",
   "execution_count": 26,
   "metadata": {
    "collapsed": true
   },
   "outputs": [],
   "source": [
    "df['w2g_vstack_svd_q1_q1_euclidean'] = ((m_svd_q1 - m_svd_q2)**2).mean(axis=1)"
   ]
  },
  {
   "cell_type": "code",
   "execution_count": 27,
   "metadata": {
    "collapsed": true
   },
   "outputs": [],
   "source": [
    "num = (m_svd_q1*m_svd_q2).sum(axis=1)\n",
    "den = np.sqrt((m_svd_q1**2).sum(axis=1))*np.sqrt((m_svd_q2**2).sum(axis=1))\n",
    "num[np.where(den == 0)] = 0\n",
    "den[np.where(den == 0)] = 1\n",
    "df['w2g_vstack_svd_q1_q1_cosine'] = 1 - num/den"
   ]
  },
  {
   "cell_type": "code",
   "execution_count": 28,
   "metadata": {},
   "outputs": [
    {
     "name": "stdout",
     "output_type": "stream",
     "text": [
      "creating cityblock_distance\n",
      "creating jaccard_distance\n",
      "creating canberra_distance\n",
      "creating minkowski_distance\n",
      "creating braycurtis_distance\n"
     ]
    }
   ],
   "source": [
    "from scipy.spatial.distance import cosine ,euclidean, minkowski, braycurtis,cityblock, jaccard, canberra\n",
    "\n",
    "\n",
    "print ('creating cityblock_distance')\n",
    "df['w2g_vsvd_cityblock_distance'] = [cityblock(x, y) for (x, y) in zip(m_svd_q1,m_svd_q2)]\n",
    "\n",
    "print ('creating jaccard_distance')\n",
    "df['w2g_vsvd_jaccard_distance'] = [jaccard(x, y) for (x, y) in zip(m_svd_q1,m_svd_q2)]\n",
    "\n",
    "print ('creating canberra_distance')\n",
    "df['w2g_vsvd_canberra_distance'] = [canberra(x, y) for (x, y) in zip(m_svd_q1,m_svd_q2)]\n",
    "\n",
    "\n",
    "print ('creating minkowski_distance')\n",
    "df['w2g_vsvd_minkowski_distance'] = [minkowski(x, y, 3) for (x, y) in zip(m_svd_q1,m_svd_q2)]\n",
    "\n",
    "print ('creating braycurtis_distance')\n",
    "df['w2g_vsvd_braycurtis_distance'] = [braycurtis(x, y) for (x, y) in zip(m_svd_q1,m_svd_q2)]\n"
   ]
  },
  {
   "cell_type": "code",
   "execution_count": 31,
   "metadata": {},
   "outputs": [
    {
     "data": {
      "text/plain": [
       "Index([u'id', u'is_duplicate', u'qid1', u'qid2', u'question1', u'question2',\n",
       "       u'test_id', u'1gr_cv_euclidean', u'1gr_cv_cosine', u'2gr_cv_euclidean',\n",
       "       u'2gr_cv_cosine', u'3gr_cv_euclidean', u'3gr_cv_cosine',\n",
       "       u'4gr_cv_euclidean', u'4gr_cv_cosine', u'1wl_tf_l2_cosine',\n",
       "       u'1wl_tfidf_l1_euclidean', u'1wl_tf_l1_cosine', u'1wl_tf_l1_euclidean',\n",
       "       u'w1g_tf_q1_q2_tf_svd0', u'w1g_tf_q1_q2_tf_svd1',\n",
       "       u'w1g_vstack_svd_q1_q1_euclidean', u'w1g_vstack_svd_q1_q1_cosine',\n",
       "       u'w1g_vsvd_cityblock_distance', u'w1g_vsvd_jaccard_distance',\n",
       "       u'w1g_vsvd_canberra_distance', u'w1g_vsvd_minkowski_distance',\n",
       "       u'w1g_vsvd_braycurtis_distance', u'w2g_vstack_svd_q1_q1_euclidean',\n",
       "       u'w2g_vstack_svd_q1_q1_cosine', u'w2g_vsvd_cityblock_distance',\n",
       "       u'w2g_vsvd_jaccard_distance', u'w2g_vsvd_canberra_distance',\n",
       "       u'w2g_vsvd_minkowski_distance', u'w2g_vsvd_braycurtis_distance'],\n",
       "      dtype='object')"
      ]
     },
     "execution_count": 31,
     "metadata": {},
     "output_type": "execute_result"
    }
   ],
   "source": [
    "df.columns"
   ]
  },
  {
   "cell_type": "code",
   "execution_count": 30,
   "metadata": {
    "collapsed": true
   },
   "outputs": [],
   "source": [
    "df.drop('tmp',axis=1,inplace=True)"
   ]
  },
  {
   "cell_type": "code",
   "execution_count": 32,
   "metadata": {},
   "outputs": [
    {
     "data": {
      "text/plain": [
       "count    2.750031e+06\n",
       "mean     7.829935e-01\n",
       "std      3.232374e-01\n",
       "min      0.000000e+00\n",
       "25%               NaN\n",
       "50%               NaN\n",
       "75%               NaN\n",
       "max      1.964810e+00\n",
       "Name: w2g_vsvd_braycurtis_distance, dtype: float64"
      ]
     },
     "execution_count": 32,
     "metadata": {},
     "output_type": "execute_result"
    }
   ],
   "source": [
    "df['w2g_vsvd_braycurtis_distance'].describe()"
   ]
  },
  {
   "cell_type": "code",
   "execution_count": 33,
   "metadata": {},
   "outputs": [
    {
     "data": {
      "image/png": "[encoded data removed]",
      "text/plain": [
       "<matplotlib.figure.Figure at 0x7ff19558cd90>"
      ]
     },
     "metadata": {},
     "output_type": "display_data"
    }
   ],
   "source": [
    "plot_real_feature('w2g_vsvd_canberra_distance')"
   ]
  },
  {
   "cell_type": "code",
   "execution_count": null,
   "metadata": {
    "collapsed": true
   },
   "outputs": [],
   "source": []
  }
 ],
 "metadata": {
  "anaconda-cloud": {},
  "kernelspec": {
   "display_name": "Python [conda env:qenv]",
   "language": "python",
   "name": "conda-env-qenv-py"
  },
  "language_info": {
   "codemirror_mode": {
    "name": "ipython",
    "version": 2
   },
   "file_extension": ".py",
   "mimetype": "text/x-python",
   "name": "python",
   "nbconvert_exporter": "python",
   "pygments_lexer": "ipython2",
   "version": "2.7.12"
  }
 },
 "nbformat": 4,
 "nbformat_minor": 2
}
