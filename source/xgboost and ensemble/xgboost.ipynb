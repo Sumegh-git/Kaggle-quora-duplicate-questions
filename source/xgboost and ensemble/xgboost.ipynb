{
 "cells": [
  {
   "cell_type": "code",
   "execution_count": 1,
   "metadata": {
    "scrolled": true
   },
   "outputs": [
    {
     "name": "stderr",
     "output_type": "stream",
     "text": [
      "/home/ubuntu/anaconda2/envs/qenv/lib/python2.7/site-packages/sklearn/cross_validation.py:44: DeprecationWarning: This module was deprecated in version 0.18 in favor of the model_selection module into which all the refactored classes and functions are moved. Also note that the interface of the new CV iterators are different from that of this module. This module will be removed in 0.20.\n",
      "  \"This module will be removed in 0.20.\", DeprecationWarning)\n"
     ]
    }
   ],
   "source": [
    "import utils\n",
    "from utils import *\n",
    "import xgboost as xgb\n",
    "\n",
    "%matplotlib inline\n"
   ]
  },
  {
   "cell_type": "markdown",
   "metadata": {},
   "source": [
    "### Load features"
   ]
  },
  {
   "cell_type": "code",
   "execution_count": 2,
   "metadata": {
    "collapsed": true
   },
   "outputs": [],
   "source": [
    "# q1_data = np.load(open(Q1_TRAINING_DATA_FILE, 'rb'))\n",
    "# q2_data = np.load(open(Q2_TRAINING_DATA_FILE, 'rb'))\n"
   ]
  },
  {
   "cell_type": "code",
   "execution_count": 2,
   "metadata": {
    "collapsed": true
   },
   "outputs": [],
   "source": [
    "abhishek_train = pd.read_csv(data_home+\"abhishek_train_features.csv\")\n",
    "abhishek_test = pd.read_csv(data_home+\"abhishek_test_features.csv\")"
   ]
  },
  {
   "cell_type": "code",
   "execution_count": 22,
   "metadata": {
    "collapsed": true
   },
   "outputs": [],
   "source": [
    "# def get_and_normalize_features(df, feature_list):\n",
    "    \n",
    "#     np_version = np.array(df.ix[:,feature_list])\n",
    "# #     np_version = np.nan_to_num(np_version)\n",
    "# #     np_version = normalize(np_version ,axis=0,norm='max')\n",
    "    \n",
    "#     return np_version"
   ]
  },
  {
   "cell_type": "code",
   "execution_count": 23,
   "metadata": {
    "collapsed": true
   },
   "outputs": [],
   "source": [
    "# q1_features = [u'len_q1', u'len_char_q1', u'len_word_q1', u'skew_q1vec', u'kur_q1vec']\n",
    "# q2_features = [u'len_q2', u'len_char_q2', u'len_word_q2', u'skew_q2vec', u'kur_q2vec']\n",
    "# diff_features = abhishek_train.columns.difference(q1_features).difference(q2_features).difference(['question1','question2'])"
   ]
  },
  {
   "cell_type": "code",
   "execution_count": 24,
   "metadata": {
    "collapsed": true
   },
   "outputs": [],
   "source": [
    "# abhishek_q1_features_np = get_and_normalize_features(abhishek_train,q1_features)\n",
    "# abhishek_q2_features_np = get_and_normalize_features(abhishek_train,q2_features)\n",
    "# abhishek_diff_features_np = get_and_normalize_features(abhishek_train,diff_features)"
   ]
  },
  {
   "cell_type": "code",
   "execution_count": 25,
   "metadata": {
    "collapsed": true
   },
   "outputs": [],
   "source": [
    "# abhishek_q1_features_np.shape,abhishek_q2_features_np.shape,abhishek_diff_features_np.shape"
   ]
  },
  {
   "cell_type": "code",
   "execution_count": 4,
   "metadata": {},
   "outputs": [
    {
     "data": {
      "text/plain": [
       "array(['question1', 'question2', 'len_q1', 'len_q2', 'diff_len',\n",
       "       'len_char_q1', 'len_char_q2', 'len_word_q1', 'len_word_q2',\n",
       "       'common_words', 'fuzz_qratio', 'fuzz_WRatio', 'fuzz_partial_ratio',\n",
       "       'fuzz_partial_token_set_ratio', 'fuzz_partial_token_sort_ratio',\n",
       "       'fuzz_token_set_ratio', 'fuzz_token_sort_ratio', 'wmd', 'norm_wmd',\n",
       "       'cosine_distance', 'cityblock_distance', 'jaccard_distance',\n",
       "       'canberra_distance', 'euclidean_distance', 'minkowski_distance',\n",
       "       'braycurtis_distance', 'skew_q1vec', 'skew_q2vec', 'kur_q1vec',\n",
       "       'kur_q2vec'], dtype=object)"
      ]
     },
     "execution_count": 4,
     "metadata": {},
     "output_type": "execute_result"
    }
   ],
   "source": [
    "abhishek_train.columns.values"
   ]
  },
  {
   "cell_type": "code",
   "execution_count": 27,
   "metadata": {
    "collapsed": true
   },
   "outputs": [],
   "source": [
    "# [:,['len_q1', 'len_q2', 'diff_len',\n",
    "#        'len_char_q1', 'len_char_q2', 'len_word_q1', 'len_word_q2',\n",
    "#        'common_words', 'fuzz_qratio', 'fuzz_WRatio', 'fuzz_partial_ratio',\n",
    "#        'fuzz_partial_token_set_ratio', 'fuzz_partial_token_sort_ratio',\n",
    "#        'fuzz_token_set_ratio', 'fuzz_token_sort_ratio', 'wmd', 'norm_wmd', 'skew_q1vec', 'skew_q2vec', 'kur_q1vec',\n",
    "#        'kur_q2vec']"
   ]
  },
  {
   "cell_type": "code",
   "execution_count": 5,
   "metadata": {
    "collapsed": true
   },
   "outputs": [],
   "source": [
    "abhishek_train = abhishek_train.ix  [:,2:]"
   ]
  },
  {
   "cell_type": "code",
   "execution_count": 6,
   "metadata": {
    "collapsed": true
   },
   "outputs": [],
   "source": [
    "abhishek_test = abhishek_test.ix[:, 2:] "
   ]
  },
  {
   "cell_type": "code",
   "execution_count": 7,
   "metadata": {},
   "outputs": [
    {
     "data": {
      "text/plain": [
       "((404290, 28), (2345796, 28))"
      ]
     },
     "execution_count": 7,
     "metadata": {},
     "output_type": "execute_result"
    }
   ],
   "source": [
    "abhishek_train.shape,abhishek_test.shape"
   ]
  },
  {
   "cell_type": "markdown",
   "metadata": {},
   "source": [
    "#### Magic feature!"
   ]
  },
  {
   "cell_type": "code",
   "execution_count": 8,
   "metadata": {
    "collapsed": true
   },
   "outputs": [],
   "source": [
    "q_frequency_train = pd.read_csv(\"data/question_frequency_train.csv\")\n",
    "q_frequency_test = pd.read_csv(\"data/question_frequency_test.csv\")\n"
   ]
  },
  {
   "cell_type": "code",
   "execution_count": 9,
   "metadata": {
    "scrolled": true
   },
   "outputs": [
    {
     "data": {
      "text/plain": [
       "((404290, 6), (2345796, 5))"
      ]
     },
     "execution_count": 9,
     "metadata": {},
     "output_type": "execute_result"
    }
   ],
   "source": [
    "q_frequency_train.shape, q_frequency_test.shape"
   ]
  },
  {
   "cell_type": "code",
   "execution_count": 10,
   "metadata": {
    "collapsed": true
   },
   "outputs": [],
   "source": [
    "q_frequency_train  = q_frequency_train.ix[:,3:5]"
   ]
  },
  {
   "cell_type": "code",
   "execution_count": 11,
   "metadata": {
    "collapsed": true
   },
   "outputs": [],
   "source": [
    "q_frequency_test = q_frequency_test.ix[:,3:5]"
   ]
  },
  {
   "cell_type": "code",
   "execution_count": 12,
   "metadata": {},
   "outputs": [
    {
     "data": {
      "text/plain": [
       "((404290, 2), (2345796, 2))"
      ]
     },
     "execution_count": 12,
     "metadata": {},
     "output_type": "execute_result"
    }
   ],
   "source": [
    "q_frequency_train.shape, q_frequency_test.shape"
   ]
  },
  {
   "cell_type": "markdown",
   "metadata": {},
   "source": [
    "#### Nostrov features"
   ]
  },
  {
   "cell_type": "code",
   "execution_count": 13,
   "metadata": {
    "collapsed": true
   },
   "outputs": [],
   "source": [
    "nostrov = pd.read_csv('data/nestrov_feats.csv')"
   ]
  },
  {
   "cell_type": "code",
   "execution_count": 14,
   "metadata": {},
   "outputs": [
    {
     "data": {
      "text/plain": [
       "Index([u'log_abs_diff_len1_len2', u'ratio_len1_len2', u'log_ratio_len1_len2',\n",
       "       u'unigram_jaccard', u'unigram_all_jaccard', u'unigram_all_jaccard_max',\n",
       "       u'bigram_jaccard', u'bigram_all_jaccard', u'bigram_all_jaccard_max',\n",
       "       u'trigram_jaccard', u'trigram_all_jaccard', u'trigram_all_jaccard_max',\n",
       "       u'quadgram_jaccard', u'quadgram_all_jaccard',\n",
       "       u'quadgram_all_jaccard_max', u'quadram_tfidf_cosine',\n",
       "       u'quadgram_tfidf_l2_euclidean', u'quadgram_tfidf_l1_euclidean',\n",
       "       u'quadgram_tf_l2_euclidean', u'm_q1_q2_tf_oof',\n",
       "       u'm_vstack_svd_q1_q1_euclidean', u'm_vstack_svd_q1_q1_cosine',\n",
       "       u'm_vstack_svd_mult_q1_q2_oof', u'm_vstack_svd_absdiff_q1_q2_oof',\n",
       "       u'1wl_tfidf_cosine', u'1wl_tfidf_l2_euclidean', u'1wl_tf_l2_euclidean',\n",
       "       u'm_w1l_tfidf_oof'],\n",
       "      dtype='object')"
      ]
     },
     "execution_count": 14,
     "metadata": {},
     "output_type": "execute_result"
    }
   ],
   "source": [
    "nostrov.columns[10:]"
   ]
  },
  {
   "cell_type": "code",
   "execution_count": 15,
   "metadata": {
    "collapsed": true
   },
   "outputs": [],
   "source": [
    "ix_train = np.where(nostrov['id'] >= 0)[0]\n",
    "ix_test = np.where(nostrov['id'] == -1)[0]"
   ]
  },
  {
   "cell_type": "code",
   "execution_count": 16,
   "metadata": {
    "collapsed": true
   },
   "outputs": [],
   "source": [
    "nostrov.drop(['m_vstack_svd_mult_q1_q2_oof','m_vstack_svd_absdiff_q1_q2_oof','m_w1l_tfidf_oof','m_q1_q2_tf_oof'],\n",
    "             axis=1,inplace=True)"
   ]
  },
  {
   "cell_type": "code",
   "execution_count": 17,
   "metadata": {},
   "outputs": [
    {
     "data": {
      "text/plain": [
       "Index([u'log_abs_diff_len1_len2', u'ratio_len1_len2', u'log_ratio_len1_len2',\n",
       "       u'unigram_jaccard', u'unigram_all_jaccard', u'unigram_all_jaccard_max',\n",
       "       u'bigram_jaccard', u'bigram_all_jaccard', u'bigram_all_jaccard_max',\n",
       "       u'trigram_jaccard', u'trigram_all_jaccard', u'trigram_all_jaccard_max',\n",
       "       u'quadgram_jaccard', u'quadgram_all_jaccard',\n",
       "       u'quadgram_all_jaccard_max', u'quadram_tfidf_cosine',\n",
       "       u'quadgram_tfidf_l2_euclidean', u'quadgram_tfidf_l1_euclidean',\n",
       "       u'quadgram_tf_l2_euclidean', u'm_vstack_svd_q1_q1_euclidean',\n",
       "       u'm_vstack_svd_q1_q1_cosine', u'1wl_tfidf_cosine',\n",
       "       u'1wl_tfidf_l2_euclidean', u'1wl_tf_l2_euclidean'],\n",
       "      dtype='object')"
      ]
     },
     "execution_count": 17,
     "metadata": {},
     "output_type": "execute_result"
    }
   ],
   "source": [
    "nostrov.columns[10:]"
   ]
  },
  {
   "cell_type": "code",
   "execution_count": 18,
   "metadata": {
    "collapsed": true
   },
   "outputs": [],
   "source": [
    "nostrov_diff = nostrov.ix[:,10:]"
   ]
  },
  {
   "cell_type": "code",
   "execution_count": 19,
   "metadata": {},
   "outputs": [
    {
     "data": {
      "text/plain": [
       "((404290, 24), (2345796, 24))"
      ]
     },
     "execution_count": 19,
     "metadata": {},
     "output_type": "execute_result"
    }
   ],
   "source": [
    "nostrov_train = nostrov_diff.iloc[ix_train]\n",
    "nostrov_test = nostrov_diff.iloc[ix_test]\n",
    "\n",
    "nostrov_train.shape, nostrov_test.shape"
   ]
  },
  {
   "cell_type": "code",
   "execution_count": 20,
   "metadata": {
    "collapsed": true,
    "scrolled": true
   },
   "outputs": [],
   "source": [
    "# nostrov_train.corr()"
   ]
  },
  {
   "cell_type": "code",
   "execution_count": 21,
   "metadata": {
    "collapsed": true
   },
   "outputs": [],
   "source": [
    "del nostrov, nostrov_diff"
   ]
  },
  {
   "cell_type": "markdown",
   "metadata": {},
   "source": [
    "#### Nostrof Extra"
   ]
  },
  {
   "cell_type": "code",
   "execution_count": 22,
   "metadata": {
    "collapsed": true
   },
   "outputs": [],
   "source": [
    "nostrov = pd.read_csv('data/cache/nostrov_extra2.csv')"
   ]
  },
  {
   "cell_type": "code",
   "execution_count": 23,
   "metadata": {},
   "outputs": [
    {
     "data": {
      "text/plain": [
       "array(['m_q1_q2_tf_svd0', 'm_q1_q2_tf_svd3', 'm_q1_q2_tf_svd5',\n",
       "       'm_q1_q2_tf_svd99', 'm_q1_q2_tf_svd1', 'm_q1_q2_tf_svd34',\n",
       "       'm_q1_q2_tf_svd43', 'm_q1_q2_tf_svd27', 'm_q1_q2_tf_svd19',\n",
       "       'm_q1_q2_tf_svd28', 'm_q1_q2_tf_svd54', 'm_q1_q2_tf_svd25',\n",
       "       'm_q1_q2_tf_svd21', 'm_q1_q2_tf_svd33', 'nsvd_cityblock_distance',\n",
       "       'nsvd_jaccard_distance', 'nsvd_canberra_distance',\n",
       "       'nsvd_minkowski_distance', 'nsvd_braycurtis_distance'], dtype=object)"
      ]
     },
     "execution_count": 23,
     "metadata": {},
     "output_type": "execute_result"
    }
   ],
   "source": [
    "nostrov.columns[7:].values #7:-5"
   ]
  },
  {
   "cell_type": "code",
   "execution_count": 24,
   "metadata": {
    "collapsed": true
   },
   "outputs": [],
   "source": [
    "ix_train = np.where(nostrov['id'] >= 0)[0]\n",
    "ix_test = np.where(nostrov['id'] == -1)[0]"
   ]
  },
  {
   "cell_type": "code",
   "execution_count": 25,
   "metadata": {
    "collapsed": true
   },
   "outputs": [],
   "source": [
    "nostrov_extra = nostrov.ix[:,7:]\n",
    "\n",
    "# ['m_q1_q2_tf_svd0', 'm_q1_q2_tf_svd1', 'm_q1_q2_tf_svd100_oof',\n",
    "#        'm_diff_q1_q2_tf_oof']"
   ]
  },
  {
   "cell_type": "code",
   "execution_count": 26,
   "metadata": {},
   "outputs": [
    {
     "data": {
      "text/plain": [
       "((404290, 19), (2345796, 19))"
      ]
     },
     "execution_count": 26,
     "metadata": {},
     "output_type": "execute_result"
    }
   ],
   "source": [
    "nostrov_extra_train = nostrov_extra.iloc[ix_train]\n",
    "nostrov_extra_test = nostrov_extra.iloc[ix_test]\n",
    "\n",
    "nostrov_extra_train.shape, nostrov_extra_test.shape"
   ]
  },
  {
   "cell_type": "code",
   "execution_count": 216,
   "metadata": {
    "collapsed": true
   },
   "outputs": [],
   "source": [
    "# nostrov_extra_train.corr()"
   ]
  },
  {
   "cell_type": "code",
   "execution_count": 217,
   "metadata": {
    "collapsed": true
   },
   "outputs": [],
   "source": [
    "# nostrov_extra_train.corr()"
   ]
  },
  {
   "cell_type": "code",
   "execution_count": 27,
   "metadata": {
    "collapsed": true
   },
   "outputs": [],
   "source": [
    "del nostrov, nostrov_extra"
   ]
  },
  {
   "cell_type": "markdown",
   "metadata": {},
   "source": [
    "54+19+28+4"
   ]
  },
  {
   "cell_type": "markdown",
   "metadata": {},
   "source": [
    "#### extra svd and n-gram features"
   ]
  },
  {
   "cell_type": "code",
   "execution_count": 2,
   "metadata": {
    "collapsed": true
   },
   "outputs": [],
   "source": [
    "extra_svd_features_v2 = pd.read_csv('data/cache/extra_features_v2.csv')"
   ]
  },
  {
   "cell_type": "code",
   "execution_count": 34,
   "metadata": {},
   "outputs": [
    {
     "data": {
      "text/plain": [
       "array(['1gr_cv_euclidean', '1gr_cv_cosine', '2gr_cv_euclidean',\n",
       "       '2gr_cv_cosine', '3gr_cv_euclidean', '3gr_cv_cosine',\n",
       "       '4gr_cv_euclidean', '4gr_cv_cosine', '1wl_tf_l2_cosine',\n",
       "       '1wl_tfidf_l1_euclidean', '1wl_tf_l1_cosine', '1wl_tf_l1_euclidean',\n",
       "       'w1g_tf_q1_q2_tf_svd0', 'w1g_tf_q1_q2_tf_svd1',\n",
       "       'w1g_vstack_svd_q1_q1_euclidean', 'w1g_vstack_svd_q1_q1_cosine',\n",
       "       'w1g_vsvd_cityblock_distance', 'w1g_vsvd_jaccard_distance',\n",
       "       'w1g_vsvd_canberra_distance', 'w1g_vsvd_minkowski_distance',\n",
       "       'w1g_vsvd_braycurtis_distance', 'w2g_vstack_svd_q1_q1_euclidean',\n",
       "       'w2g_vstack_svd_q1_q1_cosine', 'w2g_vsvd_cityblock_distance',\n",
       "       'w2g_vsvd_jaccard_distance', 'w2g_vsvd_canberra_distance',\n",
       "       'w2g_vsvd_minkowski_distance', 'w2g_vsvd_braycurtis_distance'], dtype=object)"
      ]
     },
     "execution_count": 34,
     "metadata": {},
     "output_type": "execute_result"
    }
   ],
   "source": [
    "extra_svd_features_v2.columns[7:].values"
   ]
  },
  {
   "cell_type": "code",
   "execution_count": 3,
   "metadata": {
    "collapsed": true
   },
   "outputs": [],
   "source": [
    "ix_train = np.where(extra_svd_features_v2['id'] >= 0)[0]\n",
    "ix_test = np.where(extra_svd_features_v2['id'] == -1)[0]"
   ]
  },
  {
   "cell_type": "code",
   "execution_count": 37,
   "metadata": {
    "collapsed": true
   },
   "outputs": [],
   "source": [
    "extra_svd_features_v2 = extra_svd_features_v2.ix[:,7:]"
   ]
  },
  {
   "cell_type": "code",
   "execution_count": 38,
   "metadata": {},
   "outputs": [
    {
     "data": {
      "text/plain": [
       "((404290, 28), (2345796, 28))"
      ]
     },
     "execution_count": 38,
     "metadata": {},
     "output_type": "execute_result"
    }
   ],
   "source": [
    "extra_svd_features_v2_train = extra_svd_features_v2.iloc[ix_train]\n",
    "extra_svd_features_v2_test = extra_svd_features_v2.iloc[ix_test]\n",
    "\n",
    "extra_svd_features_v2_train.shape, extra_svd_features_v2_test.shape"
   ]
  },
  {
   "cell_type": "markdown",
   "metadata": {},
   "source": [
    "#### nmf features"
   ]
  },
  {
   "cell_type": "code",
   "execution_count": 3,
   "metadata": {
    "collapsed": true
   },
   "outputs": [],
   "source": [
    "nmf_features = pd.read_csv('data/cache/nmf_features.csv')"
   ]
  },
  {
   "cell_type": "code",
   "execution_count": 4,
   "metadata": {},
   "outputs": [
    {
     "data": {
      "text/plain": [
       "array(['nmf_hellinger1_distance', 'nmf_braycurtis_distance',\n",
       "       'nmf_minkowski_distance', 'nmf_canberra_distance',\n",
       "       'nmf_jaccard_distance', 'nmf_cityblock_distance',\n",
       "       'nmf_cosine_distance', 'nmf_euclidean_distance'], dtype=object)"
      ]
     },
     "execution_count": 4,
     "metadata": {},
     "output_type": "execute_result"
    }
   ],
   "source": [
    "nmf_features.columns[5:].values"
   ]
  },
  {
   "cell_type": "code",
   "execution_count": 5,
   "metadata": {
    "collapsed": true
   },
   "outputs": [],
   "source": [
    "ix_train = np.where(nmf_features['id'] >= 0)[0]\n",
    "ix_test = np.where(nmf_features['id'] == -1)[0]"
   ]
  },
  {
   "cell_type": "code",
   "execution_count": 6,
   "metadata": {
    "collapsed": true
   },
   "outputs": [],
   "source": [
    "nmf_features = nmf_features.ix[:,5:]"
   ]
  },
  {
   "cell_type": "code",
   "execution_count": 7,
   "metadata": {},
   "outputs": [
    {
     "data": {
      "text/plain": [
       "((404290, 8), (2345796, 8))"
      ]
     },
     "execution_count": 7,
     "metadata": {},
     "output_type": "execute_result"
    }
   ],
   "source": [
    "nmf_features_train = nmf_features.iloc[ix_train]\n",
    "nmf_features_test = nmf_features.iloc[ix_test]\n",
    "\n",
    "nmf_features_train.shape, nmf_features_test.shape"
   ]
  },
  {
   "cell_type": "markdown",
   "metadata": {},
   "source": [
    "#### sentiment"
   ]
  },
  {
   "cell_type": "code",
   "execution_count": 7,
   "metadata": {
    "collapsed": true
   },
   "outputs": [],
   "source": [
    "sentiment_train = pd.read_csv(\"data/cache/sentiment_train.csv\")\n",
    "sentiment_test = pd.read_csv(\"data/cache/sentiment_test.csv\")"
   ]
  },
  {
   "cell_type": "code",
   "execution_count": 8,
   "metadata": {
    "collapsed": true
   },
   "outputs": [],
   "source": [
    "sentiment_train = sentiment_train.ix[:,['sentiment_q1', 'sentiment_q2']]"
   ]
  },
  {
   "cell_type": "code",
   "execution_count": 9,
   "metadata": {
    "collapsed": true
   },
   "outputs": [],
   "source": [
    "sentiment_test = sentiment_test.ix[:,['sentiment_q1', 'sentiment_q2']]"
   ]
  },
  {
   "cell_type": "code",
   "execution_count": 10,
   "metadata": {},
   "outputs": [
    {
     "data": {
      "text/plain": [
       "((404290, 2), (2345796, 2))"
      ]
     },
     "execution_count": 10,
     "metadata": {},
     "output_type": "execute_result"
    }
   ],
   "source": [
    "sentiment_train.shape,sentiment_test.shape"
   ]
  },
  {
   "cell_type": "markdown",
   "metadata": {},
   "source": [
    "#### 3-gram diffs"
   ]
  },
  {
   "cell_type": "markdown",
   "metadata": {},
   "source": [
    "2gram > 3gram > 2gram-and-3gram  >  ngram(2,3)"
   ]
  },
  {
   "cell_type": "code",
   "execution_count": 39,
   "metadata": {
    "collapsed": true
   },
   "outputs": [],
   "source": [
    "twogram_difs = pd.read_csv(\"data/cache/23gram_distance.csv\")"
   ]
  },
  {
   "cell_type": "code",
   "execution_count": 40,
   "metadata": {
    "collapsed": true
   },
   "outputs": [],
   "source": [
    "ix_train = np.where(twogram_difs['id'] >= 0)[0]\n",
    "ix_test = np.where(twogram_difs['id'] == -1)[0]"
   ]
  },
  {
   "cell_type": "code",
   "execution_count": 41,
   "metadata": {},
   "outputs": [
    {
     "data": {
      "text/plain": [
       "Index([u'id', u'is_duplicate', u'qid1', u'qid2', u'question1', u'question2',\n",
       "       u'test_id', u'23ngram_tfidf_cosine', u'23ngram_tfidf_euclidean',\n",
       "       u'23ngram_tf_euclidean', u'23ngram_tf_cosine', u'2gram_tfidf_cosine',\n",
       "       u'2gram_tfidf_euclidean', u'2gram_tf_euclidean', u'2gram_tf_cosine',\n",
       "       u'3gram_tfidf_cosine', u'3gram_tfidf_euclidean', u'3gram_tf_euclidean',\n",
       "       u'3gram_tf_cosine'],\n",
       "      dtype='object')"
      ]
     },
     "execution_count": 41,
     "metadata": {},
     "output_type": "execute_result"
    }
   ],
   "source": [
    "twogram_difs.columns"
   ]
  },
  {
   "cell_type": "code",
   "execution_count": 42,
   "metadata": {},
   "outputs": [
    {
     "data": {
      "text/plain": [
       "((404290, 4), (2345796, 4))"
      ]
     },
     "execution_count": 42,
     "metadata": {},
     "output_type": "execute_result"
    }
   ],
   "source": [
    "# #2-3 gram distance \n",
    "\n",
    "twogram_difs = twogram_difs.ix[:,-4:]\n",
    "\n",
    "twogram_train = twogram_difs.iloc[ix_train]\n",
    "twogram_test = twogram_difs.iloc[ix_test]\n",
    "\n",
    "twogram_train.shape, twogram_test.shape"
   ]
  },
  {
   "cell_type": "code",
   "execution_count": 43,
   "metadata": {
    "collapsed": true,
    "scrolled": true
   },
   "outputs": [],
   "source": [
    "# twogram_difs = twogram_difs.ix[:,-4:]\n",
    "# twogram_train = twogram_difs.iloc[ix_train]\n",
    "# twogram_test = twogram_difs.iloc[ix_test]\n",
    "\n",
    "# twogram_train.shape, twogram_test.shape"
   ]
  },
  {
   "cell_type": "code",
   "execution_count": 44,
   "metadata": {
    "collapsed": true
   },
   "outputs": [],
   "source": [
    "del twogram_difs"
   ]
  },
  {
   "cell_type": "markdown",
   "metadata": {},
   "source": [
    "#### LSTM features"
   ]
  },
  {
   "cell_type": "code",
   "execution_count": 45,
   "metadata": {
    "collapsed": true
   },
   "outputs": [],
   "source": [
    "# lstm_features_train = load_array(\"data/cache/lstm_features_train_q1_q2.dat/\")\n",
    "lstm_features_train = pd.read_csv(\"data/cache/lstm_distances_train_q12.csv\")"
   ]
  },
  {
   "cell_type": "code",
   "execution_count": 46,
   "metadata": {
    "collapsed": true
   },
   "outputs": [],
   "source": [
    "# lstm_features_test = load_array(\"data/cache/lstm_features_test_q1_q2.dat/\")\n",
    "lstm_features_test = pd.read_csv(\"data/cache/lstm_distances_test_q12.csv\")"
   ]
  },
  {
   "cell_type": "code",
   "execution_count": 47,
   "metadata": {
    "scrolled": true
   },
   "outputs": [
    {
     "data": {
      "text/plain": [
       "((404290, 7), (2345796, 7))"
      ]
     },
     "execution_count": 47,
     "metadata": {},
     "output_type": "execute_result"
    }
   ],
   "source": [
    "lstm_features_train.shape, lstm_features_test.shape"
   ]
  },
  {
   "cell_type": "code",
   "execution_count": 48,
   "metadata": {},
   "outputs": [
    {
     "data": {
      "text/plain": [
       "Index([u'braycurtis_distance', u'canberra_distance', u'cityblock_distance',\n",
       "       u'cosine_distance', u'euclidean_distance', u'jaccard_distance',\n",
       "       u'minkowski_distance'],\n",
       "      dtype='object')"
      ]
     },
     "execution_count": 48,
     "metadata": {},
     "output_type": "execute_result"
    }
   ],
   "source": [
    "lstm_features_train.columns"
   ]
  },
  {
   "cell_type": "markdown",
   "metadata": {},
   "source": [
    "#### common neighbours feature (aka magic 2)"
   ]
  },
  {
   "cell_type": "code",
   "execution_count": 49,
   "metadata": {
    "collapsed": true
   },
   "outputs": [],
   "source": [
    "common_neighbours_train = pd.read_csv(\"data/cache/common_neighbours_train.csv\")\n",
    "common_neighbours_test = pd.read_csv(\"data/cache/common_neighbours_test.csv\")\n"
   ]
  },
  {
   "cell_type": "code",
   "execution_count": 50,
   "metadata": {},
   "outputs": [
    {
     "data": {
      "text/plain": [
       "((404290, 1), (2345796, 1))"
      ]
     },
     "execution_count": 50,
     "metadata": {},
     "output_type": "execute_result"
    }
   ],
   "source": [
    "common_neighbours_train.shape, common_neighbours_test.shape"
   ]
  },
  {
   "cell_type": "markdown",
   "metadata": {},
   "source": [
    "#### Group features"
   ]
  },
  {
   "cell_type": "code",
   "execution_count": 51,
   "metadata": {
    "collapsed": true
   },
   "outputs": [],
   "source": [
    "# same_group_train = pd.read_csv(\"data/same_group_train.csv\")\n",
    "# same_group_test = pd.read_csv(\"data/same_group_test.csv\")\n"
   ]
  },
  {
   "cell_type": "code",
   "execution_count": 52,
   "metadata": {
    "collapsed": true
   },
   "outputs": [],
   "source": [
    "# same_group_train = same_group_train.ix[:,0].values\n",
    "# same_group_test = same_group_test.ix[:,0].values"
   ]
  },
  {
   "cell_type": "markdown",
   "metadata": {},
   "source": [
    "#### max k-core feature"
   ]
  },
  {
   "cell_type": "code",
   "execution_count": 53,
   "metadata": {
    "collapsed": true
   },
   "outputs": [],
   "source": [
    "kcore_train = pd.read_csv(\"data/max_kcore_train.csv\")\n",
    "kcore_test = pd.read_csv(\"data/max_kcore_test.csv\")"
   ]
  },
  {
   "cell_type": "code",
   "execution_count": 54,
   "metadata": {},
   "outputs": [
    {
     "data": {
      "text/plain": [
       "((404290, 2), (2345796, 2))"
      ]
     },
     "execution_count": 54,
     "metadata": {},
     "output_type": "execute_result"
    }
   ],
   "source": [
    "kcore_train.shape,kcore_test.shape"
   ]
  },
  {
   "cell_type": "code",
   "execution_count": 55,
   "metadata": {},
   "outputs": [
    {
     "data": {
      "text/plain": [
       "Index([u'qid1_max_kcore', u'qid2_max_kcore'], dtype='object')"
      ]
     },
     "execution_count": 55,
     "metadata": {},
     "output_type": "execute_result"
    }
   ],
   "source": [
    "kcore_train.columns"
   ]
  },
  {
   "cell_type": "markdown",
   "metadata": {},
   "source": [
    "#### word match "
   ]
  },
  {
   "cell_type": "code",
   "execution_count": 56,
   "metadata": {
    "collapsed": true
   },
   "outputs": [],
   "source": [
    "# wm_train = pd.read_csv(\"data/cache/word_match_train.csv\")\n",
    "# wm_test = pd.read_csv(\"data/cache/word_match_test.csv\")"
   ]
  },
  {
   "cell_type": "code",
   "execution_count": 57,
   "metadata": {
    "collapsed": true
   },
   "outputs": [],
   "source": [
    "# wm_train.shape"
   ]
  },
  {
   "cell_type": "markdown",
   "metadata": {},
   "source": [
    "#### page rank"
   ]
  },
  {
   "cell_type": "code",
   "execution_count": 58,
   "metadata": {
    "collapsed": true
   },
   "outputs": [],
   "source": [
    "pr_train = pd.read_csv(\"data/cache/page_rank_train.csv\")\n",
    "pr_test = pd.read_csv(\"data/cache/page_rank_test.csv\")"
   ]
  },
  {
   "cell_type": "code",
   "execution_count": 59,
   "metadata": {},
   "outputs": [
    {
     "data": {
      "text/plain": [
       "(404290, 2)"
      ]
     },
     "execution_count": 59,
     "metadata": {},
     "output_type": "execute_result"
    }
   ],
   "source": [
    "pr_train.shape"
   ]
  },
  {
   "cell_type": "markdown",
   "metadata": {},
   "source": [
    "#### 2nd degree neighbours "
   ]
  },
  {
   "cell_type": "code",
   "execution_count": 60,
   "metadata": {
    "collapsed": true
   },
   "outputs": [],
   "source": [
    "second_deg_train = pd.read_csv(\"data/cache/common_second_degrees_train.csv\")\n",
    "second_deg_test = pd.read_csv(\"data/cache/common_second_degrees_test.csv\")"
   ]
  },
  {
   "cell_type": "code",
   "execution_count": 61,
   "metadata": {},
   "outputs": [
    {
     "data": {
      "text/plain": [
       "(404290, 1)"
      ]
     },
     "execution_count": 61,
     "metadata": {},
     "output_type": "execute_result"
    }
   ],
   "source": [
    "second_deg_train.shape"
   ]
  },
  {
   "cell_type": "markdown",
   "metadata": {},
   "source": [
    "#### weighted common neighbours "
   ]
  },
  {
   "cell_type": "code",
   "execution_count": 62,
   "metadata": {
    "collapsed": true
   },
   "outputs": [],
   "source": [
    "# weighted_neihbours_train = pd.read_csv('data/cache/weighted_common_neighbours_train.csv')\n",
    "# weighted_neihbours_test = pd.read_csv('data/cache/weighted_common_neighbours_test.csv')"
   ]
  },
  {
   "cell_type": "code",
   "execution_count": 63,
   "metadata": {
    "collapsed": true
   },
   "outputs": [],
   "source": [
    "# weighted_neihbours_train.columns"
   ]
  },
  {
   "cell_type": "code",
   "execution_count": 64,
   "metadata": {
    "collapsed": true
   },
   "outputs": [],
   "source": [
    "# weighted_neihbours_train = weighted_neihbours_train.iloc[:,0].values.reshape(-1,1)\n",
    "# weighted_neihbours_test = weighted_neihbours_test.iloc[:,0].values.reshape(-1,1)"
   ]
  },
  {
   "cell_type": "code",
   "execution_count": 65,
   "metadata": {
    "collapsed": true
   },
   "outputs": [],
   "source": [
    "# weighted_neihbours_train.shape, weighted_neihbours_test.shape"
   ]
  },
  {
   "cell_type": "markdown",
   "metadata": {},
   "source": [
    "#### Triangles "
   ]
  },
  {
   "cell_type": "code",
   "execution_count": 66,
   "metadata": {
    "collapsed": true
   },
   "outputs": [],
   "source": [
    "triangle_train = pd.read_csv(\"data/cache/triangle_train.csv\")\n",
    "triangle_test = pd.read_csv(\"data/cache/triangle_test.csv\")\n"
   ]
  },
  {
   "cell_type": "markdown",
   "metadata": {},
   "source": [
    "#### average_neighbor_degree 0.0003"
   ]
  },
  {
   "cell_type": "code",
   "execution_count": 67,
   "metadata": {
    "collapsed": true
   },
   "outputs": [],
   "source": [
    "average_neighbor_degree_train = pd.read_csv(\"data/cache/avg_neighbour_degree_train.csv\")\n",
    "average_neighbor_degree_test = pd.read_csv(\"data/cache/avg_neighbour_degree_test.csv\")"
   ]
  },
  {
   "cell_type": "markdown",
   "metadata": {},
   "source": [
    "#### clustering "
   ]
  },
  {
   "cell_type": "code",
   "execution_count": 68,
   "metadata": {
    "collapsed": true
   },
   "outputs": [],
   "source": [
    "clustering_train = pd.read_csv(\"data/cache/clustering_train.csv\")\n",
    "clustering_test = pd.read_csv(\"data/cache/clustering_test.csv\")"
   ]
  },
  {
   "cell_type": "markdown",
   "metadata": {},
   "source": [
    "#### unusual meaning"
   ]
  },
  {
   "cell_type": "code",
   "execution_count": 4,
   "metadata": {
    "collapsed": true
   },
   "outputs": [],
   "source": [
    "unusual_meaning = pd.read_csv(\"data/cache/unusual_meaning.csv\")"
   ]
  },
  {
   "cell_type": "code",
   "execution_count": 9,
   "metadata": {},
   "outputs": [
    {
     "data": {
      "text/plain": [
       "Index([u'img_clean2'], dtype='object')"
      ]
     },
     "execution_count": 9,
     "metadata": {},
     "output_type": "execute_result"
    }
   ],
   "source": [
    "unusual_meaning.columns"
   ]
  },
  {
   "cell_type": "code",
   "execution_count": 10,
   "metadata": {
    "collapsed": true
   },
   "outputs": [],
   "source": [
    "mx = unusual_meaning.img_clean2.as_matrix()"
   ]
  },
  {
   "cell_type": "code",
   "execution_count": 27,
   "metadata": {
    "collapsed": true
   },
   "outputs": [],
   "source": [
    "um_matrix = np.zeros((unusual_meaning.shape[0],100))"
   ]
  },
  {
   "cell_type": "code",
   "execution_count": 37,
   "metadata": {},
   "outputs": [
    {
     "data": {
      "application/vnd.jupyter.widget-view+json": {
       "model_id": "a54ecd1046c44a60a5493a566d718448"
      }
     },
     "metadata": {},
     "output_type": "display_data"
    },
    {
     "name": "stdout",
     "output_type": "stream",
     "text": [
      "\n"
     ]
    }
   ],
   "source": [
    "for i  in tqdm_notebook(range(len(unusual_meaning))):\n",
    "    try:\n",
    "        um_matrix[i,:] = np.array(eval(str(unusual_meaning.img_clean2.iloc[i])))\n",
    "    except:\n",
    "        continue"
   ]
  },
  {
   "cell_type": "code",
   "execution_count": 43,
   "metadata": {
    "scrolled": true
   },
   "outputs": [
    {
     "data": {
      "text/plain": [
       "array([ 0.27642322,  0.72876011,  0.99003769,  0.90470848,  0.41790851,\n",
       "        0.70303453,  0.53592432,  0.89765522,  0.76771094,  0.8270471 ,\n",
       "        0.44804644,  0.78610893,  0.74252828,  0.84091042,  0.5650979 ,\n",
       "        0.73204653,  0.66370069,  0.80799002,  0.81581856,  0.81717296,\n",
       "        0.79129287,  0.90080658,  0.24750946,  0.71331431,  0.85947668,\n",
       "        0.79007052,  0.91925342,  0.62865961,  0.91203379,  0.79742466,\n",
       "        0.95394875,  0.95243602,  0.1623791 ,  0.4871372 ,  0.9919386 ,\n",
       "        0.83345702,  1.02953235,  0.54814151,  0.95762864,  0.7988453 ,\n",
       "        0.93601409,  0.94099726,  0.48713721,  0.16237909,  0.96248366,\n",
       "        0.86220603,  0.99453748,  0.56643572,  0.95260313,  0.82143486,\n",
       "        0.83931461,  0.80004169,  0.73429544,  0.24566055,  0.91171532,\n",
       "        0.89458272,  0.91812878,  0.68814699,  0.75215009,  0.78885485,\n",
       "        0.66385032,  0.52956933,  0.90385381,  0.73698159,  0.83963359,\n",
       "        0.93058708,  0.80030625,  0.91327532,  0.35626952,  0.70110526,\n",
       "        0.64007409,  0.46846742,  0.96959879,  0.98414645,  0.83132551,\n",
       "        0.98065579,  0.77519094,  1.02046943,  0.32040861,  0.62591179,\n",
       "        0.76798594,  0.61673598,  0.93153039,  0.98715512,  0.88679107,\n",
       "        1.04478884,  0.84278284,  1.00972931,  0.64456737,  0.56327443,\n",
       "        0.83194187,  0.69087026,  0.91249619,  0.98865946,  0.91452385,\n",
       "        1.07685537,  0.87657879,  1.00435925,  0.80664675,  0.53195574])"
      ]
     },
     "execution_count": 43,
     "metadata": {},
     "output_type": "execute_result"
    }
   ],
   "source": [
    "um_matrix[22350]"
   ]
  },
  {
   "cell_type": "code",
   "execution_count": 26,
   "metadata": {},
   "outputs": [
    {
     "data": {
      "text/plain": [
       "100"
      ]
     },
     "execution_count": 26,
     "metadata": {},
     "output_type": "execute_result"
    }
   ],
   "source": [
    "len(eval(unusual_meaning.img_clean2.iloc[0]))"
   ]
  },
  {
   "cell_type": "code",
   "execution_count": 46,
   "metadata": {
    "collapsed": true
   },
   "outputs": [],
   "source": [
    "unusual_meaning_train = um_matrix[ix_train,]\n",
    "unusual_meaning_test = um_matrix[ix_test,]"
   ]
  },
  {
   "cell_type": "markdown",
   "metadata": {},
   "source": [
    "### Add all together "
   ]
  },
  {
   "cell_type": "code",
   "execution_count": 69,
   "metadata": {
    "scrolled": true
   },
   "outputs": [
    {
     "data": {
      "text/plain": [
       "((404290, 124), (2345796, 124))"
      ]
     },
     "execution_count": 69,
     "metadata": {},
     "output_type": "execute_result"
    }
   ],
   "source": [
    "train_features = np.hstack((abhishek_train,q_frequency_train, nostrov_train,nostrov_extra_train,extra_svd_features_v2_train,\n",
    "                            lstm_features_train,common_neighbours_train, twogram_train,\n",
    "                            kcore_train, pr_train,second_deg_train,triangle_train,\n",
    "                            average_neighbor_degree_train,clustering_train))\n",
    "\n",
    "\n",
    "test_features = np.hstack((abhishek_test,q_frequency_test, nostrov_test,nostrov_extra_test,extra_svd_features_v2_test,\n",
    "                           lstm_features_test, common_neighbours_test, twogram_test,\n",
    "                           kcore_test, pr_test,second_deg_test,\n",
    "                           triangle_test,average_neighbor_degree_test,\n",
    "                          clustering_test))\n",
    "\n",
    "train_features.shape, test_features.shape"
   ]
  },
  {
   "cell_type": "code",
   "execution_count": 71,
   "metadata": {
    "collapsed": true
   },
   "outputs": [],
   "source": [
    "lstm_cols = []\n",
    "for s in lstm_features_train.columns.values:\n",
    "    lstm_cols.append(s[:5])"
   ]
  },
  {
   "cell_type": "code",
   "execution_count": 72,
   "metadata": {
    "collapsed": true
   },
   "outputs": [],
   "source": [
    "col_labels  = np.hstack((abhishek_train.columns.values, q_frequency_train.columns.values,\n",
    "                         nostrov_train.columns.values,nostrov_extra_train.columns.values,\n",
    "                         extra_svd_features_v2_train.columns.values,\n",
    "                        lstm_cols,\n",
    "                         common_neighbours_train.columns.values, \n",
    "                         twogram_train.columns.values,\n",
    "                            kcore_train.columns.values,\n",
    "                         pr_train.columns.values,second_deg_train.columns.values, \n",
    "                         triangle_train.columns.values,average_neighbor_degree_train.columns.values,\n",
    "                        clustering_train.columns.values))"
   ]
  },
  {
   "cell_type": "code",
   "execution_count": 73,
   "metadata": {},
   "outputs": [
    {
     "data": {
      "text/plain": [
       "array(['len_q1', 'len_q2', 'diff_len', 'len_char_q1', 'len_char_q2',\n",
       "       'len_word_q1', 'len_word_q2', 'common_words', 'fuzz_qratio',\n",
       "       'fuzz_WRatio', 'fuzz_partial_ratio', 'fuzz_partial_token_set_ratio',\n",
       "       'fuzz_partial_token_sort_ratio', 'fuzz_token_set_ratio',\n",
       "       'fuzz_token_sort_ratio', 'wmd', 'norm_wmd', 'cosine_distance',\n",
       "       'cityblock_distance', 'jaccard_distance', 'canberra_distance',\n",
       "       'euclidean_distance', 'minkowski_distance', 'braycurtis_distance',\n",
       "       'skew_q1vec', 'skew_q2vec', 'kur_q1vec', 'kur_q2vec', 'q1_freq',\n",
       "       'q2_freq', 'log_abs_diff_len1_len2', 'ratio_len1_len2',\n",
       "       'log_ratio_len1_len2', 'unigram_jaccard', 'unigram_all_jaccard',\n",
       "       'unigram_all_jaccard_max', 'bigram_jaccard', 'bigram_all_jaccard',\n",
       "       'bigram_all_jaccard_max', 'trigram_jaccard', 'trigram_all_jaccard',\n",
       "       'trigram_all_jaccard_max', 'quadgram_jaccard',\n",
       "       'quadgram_all_jaccard', 'quadgram_all_jaccard_max',\n",
       "       'quadram_tfidf_cosine', 'quadgram_tfidf_l2_euclidean',\n",
       "       'quadgram_tfidf_l1_euclidean', 'quadgram_tf_l2_euclidean',\n",
       "       'm_vstack_svd_q1_q1_euclidean', 'm_vstack_svd_q1_q1_cosine',\n",
       "       '1wl_tfidf_cosine', '1wl_tfidf_l2_euclidean', '1wl_tf_l2_euclidean',\n",
       "       'm_q1_q2_tf_svd0', 'm_q1_q2_tf_svd3', 'm_q1_q2_tf_svd5',\n",
       "       'm_q1_q2_tf_svd99', 'm_q1_q2_tf_svd1', 'm_q1_q2_tf_svd34',\n",
       "       'm_q1_q2_tf_svd43', 'm_q1_q2_tf_svd27', 'm_q1_q2_tf_svd19',\n",
       "       'm_q1_q2_tf_svd28', 'm_q1_q2_tf_svd54', 'm_q1_q2_tf_svd25',\n",
       "       'm_q1_q2_tf_svd21', 'm_q1_q2_tf_svd33', 'nsvd_cityblock_distance',\n",
       "       'nsvd_jaccard_distance', 'nsvd_canberra_distance',\n",
       "       'nsvd_minkowski_distance', 'nsvd_braycurtis_distance',\n",
       "       '1gr_cv_euclidean', '1gr_cv_cosine', '2gr_cv_euclidean',\n",
       "       '2gr_cv_cosine', '3gr_cv_euclidean', '3gr_cv_cosine',\n",
       "       '4gr_cv_euclidean', '4gr_cv_cosine', '1wl_tf_l2_cosine',\n",
       "       '1wl_tfidf_l1_euclidean', '1wl_tf_l1_cosine', '1wl_tf_l1_euclidean',\n",
       "       'w1g_tf_q1_q2_tf_svd0', 'w1g_tf_q1_q2_tf_svd1',\n",
       "       'w1g_vstack_svd_q1_q1_euclidean', 'w1g_vstack_svd_q1_q1_cosine',\n",
       "       'w1g_vsvd_cityblock_distance', 'w1g_vsvd_jaccard_distance',\n",
       "       'w1g_vsvd_canberra_distance', 'w1g_vsvd_minkowski_distance',\n",
       "       'w1g_vsvd_braycurtis_distance', 'w2g_vstack_svd_q1_q1_euclidean',\n",
       "       'w2g_vstack_svd_q1_q1_cosine', 'w2g_vsvd_cityblock_distance',\n",
       "       'w2g_vsvd_jaccard_distance', 'w2g_vsvd_canberra_distance',\n",
       "       'w2g_vsvd_minkowski_distance', 'w2g_vsvd_braycurtis_distance',\n",
       "       'brayc', 'canbe', 'cityb', 'cosin', 'eucli', 'jacca', 'minko',\n",
       "       'q1_q2_intersect', '3gram_tfidf_cosine', '3gram_tfidf_euclidean',\n",
       "       '3gram_tf_euclidean', '3gram_tf_cosine', 'qid1_max_kcore',\n",
       "       'qid2_max_kcore', 'page_rank_q1', 'page_rank_q2',\n",
       "       'common_second_degrees', 'triangle_q1', 'triangle_q2',\n",
       "       'avg_degree_connectivity_q1', 'avg_degree_connectivity_q2',\n",
       "       'clustering_q1', 'clustering_q2'], dtype=object)"
      ]
     },
     "execution_count": 73,
     "metadata": {},
     "output_type": "execute_result"
    }
   ],
   "source": [
    "col_labels"
   ]
  },
  {
   "cell_type": "code",
   "execution_count": 52,
   "metadata": {
    "collapsed": true
   },
   "outputs": [],
   "source": [
    "# del abhishek_test, abhishek_train, q_frequency_train,q_frequency_test, nostrov_train, nostrov_test, lstm_features_train,lstm_features_test"
   ]
  },
  {
   "cell_type": "code",
   "execution_count": 51,
   "metadata": {
    "collapsed": true
   },
   "outputs": [],
   "source": [
    "# save_array(\"data/cache/train_features_unusual.dat\", train_features)\n",
    "# save_array(\"data/cache/test_features_unusual.dat\", test_features)"
   ]
  },
  {
   "cell_type": "code",
   "execution_count": 141,
   "metadata": {
    "collapsed": true
   },
   "outputs": [],
   "source": [
    "# save_array(\"data/cache/col_labels_extrasv2v2.dat\", col_labels)"
   ]
  },
  {
   "cell_type": "code",
   "execution_count": 3,
   "metadata": {
    "collapsed": true
   },
   "outputs": [],
   "source": [
    "# train_features = load_array(\"data/cache/train_features_extrasvd_v2.dat\")\n",
    "# test_features = load_array(\"data/cache/test_features_extrasvd_v2.dat\" )\n",
    "train_features = load_array(\"data/cache/train_features_unusual.dat\")\n",
    "test_features = load_array(\"data/cache/test_features_unusual.dat\" )"
   ]
  },
  {
   "cell_type": "markdown",
   "metadata": {},
   "source": [
    "#### 1st layer preds as features \n",
    "\n",
    "didn't work .. "
   ]
  },
  {
   "cell_type": "code",
   "execution_count": 25,
   "metadata": {
    "collapsed": true
   },
   "outputs": [],
   "source": [
    "# xgb_1l_test_preds = load_array(\"data/results/xgb_5fold_s2019_test_preds_extrasvdv2.dat\")\n",
    "# xgb_1l_oof_preds = load_array(\"data/results/xgb_5fold_s2019_oof_preds_extrasvdv2.dat\")"
   ]
  },
  {
   "cell_type": "code",
   "execution_count": 29,
   "metadata": {
    "collapsed": true
   },
   "outputs": [],
   "source": [
    "# lstm_l1_test_preds = load_array(\"data/results/xgb_5fold_s2019_test_preds_extrasvdv2.dat\")\n",
    "# lstm_l1_oof_preds = load_array(\"data/results/xgb_5fold_s2019_oof_preds_extrasvdv2.dat\")"
   ]
  },
  {
   "cell_type": "code",
   "execution_count": 30,
   "metadata": {
    "collapsed": true
   },
   "outputs": [],
   "source": [
    "from  scipy.special import logit"
   ]
  },
  {
   "cell_type": "code",
   "execution_count": 31,
   "metadata": {},
   "outputs": [
    {
     "data": {
      "text/plain": [
       "-2.1972245773362191"
      ]
     },
     "execution_count": 31,
     "metadata": {},
     "output_type": "execute_result"
    }
   ],
   "source": [
    "logit(0.1)"
   ]
  },
  {
   "cell_type": "code",
   "execution_count": 48,
   "metadata": {
    "collapsed": true
   },
   "outputs": [],
   "source": [
    "# train_features = np.hstack((train_features,unusual_meaning_train))\n",
    "# test_features = np.hstack((test_features,unusual_meaning_test))#,sentiment_test))"
   ]
  },
  {
   "cell_type": "code",
   "execution_count": 20,
   "metadata": {
    "collapsed": true
   },
   "outputs": [],
   "source": [
    "b = np.arange(105,105+7)\n",
    "c = np.setdiff1d(np.arange(0,224),b)"
   ]
  },
  {
   "cell_type": "code",
   "execution_count": 22,
   "metadata": {
    "collapsed": true
   },
   "outputs": [],
   "source": [
    "train_features = train_features[:,c]\n",
    "test_features = test_features[:,c]\n"
   ]
  },
  {
   "cell_type": "code",
   "execution_count": 11,
   "metadata": {
    "collapsed": true
   },
   "outputs": [],
   "source": [
    "# train_features = load_array(\"data/cache/ab_qfreq_nostrov_train.dat\")\n",
    "# test_features = load_array(\"data/cache/ab_qfreq_nostrov_test.dat\")\n",
    "# train_features = load_array(\"data/cache/abhishek_qfreq_nostrov_lstm_neighbourcount_3gram_train.dat\")\n",
    "# test_features = load_array(\"data/cache/abhishek_qfreq_nostrov_lstm_neighbourcount_3gram_test.dat\")\n",
    "# train_features = load_array(\"data/cache/abhishek_qfreq_nostrov_lstm_neighbourcount_3gram_maxcore_wm_train.dat\")\n",
    "# test_features = load_array(\"data/cache/abhishek_qfreq_nostrov_lstm_neighbourcount_3gram_maxcore_wm_test.dat\")\n",
    "\n",
    "# train_features = load_array(\"data/cache/abhishek_qfreq_nostrov_lstm_neighbourcount_3gram_maxcore_train.dat\")\n",
    "# test_features = load_array(\"data/cache/abhishek_qfreq_nostrov_lstm_neighbourcount_3gram_maxcore_test.dat\")"
   ]
  },
  {
   "cell_type": "code",
   "execution_count": 4,
   "metadata": {
    "collapsed": true
   },
   "outputs": [],
   "source": [
    "labels = np.load(open(LABEL_TRAINING_DATA_FILE, 'rb'))"
   ]
  },
  {
   "cell_type": "code",
   "execution_count": 7,
   "metadata": {
    "collapsed": true
   },
   "outputs": [],
   "source": [
    "col_labels = load_array(\"data/cache/col_labels_extrasv2v2.dat\")\n"
   ]
  },
  {
   "cell_type": "code",
   "execution_count": 8,
   "metadata": {
    "scrolled": true
   },
   "outputs": [],
   "source": [
    "# col_labels = list(col_labels)\n",
    "# # col_labels.append(\"helligner\")\n",
    "# col_labels.extend(nmf_features_train.columns.values)\n",
    "# col_labels.extend([\"xgb_l1\"])"
   ]
  },
  {
   "cell_type": "code",
   "execution_count": 9,
   "metadata": {
    "scrolled": true
   },
   "outputs": [
    {
     "data": {
      "text/plain": [
       "((404290, 224), (2345796, 224), 124)"
      ]
     },
     "execution_count": 9,
     "metadata": {},
     "output_type": "execute_result"
    }
   ],
   "source": [
    "train_features.shape, test_features.shape,len(col_labels)"
   ]
  },
  {
   "cell_type": "code",
   "execution_count": 10,
   "metadata": {
    "collapsed": true
   },
   "outputs": [],
   "source": [
    "train_features = np.nan_to_num(train_features)\n",
    "test_features = np.nan_to_num(test_features)"
   ]
  },
  {
   "cell_type": "code",
   "execution_count": 39,
   "metadata": {
    "collapsed": true
   },
   "outputs": [],
   "source": [
    "# from sklearn.preprocessing import normalize\n",
    "\n",
    "# train_features = normalize(train_features ,axis=0,norm='max')\n",
    "# test_features = normalize(test_features ,axis=0,norm='max')\n"
   ]
  },
  {
   "cell_type": "markdown",
   "metadata": {},
   "source": [
    "#### Model Training"
   ]
  },
  {
   "cell_type": "code",
   "execution_count": 34,
   "metadata": {
    "collapsed": true
   },
   "outputs": [],
   "source": [
    "num_folds = 5\n",
    "xgb_params = {'colsample_bylevel':0.9086627943049572,\n",
    " 'colsample_bytree': 0.8662812861700129,\n",
    " 'eval_metric': 'logloss',\n",
    " 'gamma': 1.,#0.02933179779163947,\n",
    " 'learning_rate': 0.07,#8244194429306306,\n",
    " 'max_depth': 9,\n",
    " 'n_estimators': 3500,\n",
    " 'objective': 'binary:logistic',\n",
    " 'reg_alpha': 0.0003,#0.14600953461910307,\n",
    " 'reg_lambda': 50,#1.0750571669994455,\n",
    " 'scale_pos_weight': 1,\n",
    " 'subsample': 0.8, #0.8097993636153147, \n",
    "             'nthread':16,'silent':1}\n",
    "\n",
    "# {\n",
    "# 'max_depth': 9, \n",
    "# 'learning_rate': 0.025,\n",
    "# 'n_estimators': 1750, \n",
    "# 'objective': 'binary:logistic',\n",
    "#     'eval_metric' :'logloss',\n",
    "#     'scale_pos_weight': 1,\n",
    "#             'gamma': 0.1, \n",
    "#         'subsample': 1, \n",
    "#         'colsample_bytree': 1, \n",
    "#         'colsample_bylevel': 1,\n",
    "#         'reg_alpha': 0.1, \n",
    "#         'reg_lambda': 10 \n",
    "    \n",
    "\n",
    "# }\n",
    "\n",
    "# '''\n",
    "\n",
    "# 'gamma': 0, \n",
    "\n",
    "# 'colsample_bylevel': 1,\n",
    "# 'reg_alpha': 0, \n",
    "# 'reg_lambda': 1\n",
    "\n",
    "# '''"
   ]
  },
  {
   "cell_type": "code",
   "execution_count": 59,
   "metadata": {
    "collapsed": true
   },
   "outputs": [],
   "source": [
    "np.random.seed(2189)\n",
    "\n",
    "perm = np.random.permutation(len(train_features))\n",
    "ix_fit = perm[:int(len(train_features)*(1-0.1))]\n",
    "ix_valid = perm[int(len(train_features)*(1-0.1)):]"
   ]
  },
  {
   "cell_type": "code",
   "execution_count": 60,
   "metadata": {
    "collapsed": true
   },
   "outputs": [],
   "source": [
    "y_val = labels[ix_valid]\n",
    "y_train = labels[ix_fit]\n"
   ]
  },
  {
   "cell_type": "code",
   "execution_count": 61,
   "metadata": {
    "collapsed": true
   },
   "outputs": [],
   "source": [
    "# d_train = xgb.DMatrix(StandardScaler().fit_transform(train_features[ix_fit]),label= y_train)#, weight=weight_train)\n",
    "# d_valid = xgb.DMatrix(StandardScaler().fit_transform(train_features[ix_valid]),label= y_val)#,weight=weight_val)\n"
   ]
  },
  {
   "cell_type": "code",
   "execution_count": 53,
   "metadata": {
    "collapsed": true
   },
   "outputs": [],
   "source": [
    "# train_features = np.clip(train_features,train_features.min(),1e7)\n",
    "# test_features = np.clip(test_features,test_features.min(),1e7)"
   ]
  },
  {
   "cell_type": "code",
   "execution_count": null,
   "metadata": {
    "collapsed": true,
    "scrolled": true
   },
   "outputs": [],
   "source": [
    "d_train = xgb.DMatrix(train_features[ix_fit],label= y_train)#, weight=weight_train)\n",
    "d_valid = xgb.DMatrix(train_features[ix_valid],label= y_val)#,weight=weight_val)\n",
    "\n",
    "\n",
    "\n",
    "############## TRAINING\n",
    "watchlist = [(d_train, 'train'), (d_valid, 'valid')]\n",
    "bst = xgb.train(xgb_params, d_train, 10000,  watchlist, early_stopping_rounds=50, verbose_eval=10)#,feval=kappa)\n",
    "\n",
    "#     xgb_models.append(bst)"
   ]
  },
  {
   "cell_type": "code",
   "execution_count": 154,
   "metadata": {},
   "outputs": [
    {
     "data": {
      "text/plain": [
       "500"
      ]
     },
     "execution_count": 154,
     "metadata": {},
     "output_type": "execute_result"
    }
   ],
   "source": [
    "bst.best_ntree_limit"
   ]
  },
  {
   "cell_type": "code",
   "execution_count": 155,
   "metadata": {
    "scrolled": true
   },
   "outputs": [
    {
     "data": {
      "text/plain": [
       "0.21141395867855844"
      ]
     },
     "execution_count": 155,
     "metadata": {},
     "output_type": "execute_result"
    }
   ],
   "source": [
    "log_loss(y_val, bst.predict(d_valid))"
   ]
  },
  {
   "cell_type": "code",
   "execution_count": 72,
   "metadata": {
    "collapsed": true
   },
   "outputs": [],
   "source": [
    "save_array(\"data/cache/xgb_valpreds_graph_features.dat\",bst.predict(d_valid))"
   ]
  },
  {
   "cell_type": "code",
   "execution_count": 69,
   "metadata": {
    "collapsed": true
   },
   "outputs": [],
   "source": [
    "def ceate_feature_map(features):\n",
    "    outfile = open('xgb.fmap', 'w')\n",
    "    i = 0\n",
    "    for feat in features:\n",
    "        outfile.write('{0}\\t{1}\\tq\\n'.format(i, feat))\n",
    "        i = i + 1\n",
    "\n",
    "    outfile.close()"
   ]
  },
  {
   "cell_type": "code",
   "execution_count": 70,
   "metadata": {
    "collapsed": true
   },
   "outputs": [],
   "source": [
    "ceate_feature_map(col_labels)"
   ]
  },
  {
   "cell_type": "code",
   "execution_count": 71,
   "metadata": {
    "collapsed": true
   },
   "outputs": [],
   "source": [
    "import operator\n",
    "\n",
    "importance = bst.get_fscore(fmap='xgb.fmap')\n",
    "importance = sorted(importance.items(), key=operator.itemgetter(1))\n",
    "ft = pd.DataFrame(importance, columns=['feature', 'fscore'])"
   ]
  },
  {
   "cell_type": "code",
   "execution_count": 72,
   "metadata": {},
   "outputs": [
    {
     "data": {
      "text/plain": [
       "<matplotlib.axes._subplots.AxesSubplot at 0x7f925b4f3b50>"
      ]
     },
     "execution_count": 72,
     "metadata": {},
     "output_type": "execute_result"
    },
    {
     "data": {
      "image/png": "[encoded data removed]",
      "text/plain": [
       "<matplotlib.figure.Figure at 0x7f91df485810>"
      ]
     },
     "metadata": {},
     "output_type": "display_data"
    }
   ],
   "source": [
    "ft.plot(kind='barh', x='feature', y='fscore', legend=False, figsize=(10, 35))"
   ]
  },
  {
   "cell_type": "code",
   "execution_count": 22,
   "metadata": {
    "collapsed": true
   },
   "outputs": [],
   "source": [
    "# ft.plot(kind='barh', x='feature', y='fscore', legend=False, figsize=(10, 25))"
   ]
  },
  {
   "cell_type": "code",
   "execution_count": 90,
   "metadata": {
    "collapsed": true
   },
   "outputs": [],
   "source": [
    "d_test = xgb.DMatrix(test_features)\n",
    "p_test = bst.predict(d_test)\n",
    "# preds += p_test.reshape(-1,1)"
   ]
  },
  {
   "cell_type": "code",
   "execution_count": 91,
   "metadata": {},
   "outputs": [
    {
     "data": {
      "text/html": [
       "<div>\n",
       "<table border=\"1\" class=\"dataframe\">\n",
       "  <thead>\n",
       "    <tr style=\"text-align: right;\">\n",
       "      <th></th>\n",
       "      <th>is_duplicate</th>\n",
       "      <th>test_id</th>\n",
       "    </tr>\n",
       "  </thead>\n",
       "  <tbody>\n",
       "    <tr>\n",
       "      <th>0</th>\n",
       "      <td>0.000116</td>\n",
       "      <td>0</td>\n",
       "    </tr>\n",
       "    <tr>\n",
       "      <th>1</th>\n",
       "      <td>0.124736</td>\n",
       "      <td>1</td>\n",
       "    </tr>\n",
       "  </tbody>\n",
       "</table>\n",
       "</div>"
      ],
      "text/plain": [
       "   is_duplicate  test_id\n",
       "0      0.000116        0\n",
       "1      0.124736        1"
      ]
     },
     "execution_count": 91,
     "metadata": {},
     "output_type": "execute_result"
    }
   ],
   "source": [
    "df_test = pd.read_csv(data_home+'test.csv')\n",
    "\n",
    "sub = pd.DataFrame({'test_id': df_test['test_id'], 'is_duplicate': p_test.ravel()})\n",
    "sub.head(2)"
   ]
  },
  {
   "cell_type": "code",
   "execution_count": 92,
   "metadata": {},
   "outputs": [
    {
     "data": {
      "text/html": [
       "<a href='subm/xgb_1fold_extrasvdv2.csv' target='_blank'>subm/xgb_1fold_extrasvdv2.csv</a><br>"
      ],
      "text/plain": [
       "/home/ubuntu/quora/subm/xgb_1fold_extrasvdv2.csv"
      ]
     },
     "execution_count": 92,
     "metadata": {},
     "output_type": "execute_result"
    }
   ],
   "source": [
    "submission_name = \"subm/xgb_1fold_extrasvdv2.csv\"\n",
    "\n",
    "sub.to_csv(path+submission_name, index=False)\n",
    "FileLink(submission_name)"
   ]
  },
  {
   "cell_type": "markdown",
   "metadata": {},
   "source": [
    "### SSS"
   ]
  },
  {
   "cell_type": "code",
   "execution_count": 36,
   "metadata": {},
   "outputs": [],
   "source": [
    "from sklearn.model_selection import StratifiedShuffleSplit\n",
    "sss = StratifiedShuffleSplit(n_splits=1,test_size=0.1 ,random_state=2219)\n",
    "splits = sss.split(train_features, labels)\n",
    "\n",
    "\n"
   ]
  },
  {
   "cell_type": "code",
   "execution_count": 37,
   "metadata": {},
   "outputs": [
    {
     "data": {
      "application/vnd.jupyter.widget-view+json": {
       "model_id": "3bca79eca7ef42cd9cde68b22369fefa"
      }
     },
     "metadata": {},
     "output_type": "display_data"
    },
    {
     "name": "stdout",
     "output_type": "stream",
     "text": [
      "[0]\ttrain-logloss:0.649787\tvalid-logloss:0.650089\n",
      "Multiple eval metrics have been passed: 'valid-logloss' will be used for early stopping.\n",
      "\n",
      "Will train until valid-logloss hasn't improved in 50 rounds.\n",
      "[10]\ttrain-logloss:0.40878\tvalid-logloss:0.411727\n",
      "[20]\ttrain-logloss:0.314645\tvalid-logloss:0.319351\n",
      "[30]\ttrain-logloss:0.270473\tvalid-logloss:0.2768\n",
      "[40]\ttrain-logloss:0.247136\tvalid-logloss:0.254852\n",
      "[50]\ttrain-logloss:0.234246\tvalid-logloss:0.243176\n",
      "[60]\ttrain-logloss:0.225879\tvalid-logloss:0.235991\n",
      "[70]\ttrain-logloss:0.219799\tvalid-logloss:0.231094\n",
      "[80]\ttrain-logloss:0.214841\tvalid-logloss:0.227622\n",
      "[90]\ttrain-logloss:0.210759\tvalid-logloss:0.225077\n",
      "[100]\ttrain-logloss:0.206778\tvalid-logloss:0.222796\n",
      "[110]\ttrain-logloss:0.203663\tvalid-logloss:0.22115\n",
      "[120]\ttrain-logloss:0.200435\tvalid-logloss:0.219616\n",
      "[130]\ttrain-logloss:0.197596\tvalid-logloss:0.218373\n",
      "[140]\ttrain-logloss:0.195274\tvalid-logloss:0.217262\n",
      "[150]\ttrain-logloss:0.192929\tvalid-logloss:0.216332\n",
      "[160]\ttrain-logloss:0.19064\tvalid-logloss:0.215465\n",
      "[170]\ttrain-logloss:0.188556\tvalid-logloss:0.214772\n",
      "[180]\ttrain-logloss:0.186827\tvalid-logloss:0.214169\n",
      "[190]\ttrain-logloss:0.184547\tvalid-logloss:0.213368\n",
      "[200]\ttrain-logloss:0.182688\tvalid-logloss:0.212851\n",
      "[210]\ttrain-logloss:0.180947\tvalid-logloss:0.212223\n",
      "[220]\ttrain-logloss:0.178857\tvalid-logloss:0.211514\n",
      "[230]\ttrain-logloss:0.177122\tvalid-logloss:0.210971\n",
      "[240]\ttrain-logloss:0.175718\tvalid-logloss:0.210568\n",
      "[250]\ttrain-logloss:0.173965\tvalid-logloss:0.210027\n",
      "[260]\ttrain-logloss:0.172205\tvalid-logloss:0.209662\n",
      "[270]\ttrain-logloss:0.170634\tvalid-logloss:0.209291\n",
      "[280]\ttrain-logloss:0.169264\tvalid-logloss:0.208954\n",
      "[290]\ttrain-logloss:0.167896\tvalid-logloss:0.208534\n",
      "[300]\ttrain-logloss:0.166254\tvalid-logloss:0.208208\n",
      "[310]\ttrain-logloss:0.164767\tvalid-logloss:0.207922\n",
      "[320]\ttrain-logloss:0.163255\tvalid-logloss:0.207562\n",
      "[330]\ttrain-logloss:0.161408\tvalid-logloss:0.207138\n",
      "[340]\ttrain-logloss:0.159932\tvalid-logloss:0.206895\n",
      "[350]\ttrain-logloss:0.158458\tvalid-logloss:0.206654\n",
      "[360]\ttrain-logloss:0.156867\tvalid-logloss:0.206376\n",
      "[370]\ttrain-logloss:0.155392\tvalid-logloss:0.206132\n",
      "[380]\ttrain-logloss:0.153951\tvalid-logloss:0.205884\n",
      "[390]\ttrain-logloss:0.152766\tvalid-logloss:0.205708\n",
      "[400]\ttrain-logloss:0.151273\tvalid-logloss:0.205499\n",
      "[410]\ttrain-logloss:0.149779\tvalid-logloss:0.205334\n",
      "[420]\ttrain-logloss:0.148542\tvalid-logloss:0.205136\n",
      "[430]\ttrain-logloss:0.147108\tvalid-logloss:0.204906\n",
      "[440]\ttrain-logloss:0.14593\tvalid-logloss:0.204711\n",
      "[450]\ttrain-logloss:0.144609\tvalid-logloss:0.204538\n",
      "[460]\ttrain-logloss:0.143496\tvalid-logloss:0.204397\n",
      "[470]\ttrain-logloss:0.142184\tvalid-logloss:0.204227\n",
      "[480]\ttrain-logloss:0.141117\tvalid-logloss:0.203998\n",
      "[490]\ttrain-logloss:0.139994\tvalid-logloss:0.203808\n",
      "[500]\ttrain-logloss:0.138837\tvalid-logloss:0.203653\n",
      "[510]\ttrain-logloss:0.137498\tvalid-logloss:0.203546\n",
      "[520]\ttrain-logloss:0.136277\tvalid-logloss:0.203409\n",
      "[530]\ttrain-logloss:0.135104\tvalid-logloss:0.20333\n",
      "[540]\ttrain-logloss:0.133863\tvalid-logloss:0.203198\n",
      "[550]\ttrain-logloss:0.132756\tvalid-logloss:0.203087\n",
      "[560]\ttrain-logloss:0.131702\tvalid-logloss:0.202988\n",
      "[570]\ttrain-logloss:0.130518\tvalid-logloss:0.202937\n",
      "[580]\ttrain-logloss:0.129357\tvalid-logloss:0.202769\n",
      "[590]\ttrain-logloss:0.128405\tvalid-logloss:0.202664\n",
      "[600]\ttrain-logloss:0.127387\tvalid-logloss:0.202658\n",
      "[610]\ttrain-logloss:0.1263\tvalid-logloss:0.202616\n",
      "[620]\ttrain-logloss:0.125372\tvalid-logloss:0.202553\n",
      "[630]\ttrain-logloss:0.124192\tvalid-logloss:0.202436\n",
      "[640]\ttrain-logloss:0.123134\tvalid-logloss:0.20241\n",
      "[650]\ttrain-logloss:0.122225\tvalid-logloss:0.202358\n",
      "[660]\ttrain-logloss:0.121133\tvalid-logloss:0.20233\n",
      "[670]\ttrain-logloss:0.120108\tvalid-logloss:0.202295\n",
      "[680]\ttrain-logloss:0.119235\tvalid-logloss:0.202258\n",
      "[690]\ttrain-logloss:0.118476\tvalid-logloss:0.202234\n",
      "[700]\ttrain-logloss:0.117568\tvalid-logloss:0.202162\n",
      "[710]\ttrain-logloss:0.116596\tvalid-logloss:0.202018\n",
      "[720]\ttrain-logloss:0.115724\tvalid-logloss:0.202004\n",
      "[730]\ttrain-logloss:0.114693\tvalid-logloss:0.201942\n",
      "[740]\ttrain-logloss:0.113775\tvalid-logloss:0.201857\n",
      "[750]\ttrain-logloss:0.11278\tvalid-logloss:0.201806\n",
      "[760]\ttrain-logloss:0.111843\tvalid-logloss:0.201736\n",
      "[770]\ttrain-logloss:0.110899\tvalid-logloss:0.201673\n",
      "[780]\ttrain-logloss:0.109718\tvalid-logloss:0.201616\n",
      "[790]\ttrain-logloss:0.108843\tvalid-logloss:0.201556\n",
      "[800]\ttrain-logloss:0.108065\tvalid-logloss:0.201482\n",
      "[810]\ttrain-logloss:0.107143\tvalid-logloss:0.20138\n",
      "[820]\ttrain-logloss:0.106352\tvalid-logloss:0.201337\n",
      "[830]\ttrain-logloss:0.105477\tvalid-logloss:0.201223\n",
      "[840]\ttrain-logloss:0.104638\tvalid-logloss:0.201193\n",
      "[850]\ttrain-logloss:0.103794\tvalid-logloss:0.201169\n",
      "[860]\ttrain-logloss:0.102888\tvalid-logloss:0.201168\n",
      "[870]\ttrain-logloss:0.102017\tvalid-logloss:0.201018\n",
      "[880]\ttrain-logloss:0.101188\tvalid-logloss:0.201008\n",
      "[890]\ttrain-logloss:0.100198\tvalid-logloss:0.201\n",
      "[900]\ttrain-logloss:0.09936\tvalid-logloss:0.201027\n",
      "[910]\ttrain-logloss:0.098623\tvalid-logloss:0.201006\n",
      "[920]\ttrain-logloss:0.09789\tvalid-logloss:0.200983\n",
      "[930]\ttrain-logloss:0.097118\tvalid-logloss:0.200956\n",
      "[940]\ttrain-logloss:0.096322\tvalid-logloss:0.200879\n",
      "[950]\ttrain-logloss:0.095621\tvalid-logloss:0.200891\n",
      "[960]\ttrain-logloss:0.094848\tvalid-logloss:0.200875\n",
      "[970]\ttrain-logloss:0.094164\tvalid-logloss:0.200953\n",
      "[980]\ttrain-logloss:0.093408\tvalid-logloss:0.200903\n",
      "[990]\ttrain-logloss:0.092767\tvalid-logloss:0.20094\n",
      "[1000]\ttrain-logloss:0.092021\tvalid-logloss:0.200872\n",
      "[1010]\ttrain-logloss:0.091301\tvalid-logloss:0.200816\n",
      "[1020]\ttrain-logloss:0.090602\tvalid-logloss:0.200784\n",
      "[1030]\ttrain-logloss:0.089929\tvalid-logloss:0.200779\n",
      "[1040]\ttrain-logloss:0.08917\tvalid-logloss:0.200704\n",
      "[1050]\ttrain-logloss:0.088538\tvalid-logloss:0.200688\n",
      "[1060]\ttrain-logloss:0.087952\tvalid-logloss:0.200672\n",
      "[1070]\ttrain-logloss:0.087316\tvalid-logloss:0.200631\n",
      "[1080]\ttrain-logloss:0.086781\tvalid-logloss:0.200641\n",
      "[1090]\ttrain-logloss:0.086155\tvalid-logloss:0.200629\n",
      "[1100]\ttrain-logloss:0.085512\tvalid-logloss:0.200674\n",
      "[1110]\ttrain-logloss:0.084865\tvalid-logloss:0.200668\n",
      "[1120]\ttrain-logloss:0.084191\tvalid-logloss:0.200635\n",
      "Stopping. Best iteration:\n",
      "[1074]\ttrain-logloss:0.087072\tvalid-logloss:0.200616\n",
      "\n"
     ]
    }
   ],
   "source": [
    "\n",
    "preds_last_shot = np.zeros((test_features.shape[0],1))\n",
    "d_test = xgb.DMatrix(test_features)\n",
    "\n",
    "\n",
    "\n",
    "for ix_fit, ix_valid in tqdm_notebook(splits, total=num_folds):\n",
    "    y_val = labels[ix_valid]\n",
    "    y_train = labels[ix_fit]\n",
    "\n",
    "                                           \n",
    "    d_train = xgb.DMatrix(train_features[ix_fit],label= y_train)\n",
    "    d_valid = xgb.DMatrix(train_features[ix_valid],label= y_val)\n",
    "        \n",
    "\n",
    "    \n",
    "    \n",
    "    ############## TRAINING\n",
    "    watchlist = [(d_train, 'train'), (d_valid, 'valid')]\n",
    "    bst = xgb.train(xgb_params, d_train, 10000,  watchlist, early_stopping_rounds=50, verbose_eval=10)\n",
    "    \n",
    "#     xgb_models.append(bst)\n",
    "\n",
    "    ################ OOF \n",
    "#     y_oof[ix_valid]= bst.predict(d_valid).reshape(-1,1)\n",
    "#     xgb_models.append(bst)\n",
    "\n",
    "    \n",
    "    ################ Test prediction \n",
    "    p_test = bst.predict(d_test)\n",
    "    preds_last_shot =  p_test.reshape(-1,1)\n",
    "    \n",
    "    \n",
    "    save_array(\"data/results/xgb_5fold_s2019_test_preds_unusual_preds_last_shot.dat\",preds_last_shot)\n",
    "#     save_array(\"data/results/xgb_5fold_s2019_oof_preds_unusual.dat\",y_oof)\n",
    "    "
   ]
  },
  {
   "cell_type": "code",
   "execution_count": 42,
   "metadata": {},
   "outputs": [
    {
     "data": {
      "text/plain": [
       "(2345796, 1)"
      ]
     },
     "execution_count": 42,
     "metadata": {},
     "output_type": "execute_result"
    }
   ],
   "source": [
    "preds_last_shot.shape"
   ]
  },
  {
   "cell_type": "markdown",
   "metadata": {},
   "source": [
    "there's still half an hour left .. doing another round with a different seed"
   ]
  },
  {
   "cell_type": "code",
   "execution_count": null,
   "metadata": {
    "collapsed": true
   },
   "outputs": [],
   "source": [
    "from sklearn.model_selection import StratifiedShuffleSplit\n",
    "sss = StratifiedShuffleSplit(n_splits=1,test_size=0.1 ,random_state=51)\n",
    "splits = sss.split(train_features, labels)\n",
    "\n",
    "\n",
    "\n",
    "preds_last_shot2 = np.zeros((test_features.shape[0],1))\n",
    "\n",
    "\n",
    "\n",
    "for ix_fit, ix_valid in tqdm_notebook(splits, total=num_folds):\n",
    "    y_val = labels[ix_valid]\n",
    "    y_train = labels[ix_fit]\n",
    "\n",
    "                                           \n",
    "    d_train = xgb.DMatrix(train_features[ix_fit],label= y_train)\n",
    "    d_valid = xgb.DMatrix(train_features[ix_valid],label= y_val)\n",
    "        \n",
    "\n",
    "    \n",
    "    \n",
    "    ############## TRAINING\n",
    "    watchlist = [(d_train, 'train'), (d_valid, 'valid')]\n",
    "    bst = xgb.train(xgb_params, d_train, 10000,  watchlist, early_stopping_rounds=50, verbose_eval=10)\n",
    "    \n",
    "#     xgb_models.append(bst)\n",
    "\n",
    "    ################ OOF \n",
    "#     y_oof[ix_valid]= bst.predict(d_valid).reshape(-1,1)\n",
    "#     xgb_models.append(bst)\n",
    "\n",
    "    \n",
    "    ################ Test prediction \n",
    "    p_test = bst.predict(d_test)\n",
    "    preds_last_shot2 =  p_test.reshape(-1,1)\n",
    "    \n",
    "    \n",
    "    save_array(\"data/results/xgb_5fold_s2019_test_preds_unusual_preds_last_shot2.dat\",preds_last_shot2)\n",
    "#     save_array(\"data/results/xgb_5fold_s2019_oof_preds_unusual.dat\",y_oof)\n",
    "    \n"
   ]
  },
  {
   "cell_type": "markdown",
   "metadata": {},
   "source": [
    "### KFold"
   ]
  },
  {
   "cell_type": "code",
   "execution_count": 57,
   "metadata": {
    "collapsed": true
   },
   "outputs": [],
   "source": [
    "def set_weights(y_train,y_val):\n",
    "    \n",
    "    weight_train = np.ones(len(y_train))\n",
    "    weight_train *= 0.472001959\n",
    "    weight_train[y_train==0] = 1.309028344        \n",
    "    \n",
    "    \n",
    "    weight_val = np.ones(len(y_val))\n",
    "    weight_val *= 0.472001959\n",
    "    weight_val[y_val==0] = 1.309028344    \n",
    "\n",
    "\n",
    "\n",
    "    return weight_train, weight_val"
   ]
  },
  {
   "cell_type": "markdown",
   "metadata": {},
   "source": [
    "set aside test set for blending"
   ]
  },
  {
   "cell_type": "code",
   "execution_count": 275,
   "metadata": {
    "collapsed": true
   },
   "outputs": [],
   "source": [
    "# from sklearn.model_selection import StratifiedShuffleSplit\n",
    "\n",
    "# sss = StratifiedShuffleSplit(n_splits=1, test_size=0.1, random_state=2020)\n",
    "# train_test_split = sss.split(train_features,labels).next()\n",
    "\n",
    "\n",
    "# train_features_dev = train_features[train_test_split[0]]\n",
    "# labels_dev = labels[train_test_split[0]]"
   ]
  },
  {
   "cell_type": "markdown",
   "metadata": {},
   "source": [
    "do 8-fold on dev set "
   ]
  },
  {
   "cell_type": "code",
   "execution_count": 13,
   "metadata": {
    "collapsed": true
   },
   "outputs": [],
   "source": [
    "num_folds = 3  \n",
    "skf = StratifiedKFold(n_splits=num_folds, random_state=2019)\n",
    "splits = skf.split(train_features, labels)\n"
   ]
  },
  {
   "cell_type": "code",
   "execution_count": 14,
   "metadata": {
    "scrolled": true
   },
   "outputs": [
    {
     "data": {
      "application/vnd.jupyter.widget-view+json": {
       "model_id": "3c634111226544e0a2b05bc252bb8228"
      }
     },
     "metadata": {},
     "output_type": "display_data"
    },
    {
     "name": "stdout",
     "output_type": "stream",
     "text": [
      "[0]\ttrain-logloss:0.660484\tvalid-logloss:0.660885\n",
      "Multiple eval metrics have been passed: 'valid-logloss' will be used for early stopping.\n",
      "\n",
      "Will train until valid-logloss hasn't improved in 50 rounds.\n",
      "[10]\ttrain-logloss:0.451404\tvalid-logloss:0.455644\n",
      "[20]\ttrain-logloss:0.349862\tvalid-logloss:0.357261\n",
      "[30]\ttrain-logloss:0.29428\tvalid-logloss:0.304322\n",
      "[40]\ttrain-logloss:0.261936\tvalid-logloss:0.274062\n",
      "[50]\ttrain-logloss:0.242088\tvalid-logloss:0.256092\n",
      "[60]\ttrain-logloss:0.229448\tvalid-logloss:0.245118\n",
      "[70]\ttrain-logloss:0.220344\tvalid-logloss:0.237645\n",
      "[80]\ttrain-logloss:0.214029\tvalid-logloss:0.232679\n",
      "[90]\ttrain-logloss:0.209426\tvalid-logloss:0.229126\n",
      "[100]\ttrain-logloss:0.205212\tvalid-logloss:0.226325\n",
      "[110]\ttrain-logloss:0.201727\tvalid-logloss:0.224142\n",
      "[120]\ttrain-logloss:0.198342\tvalid-logloss:0.222433\n",
      "[130]\ttrain-logloss:0.194824\tvalid-logloss:0.220815\n",
      "[140]\ttrain-logloss:0.191672\tvalid-logloss:0.219401\n",
      "[150]\ttrain-logloss:0.188772\tvalid-logloss:0.218258\n",
      "[160]\ttrain-logloss:0.18581\tvalid-logloss:0.217122\n",
      "[170]\ttrain-logloss:0.182672\tvalid-logloss:0.216152\n",
      "[180]\ttrain-logloss:0.18019\tvalid-logloss:0.215312\n",
      "[190]\ttrain-logloss:0.178027\tvalid-logloss:0.214706\n",
      "[200]\ttrain-logloss:0.17541\tvalid-logloss:0.213991\n",
      "[210]\ttrain-logloss:0.173284\tvalid-logloss:0.213449\n",
      "[220]\ttrain-logloss:0.17096\tvalid-logloss:0.212863\n",
      "[230]\ttrain-logloss:0.168674\tvalid-logloss:0.212302\n",
      "[240]\ttrain-logloss:0.166369\tvalid-logloss:0.211787\n",
      "[250]\ttrain-logloss:0.164064\tvalid-logloss:0.211391\n",
      "[260]\ttrain-logloss:0.162555\tvalid-logloss:0.211025\n",
      "[270]\ttrain-logloss:0.160391\tvalid-logloss:0.21063\n",
      "[280]\ttrain-logloss:0.15822\tvalid-logloss:0.210286\n",
      "[290]\ttrain-logloss:0.155921\tvalid-logloss:0.209804\n",
      "[300]\ttrain-logloss:0.153942\tvalid-logloss:0.209472\n",
      "[310]\ttrain-logloss:0.152095\tvalid-logloss:0.209162\n",
      "[320]\ttrain-logloss:0.150145\tvalid-logloss:0.208765\n",
      "[330]\ttrain-logloss:0.14855\tvalid-logloss:0.208478\n",
      "[340]\ttrain-logloss:0.14663\tvalid-logloss:0.20815\n",
      "[350]\ttrain-logloss:0.144848\tvalid-logloss:0.207937\n",
      "[360]\ttrain-logloss:0.143127\tvalid-logloss:0.207704\n",
      "[370]\ttrain-logloss:0.141817\tvalid-logloss:0.20752\n",
      "[380]\ttrain-logloss:0.14034\tvalid-logloss:0.207275\n",
      "[390]\ttrain-logloss:0.138089\tvalid-logloss:0.207053\n",
      "[400]\ttrain-logloss:0.136505\tvalid-logloss:0.206851\n",
      "[410]\ttrain-logloss:0.135079\tvalid-logloss:0.206699\n",
      "[420]\ttrain-logloss:0.133297\tvalid-logloss:0.206588\n",
      "[430]\ttrain-logloss:0.131585\tvalid-logloss:0.206408\n",
      "[440]\ttrain-logloss:0.129674\tvalid-logloss:0.206163\n",
      "[450]\ttrain-logloss:0.128206\tvalid-logloss:0.205989\n",
      "[460]\ttrain-logloss:0.126749\tvalid-logloss:0.20591\n",
      "[470]\ttrain-logloss:0.12536\tvalid-logloss:0.205714\n",
      "[480]\ttrain-logloss:0.123706\tvalid-logloss:0.205543\n",
      "[490]\ttrain-logloss:0.122191\tvalid-logloss:0.205399\n",
      "[500]\ttrain-logloss:0.120746\tvalid-logloss:0.205305\n",
      "[510]\ttrain-logloss:0.11945\tvalid-logloss:0.205182\n",
      "[520]\ttrain-logloss:0.118032\tvalid-logloss:0.205081\n",
      "[530]\ttrain-logloss:0.116754\tvalid-logloss:0.205\n",
      "[540]\ttrain-logloss:0.11534\tvalid-logloss:0.204907\n",
      "[550]\ttrain-logloss:0.114162\tvalid-logloss:0.204814\n",
      "[560]\ttrain-logloss:0.112952\tvalid-logloss:0.204823\n",
      "[570]\ttrain-logloss:0.111788\tvalid-logloss:0.20475\n",
      "[580]\ttrain-logloss:0.1105\tvalid-logloss:0.204708\n",
      "[590]\ttrain-logloss:0.109431\tvalid-logloss:0.20464\n",
      "[600]\ttrain-logloss:0.108283\tvalid-logloss:0.204598\n",
      "[610]\ttrain-logloss:0.107031\tvalid-logloss:0.204496\n",
      "[620]\ttrain-logloss:0.105561\tvalid-logloss:0.204402\n",
      "[630]\ttrain-logloss:0.104491\tvalid-logloss:0.204316\n",
      "[640]\ttrain-logloss:0.103515\tvalid-logloss:0.204271\n",
      "[650]\ttrain-logloss:0.102431\tvalid-logloss:0.204243\n",
      "[660]\ttrain-logloss:0.10159\tvalid-logloss:0.204127\n",
      "[670]\ttrain-logloss:0.100627\tvalid-logloss:0.204081\n",
      "[680]\ttrain-logloss:0.099442\tvalid-logloss:0.204064\n",
      "[690]\ttrain-logloss:0.098294\tvalid-logloss:0.204028\n",
      "[700]\ttrain-logloss:0.097259\tvalid-logloss:0.203929\n",
      "[710]\ttrain-logloss:0.096075\tvalid-logloss:0.203919\n",
      "[720]\ttrain-logloss:0.095145\tvalid-logloss:0.203896\n",
      "[730]\ttrain-logloss:0.094113\tvalid-logloss:0.203864\n",
      "[740]\ttrain-logloss:0.092982\tvalid-logloss:0.203826\n",
      "[750]\ttrain-logloss:0.09188\tvalid-logloss:0.203806\n",
      "[760]\ttrain-logloss:0.090903\tvalid-logloss:0.203778\n",
      "[770]\ttrain-logloss:0.09008\tvalid-logloss:0.203785\n",
      "[780]\ttrain-logloss:0.088949\tvalid-logloss:0.203732\n",
      "[790]\ttrain-logloss:0.088057\tvalid-logloss:0.203683\n",
      "[800]\ttrain-logloss:0.087313\tvalid-logloss:0.203664\n",
      "[810]\ttrain-logloss:0.086585\tvalid-logloss:0.203622\n",
      "[820]\ttrain-logloss:0.085678\tvalid-logloss:0.203625\n",
      "[830]\ttrain-logloss:0.084632\tvalid-logloss:0.203597\n",
      "[840]\ttrain-logloss:0.083733\tvalid-logloss:0.203563\n",
      "[850]\ttrain-logloss:0.082815\tvalid-logloss:0.203554\n",
      "[860]\ttrain-logloss:0.082042\tvalid-logloss:0.203503\n",
      "[870]\ttrain-logloss:0.08135\tvalid-logloss:0.203499\n",
      "[880]\ttrain-logloss:0.080552\tvalid-logloss:0.2035\n",
      "[890]\ttrain-logloss:0.079655\tvalid-logloss:0.203488\n",
      "[900]\ttrain-logloss:0.078807\tvalid-logloss:0.203483\n",
      "[910]\ttrain-logloss:0.078006\tvalid-logloss:0.203486\n",
      "[920]\ttrain-logloss:0.077281\tvalid-logloss:0.203458\n",
      "[930]\ttrain-logloss:0.07666\tvalid-logloss:0.203462\n",
      "[940]\ttrain-logloss:0.075928\tvalid-logloss:0.203474\n",
      "[950]\ttrain-logloss:0.075202\tvalid-logloss:0.203518\n",
      "[960]\ttrain-logloss:0.074436\tvalid-logloss:0.203566\n",
      "[970]\ttrain-logloss:0.073646\tvalid-logloss:0.203538\n",
      "Stopping. Best iteration:\n",
      "[922]\ttrain-logloss:0.077146\tvalid-logloss:0.203438\n",
      "\n",
      "[0]\ttrain-logloss:0.660407\tvalid-logloss:0.660953\n",
      "Multiple eval metrics have been passed: 'valid-logloss' will be used for early stopping.\n",
      "\n",
      "Will train until valid-logloss hasn't improved in 50 rounds.\n",
      "[10]\ttrain-logloss:0.451598\tvalid-logloss:0.456395\n",
      "[20]\ttrain-logloss:0.350105\tvalid-logloss:0.358238\n",
      "[30]\ttrain-logloss:0.294336\tvalid-logloss:0.305097\n",
      "[40]\ttrain-logloss:0.261747\tvalid-logloss:0.274706\n",
      "[50]\ttrain-logloss:0.241855\tvalid-logloss:0.256775\n",
      "[60]\ttrain-logloss:0.229099\tvalid-logloss:0.245595\n",
      "[70]\ttrain-logloss:0.220512\tvalid-logloss:0.238418\n",
      "[80]\ttrain-logloss:0.214511\tvalid-logloss:0.233641\n",
      "[90]\ttrain-logloss:0.210073\tvalid-logloss:0.230328\n",
      "[100]\ttrain-logloss:0.205949\tvalid-logloss:0.227435\n",
      "[110]\ttrain-logloss:0.202346\tvalid-logloss:0.225223\n",
      "[120]\ttrain-logloss:0.198735\tvalid-logloss:0.223285\n",
      "[130]\ttrain-logloss:0.195445\tvalid-logloss:0.221765\n",
      "[140]\ttrain-logloss:0.192596\tvalid-logloss:0.220471\n",
      "[150]\ttrain-logloss:0.189533\tvalid-logloss:0.219148\n",
      "[160]\ttrain-logloss:0.186635\tvalid-logloss:0.218099\n",
      "[170]\ttrain-logloss:0.183743\tvalid-logloss:0.217155\n",
      "[180]\ttrain-logloss:0.180868\tvalid-logloss:0.216296\n",
      "[190]\ttrain-logloss:0.178585\tvalid-logloss:0.215588\n",
      "[200]\ttrain-logloss:0.176096\tvalid-logloss:0.214877\n",
      "[210]\ttrain-logloss:0.17406\tvalid-logloss:0.214349\n",
      "[220]\ttrain-logloss:0.171482\tvalid-logloss:0.21373\n",
      "[230]\ttrain-logloss:0.16931\tvalid-logloss:0.213121\n",
      "[240]\ttrain-logloss:0.166836\tvalid-logloss:0.212576\n",
      "[250]\ttrain-logloss:0.164494\tvalid-logloss:0.212051\n",
      "[260]\ttrain-logloss:0.162715\tvalid-logloss:0.211619\n",
      "[270]\ttrain-logloss:0.161098\tvalid-logloss:0.211214\n",
      "[280]\ttrain-logloss:0.159031\tvalid-logloss:0.210743\n",
      "[290]\ttrain-logloss:0.156651\tvalid-logloss:0.210379\n",
      "[300]\ttrain-logloss:0.154444\tvalid-logloss:0.210066\n",
      "[310]\ttrain-logloss:0.15251\tvalid-logloss:0.209722\n",
      "[320]\ttrain-logloss:0.151061\tvalid-logloss:0.20943\n",
      "[330]\ttrain-logloss:0.149095\tvalid-logloss:0.209163\n",
      "[340]\ttrain-logloss:0.14735\tvalid-logloss:0.208966\n",
      "[350]\ttrain-logloss:0.145855\tvalid-logloss:0.208744\n",
      "[360]\ttrain-logloss:0.14399\tvalid-logloss:0.208477\n",
      "[370]\ttrain-logloss:0.142181\tvalid-logloss:0.208142\n",
      "[380]\ttrain-logloss:0.140657\tvalid-logloss:0.207927\n",
      "[390]\ttrain-logloss:0.139208\tvalid-logloss:0.20777\n",
      "[400]\ttrain-logloss:0.137949\tvalid-logloss:0.207553\n",
      "[410]\ttrain-logloss:0.136651\tvalid-logloss:0.207357\n",
      "[420]\ttrain-logloss:0.13515\tvalid-logloss:0.207138\n",
      "[430]\ttrain-logloss:0.133257\tvalid-logloss:0.206936\n",
      "[440]\ttrain-logloss:0.131789\tvalid-logloss:0.206796\n",
      "[450]\ttrain-logloss:0.130337\tvalid-logloss:0.206616\n",
      "[460]\ttrain-logloss:0.128731\tvalid-logloss:0.206448\n",
      "[470]\ttrain-logloss:0.127263\tvalid-logloss:0.206281\n",
      "[480]\ttrain-logloss:0.125985\tvalid-logloss:0.206161\n",
      "[490]\ttrain-logloss:0.124704\tvalid-logloss:0.206001\n",
      "[500]\ttrain-logloss:0.122965\tvalid-logloss:0.205892\n",
      "[510]\ttrain-logloss:0.121672\tvalid-logloss:0.205797\n",
      "[520]\ttrain-logloss:0.120158\tvalid-logloss:0.205634\n",
      "[530]\ttrain-logloss:0.118779\tvalid-logloss:0.205508\n"
     ]
    },
    {
     "name": "stdout",
     "output_type": "stream",
     "text": [
      "[540]\ttrain-logloss:0.117362\tvalid-logloss:0.205404\n",
      "[550]\ttrain-logloss:0.116053\tvalid-logloss:0.205309\n",
      "[560]\ttrain-logloss:0.114759\tvalid-logloss:0.205258\n",
      "[570]\ttrain-logloss:0.113458\tvalid-logloss:0.205144\n",
      "[580]\ttrain-logloss:0.112108\tvalid-logloss:0.20504\n",
      "[590]\ttrain-logloss:0.111128\tvalid-logloss:0.204938\n",
      "[600]\ttrain-logloss:0.109884\tvalid-logloss:0.204874\n",
      "[610]\ttrain-logloss:0.108564\tvalid-logloss:0.204814\n",
      "[620]\ttrain-logloss:0.107466\tvalid-logloss:0.204768\n",
      "[630]\ttrain-logloss:0.106385\tvalid-logloss:0.204663\n",
      "[640]\ttrain-logloss:0.105287\tvalid-logloss:0.204588\n",
      "[650]\ttrain-logloss:0.10428\tvalid-logloss:0.204525\n",
      "[660]\ttrain-logloss:0.103071\tvalid-logloss:0.204462\n",
      "[670]\ttrain-logloss:0.101893\tvalid-logloss:0.204386\n",
      "[680]\ttrain-logloss:0.100585\tvalid-logloss:0.204323\n",
      "[690]\ttrain-logloss:0.099351\tvalid-logloss:0.204217\n",
      "[700]\ttrain-logloss:0.098089\tvalid-logloss:0.20415\n",
      "[710]\ttrain-logloss:0.097151\tvalid-logloss:0.204115\n",
      "[720]\ttrain-logloss:0.096262\tvalid-logloss:0.204038\n",
      "[730]\ttrain-logloss:0.095134\tvalid-logloss:0.204005\n",
      "[740]\ttrain-logloss:0.094212\tvalid-logloss:0.203972\n",
      "[750]\ttrain-logloss:0.09314\tvalid-logloss:0.203914\n",
      "[760]\ttrain-logloss:0.092234\tvalid-logloss:0.203895\n",
      "[770]\ttrain-logloss:0.091159\tvalid-logloss:0.203847\n",
      "[780]\ttrain-logloss:0.09027\tvalid-logloss:0.203803\n",
      "[790]\ttrain-logloss:0.089261\tvalid-logloss:0.203799\n",
      "[800]\ttrain-logloss:0.088235\tvalid-logloss:0.203721\n",
      "[810]\ttrain-logloss:0.087265\tvalid-logloss:0.203732\n",
      "[820]\ttrain-logloss:0.08642\tvalid-logloss:0.203721\n",
      "[830]\ttrain-logloss:0.085419\tvalid-logloss:0.20367\n",
      "[840]\ttrain-logloss:0.084679\tvalid-logloss:0.203631\n",
      "[850]\ttrain-logloss:0.083948\tvalid-logloss:0.203625\n",
      "[860]\ttrain-logloss:0.083093\tvalid-logloss:0.203628\n",
      "[870]\ttrain-logloss:0.082232\tvalid-logloss:0.203656\n",
      "[880]\ttrain-logloss:0.081376\tvalid-logloss:0.203651\n",
      "[890]\ttrain-logloss:0.080614\tvalid-logloss:0.203677\n",
      "[900]\ttrain-logloss:0.079761\tvalid-logloss:0.203678\n",
      "Stopping. Best iteration:\n",
      "[853]\ttrain-logloss:0.083748\tvalid-logloss:0.203622\n",
      "\n",
      "[0]\ttrain-logloss:0.660587\tvalid-logloss:0.660896\n",
      "Multiple eval metrics have been passed: 'valid-logloss' will be used for early stopping.\n",
      "\n",
      "Will train until valid-logloss hasn't improved in 50 rounds.\n",
      "[10]\ttrain-logloss:0.452122\tvalid-logloss:0.455302\n",
      "[20]\ttrain-logloss:0.351217\tvalid-logloss:0.356912\n",
      "[30]\ttrain-logloss:0.29572\tvalid-logloss:0.303805\n",
      "[40]\ttrain-logloss:0.262932\tvalid-logloss:0.273238\n",
      "[50]\ttrain-logloss:0.242826\tvalid-logloss:0.255086\n",
      "[60]\ttrain-logloss:0.230236\tvalid-logloss:0.244117\n",
      "[70]\ttrain-logloss:0.221339\tvalid-logloss:0.236707\n",
      "[80]\ttrain-logloss:0.215262\tvalid-logloss:0.231906\n",
      "[90]\ttrain-logloss:0.210608\tvalid-logloss:0.228474\n",
      "[100]\ttrain-logloss:0.206514\tvalid-logloss:0.225697\n",
      "[110]\ttrain-logloss:0.202623\tvalid-logloss:0.223416\n",
      "[120]\ttrain-logloss:0.19921\tvalid-logloss:0.221575\n",
      "[130]\ttrain-logloss:0.196034\tvalid-logloss:0.219978\n",
      "[140]\ttrain-logloss:0.193155\tvalid-logloss:0.218629\n",
      "[150]\ttrain-logloss:0.190008\tvalid-logloss:0.217443\n",
      "[160]\ttrain-logloss:0.187577\tvalid-logloss:0.216548\n",
      "[170]\ttrain-logloss:0.184879\tvalid-logloss:0.215605\n",
      "[180]\ttrain-logloss:0.1821\tvalid-logloss:0.214748\n",
      "[190]\ttrain-logloss:0.179821\tvalid-logloss:0.21402\n",
      "[200]\ttrain-logloss:0.177311\tvalid-logloss:0.213282\n",
      "[210]\ttrain-logloss:0.175245\tvalid-logloss:0.212624\n",
      "[220]\ttrain-logloss:0.172805\tvalid-logloss:0.21193\n",
      "[230]\ttrain-logloss:0.170833\tvalid-logloss:0.211477\n",
      "[240]\ttrain-logloss:0.169088\tvalid-logloss:0.211011\n",
      "[250]\ttrain-logloss:0.166907\tvalid-logloss:0.210569\n",
      "[260]\ttrain-logloss:0.16444\tvalid-logloss:0.210094\n",
      "[270]\ttrain-logloss:0.162709\tvalid-logloss:0.209759\n",
      "[280]\ttrain-logloss:0.161116\tvalid-logloss:0.209368\n",
      "[290]\ttrain-logloss:0.158855\tvalid-logloss:0.208941\n",
      "[300]\ttrain-logloss:0.157071\tvalid-logloss:0.20862\n",
      "[310]\ttrain-logloss:0.155287\tvalid-logloss:0.2083\n",
      "[320]\ttrain-logloss:0.153569\tvalid-logloss:0.208\n",
      "[330]\ttrain-logloss:0.151989\tvalid-logloss:0.20772\n",
      "[340]\ttrain-logloss:0.149652\tvalid-logloss:0.207402\n",
      "[350]\ttrain-logloss:0.147801\tvalid-logloss:0.207107\n",
      "[360]\ttrain-logloss:0.146105\tvalid-logloss:0.206783\n",
      "[370]\ttrain-logloss:0.144493\tvalid-logloss:0.206527\n",
      "[380]\ttrain-logloss:0.142523\tvalid-logloss:0.206317\n",
      "[390]\ttrain-logloss:0.141157\tvalid-logloss:0.206149\n",
      "[400]\ttrain-logloss:0.139889\tvalid-logloss:0.205972\n",
      "[410]\ttrain-logloss:0.138538\tvalid-logloss:0.205795\n",
      "[420]\ttrain-logloss:0.136823\tvalid-logloss:0.205654\n",
      "[430]\ttrain-logloss:0.13495\tvalid-logloss:0.205501\n",
      "[440]\ttrain-logloss:0.133481\tvalid-logloss:0.205305\n",
      "[450]\ttrain-logloss:0.131644\tvalid-logloss:0.205111\n",
      "[460]\ttrain-logloss:0.130005\tvalid-logloss:0.204952\n",
      "[470]\ttrain-logloss:0.128456\tvalid-logloss:0.204829\n",
      "[480]\ttrain-logloss:0.126682\tvalid-logloss:0.204708\n",
      "[490]\ttrain-logloss:0.125044\tvalid-logloss:0.204559\n",
      "[500]\ttrain-logloss:0.123786\tvalid-logloss:0.204433\n",
      "[510]\ttrain-logloss:0.12242\tvalid-logloss:0.204328\n",
      "[520]\ttrain-logloss:0.120933\tvalid-logloss:0.204169\n",
      "[530]\ttrain-logloss:0.119658\tvalid-logloss:0.204077\n",
      "[540]\ttrain-logloss:0.118246\tvalid-logloss:0.20396\n",
      "[550]\ttrain-logloss:0.11677\tvalid-logloss:0.20387\n",
      "[560]\ttrain-logloss:0.115451\tvalid-logloss:0.203801\n",
      "[570]\ttrain-logloss:0.113976\tvalid-logloss:0.203694\n",
      "[580]\ttrain-logloss:0.112829\tvalid-logloss:0.203631\n",
      "[590]\ttrain-logloss:0.111401\tvalid-logloss:0.203544\n",
      "[600]\ttrain-logloss:0.110142\tvalid-logloss:0.203459\n",
      "[610]\ttrain-logloss:0.108835\tvalid-logloss:0.203392\n",
      "[620]\ttrain-logloss:0.107754\tvalid-logloss:0.203322\n",
      "[630]\ttrain-logloss:0.106405\tvalid-logloss:0.203147\n",
      "[640]\ttrain-logloss:0.105239\tvalid-logloss:0.203088\n",
      "[650]\ttrain-logloss:0.104143\tvalid-logloss:0.203029\n",
      "[660]\ttrain-logloss:0.103102\tvalid-logloss:0.202969\n",
      "[670]\ttrain-logloss:0.101787\tvalid-logloss:0.202978\n",
      "[680]\ttrain-logloss:0.100696\tvalid-logloss:0.202917\n",
      "[690]\ttrain-logloss:0.099437\tvalid-logloss:0.202858\n",
      "[700]\ttrain-logloss:0.098305\tvalid-logloss:0.202768\n",
      "[710]\ttrain-logloss:0.097355\tvalid-logloss:0.202698\n",
      "[720]\ttrain-logloss:0.096239\tvalid-logloss:0.202697\n",
      "[730]\ttrain-logloss:0.095155\tvalid-logloss:0.202673\n",
      "[740]\ttrain-logloss:0.094101\tvalid-logloss:0.202618\n",
      "[750]\ttrain-logloss:0.093114\tvalid-logloss:0.202581\n",
      "[760]\ttrain-logloss:0.092032\tvalid-logloss:0.20254\n",
      "[770]\ttrain-logloss:0.091151\tvalid-logloss:0.20251\n",
      "[780]\ttrain-logloss:0.090124\tvalid-logloss:0.202475\n",
      "[790]\ttrain-logloss:0.089066\tvalid-logloss:0.202464\n",
      "[800]\ttrain-logloss:0.088172\tvalid-logloss:0.202454\n",
      "[810]\ttrain-logloss:0.087333\tvalid-logloss:0.202412\n",
      "[820]\ttrain-logloss:0.08641\tvalid-logloss:0.202376\n",
      "[830]\ttrain-logloss:0.085406\tvalid-logloss:0.202349\n",
      "[840]\ttrain-logloss:0.084385\tvalid-logloss:0.202356\n",
      "[850]\ttrain-logloss:0.083696\tvalid-logloss:0.202376\n",
      "[860]\ttrain-logloss:0.08299\tvalid-logloss:0.202344\n",
      "[870]\ttrain-logloss:0.082096\tvalid-logloss:0.202376\n",
      "Stopping. Best iteration:\n",
      "[829]\ttrain-logloss:0.08552\tvalid-logloss:0.202331\n",
      "\n",
      "\n"
     ]
    }
   ],
   "source": [
    "xgb_models = []\n",
    "\n",
    "y_oof = np.zeros((train_features.shape[0],1))\n",
    "preds = np.zeros((test_features.shape[0],1))\n",
    "d_test = xgb.DMatrix(test_features)\n",
    "\n",
    "current_fold = 0\n",
    "\n",
    "for ix_fit, ix_valid in tqdm_notebook(splits, total=num_folds):\n",
    "    y_val = labels[ix_valid]\n",
    "    y_train = labels[ix_fit]\n",
    "\n",
    "                                           \n",
    "    d_train = xgb.DMatrix(train_features[ix_fit],label= y_train)\n",
    "    d_valid = xgb.DMatrix(train_features[ix_valid],label= y_val)\n",
    "    \n",
    "    current_fold+=1\n",
    "    \n",
    "\n",
    "    \n",
    "    \n",
    "    ############## TRAINING\n",
    "    watchlist = [(d_train, 'train'), (d_valid, 'valid')]\n",
    "    bst = xgb.train(xgb_params, d_train, 3500,  watchlist, early_stopping_rounds=50, verbose_eval=10)\n",
    "    \n",
    "    xgb_models.append(bst)\n",
    "\n",
    "    ################ OOF \n",
    "#     y_oof[ix_valid]= bst.predict(d_valid).reshape(-1,1)\n",
    "#     xgb_models.append(bst)\n",
    "\n",
    "    \n",
    "    ################ Test prediction \n",
    "    p_test = bst.predict(d_test)\n",
    "    preds += p_test.reshape(-1,1)\n",
    "    \n",
    "    \n",
    "    save_array(\"data/results/xgb_5fold_s2019_test_preds_unusual_part{}.dat\".format(current_fold),preds)\n",
    "#     save_array(\"data/results/xgb_5fold_s2019_oof_preds_unusual.dat\",y_oof)\n",
    "    \n"
   ]
  },
  {
   "cell_type": "markdown",
   "metadata": {},
   "source": [
    "[301]\ttrain-logloss:0.192704\tvalid-logloss:0.202844"
   ]
  },
  {
   "cell_type": "code",
   "execution_count": 15,
   "metadata": {
    "collapsed": true
   },
   "outputs": [],
   "source": [
    "preds_avg = preds / float(num_folds) #devide by number of folds  "
   ]
  },
  {
   "cell_type": "code",
   "execution_count": 16,
   "metadata": {
    "collapsed": true
   },
   "outputs": [],
   "source": [
    "save_array(\"data/results/xgb_3fold_s2019_test_preds_unusual.dat\",preds_avg)\n",
    "# save_array(\"data/results/xgb_5fold_s2019_oof_preds_nmf_pseudo.dat\",y_oof)"
   ]
  },
  {
   "cell_type": "code",
   "execution_count": 212,
   "metadata": {
    "collapsed": true
   },
   "outputs": [],
   "source": [
    "# plt.hist(preds_avg,bins=50)"
   ]
  },
  {
   "cell_type": "code",
   "execution_count": 214,
   "metadata": {
    "collapsed": true
   },
   "outputs": [],
   "source": [
    "# plt.hist(link_function(preds_avg),bins=50)"
   ]
  },
  {
   "cell_type": "code",
   "execution_count": 87,
   "metadata": {
    "collapsed": true
   },
   "outputs": [],
   "source": [
    "# def create_feature_map(features):\n",
    "#     outfile = open('xgb.fmap', 'w')\n",
    "#     i = 0\n",
    "#     for feat in features:\n",
    "#         outfile.write('{0}\\t{1}\\tq\\n'.format(i, feat))\n",
    "#         i = i + 1\n",
    "#     outfile.close()\n",
    "# xgb.plot_importance(bst)"
   ]
  },
  {
   "cell_type": "code",
   "execution_count": 215,
   "metadata": {
    "collapsed": true
   },
   "outputs": [],
   "source": [
    "# d_test = xgb.DMatrix(test_features)\n",
    "# p_test = bst.predict(d_test)\n",
    "# p_test = link_function(p_test)"
   ]
  },
  {
   "cell_type": "code",
   "execution_count": 43,
   "metadata": {
    "collapsed": true
   },
   "outputs": [],
   "source": [
    "p_test = link_function(preds_last_shot)"
   ]
  },
  {
   "cell_type": "code",
   "execution_count": 44,
   "metadata": {},
   "outputs": [
    {
     "data": {
      "text/html": [
       "<div>\n",
       "<style>\n",
       "    .dataframe thead tr:only-child th {\n",
       "        text-align: right;\n",
       "    }\n",
       "\n",
       "    .dataframe thead th {\n",
       "        text-align: left;\n",
       "    }\n",
       "\n",
       "    .dataframe tbody tr th {\n",
       "        vertical-align: top;\n",
       "    }\n",
       "</style>\n",
       "<table border=\"1\" class=\"dataframe\">\n",
       "  <thead>\n",
       "    <tr style=\"text-align: right;\">\n",
       "      <th></th>\n",
       "      <th>is_duplicate</th>\n",
       "      <th>test_id</th>\n",
       "    </tr>\n",
       "  </thead>\n",
       "  <tbody>\n",
       "    <tr>\n",
       "      <th>0</th>\n",
       "      <td>0.000027</td>\n",
       "      <td>0</td>\n",
       "    </tr>\n",
       "    <tr>\n",
       "      <th>1</th>\n",
       "      <td>0.035027</td>\n",
       "      <td>1</td>\n",
       "    </tr>\n",
       "  </tbody>\n",
       "</table>\n",
       "</div>"
      ],
      "text/plain": [
       "   is_duplicate  test_id\n",
       "0      0.000027        0\n",
       "1      0.035027        1"
      ]
     },
     "execution_count": 44,
     "metadata": {},
     "output_type": "execute_result"
    }
   ],
   "source": [
    "df_test = pd.read_csv(data_home+'test.csv')\n",
    "\n",
    "sub = pd.DataFrame({'test_id': df_test['test_id'], 'is_duplicate': p_test.ravel()})\n",
    "sub.head(2)"
   ]
  },
  {
   "cell_type": "code",
   "execution_count": 45,
   "metadata": {},
   "outputs": [
    {
     "data": {
      "text/html": [
       "<a href='subm/xgb_3fold_unusual_nolstm.csv' target='_blank'>subm/xgb_3fold_unusual_nolstm.csv</a><br>"
      ],
      "text/plain": [
       "/home/ubuntu/quora/subm/xgb_3fold_unusual_nolstm.csv"
      ]
     },
     "execution_count": 45,
     "metadata": {},
     "output_type": "execute_result"
    }
   ],
   "source": [
    "submission_name = \"subm/xgb_3fold_unusual_nolstm.csv\"\n",
    "\n",
    "sub.to_csv(path+submission_name, index=False)\n",
    "FileLink(submission_name)"
   ]
  },
  {
   "cell_type": "code",
   "execution_count": 68,
   "metadata": {
    "collapsed": true
   },
   "outputs": [],
   "source": [
    "# plt.rcParams['figure.figsize'] = 16, 12\n",
    "\n",
    "# # sns.distplot(preds_avg,label=\"pseudo\"),sns.distplot(xgb_1l_test_preds,label='xgb')\n",
    "\n",
    "# plt.legend(loc='upper right', prop={'size': 18})\n",
    "# plt.title('Distribution of oof predictions', fontsize=20)"
   ]
  },
  {
   "cell_type": "markdown",
   "metadata": {},
   "source": [
    "### Stacking "
   ]
  },
  {
   "cell_type": "code",
   "execution_count": 69,
   "metadata": {
    "collapsed": true
   },
   "outputs": [],
   "source": [
    "from sklearn.ensemble import *\n",
    "\n",
    "clfs = [\n",
    "#         ExtraTreesClassifier(n_estimators=500, n_jobs=-1, criterion='gini',verbose=0),\n",
    "# #     GradientBoostingClassifier(learning_rate=0.05, subsample=0.5, max_depth=9, n_estimators=500,verbose=1),\n",
    "#         ExtraTreesClassifier(n_estimators=500, n_jobs=-1, criterion='entropy',verbose=0),\n",
    "#         RandomForestClassifier(n_estimators=500, n_jobs=-1, criterion='gini',verbose=0),\n",
    "        RandomForestClassifier(n_estimators=1000, n_jobs=-1, criterion='entropy',verbose=1, max_depth=9)\n",
    "]"
   ]
  },
  {
   "cell_type": "code",
   "execution_count": 64,
   "metadata": {
    "collapsed": true
   },
   "outputs": [],
   "source": [
    "dataset_blend_train = np.zeros((train_features.shape[0], len(clfs)+1)) # +1 for xgboost results\n",
    "dataset_blend_test = np.zeros((test_features.shape[0], len(clfs)+1))\n"
   ]
  },
  {
   "cell_type": "code",
   "execution_count": 65,
   "metadata": {
    "collapsed": true
   },
   "outputs": [],
   "source": [
    "num_folds = 5\n",
    "X = train_features\n",
    "X_submission = test_features\n",
    "y = labels\n",
    "\n",
    "skf = StratifiedKFold(n_splits=num_folds, random_state=2019)\n",
    "skf  = list(skf.split(X, y))"
   ]
  },
  {
   "cell_type": "code",
   "execution_count": 66,
   "metadata": {},
   "outputs": [
    {
     "data": {
      "text/plain": [
       "(False, True)"
      ]
     },
     "execution_count": 66,
     "metadata": {},
     "output_type": "execute_result"
    }
   ],
   "source": [
    "np.any(np.isnan(X)), np.all(np.isfinite(X))"
   ]
  },
  {
   "cell_type": "code",
   "execution_count": 67,
   "metadata": {
    "collapsed": true
   },
   "outputs": [],
   "source": [
    "X = np.clip(X,X.min(),1e7)\n",
    "X_submission = np.clip(X_submission,X_submission.min(),1e7)"
   ]
  },
  {
   "cell_type": "code",
   "execution_count": 11,
   "metadata": {
    "collapsed": true
   },
   "outputs": [],
   "source": [
    "# dataset_blend_train =   load_array(\"data/cache/dataset_blend_train_v1.dat\")\n",
    "# dataset_blend_test =    load_array(\"data/cache/dataset_blend_test_v1.dat\")"
   ]
  },
  {
   "cell_type": "code",
   "execution_count": null,
   "metadata": {
    "scrolled": false
   },
   "outputs": [
    {
     "name": "stdout",
     "output_type": "stream",
     "text": [
      "0 RandomForestClassifier(bootstrap=True, class_weight=None, criterion='entropy',\n",
      "            max_depth=9, max_features='auto', max_leaf_nodes=None,\n",
      "            min_impurity_split=1e-07, min_samples_leaf=1,\n",
      "            min_samples_split=2, min_weight_fraction_leaf=0.0,\n",
      "            n_estimators=1000, n_jobs=-1, oob_score=False,\n",
      "            random_state=None, verbose=1, warm_start=False)\n",
      "Fold 0\n"
     ]
    },
    {
     "name": "stderr",
     "output_type": "stream",
     "text": [
      "[Parallel(n_jobs=-1)]: Done  18 tasks      | elapsed:    6.3s\n",
      "[Parallel(n_jobs=-1)]: Done 168 tasks      | elapsed:   37.6s\n",
      "[Parallel(n_jobs=-1)]: Done 418 tasks      | elapsed:  1.5min\n",
      "[Parallel(n_jobs=-1)]: Done 768 tasks      | elapsed:  2.8min\n",
      "[Parallel(n_jobs=-1)]: Done 1000 out of 1000 | elapsed:  3.6min finished\n",
      "[Parallel(n_jobs=16)]: Done  18 tasks      | elapsed:    0.0s\n",
      "[Parallel(n_jobs=16)]: Done 168 tasks      | elapsed:    0.2s\n",
      "[Parallel(n_jobs=16)]: Done 418 tasks      | elapsed:    0.5s\n",
      "[Parallel(n_jobs=16)]: Done 768 tasks      | elapsed:    1.0s\n",
      "[Parallel(n_jobs=16)]: Done 1000 out of 1000 | elapsed:    1.3s finished\n",
      "[Parallel(n_jobs=16)]: Done  18 tasks      | elapsed:    0.6s\n",
      "[Parallel(n_jobs=16)]: Done 168 tasks      | elapsed:    3.7s\n",
      "[Parallel(n_jobs=16)]: Done 418 tasks      | elapsed:    9.0s\n"
     ]
    }
   ],
   "source": [
    "%%time \n",
    "\n",
    "for j, clf in enumerate(clfs):\n",
    "    print j, clf\n",
    " \n",
    "        \n",
    "        \n",
    "    dataset_blend_test_j = np.zeros((test_features.shape[0], num_folds))\n",
    "    \n",
    "    \n",
    "\n",
    "\n",
    "    for i, (train, test) in enumerate(skf):\n",
    "        print \"Fold\", i\n",
    "        \n",
    "        X_train = X[train]\n",
    "        y_train = y[train]\n",
    "        X_test = X[test]\n",
    "        y_test = y[test]\n",
    "        \n",
    "#         print X_train.shape, y_train.shape, X_test.shape, y_test.shape\n",
    "        clf.fit(X_train, y_train)\n",
    "        \n",
    "        y_submission = clf.predict_proba(X_test)[:, 1]\n",
    "        dataset_blend_train[test, j] = y_submission\n",
    "        dataset_blend_test_j[:, i] = clf.predict_proba(X_submission)[:, 1]\n",
    "        \n",
    "    dataset_blend_test[:, j] = dataset_blend_test_j.mean(1)\n",
    "    \n",
    "    #caching to avoid dead-kernel interruptions \n",
    "    save_array(\"data/cache/dataset_blend_train_v1.dat\",dataset_blend_train)\n",
    "    save_array(\"data/cache/dataset_blend_test_v1.dat\",dataset_blend_test)\n"
   ]
  },
  {
   "cell_type": "code",
   "execution_count": 13,
   "metadata": {},
   "outputs": [
    {
     "data": {
      "text/plain": [
       "((404290, 5), (2345796, 5))"
      ]
     },
     "execution_count": 13,
     "metadata": {},
     "output_type": "execute_result"
    }
   ],
   "source": [
    "dataset_blend_train.shape, dataset_blend_test.shape"
   ]
  },
  {
   "cell_type": "code",
   "execution_count": 45,
   "metadata": {},
   "outputs": [
    {
     "data": {
      "text/plain": [
       "array([  4.24634665e-02,   6.59618014e-03,   4.29204762e-01, ...,\n",
       "         2.81577948e-02,   2.92460697e-07,   8.89144659e-01])"
      ]
     },
     "execution_count": 45,
     "metadata": {},
     "output_type": "execute_result"
    }
   ],
   "source": [
    "dataset_blend_train[:,4]"
   ]
  },
  {
   "cell_type": "code",
   "execution_count": 24,
   "metadata": {
    "collapsed": true
   },
   "outputs": [],
   "source": [
    "xgb_preds = load_array(\"data/results/xgb_5fold_s2019_test_preds_maxcore.dat\")\n",
    "xgb_y_oof = load_array(\"data/results/xgb_5fold_s2019_oof_preds_maxcore.dat\")"
   ]
  },
  {
   "cell_type": "code",
   "execution_count": 34,
   "metadata": {
    "collapsed": true
   },
   "outputs": [],
   "source": [
    "dataset_blend_train[:,len(clfs)] = xgb_y_oof.ravel()\n",
    "dataset_blend_test[:,len(clfs)] = xgb_preds.ravel()\n"
   ]
  },
  {
   "cell_type": "code",
   "execution_count": 32,
   "metadata": {},
   "outputs": [
    {
     "data": {
      "text/plain": [
       "4"
      ]
     },
     "execution_count": 32,
     "metadata": {},
     "output_type": "execute_result"
    }
   ],
   "source": [
    "len(clfs)"
   ]
  },
  {
   "cell_type": "code",
   "execution_count": 62,
   "metadata": {},
   "outputs": [
    {
     "data": {
      "text/plain": [
       "array([  1.40080047e-04,   2.09554631e-01])"
      ]
     },
     "execution_count": 62,
     "metadata": {},
     "output_type": "execute_result"
    }
   ],
   "source": [
    "avg_blend_preds = dataset_blend_test.mean(axis=1)\n",
    "avg_blend_preds[0:2]"
   ]
  },
  {
   "cell_type": "markdown",
   "metadata": {},
   "source": [
    "#### Blending"
   ]
  },
  {
   "cell_type": "code",
   "execution_count": null,
   "metadata": {
    "collapsed": true
   },
   "outputs": [],
   "source": []
  },
  {
   "cell_type": "code",
   "execution_count": 58,
   "metadata": {
    "collapsed": true
   },
   "outputs": [],
   "source": [
    "from sklearn.linear_model import LogisticRegression\n",
    "\n",
    "clf = LogisticRegression()\n",
    "clf.fit(dataset_blend_train, y)\n",
    "y_submission = clf.predict_proba(dataset_blend_test) [:, 1]"
   ]
  },
  {
   "cell_type": "code",
   "execution_count": 53,
   "metadata": {},
   "outputs": [
    {
     "data": {
      "text/plain": [
       "0.94942818288017461"
      ]
     },
     "execution_count": 53,
     "metadata": {},
     "output_type": "execute_result"
    }
   ],
   "source": [
    "link_function(y_submission).max()"
   ]
  },
  {
   "cell_type": "code",
   "execution_count": 57,
   "metadata": {
    "collapsed": true
   },
   "outputs": [],
   "source": [
    "# print \"Linear stretch of predictions to [0,1]\"\n",
    "# y_submission = (y_submission - y_submission.min()) / (y_submission.max() - y_submission.min())"
   ]
  },
  {
   "cell_type": "markdown",
   "metadata": {},
   "source": [
    "#### Submission"
   ]
  },
  {
   "cell_type": "code",
   "execution_count": 59,
   "metadata": {},
   "outputs": [
    {
     "data": {
      "text/html": [
       "<div>\n",
       "<table border=\"1\" class=\"dataframe\">\n",
       "  <thead>\n",
       "    <tr style=\"text-align: right;\">\n",
       "      <th></th>\n",
       "      <th>is_duplicate</th>\n",
       "      <th>test_id</th>\n",
       "    </tr>\n",
       "  </thead>\n",
       "  <tbody>\n",
       "    <tr>\n",
       "      <th>0</th>\n",
       "      <td>0.008158</td>\n",
       "      <td>0</td>\n",
       "    </tr>\n",
       "    <tr>\n",
       "      <th>1</th>\n",
       "      <td>0.039296</td>\n",
       "      <td>1</td>\n",
       "    </tr>\n",
       "  </tbody>\n",
       "</table>\n",
       "</div>"
      ],
      "text/plain": [
       "   is_duplicate  test_id\n",
       "0      0.008158        0\n",
       "1      0.039296        1"
      ]
     },
     "execution_count": 59,
     "metadata": {},
     "output_type": "execute_result"
    }
   ],
   "source": [
    "df_test = pd.read_csv(data_home+'test.csv')\n",
    "\n",
    "sub = pd.DataFrame({'test_id': df_test['test_id'], 'is_duplicate': link_function(y_submission)})\n",
    "sub.head(2)"
   ]
  },
  {
   "cell_type": "code",
   "execution_count": 60,
   "metadata": {},
   "outputs": [
    {
     "data": {
      "text/html": [
       "<a href='subm/blendingv1.csv' target='_blank'>subm/blendingv1.csv</a><br>"
      ],
      "text/plain": [
       "/home/ubuntu/quora/subm/blendingv1.csv"
      ]
     },
     "execution_count": 60,
     "metadata": {},
     "output_type": "execute_result"
    }
   ],
   "source": [
    "submission_name = \"subm/blendingv1.csv\"\n",
    "\n",
    "sub.to_csv(path+submission_name, index=False)\n",
    "FileLink(submission_name)"
   ]
  },
  {
   "cell_type": "code",
   "execution_count": null,
   "metadata": {
    "collapsed": true
   },
   "outputs": [],
   "source": []
  }
 ],
 "metadata": {
  "anaconda-cloud": {},
  "kernelspec": {
   "display_name": "Python [conda env:qenv]",
   "language": "python",
   "name": "conda-env-qenv-py"
  },
  "language_info": {
   "codemirror_mode": {
    "name": "ipython",
    "version": 2
   },
   "file_extension": ".py",
   "mimetype": "text/x-python",
   "name": "python",
   "nbconvert_exporter": "python",
   "pygments_lexer": "ipython2",
   "version": "2.7.12"
  }
 },
 "nbformat": 4,
 "nbformat_minor": 1
}
