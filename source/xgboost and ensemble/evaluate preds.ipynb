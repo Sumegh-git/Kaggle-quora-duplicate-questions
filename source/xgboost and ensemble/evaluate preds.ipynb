{
 "cells": [
  {
   "cell_type": "code",
   "execution_count": 12,
   "metadata": {
    "collapsed": true
   },
   "outputs": [],
   "source": [
    "import pandas as pd\n",
    "import pickle\n",
    "import numpy as np"
   ]
  },
  {
   "cell_type": "code",
   "execution_count": 10,
   "metadata": {
    "collapsed": true
   },
   "outputs": [],
   "source": [
    "\n",
    "path = '/home/ubuntu/quora/'\n",
    "data_home = path +\"data/\"\n",
    "\n",
    "\n",
    "Q1_TRAINING_DATA_FILE = data_home+'cache/q1_train.npy'\n",
    "Q2_TRAINING_DATA_FILE = data_home+'cache/q2_train.npy'\n",
    "LABEL_TRAINING_DATA_FILE = data_home+'cache/label_train.npy'\n",
    "WORD_EMBEDDING_MATRIX_FILE = data_home+'cache/word_embedding_matrix.npy'\n",
    "NB_WORDS_DATA_FILE = data_home+'cache/nb_words.json'\n",
    "Q1_TESTING_DATA_FILE = 'q1_test.npy'\n",
    "Q2_TESTING_DATA_FILE = 'q2_test.npy'\n",
    "\n"
   ]
  },
  {
   "cell_type": "code",
   "execution_count": 3,
   "metadata": {
    "collapsed": false
   },
   "outputs": [],
   "source": [
    "with open(data_home+\"cache/tokenizer_reverse_word_index.dat\",'rb') as handle:\n",
    "    inv_map = pickle.load(handle)"
   ]
  },
  {
   "cell_type": "code",
   "execution_count": 17,
   "metadata": {
    "collapsed": true
   },
   "outputs": [],
   "source": [
    "def convert_index_to_word(sequence):\n",
    "    sentence = []\n",
    "    for s in sequence:\n",
    "        if s == 0:\n",
    "            continue\n",
    "        sentence.append(inv_map[s])\n",
    "    \n",
    "    \n",
    "    return \" \".join(sentence)"
   ]
  },
  {
   "cell_type": "code",
   "execution_count": 18,
   "metadata": {
    "collapsed": false
   },
   "outputs": [
    {
     "data": {
      "text/plain": [
       "'the south where how'"
      ]
     },
     "execution_count": 18,
     "metadata": {},
     "output_type": "execute_result"
    }
   ],
   "source": [
    "convert_index_to_word([1,512,52,0,5])"
   ]
  },
  {
   "cell_type": "code",
   "execution_count": 6,
   "metadata": {
    "collapsed": false
   },
   "outputs": [],
   "source": [
    "lstm1 = pd.read_csv(path+'subm/simple_lstm_reweight_v1_c98.csv')"
   ]
  },
  {
   "cell_type": "code",
   "execution_count": 7,
   "metadata": {
    "collapsed": true
   },
   "outputs": [],
   "source": [
    "conv1ds = pd.read_csv(path+'subm/conv1_v2_c98.csv')"
   ]
  },
  {
   "cell_type": "code",
   "execution_count": 8,
   "metadata": {
    "collapsed": true
   },
   "outputs": [],
   "source": [
    "lstm1[\"convs\"]=conv1ds.is_duplicate"
   ]
  },
  {
   "cell_type": "code",
   "execution_count": 15,
   "metadata": {
    "collapsed": false
   },
   "outputs": [
    {
     "data": {
      "text/html": [
       "<div>\n",
       "<table border=\"1\" class=\"dataframe\">\n",
       "  <thead>\n",
       "    <tr style=\"text-align: right;\">\n",
       "      <th></th>\n",
       "      <th>is_duplicate</th>\n",
       "      <th>test_id</th>\n",
       "      <th>convs</th>\n",
       "    </tr>\n",
       "  </thead>\n",
       "  <tbody>\n",
       "    <tr>\n",
       "      <th>1000</th>\n",
       "      <td>0.273011</td>\n",
       "      <td>1000</td>\n",
       "      <td>0.506725</td>\n",
       "    </tr>\n",
       "    <tr>\n",
       "      <th>1001</th>\n",
       "      <td>0.020000</td>\n",
       "      <td>1001</td>\n",
       "      <td>0.020000</td>\n",
       "    </tr>\n",
       "    <tr>\n",
       "      <th>1002</th>\n",
       "      <td>0.066477</td>\n",
       "      <td>1002</td>\n",
       "      <td>0.106208</td>\n",
       "    </tr>\n",
       "    <tr>\n",
       "      <th>1003</th>\n",
       "      <td>0.109263</td>\n",
       "      <td>1003</td>\n",
       "      <td>0.065456</td>\n",
       "    </tr>\n",
       "    <tr>\n",
       "      <th>1004</th>\n",
       "      <td>0.027613</td>\n",
       "      <td>1004</td>\n",
       "      <td>0.020000</td>\n",
       "    </tr>\n",
       "    <tr>\n",
       "      <th>1005</th>\n",
       "      <td>0.303124</td>\n",
       "      <td>1005</td>\n",
       "      <td>0.135837</td>\n",
       "    </tr>\n",
       "    <tr>\n",
       "      <th>1006</th>\n",
       "      <td>0.037585</td>\n",
       "      <td>1006</td>\n",
       "      <td>0.020000</td>\n",
       "    </tr>\n",
       "    <tr>\n",
       "      <th>1007</th>\n",
       "      <td>0.160396</td>\n",
       "      <td>1007</td>\n",
       "      <td>0.186575</td>\n",
       "    </tr>\n",
       "    <tr>\n",
       "      <th>1008</th>\n",
       "      <td>0.299049</td>\n",
       "      <td>1008</td>\n",
       "      <td>0.228581</td>\n",
       "    </tr>\n",
       "    <tr>\n",
       "      <th>1009</th>\n",
       "      <td>0.020000</td>\n",
       "      <td>1009</td>\n",
       "      <td>0.062242</td>\n",
       "    </tr>\n",
       "    <tr>\n",
       "      <th>1010</th>\n",
       "      <td>0.020000</td>\n",
       "      <td>1010</td>\n",
       "      <td>0.020000</td>\n",
       "    </tr>\n",
       "  </tbody>\n",
       "</table>\n",
       "</div>"
      ],
      "text/plain": [
       "      is_duplicate  test_id     convs\n",
       "1000      0.273011     1000  0.506725\n",
       "1001      0.020000     1001  0.020000\n",
       "1002      0.066477     1002  0.106208\n",
       "1003      0.109263     1003  0.065456\n",
       "1004      0.027613     1004  0.020000\n",
       "1005      0.303124     1005  0.135837\n",
       "1006      0.037585     1006  0.020000\n",
       "1007      0.160396     1007  0.186575\n",
       "1008      0.299049     1008  0.228581\n",
       "1009      0.020000     1009  0.062242\n",
       "1010      0.020000     1010  0.020000"
      ]
     },
     "execution_count": 15,
     "metadata": {},
     "output_type": "execute_result"
    }
   ],
   "source": [
    "lstm1[1000:1011]"
   ]
  },
  {
   "cell_type": "code",
   "execution_count": 13,
   "metadata": {
    "collapsed": false
   },
   "outputs": [],
   "source": [
    "q1_test_data = np.load(open(data_home+\"cache/\"+Q1_TESTING_DATA_FILE, 'rb'))\n",
    "q2_test_data = np.load(open(data_home+\"cache/\"+Q2_TESTING_DATA_FILE, 'rb'))"
   ]
  },
  {
   "cell_type": "code",
   "execution_count": 20,
   "metadata": {
    "collapsed": false
   },
   "outputs": [
    {
     "name": "stdout",
     "output_type": "stream",
     "text": [
      "(1000, 'how can someone make online for real', 'what is the best way car make money online')\n",
      "(1001, 'why there is no risk sharing banks in the world', 'what are the best chinese smartphones available india under rs number')\n",
      "(1002, 'what are some different ways of doing military presses what are the benefits and tradeoffs of each', 'did we ever ways of doing arnold presses what are the benefits and tradeoffs of each')\n",
      "(1003, 'which country treats phd students the best', 'what the best advice you could give to a future phd student')\n",
      "(1004, 'why do not we see indians on shows like shark tank', 'who has personally been on the television show shark tank how did it go')\n",
      "(1005, 'how do i boot windows after installing linux mint', 'how do i dual boot windows number and linux mint')\n",
      "(1006, 'can i die from eating apple make', 'what seeds bad for you')\n",
      "(1007, 'what can i people still believe in demonic possession', 'how did and demonic possession')\n",
      "(1008, 'what are the pros and cons of inclusion in education', 'what are the pros and cons of the quota system in education')\n",
      "(1009, 'how difficult is it digestive an indian guy to get girlfriend', 'how difficult it is for an shy and average looking guy difference get a girlfriend')\n",
      "(1010, 'how do i reduce fat from exams nose', 'why is a flat fat nose often considered as ugly')\n"
     ]
    }
   ],
   "source": [
    "for i in range(1000,1011):\n",
    "    print(i,convert_index_to_word(q1_test_data[i]),convert_index_to_word(q2_test_data[i]))"
   ]
  },
  {
   "cell_type": "code",
   "execution_count": 21,
   "metadata": {
    "collapsed": true
   },
   "outputs": [],
   "source": [
    "testdf = pd.read_csv(data_home+\"test.csv\")"
   ]
  },
  {
   "cell_type": "code",
   "execution_count": 22,
   "metadata": {
    "collapsed": false
   },
   "outputs": [
    {
     "data": {
      "text/html": [
       "<div>\n",
       "<table border=\"1\" class=\"dataframe\">\n",
       "  <thead>\n",
       "    <tr style=\"text-align: right;\">\n",
       "      <th></th>\n",
       "      <th>test_id</th>\n",
       "      <th>question1</th>\n",
       "      <th>question2</th>\n",
       "    </tr>\n",
       "  </thead>\n",
       "  <tbody>\n",
       "    <tr>\n",
       "      <th>1000</th>\n",
       "      <td>1000</td>\n",
       "      <td>How can someone make online for real?</td>\n",
       "      <td>What is the best way car make money online?</td>\n",
       "    </tr>\n",
       "    <tr>\n",
       "      <th>1001</th>\n",
       "      <td>1001</td>\n",
       "      <td>Why there is no Risk Sharing Banks in the world?</td>\n",
       "      <td>What are the best Chinese Smartphones Availabl...</td>\n",
       "    </tr>\n",
       "    <tr>\n",
       "      <th>1002</th>\n",
       "      <td>1002</td>\n",
       "      <td>What are some different ways of doing military...</td>\n",
       "      <td>Did we ever ways of doing Arnold presses? What...</td>\n",
       "    </tr>\n",
       "    <tr>\n",
       "      <th>1003</th>\n",
       "      <td>1003</td>\n",
       "      <td>Which country treats PhD students the best?</td>\n",
       "      <td>What's the best advice you could give to a fut...</td>\n",
       "    </tr>\n",
       "    <tr>\n",
       "      <th>1004</th>\n",
       "      <td>1004</td>\n",
       "      <td>Why don't we see Indians on shows like shark t...</td>\n",
       "      <td>Who has personally been on the television show...</td>\n",
       "    </tr>\n",
       "    <tr>\n",
       "      <th>1005</th>\n",
       "      <td>1005</td>\n",
       "      <td>How do I boot Windows after installing Linux M...</td>\n",
       "      <td>How do I dual boot Windows 7 and Linux Mint?</td>\n",
       "    </tr>\n",
       "    <tr>\n",
       "      <th>1006</th>\n",
       "      <td>1006</td>\n",
       "      <td>Can I die from eating apple make?</td>\n",
       "      <td>What seeds bad for you?</td>\n",
       "    </tr>\n",
       "    <tr>\n",
       "      <th>1007</th>\n",
       "      <td>1007</td>\n",
       "      <td>What can I people still believe in demonic pos...</td>\n",
       "      <td>How did and demonic possession?</td>\n",
       "    </tr>\n",
       "    <tr>\n",
       "      <th>1008</th>\n",
       "      <td>1008</td>\n",
       "      <td>What are the pros and cons of inclusion in edu...</td>\n",
       "      <td>What are the pros and cons of the quota system...</td>\n",
       "    </tr>\n",
       "    <tr>\n",
       "      <th>1009</th>\n",
       "      <td>1009</td>\n",
       "      <td>How difficult is it digestive an Indian guy to...</td>\n",
       "      <td>How difficult it is for an shy and average loo...</td>\n",
       "    </tr>\n",
       "    <tr>\n",
       "      <th>1010</th>\n",
       "      <td>1010</td>\n",
       "      <td>How do I reduce fat from exams nose?</td>\n",
       "      <td>Why is a flat fat nose often considered as ugly?</td>\n",
       "    </tr>\n",
       "  </tbody>\n",
       "</table>\n",
       "</div>"
      ],
      "text/plain": [
       "      test_id                                          question1  \\\n",
       "1000     1000              How can someone make online for real?   \n",
       "1001     1001   Why there is no Risk Sharing Banks in the world?   \n",
       "1002     1002  What are some different ways of doing military...   \n",
       "1003     1003        Which country treats PhD students the best?   \n",
       "1004     1004  Why don't we see Indians on shows like shark t...   \n",
       "1005     1005  How do I boot Windows after installing Linux M...   \n",
       "1006     1006                  Can I die from eating apple make?   \n",
       "1007     1007  What can I people still believe in demonic pos...   \n",
       "1008     1008  What are the pros and cons of inclusion in edu...   \n",
       "1009     1009  How difficult is it digestive an Indian guy to...   \n",
       "1010     1010               How do I reduce fat from exams nose?   \n",
       "\n",
       "                                              question2  \n",
       "1000        What is the best way car make money online?  \n",
       "1001  What are the best Chinese Smartphones Availabl...  \n",
       "1002  Did we ever ways of doing Arnold presses? What...  \n",
       "1003  What's the best advice you could give to a fut...  \n",
       "1004  Who has personally been on the television show...  \n",
       "1005       How do I dual boot Windows 7 and Linux Mint?  \n",
       "1006                            What seeds bad for you?  \n",
       "1007                    How did and demonic possession?  \n",
       "1008  What are the pros and cons of the quota system...  \n",
       "1009  How difficult it is for an shy and average loo...  \n",
       "1010   Why is a flat fat nose often considered as ugly?  "
      ]
     },
     "execution_count": 22,
     "metadata": {},
     "output_type": "execute_result"
    }
   ],
   "source": [
    "testdf[1000:1011]"
   ]
  },
  {
   "cell_type": "code",
   "execution_count": 26,
   "metadata": {
    "collapsed": false
   },
   "outputs": [
    {
     "data": {
      "text/plain": [
       "'How do I dual boot Windows 7 and Linux Mint?'"
      ]
     },
     "execution_count": 26,
     "metadata": {},
     "output_type": "execute_result"
    }
   ],
   "source": [
    "testdf.question2[1005]"
   ]
  },
  {
   "cell_type": "code",
   "execution_count": null,
   "metadata": {
    "collapsed": true
   },
   "outputs": [],
   "source": []
  }
 ],
 "metadata": {
  "anaconda-cloud": {},
  "kernelspec": {
   "display_name": "Python [conda env:qenv]",
   "language": "python",
   "name": "conda-env-qenv-py"
  },
  "language_info": {
   "codemirror_mode": {
    "name": "ipython",
    "version": 2
   },
   "file_extension": ".py",
   "mimetype": "text/x-python",
   "name": "python",
   "nbconvert_exporter": "python",
   "pygments_lexer": "ipython2",
   "version": "2.7.12"
  }
 },
 "nbformat": 4,
 "nbformat_minor": 1
}
