{
 "cells": [
  {
   "cell_type": "code",
   "execution_count": 1,
   "metadata": {
    "scrolled": true
   },
   "outputs": [
    {
     "name": "stderr",
     "output_type": "stream",
     "text": [
      "/home/ubuntu/anaconda2/envs/qenv/lib/python2.7/site-packages/sklearn/cross_validation.py:44: DeprecationWarning: This module was deprecated in version 0.18 in favor of the model_selection module into which all the refactored classes and functions are moved. Also note that the interface of the new CV iterators are different from that of this module. This module will be removed in 0.20.\n",
      "  \"This module will be removed in 0.20.\", DeprecationWarning)\n"
     ]
    }
   ],
   "source": [
    "import utils\n",
    "from utils import *\n",
    "import xgboost as xgb\n",
    "\n",
    "%matplotlib inline\n"
   ]
  },
  {
   "cell_type": "markdown",
   "metadata": {},
   "source": [
    "### Helper classes "
   ]
  },
  {
   "cell_type": "markdown",
   "metadata": {},
   "source": [
    "### Load features"
   ]
  },
  {
   "cell_type": "code",
   "execution_count": 3,
   "metadata": {
    "collapsed": true
   },
   "outputs": [],
   "source": [
    "q1_data = np.load(open(Q1_TRAINING_DATA_FILE, 'rb'))\n",
    "q2_data = np.load(open(Q2_TRAINING_DATA_FILE, 'rb'))\n"
   ]
  },
  {
   "cell_type": "code",
   "execution_count": 17,
   "metadata": {
    "collapsed": true
   },
   "outputs": [],
   "source": [
    "abhishek_train = pd.read_csv(data_home+\"abhishek_train_features.csv\")\n",
    "abhishek_test = pd.read_csv(data_home+\"abhishek_test_features.csv\")"
   ]
  },
  {
   "cell_type": "code",
   "execution_count": 18,
   "metadata": {
    "collapsed": true
   },
   "outputs": [],
   "source": [
    "def get_and_normalize_features(df, feature_list):\n",
    "    \n",
    "    np_version = np.array(df.ix[:,feature_list])\n",
    "#     np_version = np.nan_to_num(np_version)\n",
    "#     np_version = normalize(np_version ,axis=0,norm='max')\n",
    "    \n",
    "    return np_version"
   ]
  },
  {
   "cell_type": "code",
   "execution_count": 12,
   "metadata": {
    "collapsed": true
   },
   "outputs": [],
   "source": [
    "# q1_features = [u'len_q1', u'len_char_q1', u'len_word_q1', u'skew_q1vec', u'kur_q1vec']\n",
    "# q2_features = [u'len_q2', u'len_char_q2', u'len_word_q2', u'skew_q2vec', u'kur_q2vec']\n",
    "# diff_features = abhishek_train.columns.difference(q1_features).difference(q2_features).difference(['question1','question2'])"
   ]
  },
  {
   "cell_type": "code",
   "execution_count": 17,
   "metadata": {
    "collapsed": true
   },
   "outputs": [],
   "source": [
    "# abhishek_q1_features_np = get_and_normalize_features(abhishek_train,q1_features)\n",
    "# abhishek_q2_features_np = get_and_normalize_features(abhishek_train,q2_features)\n",
    "# abhishek_diff_features_np = get_and_normalize_features(abhishek_train,diff_features)"
   ]
  },
  {
   "cell_type": "code",
   "execution_count": 20,
   "metadata": {
    "collapsed": true
   },
   "outputs": [],
   "source": [
    "# abhishek_q1_features_np.shape,abhishek_q2_features_np.shape,abhishek_diff_features_np.shape"
   ]
  },
  {
   "cell_type": "code",
   "execution_count": 21,
   "metadata": {
    "collapsed": true
   },
   "outputs": [],
   "source": [
    "abhishek_train = abhishek_train.ix[:,2:]"
   ]
  },
  {
   "cell_type": "code",
   "execution_count": 22,
   "metadata": {
    "collapsed": true
   },
   "outputs": [],
   "source": [
    "abhishek_test = abhishek_test.ix[:, 2:] "
   ]
  },
  {
   "cell_type": "code",
   "execution_count": 23,
   "metadata": {},
   "outputs": [
    {
     "data": {
      "text/plain": [
       "((404290, 28), (2345796, 28))"
      ]
     },
     "execution_count": 23,
     "metadata": {},
     "output_type": "execute_result"
    }
   ],
   "source": [
    "abhishek_train.shape,abhishek_test.shape"
   ]
  },
  {
   "cell_type": "markdown",
   "metadata": {},
   "source": [
    "#### Magic feature!"
   ]
  },
  {
   "cell_type": "code",
   "execution_count": 26,
   "metadata": {
    "collapsed": true
   },
   "outputs": [],
   "source": [
    "q_frequency_train = pd.read_csv(\"data/question_frequency_train.csv\")\n",
    "q_frequency_test = pd.read_csv(\"data/question_frequency_test.csv\")\n"
   ]
  },
  {
   "cell_type": "code",
   "execution_count": 27,
   "metadata": {
    "scrolled": true
   },
   "outputs": [
    {
     "data": {
      "text/plain": [
       "((404290, 6), (2345796, 5))"
      ]
     },
     "execution_count": 27,
     "metadata": {},
     "output_type": "execute_result"
    }
   ],
   "source": [
    "q_frequency_train.shape, q_frequency_test.shape"
   ]
  },
  {
   "cell_type": "code",
   "execution_count": 30,
   "metadata": {
    "collapsed": true
   },
   "outputs": [],
   "source": [
    "q_frequency_train  = q_frequency_train.ix[:,3:5]"
   ]
  },
  {
   "cell_type": "code",
   "execution_count": 31,
   "metadata": {
    "collapsed": true
   },
   "outputs": [],
   "source": [
    "q_frequency_test = q_frequency_test.ix[:,3:5]"
   ]
  },
  {
   "cell_type": "code",
   "execution_count": 32,
   "metadata": {},
   "outputs": [
    {
     "data": {
      "text/plain": [
       "((404290, 2), (2345796, 2))"
      ]
     },
     "execution_count": 32,
     "metadata": {},
     "output_type": "execute_result"
    }
   ],
   "source": [
    "q_frequency_train.shape, q_frequency_test.shape"
   ]
  },
  {
   "cell_type": "markdown",
   "metadata": {},
   "source": [
    "#### Nostrov features"
   ]
  },
  {
   "cell_type": "code",
   "execution_count": 35,
   "metadata": {
    "collapsed": true
   },
   "outputs": [],
   "source": [
    "nostrov = pd.read_csv('data/nestrov_feats.csv')"
   ]
  },
  {
   "cell_type": "code",
   "execution_count": 36,
   "metadata": {
    "collapsed": true
   },
   "outputs": [],
   "source": [
    "ix_train = np.where(nostrov['id'] >= 0)[0]\n",
    "ix_test = np.where(nostrov['id'] == -1)[0]"
   ]
  },
  {
   "cell_type": "code",
   "execution_count": 37,
   "metadata": {
    "collapsed": true
   },
   "outputs": [],
   "source": [
    "nostrov_diff = nostrov.ix[:,10:]"
   ]
  },
  {
   "cell_type": "code",
   "execution_count": 38,
   "metadata": {},
   "outputs": [
    {
     "data": {
      "text/plain": [
       "((404290, 28), (2345796, 28))"
      ]
     },
     "execution_count": 38,
     "metadata": {},
     "output_type": "execute_result"
    }
   ],
   "source": [
    "nostrov_train = nostrov_diff.iloc[ix_train]\n",
    "nostrov_test = nostrov_diff.iloc[ix_test]\n",
    "\n",
    "nostrov_train.shape, nostrov_test.shape"
   ]
  },
  {
   "cell_type": "code",
   "execution_count": 39,
   "metadata": {
    "collapsed": true
   },
   "outputs": [],
   "source": [
    "del nostrov, nostrov_diff"
   ]
  },
  {
   "cell_type": "markdown",
   "metadata": {},
   "source": [
    "#### 2-gram diffs"
   ]
  },
  {
   "cell_type": "markdown",
   "metadata": {},
   "source": [
    "2gram > 3gram > 2gram-and-3gram  >  ngram(2,3)"
   ]
  },
  {
   "cell_type": "code",
   "execution_count": 195,
   "metadata": {
    "collapsed": true
   },
   "outputs": [],
   "source": [
    "twogram_difs = pd.read_csv(\"data/cache/23gram_distance.csv\")"
   ]
  },
  {
   "cell_type": "code",
   "execution_count": 196,
   "metadata": {
    "collapsed": true
   },
   "outputs": [],
   "source": [
    "ix_train = np.where(twogram_difs['id'] >= 0)[0]\n",
    "ix_test = np.where(twogram_difs['id'] == -1)[0]"
   ]
  },
  {
   "cell_type": "code",
   "execution_count": 197,
   "metadata": {},
   "outputs": [
    {
     "data": {
      "text/plain": [
       "Index([u'id', u'is_duplicate', u'qid1', u'qid2', u'question1', u'question2',\n",
       "       u'test_id', u'23ngram_tfidf_cosine', u'23ngram_tfidf_euclidean',\n",
       "       u'23ngram_tf_euclidean', u'23ngram_tf_cosine', u'2gram_tfidf_cosine',\n",
       "       u'2gram_tfidf_euclidean', u'2gram_tf_euclidean', u'2gram_tf_cosine',\n",
       "       u'3gram_tfidf_cosine', u'3gram_tfidf_euclidean', u'3gram_tf_euclidean',\n",
       "       u'3gram_tf_cosine'],\n",
       "      dtype='object')"
      ]
     },
     "execution_count": 197,
     "metadata": {},
     "output_type": "execute_result"
    }
   ],
   "source": [
    "twogram_difs.columns"
   ]
  },
  {
   "cell_type": "code",
   "execution_count": 199,
   "metadata": {},
   "outputs": [
    {
     "data": {
      "text/plain": [
       "((404290, 4), (2345796, 4))"
      ]
     },
     "execution_count": 199,
     "metadata": {},
     "output_type": "execute_result"
    }
   ],
   "source": [
    "# #2-3 gram distance \n",
    "\n",
    "twogram_difs = twogram_difs.ix[:,-4:]\n",
    "\n",
    "twogram_train = twogram_difs.iloc[ix_train]\n",
    "twogram_test = twogram_difs.iloc[ix_test]\n",
    "\n",
    "twogram_train.shape, twogram_test.shape"
   ]
  },
  {
   "cell_type": "code",
   "execution_count": 100,
   "metadata": {
    "scrolled": true
   },
   "outputs": [
    {
     "data": {
      "text/plain": [
       "((404290, 4), (2345796, 4))"
      ]
     },
     "execution_count": 100,
     "metadata": {},
     "output_type": "execute_result"
    }
   ],
   "source": [
    "# twogram_difs = twogram_difs.ix[:,-4:]\n",
    "# twogram_train = twogram_difs.iloc[ix_train]\n",
    "# twogram_test = twogram_difs.iloc[ix_test]\n",
    "\n",
    "# twogram_train.shape, twogram_test.shape"
   ]
  },
  {
   "cell_type": "code",
   "execution_count": 125,
   "metadata": {
    "collapsed": true
   },
   "outputs": [],
   "source": [
    "del twogram_difs"
   ]
  },
  {
   "cell_type": "markdown",
   "metadata": {},
   "source": [
    "#### LSTM features"
   ]
  },
  {
   "cell_type": "code",
   "execution_count": 40,
   "metadata": {
    "collapsed": true
   },
   "outputs": [],
   "source": [
    "# lstm_features_train = load_array(\"data/cache/lstm_features_train_q1_q2.dat/\")\n",
    "lstm_features_train = pd.read_csv(\"data/cache/lstm_distances_train_q12.csv\")"
   ]
  },
  {
   "cell_type": "code",
   "execution_count": 41,
   "metadata": {
    "collapsed": true
   },
   "outputs": [],
   "source": [
    "# lstm_features_test = load_array(\"data/cache/lstm_features_test_q1_q2.dat/\")\n",
    "lstm_features_test = pd.read_csv(\"data/cache/lstm_distances_test_q12.csv\")"
   ]
  },
  {
   "cell_type": "code",
   "execution_count": 42,
   "metadata": {
    "scrolled": true
   },
   "outputs": [
    {
     "data": {
      "text/plain": [
       "((404290, 7), (2345796, 7))"
      ]
     },
     "execution_count": 42,
     "metadata": {},
     "output_type": "execute_result"
    }
   ],
   "source": [
    "lstm_features_train.shape, lstm_features_test.shape"
   ]
  },
  {
   "cell_type": "markdown",
   "metadata": {},
   "source": [
    "#### common neighbours feature"
   ]
  },
  {
   "cell_type": "code",
   "execution_count": 43,
   "metadata": {
    "collapsed": true
   },
   "outputs": [],
   "source": [
    "common_neighbours_train = pd.read_csv(\"data/cache/common_neighbours_train.csv\")\n",
    "common_neighbours_test = pd.read_csv(\"data/cache/common_neighbours_test.csv\")\n"
   ]
  },
  {
   "cell_type": "code",
   "execution_count": 44,
   "metadata": {},
   "outputs": [
    {
     "data": {
      "text/plain": [
       "((404290, 1), (2345796, 1))"
      ]
     },
     "execution_count": 44,
     "metadata": {},
     "output_type": "execute_result"
    }
   ],
   "source": [
    "common_neighbours_train.shape, common_neighbours_test.shape"
   ]
  },
  {
   "cell_type": "markdown",
   "metadata": {},
   "source": [
    "#### Group features"
   ]
  },
  {
   "cell_type": "code",
   "execution_count": 34,
   "metadata": {
    "collapsed": true
   },
   "outputs": [],
   "source": [
    "# same_group_train = pd.read_csv(\"data/same_group_train.csv\")\n",
    "# same_group_test = pd.read_csv(\"data/same_group_test.csv\")\n"
   ]
  },
  {
   "cell_type": "code",
   "execution_count": 36,
   "metadata": {
    "collapsed": true
   },
   "outputs": [],
   "source": [
    "# same_group_train = same_group_train.ix[:,0].values\n",
    "# same_group_test = same_group_test.ix[:,0].values"
   ]
  },
  {
   "cell_type": "markdown",
   "metadata": {},
   "source": [
    "#### max k-core feature"
   ]
  },
  {
   "cell_type": "code",
   "execution_count": 3,
   "metadata": {
    "collapsed": true
   },
   "outputs": [],
   "source": [
    "kcore_train = pd.read_csv(\"data/max_kcore_train.csv\")\n",
    "kcore_test = pd.read_csv(\"data/max_kcore_test.csv\")"
   ]
  },
  {
   "cell_type": "code",
   "execution_count": 22,
   "metadata": {},
   "outputs": [
    {
     "data": {
      "text/plain": [
       "((404290, 2), (2345796, 2))"
      ]
     },
     "execution_count": 22,
     "metadata": {},
     "output_type": "execute_result"
    }
   ],
   "source": [
    "kcore_train.shape,kcore_test.shape"
   ]
  },
  {
   "cell_type": "markdown",
   "metadata": {},
   "source": [
    "#### word match"
   ]
  },
  {
   "cell_type": "code",
   "execution_count": 4,
   "metadata": {
    "collapsed": true
   },
   "outputs": [],
   "source": [
    "wm_train = pd.read_csv(\"data/cache/word_match_train.csv\")\n",
    "wm_test = pd.read_csv(\"data/cache/word_match_test.csv\")"
   ]
  },
  {
   "cell_type": "markdown",
   "metadata": {},
   "source": [
    "#### Add all together "
   ]
  },
  {
   "cell_type": "code",
   "execution_count": 47,
   "metadata": {
    "collapsed": true
   },
   "outputs": [],
   "source": [
    "# train_features = np.hstack((abhishek_train,q_frequency_train, nostrov_train,lstm_features_train,common_neighbours_train))\n",
    "# test_features = np.hstack((abhishek_test,q_frequency_test, nostrov_test,lstm_features_test, common_neighbours_test))\n",
    "# train_features.shape, test_features.shape"
   ]
  },
  {
   "cell_type": "code",
   "execution_count": 52,
   "metadata": {
    "collapsed": true
   },
   "outputs": [],
   "source": [
    "# del abhishek_test, abhishek_train, q_frequency_train,q_frequency_test, nostrov_train, nostrov_test, lstm_features_train,lstm_features_test"
   ]
  },
  {
   "cell_type": "code",
   "execution_count": 6,
   "metadata": {
    "collapsed": true
   },
   "outputs": [],
   "source": [
    "# save_array(\"data/cache/abhishek_qfreq_nostrov_lstm_neighbourcount_3gram_maxcore_train.dat\", train_features)\n",
    "# save_array(\"data/cache/abhishek_qfreq_nostrov_lstm_neighbourcount_3gram_maxcore_test.dat\", test_features)"
   ]
  },
  {
   "cell_type": "code",
   "execution_count": 51,
   "metadata": {
    "collapsed": true
   },
   "outputs": [],
   "source": [
    "# train_features = load_array(\"data/cache/ab_qfreq_nostrov_train.dat\")\n",
    "# test_features = load_array(\"data/cache/ab_qfreq_nostrov_test.dat\")\n",
    "# train_features = load_array(\"data/cache/abhishek_qfreq_nostrov_lstm_neighbourcount_3gram_train.dat\")\n",
    "# test_features = load_array(\"data/cache/abhishek_qfreq_nostrov_lstm_neighbourcount_3gram_test.dat\")\n",
    "train_features = load_array(\"data/cache/abhishek_qfreq_nostrov_lstm_neighbourcount_3gram_maxcore_train.dat\")\n",
    "test_features = load_array(\"data/cache/abhishek_qfreq_nostrov_lstm_neighbourcount_3gram_maxcore_test.dat\")\n"
   ]
  },
  {
   "cell_type": "code",
   "execution_count": 52,
   "metadata": {
    "collapsed": true
   },
   "outputs": [],
   "source": [
    "labels = np.load(open(LABEL_TRAINING_DATA_FILE, 'rb'))"
   ]
  },
  {
   "cell_type": "code",
   "execution_count": 39,
   "metadata": {
    "collapsed": true
   },
   "outputs": [],
   "source": [
    "# train_features = np.hstack((train_features,wm_train))\n",
    "# test_features = np.hstack((test_features,wm_test))"
   ]
  },
  {
   "cell_type": "code",
   "execution_count": 53,
   "metadata": {
    "scrolled": true
   },
   "outputs": [
    {
     "data": {
      "text/plain": [
       "((404290, 72), (2345796, 72))"
      ]
     },
     "execution_count": 53,
     "metadata": {},
     "output_type": "execute_result"
    }
   ],
   "source": [
    "train_features.shape, test_features.shape"
   ]
  },
  {
   "cell_type": "code",
   "execution_count": 54,
   "metadata": {
    "collapsed": true
   },
   "outputs": [],
   "source": [
    "train_features = np.nan_to_num(train_features)\n",
    "test_features = np.nan_to_num(test_features)"
   ]
  },
  {
   "cell_type": "code",
   "execution_count": 8,
   "metadata": {
    "collapsed": true
   },
   "outputs": [],
   "source": [
    "# from sklearn.preprocessing import normalize\n",
    "\n",
    "# train_features = normalize(train_features ,axis=0,norm='max')\n",
    "# test_features = normalize(test_features ,axis=0,norm='max')\n"
   ]
  },
  {
   "cell_type": "markdown",
   "metadata": {},
   "source": [
    "#### Model Training"
   ]
  },
  {
   "cell_type": "code",
   "execution_count": 8,
   "metadata": {
    "collapsed": true
   },
   "outputs": [],
   "source": [
    "num_folds = 5\n",
    "\n",
    "xgb_params = {'colsample_bylevel': 0.9086627943049572,\n",
    " 'colsample_bytree': 0.8662812861700129,\n",
    " 'eval_metric': 'logloss',\n",
    " 'gamma': 0.02933179779163947,\n",
    " 'learning_rate': 0.028244194429306306,\n",
    " 'max_depth': 9,\n",
    " 'n_estimators': 3567,\n",
    " 'objective': 'binary:logistic',\n",
    " 'reg_alpha': 0.14600953461910307,\n",
    " 'reg_lambda': 1.0750571669994455,\n",
    " 'scale_pos_weight': 1,\n",
    " 'subsample': 0.8097993636153147}\n",
    "\n",
    "\n",
    "# xgb_params = {\n",
    "# 'max_depth': 9, \n",
    "# 'learning_rate': 0.025,\n",
    "# 'n_estimators': 3000, \n",
    "# 'objective': 'binary:logistic',\n",
    "#     'eval_metric' :'logloss',\n",
    "#     'scale_pos_weight': 1,\n",
    "# #             'gamma': 0.3, \n",
    "#         'subsample': 0.75, \n",
    "#         'colsample_bytree': 0.75, \n",
    "#         'colsample_bylevel': 0.75,\n",
    "# #         'reg_alpha': 0.2, \n",
    "#         'reg_lambda': 1, \n",
    "    \n",
    "\n",
    "# }\n"
   ]
  },
  {
   "cell_type": "code",
   "execution_count": 56,
   "metadata": {
    "collapsed": true
   },
   "outputs": [],
   "source": [
    "np.random.seed(2189)\n",
    "\n",
    "perm = np.random.permutation(len(train_features))\n",
    "ix_fit = perm[:int(len(train_features)*(1-0.1))]\n",
    "ix_valid = perm[int(len(train_features)*(1-0.1)):]\n",
    "\n",
    "y_val = labels[ix_valid]\n",
    "y_train = labels[ix_fit]\n"
   ]
  },
  {
   "cell_type": "code",
   "execution_count": 57,
   "metadata": {
    "scrolled": false
   },
   "outputs": [
    {
     "name": "stdout",
     "output_type": "stream",
     "text": [
      "[0]\ttrain-logloss:0.677866\tvalid-logloss:0.678037\n",
      "Multiple eval metrics have been passed: 'valid-logloss' will be used for early stopping.\n",
      "\n",
      "Will train until valid-logloss hasn't improved in 50 rounds.\n",
      "[10]\ttrain-logloss:0.548254\tvalid-logloss:0.550065\n",
      "[20]\ttrain-logloss:0.462002\tvalid-logloss:0.465209\n",
      "[30]\ttrain-logloss:0.399956\tvalid-logloss:0.404531\n",
      "[40]\ttrain-logloss:0.356221\tvalid-logloss:0.362175\n",
      "[50]\ttrain-logloss:0.323725\tvalid-logloss:0.330905\n",
      "[60]\ttrain-logloss:0.298897\tvalid-logloss:0.307219\n",
      "[70]\ttrain-logloss:0.279674\tvalid-logloss:0.289134\n",
      "[80]\ttrain-logloss:0.264985\tvalid-logloss:0.275572\n",
      "[90]\ttrain-logloss:0.253871\tvalid-logloss:0.265333\n",
      "[100]\ttrain-logloss:0.244819\tvalid-logloss:0.257139\n",
      "[110]\ttrain-logloss:0.237748\tvalid-logloss:0.251008\n",
      "[120]\ttrain-logloss:0.231923\tvalid-logloss:0.245993\n",
      "[130]\ttrain-logloss:0.227136\tvalid-logloss:0.242004\n",
      "[140]\ttrain-logloss:0.223158\tvalid-logloss:0.238846\n",
      "[150]\ttrain-logloss:0.219785\tvalid-logloss:0.23621\n",
      "[160]\ttrain-logloss:0.216907\tvalid-logloss:0.234005\n",
      "[170]\ttrain-logloss:0.214336\tvalid-logloss:0.232079\n",
      "[180]\ttrain-logloss:0.212116\tvalid-logloss:0.230412\n",
      "[190]\ttrain-logloss:0.210075\tvalid-logloss:0.229039\n",
      "[200]\ttrain-logloss:0.208418\tvalid-logloss:0.227858\n",
      "[210]\ttrain-logloss:0.206797\tvalid-logloss:0.226766\n",
      "[220]\ttrain-logloss:0.205246\tvalid-logloss:0.225797\n",
      "[230]\ttrain-logloss:0.203755\tvalid-logloss:0.224919\n",
      "[240]\ttrain-logloss:0.202361\tvalid-logloss:0.224147\n",
      "[250]\ttrain-logloss:0.200957\tvalid-logloss:0.223359\n",
      "[260]\ttrain-logloss:0.199315\tvalid-logloss:0.222573\n",
      "[270]\ttrain-logloss:0.197719\tvalid-logloss:0.221834\n",
      "[280]\ttrain-logloss:0.19626\tvalid-logloss:0.221166\n",
      "[290]\ttrain-logloss:0.19483\tvalid-logloss:0.220531\n",
      "[300]\ttrain-logloss:0.193419\tvalid-logloss:0.219974\n",
      "[310]\ttrain-logloss:0.19207\tvalid-logloss:0.219495\n",
      "[320]\ttrain-logloss:0.190736\tvalid-logloss:0.219008\n",
      "[330]\ttrain-logloss:0.189707\tvalid-logloss:0.218592\n",
      "[340]\ttrain-logloss:0.188261\tvalid-logloss:0.218024\n",
      "[350]\ttrain-logloss:0.186943\tvalid-logloss:0.21759\n",
      "[360]\ttrain-logloss:0.185654\tvalid-logloss:0.217241\n",
      "[370]\ttrain-logloss:0.184338\tvalid-logloss:0.216889\n",
      "[380]\ttrain-logloss:0.183399\tvalid-logloss:0.216573\n",
      "[390]\ttrain-logloss:0.182459\tvalid-logloss:0.216311\n",
      "[400]\ttrain-logloss:0.181262\tvalid-logloss:0.216017\n",
      "[410]\ttrain-logloss:0.180384\tvalid-logloss:0.215727\n",
      "[420]\ttrain-logloss:0.179242\tvalid-logloss:0.215461\n",
      "[430]\ttrain-logloss:0.178251\tvalid-logloss:0.215237\n",
      "[440]\ttrain-logloss:0.17722\tvalid-logloss:0.215074\n",
      "[450]\ttrain-logloss:0.17619\tvalid-logloss:0.214813\n",
      "[460]\ttrain-logloss:0.175365\tvalid-logloss:0.21464\n",
      "[470]\ttrain-logloss:0.174569\tvalid-logloss:0.214485\n",
      "[480]\ttrain-logloss:0.173628\tvalid-logloss:0.21423\n",
      "[490]\ttrain-logloss:0.172899\tvalid-logloss:0.214107\n"
     ]
    }
   ],
   "source": [
    "d_train = xgb.DMatrix(train_features[ix_fit],label= y_train)#, weight=weight_train)\n",
    "d_valid = xgb.DMatrix(train_features[ix_valid],label= y_val)#,weight=weight_val)\n",
    "\n",
    "\n",
    "\n",
    "############## TRAINING\n",
    "watchlist = [(d_train, 'train'), (d_valid, 'valid')]\n",
    "bst = xgb.train(xgb_params, d_train, 500,  watchlist, early_stopping_rounds=50, verbose_eval=10)#,feval=kappa)\n",
    "\n",
    "#     xgb_models.append(bst)"
   ]
  },
  {
   "cell_type": "markdown",
   "metadata": {},
   "source": [
    "#### Parameter search "
   ]
  },
  {
   "cell_type": "code",
   "execution_count": 81,
   "metadata": {
    "collapsed": true
   },
   "outputs": [],
   "source": [
    "clf = xgb.XGBClassifier(objective='binary:logistic')\n",
    "#         eval_metric = 'logloss',\n",
    "#         nthread = 16,\n",
    "#         eta = 0.01,\n",
    "#         num_boost_round = 4000,\n",
    "#         max_depth = 9,\n",
    "#         subsample = 0.75,\n",
    "#         colsample_bytree = 1,\n",
    "#         silent = 1\n",
    "#         )"
   ]
  },
  {
   "cell_type": "code",
   "execution_count": 82,
   "metadata": {
    "collapsed": true
   },
   "outputs": [],
   "source": [
    "from scipy.stats import *"
   ]
  },
  {
   "cell_type": "code",
   "execution_count": 83,
   "metadata": {
    "collapsed": true
   },
   "outputs": [],
   "source": [
    "search_params = {\n",
    "    'max_depth': randint(6, 10), \n",
    "    'learning_rate':[ 0.01,0.02,0.05],\n",
    "    'n_estimators': randint(1500, 3500), \n",
    "                'gamma': uniform(), \n",
    "            'subsample':[0.75,0.85,0.95,1.0], \n",
    "            'colsample_bytree': [0.75,0.85,0.95,1.0], \n",
    "            'colsample_bylevel': [0.75,0.85,0.95,1.0],\n",
    "            'reg_alpha': uniform(), \n",
    "            'reg_lambda': uniform(loc=1.0),\n",
    "    \n",
    "    }\n"
   ]
  },
  {
   "cell_type": "code",
   "execution_count": 84,
   "metadata": {
    "collapsed": true
   },
   "outputs": [],
   "source": [
    "from sklearn.model_selection import RandomizedSearchCV"
   ]
  },
  {
   "cell_type": "code",
   "execution_count": 85,
   "metadata": {
    "collapsed": true
   },
   "outputs": [],
   "source": [
    "n_iter_search = 20\n",
    "random_search = RandomizedSearchCV(clf, param_distributions=search_params,\n",
    "                                   n_iter=n_iter_search)"
   ]
  },
  {
   "cell_type": "code",
   "execution_count": 87,
   "metadata": {
    "collapsed": true
   },
   "outputs": [],
   "source": [
    "# random_search.fit(train_features,labels)"
   ]
  },
  {
   "cell_type": "markdown",
   "metadata": {},
   "source": [
    "## Predictions as features "
   ]
  },
  {
   "cell_type": "code",
   "execution_count": 42,
   "metadata": {
    "collapsed": true
   },
   "outputs": [],
   "source": [
    "kfold_test_pred = load_array(\"data/results/xgb_5fold_s2019_test_preds_maxcore.dat\")\n",
    "kfold_oof_pred  = load_array(\"data/results/xgb_5fold_s2019_oof_preds_maxcore.dat\")"
   ]
  },
  {
   "cell_type": "code",
   "execution_count": 45,
   "metadata": {},
   "outputs": [
    {
     "data": {
      "text/plain": [
       "11.5729278828335"
      ]
     },
     "execution_count": 45,
     "metadata": {},
     "output_type": "execute_result"
    }
   ],
   "source": [
    "from scipy.special import logit\n"
   ]
  },
  {
   "cell_type": "code",
   "execution_count": 15,
   "metadata": {
    "collapsed": true
   },
   "outputs": [],
   "source": [
    "# train_features = np.hstack((train_features,kfold_oof_pred))\n",
    "# test_features = np.hstack((test_features,kfold_test_pred))"
   ]
  },
  {
   "cell_type": "code",
   "execution_count": 46,
   "metadata": {
    "collapsed": true
   },
   "outputs": [],
   "source": [
    "train_features = np.hstack((train_features,logit(kfold_oof_pred)))\n",
    "test_features = np.hstack((test_features,logit(kfold_test_pred)))"
   ]
  },
  {
   "cell_type": "code",
   "execution_count": 47,
   "metadata": {},
   "outputs": [
    {
     "data": {
      "text/plain": [
       "(404290, 75)"
      ]
     },
     "execution_count": 47,
     "metadata": {},
     "output_type": "execute_result"
    }
   ],
   "source": [
    "train_features.shape"
   ]
  },
  {
   "cell_type": "markdown",
   "metadata": {},
   "source": [
    "## Randomized Stacking "
   ]
  },
  {
   "cell_type": "code",
   "execution_count": 48,
   "metadata": {
    "collapsed": true
   },
   "outputs": [],
   "source": [
    "num_trials = 10\n",
    "scores = []\n",
    "models = []\n",
    "params = []"
   ]
  },
  {
   "cell_type": "code",
   "execution_count": 71,
   "metadata": {
    "collapsed": true
   },
   "outputs": [],
   "source": [
    "def update_cache():\n",
    "    global scores\n",
    "    global models\n",
    "    global params\n",
    "\n",
    "\n",
    "    with open(\"data/cache/xgb_models_randomized.pik\", 'w') as f:\n",
    "        pickle.dump(models,f,protocol=pickle.HIGHEST_PROTOCOL)\n",
    "\n",
    "\n",
    "    with open(\"data/cache/xgb_scores_randomized.pik\", 'w') as f:\n",
    "        pickle.dump(scores,f,protocol=pickle.HIGHEST_PROTOCOL)    \n",
    "\n",
    "\n",
    "    with open(\"data/cache/xgb_params_randomized.pik\", 'w') as f:\n",
    "        pickle.dump(params,f,protocol=pickle.HIGHEST_PROTOCOL)        "
   ]
  },
  {
   "cell_type": "code",
   "execution_count": 72,
   "metadata": {
    "collapsed": true
   },
   "outputs": [],
   "source": [
    "update_cache()"
   ]
  },
  {
   "cell_type": "code",
   "execution_count": 2,
   "metadata": {
    "collapsed": true,
    "scrolled": true
   },
   "outputs": [],
   "source": [
    "def read_cache():\n",
    "    \n",
    "    global scores2\n",
    "    global models2\n",
    "    global params2\n",
    "    \n",
    "    with open(\"data/cache/xgb_models_randomized.pik\", 'r') as f:\n",
    "        models2 = pickle.load(f)\t    \n",
    "\n",
    "    with open(\"data/cache/xgb_scores_randomized.pik\", 'r') as f:\n",
    "        scores2 = pickle.load(f)\t    \n",
    "\n",
    "    with open(\"data/cache/xgb_params_randomized.pik\", 'r') as f:\n",
    "        params2 = pickle.load(f)\t    \n",
    "    \n"
   ]
  },
  {
   "cell_type": "code",
   "execution_count": 3,
   "metadata": {
    "collapsed": true
   },
   "outputs": [],
   "source": [
    "read_cache()"
   ]
  },
  {
   "cell_type": "code",
   "execution_count": 5,
   "metadata": {},
   "outputs": [
    {
     "data": {
      "text/plain": [
       "16"
      ]
     },
     "execution_count": 5,
     "metadata": {},
     "output_type": "execute_result"
    }
   ],
   "source": [
    "np.argmin(scores2)"
   ]
  },
  {
   "cell_type": "code",
   "execution_count": 7,
   "metadata": {},
   "outputs": [
    {
     "data": {
      "text/plain": [
       "{'colsample_bylevel': 0.9086627943049572,\n",
       " 'colsample_bytree': 0.8662812861700129,\n",
       " 'eval_metric': 'logloss',\n",
       " 'gamma': 0.02933179779163947,\n",
       " 'learning_rate': 0.028244194429306306,\n",
       " 'max_depth': 9,\n",
       " 'n_estimators': 3567,\n",
       " 'objective': 'binary:logistic',\n",
       " 'reg_alpha': 0.14600953461910307,\n",
       " 'reg_lambda': 1.0750571669994455,\n",
       " 'scale_pos_weight': 1,\n",
       " 'subsample': 0.8097993636153147}"
      ]
     },
     "execution_count": 7,
     "metadata": {},
     "output_type": "execute_result"
    }
   ],
   "source": [
    "params2[16]"
   ]
  },
  {
   "cell_type": "code",
   "execution_count": 92,
   "metadata": {},
   "outputs": [
    {
     "data": {
      "text/plain": [
       "0.20789099999999999"
      ]
     },
     "execution_count": 92,
     "metadata": {},
     "output_type": "execute_result"
    }
   ],
   "source": [
    "np.median(scores2)"
   ]
  },
  {
   "cell_type": "code",
   "execution_count": null,
   "metadata": {
    "collapsed": true
   },
   "outputs": [],
   "source": []
  },
  {
   "cell_type": "code",
   "execution_count": 54,
   "metadata": {},
   "outputs": [
    {
     "name": "stdout",
     "output_type": "stream",
     "text": [
      "{'reg_alpha': 0.050250743528123865, 'eval_metric': 'logloss', 'colsample_bylevel': 0.8849838276249586, 'scale_pos_weight': 1, 'learning_rate': 0.03180324929807718, 'n_estimators': 3431, 'colsample_bytree': 0.927309199143391, 'subsample': 0.8274389688474488, 'reg_lambda': 1.097588372463166, 'objective': 'binary:logistic', 'max_depth': 6, 'gamma': 0.024864051134649814}\n",
      "[0]\ttrain-logloss:0.672956\tvalid-logloss:0.673123\n",
      "Multiple eval metrics have been passed: 'valid-logloss' will be used for early stopping.\n",
      "\n",
      "Will train until valid-logloss hasn't improved in 100 rounds.\n",
      "[10]\ttrain-logloss:0.527686\tvalid-logloss:0.529249\n",
      "[20]\ttrain-logloss:0.436503\tvalid-logloss:0.438873\n",
      "[30]\ttrain-logloss:0.378111\tvalid-logloss:0.381244\n",
      "[40]\ttrain-logloss:0.338489\tvalid-logloss:0.342191\n",
      "[50]\ttrain-logloss:0.310945\tvalid-logloss:0.3151\n",
      "[60]\ttrain-logloss:0.291502\tvalid-logloss:0.295921\n",
      "[70]\ttrain-logloss:0.277717\tvalid-logloss:0.282472\n",
      "[80]\ttrain-logloss:0.2675\tvalid-logloss:0.272491\n",
      "[90]\ttrain-logloss:0.259922\tvalid-logloss:0.265152\n",
      "[100]\ttrain-logloss:0.253887\tvalid-logloss:0.259396\n",
      "[110]\ttrain-logloss:0.24912\tvalid-logloss:0.254828\n",
      "[120]\ttrain-logloss:0.24498\tvalid-logloss:0.25094\n",
      "[130]\ttrain-logloss:0.241434\tvalid-logloss:0.247694\n",
      "[140]\ttrain-logloss:0.238586\tvalid-logloss:0.245056\n",
      "[150]\ttrain-logloss:0.236028\tvalid-logloss:0.242725\n",
      "[160]\ttrain-logloss:0.233651\tvalid-logloss:0.240611\n",
      "[170]\ttrain-logloss:0.231501\tvalid-logloss:0.238727\n",
      "[180]\ttrain-logloss:0.229676\tvalid-logloss:0.237152\n",
      "[190]\ttrain-logloss:0.227901\tvalid-logloss:0.235637\n",
      "[200]\ttrain-logloss:0.226285\tvalid-logloss:0.234286\n",
      "[210]\ttrain-logloss:0.224707\tvalid-logloss:0.232909\n",
      "[220]\ttrain-logloss:0.223415\tvalid-logloss:0.231814\n",
      "[230]\ttrain-logloss:0.222168\tvalid-logloss:0.230804\n",
      "[240]\ttrain-logloss:0.220927\tvalid-logloss:0.229771\n",
      "[250]\ttrain-logloss:0.21977\tvalid-logloss:0.228853\n",
      "[260]\ttrain-logloss:0.218893\tvalid-logloss:0.228158\n",
      "[270]\ttrain-logloss:0.217761\tvalid-logloss:0.227315\n",
      "[280]\ttrain-logloss:0.21691\tvalid-logloss:0.226668\n",
      "[290]\ttrain-logloss:0.216014\tvalid-logloss:0.226065\n",
      "[300]\ttrain-logloss:0.215293\tvalid-logloss:0.225542\n",
      "[310]\ttrain-logloss:0.214421\tvalid-logloss:0.224915\n",
      "[320]\ttrain-logloss:0.213517\tvalid-logloss:0.224284\n",
      "[330]\ttrain-logloss:0.212736\tvalid-logloss:0.223752\n",
      "[340]\ttrain-logloss:0.211954\tvalid-logloss:0.223255\n",
      "[350]\ttrain-logloss:0.21129\tvalid-logloss:0.222807\n",
      "[360]\ttrain-logloss:0.210655\tvalid-logloss:0.222432\n",
      "[370]\ttrain-logloss:0.20996\tvalid-logloss:0.22208\n",
      "[380]\ttrain-logloss:0.209246\tvalid-logloss:0.221718\n",
      "[390]\ttrain-logloss:0.208647\tvalid-logloss:0.221379\n",
      "[400]\ttrain-logloss:0.208043\tvalid-logloss:0.221069\n",
      "[410]\ttrain-logloss:0.207405\tvalid-logloss:0.220765\n",
      "[420]\ttrain-logloss:0.206943\tvalid-logloss:0.220525\n",
      "[430]\ttrain-logloss:0.206478\tvalid-logloss:0.220285\n",
      "[440]\ttrain-logloss:0.205936\tvalid-logloss:0.220008\n",
      "[450]\ttrain-logloss:0.205387\tvalid-logloss:0.219719\n",
      "[460]\ttrain-logloss:0.20483\tvalid-logloss:0.219465\n",
      "[470]\ttrain-logloss:0.20423\tvalid-logloss:0.219217\n",
      "[480]\ttrain-logloss:0.203757\tvalid-logloss:0.218955\n",
      "[490]\ttrain-logloss:0.20323\tvalid-logloss:0.218779\n",
      "[500]\ttrain-logloss:0.202768\tvalid-logloss:0.218598\n",
      "[510]\ttrain-logloss:0.202269\tvalid-logloss:0.21836\n",
      "[520]\ttrain-logloss:0.201785\tvalid-logloss:0.218155\n",
      "[530]\ttrain-logloss:0.201287\tvalid-logloss:0.217929\n",
      "[540]\ttrain-logloss:0.20085\tvalid-logloss:0.217735\n",
      "[550]\ttrain-logloss:0.20034\tvalid-logloss:0.217524\n",
      "[560]\ttrain-logloss:0.199882\tvalid-logloss:0.217328\n",
      "[570]\ttrain-logloss:0.199505\tvalid-logloss:0.217223\n",
      "[580]\ttrain-logloss:0.199121\tvalid-logloss:0.217086\n",
      "[590]\ttrain-logloss:0.198673\tvalid-logloss:0.21689\n",
      "[600]\ttrain-logloss:0.198274\tvalid-logloss:0.216759\n",
      "[610]\ttrain-logloss:0.197882\tvalid-logloss:0.216618\n",
      "[620]\ttrain-logloss:0.197525\tvalid-logloss:0.216514\n",
      "[630]\ttrain-logloss:0.197171\tvalid-logloss:0.216387\n",
      "[640]\ttrain-logloss:0.196748\tvalid-logloss:0.216227\n",
      "[650]\ttrain-logloss:0.196341\tvalid-logloss:0.216091\n",
      "[660]\ttrain-logloss:0.195958\tvalid-logloss:0.215951\n",
      "[670]\ttrain-logloss:0.195578\tvalid-logloss:0.215821\n",
      "[680]\ttrain-logloss:0.195204\tvalid-logloss:0.215701\n",
      "[690]\ttrain-logloss:0.194812\tvalid-logloss:0.215578\n",
      "[700]\ttrain-logloss:0.194486\tvalid-logloss:0.215483\n",
      "[710]\ttrain-logloss:0.194154\tvalid-logloss:0.215398\n",
      "[720]\ttrain-logloss:0.193805\tvalid-logloss:0.215301\n",
      "[730]\ttrain-logloss:0.193456\tvalid-logloss:0.215198\n",
      "[740]\ttrain-logloss:0.193041\tvalid-logloss:0.215074\n",
      "[750]\ttrain-logloss:0.192678\tvalid-logloss:0.214963\n",
      "[760]\ttrain-logloss:0.192315\tvalid-logloss:0.214858\n",
      "[770]\ttrain-logloss:0.191989\tvalid-logloss:0.214789\n",
      "[780]\ttrain-logloss:0.191662\tvalid-logloss:0.214678\n",
      "[790]\ttrain-logloss:0.191371\tvalid-logloss:0.214596\n",
      "[800]\ttrain-logloss:0.191079\tvalid-logloss:0.214509\n",
      "[810]\ttrain-logloss:0.190788\tvalid-logloss:0.214452\n",
      "[820]\ttrain-logloss:0.190504\tvalid-logloss:0.214397\n",
      "[830]\ttrain-logloss:0.190117\tvalid-logloss:0.214281\n",
      "[840]\ttrain-logloss:0.189903\tvalid-logloss:0.214229\n",
      "[850]\ttrain-logloss:0.189563\tvalid-logloss:0.214163\n",
      "[860]\ttrain-logloss:0.18926\tvalid-logloss:0.214092\n",
      "[870]\ttrain-logloss:0.188935\tvalid-logloss:0.214014\n",
      "[880]\ttrain-logloss:0.188683\tvalid-logloss:0.213971\n",
      "[890]\ttrain-logloss:0.188373\tvalid-logloss:0.213889\n",
      "[900]\ttrain-logloss:0.18808\tvalid-logloss:0.213842\n",
      "[910]\ttrain-logloss:0.187807\tvalid-logloss:0.213787\n",
      "[920]\ttrain-logloss:0.187487\tvalid-logloss:0.213724\n",
      "[930]\ttrain-logloss:0.187223\tvalid-logloss:0.213669\n",
      "[940]\ttrain-logloss:0.186934\tvalid-logloss:0.213602\n",
      "[950]\ttrain-logloss:0.186645\tvalid-logloss:0.213545\n",
      "[960]\ttrain-logloss:0.186343\tvalid-logloss:0.213512\n",
      "[970]\ttrain-logloss:0.18608\tvalid-logloss:0.213477\n",
      "[980]\ttrain-logloss:0.185752\tvalid-logloss:0.213385\n",
      "[990]\ttrain-logloss:0.185479\tvalid-logloss:0.213329\n",
      "[1000]\ttrain-logloss:0.185167\tvalid-logloss:0.213262\n",
      "[1010]\ttrain-logloss:0.184903\tvalid-logloss:0.213204\n",
      "[1020]\ttrain-logloss:0.184652\tvalid-logloss:0.213115\n",
      "[1030]\ttrain-logloss:0.18436\tvalid-logloss:0.213084\n",
      "[1040]\ttrain-logloss:0.184048\tvalid-logloss:0.212992\n",
      "[1050]\ttrain-logloss:0.183721\tvalid-logloss:0.212936\n",
      "[1060]\ttrain-logloss:0.18344\tvalid-logloss:0.212862\n",
      "[1070]\ttrain-logloss:0.183165\tvalid-logloss:0.212832\n",
      "[1080]\ttrain-logloss:0.182904\tvalid-logloss:0.212779\n",
      "[1090]\ttrain-logloss:0.18259\tvalid-logloss:0.212729\n",
      "[1100]\ttrain-logloss:0.182296\tvalid-logloss:0.212719\n",
      "[1110]\ttrain-logloss:0.182054\tvalid-logloss:0.212687\n",
      "[1120]\ttrain-logloss:0.181799\tvalid-logloss:0.212631\n",
      "[1130]\ttrain-logloss:0.181503\tvalid-logloss:0.212583\n",
      "[1140]\ttrain-logloss:0.18127\tvalid-logloss:0.212559\n",
      "[1150]\ttrain-logloss:0.181001\tvalid-logloss:0.212525\n",
      "[1160]\ttrain-logloss:0.180738\tvalid-logloss:0.212486\n",
      "[1170]\ttrain-logloss:0.180474\tvalid-logloss:0.212429\n",
      "[1180]\ttrain-logloss:0.180256\tvalid-logloss:0.21241\n",
      "[1190]\ttrain-logloss:0.179994\tvalid-logloss:0.212371\n",
      "[1200]\ttrain-logloss:0.179746\tvalid-logloss:0.21234\n",
      "[1210]\ttrain-logloss:0.179564\tvalid-logloss:0.212321\n",
      "[1220]\ttrain-logloss:0.179297\tvalid-logloss:0.212281\n",
      "[1230]\ttrain-logloss:0.179039\tvalid-logloss:0.212247\n",
      "[1240]\ttrain-logloss:0.178742\tvalid-logloss:0.212222\n",
      "[1250]\ttrain-logloss:0.178487\tvalid-logloss:0.212177\n",
      "[1260]\ttrain-logloss:0.178269\tvalid-logloss:0.212155\n",
      "[1270]\ttrain-logloss:0.178024\tvalid-logloss:0.212139\n",
      "[1280]\ttrain-logloss:0.17775\tvalid-logloss:0.212085\n",
      "[1290]\ttrain-logloss:0.177539\tvalid-logloss:0.212059\n",
      "[1300]\ttrain-logloss:0.177262\tvalid-logloss:0.212024\n",
      "[1310]\ttrain-logloss:0.176992\tvalid-logloss:0.212017\n",
      "[1320]\ttrain-logloss:0.176773\tvalid-logloss:0.212033\n",
      "[1330]\ttrain-logloss:0.176513\tvalid-logloss:0.212021\n",
      "[1340]\ttrain-logloss:0.176242\tvalid-logloss:0.21199\n",
      "[1350]\ttrain-logloss:0.175987\tvalid-logloss:0.211922\n",
      "[1360]\ttrain-logloss:0.175753\tvalid-logloss:0.211902\n",
      "[1370]\ttrain-logloss:0.175507\tvalid-logloss:0.211866\n",
      "[1380]\ttrain-logloss:0.175282\tvalid-logloss:0.211854\n",
      "[1390]\ttrain-logloss:0.175039\tvalid-logloss:0.21181\n",
      "[1400]\ttrain-logloss:0.17477\tvalid-logloss:0.211762\n",
      "[1410]\ttrain-logloss:0.174494\tvalid-logloss:0.211739\n",
      "[1420]\ttrain-logloss:0.174215\tvalid-logloss:0.211706\n",
      "[1430]\ttrain-logloss:0.173941\tvalid-logloss:0.211643\n",
      "[1440]\ttrain-logloss:0.173708\tvalid-logloss:0.211608\n",
      "[1450]\ttrain-logloss:0.173508\tvalid-logloss:0.211598\n",
      "[1460]\ttrain-logloss:0.173287\tvalid-logloss:0.211592\n",
      "[1470]\ttrain-logloss:0.173065\tvalid-logloss:0.211563\n"
     ]
    },
    {
     "name": "stdout",
     "output_type": "stream",
     "text": [
      "[1480]\ttrain-logloss:0.172829\tvalid-logloss:0.21154\n",
      "[1490]\ttrain-logloss:0.172617\tvalid-logloss:0.211524\n",
      "[1500]\ttrain-logloss:0.172368\tvalid-logloss:0.211489\n",
      "[1510]\ttrain-logloss:0.172109\tvalid-logloss:0.211441\n",
      "[1520]\ttrain-logloss:0.171884\tvalid-logloss:0.211415\n",
      "[1530]\ttrain-logloss:0.171678\tvalid-logloss:0.211396\n",
      "[1540]\ttrain-logloss:0.171424\tvalid-logloss:0.211367\n",
      "[1550]\ttrain-logloss:0.171206\tvalid-logloss:0.21134\n",
      "[1560]\ttrain-logloss:0.170981\tvalid-logloss:0.211321\n",
      "[1570]\ttrain-logloss:0.170781\tvalid-logloss:0.211311\n",
      "[1580]\ttrain-logloss:0.170511\tvalid-logloss:0.211278\n",
      "[1590]\ttrain-logloss:0.170274\tvalid-logloss:0.211244\n",
      "[1600]\ttrain-logloss:0.17005\tvalid-logloss:0.211197\n",
      "[1610]\ttrain-logloss:0.169839\tvalid-logloss:0.211183\n",
      "[1620]\ttrain-logloss:0.169647\tvalid-logloss:0.211167\n",
      "[1630]\ttrain-logloss:0.16941\tvalid-logloss:0.211126\n",
      "[1640]\ttrain-logloss:0.169195\tvalid-logloss:0.21111\n",
      "[1650]\ttrain-logloss:0.168945\tvalid-logloss:0.211081\n",
      "[1660]\ttrain-logloss:0.16875\tvalid-logloss:0.211058\n",
      "[1670]\ttrain-logloss:0.168533\tvalid-logloss:0.211026\n",
      "[1680]\ttrain-logloss:0.168307\tvalid-logloss:0.210976\n",
      "[1690]\ttrain-logloss:0.168054\tvalid-logloss:0.210967\n",
      "[1700]\ttrain-logloss:0.167839\tvalid-logloss:0.210956\n",
      "[1710]\ttrain-logloss:0.167585\tvalid-logloss:0.210903\n",
      "[1720]\ttrain-logloss:0.167357\tvalid-logloss:0.210877\n",
      "[1730]\ttrain-logloss:0.167147\tvalid-logloss:0.210871\n",
      "[1740]\ttrain-logloss:0.166934\tvalid-logloss:0.210865\n",
      "[1750]\ttrain-logloss:0.166702\tvalid-logloss:0.210865\n",
      "[1760]\ttrain-logloss:0.166478\tvalid-logloss:0.210856\n",
      "[1770]\ttrain-logloss:0.166255\tvalid-logloss:0.210808\n",
      "[1780]\ttrain-logloss:0.16601\tvalid-logloss:0.210784\n",
      "[1790]\ttrain-logloss:0.165823\tvalid-logloss:0.210778\n",
      "[1800]\ttrain-logloss:0.165606\tvalid-logloss:0.210762\n",
      "[1810]\ttrain-logloss:0.165388\tvalid-logloss:0.210736\n",
      "[1820]\ttrain-logloss:0.165211\tvalid-logloss:0.210737\n",
      "[1830]\ttrain-logloss:0.165022\tvalid-logloss:0.210701\n",
      "[1840]\ttrain-logloss:0.164793\tvalid-logloss:0.210673\n",
      "[1850]\ttrain-logloss:0.164578\tvalid-logloss:0.210654\n",
      "[1860]\ttrain-logloss:0.164422\tvalid-logloss:0.210619\n",
      "[1870]\ttrain-logloss:0.16419\tvalid-logloss:0.210621\n",
      "[1880]\ttrain-logloss:0.163987\tvalid-logloss:0.210611\n",
      "[1890]\ttrain-logloss:0.16377\tvalid-logloss:0.210611\n",
      "[1900]\ttrain-logloss:0.163546\tvalid-logloss:0.21062\n",
      "[1910]\ttrain-logloss:0.163358\tvalid-logloss:0.210613\n",
      "[1920]\ttrain-logloss:0.163126\tvalid-logloss:0.2106\n",
      "[1930]\ttrain-logloss:0.16288\tvalid-logloss:0.210582\n",
      "[1940]\ttrain-logloss:0.162688\tvalid-logloss:0.210558\n",
      "[1950]\ttrain-logloss:0.162485\tvalid-logloss:0.210548\n",
      "[1960]\ttrain-logloss:0.162231\tvalid-logloss:0.210515\n",
      "[1970]\ttrain-logloss:0.162029\tvalid-logloss:0.210498\n",
      "[1980]\ttrain-logloss:0.161818\tvalid-logloss:0.210484\n",
      "[1990]\ttrain-logloss:0.161592\tvalid-logloss:0.210468\n",
      "[2000]\ttrain-logloss:0.161391\tvalid-logloss:0.210468\n",
      "[2010]\ttrain-logloss:0.161164\tvalid-logloss:0.210438\n",
      "[2020]\ttrain-logloss:0.160933\tvalid-logloss:0.210409\n",
      "[2030]\ttrain-logloss:0.160739\tvalid-logloss:0.210397\n",
      "[2040]\ttrain-logloss:0.160559\tvalid-logloss:0.210399\n",
      "[2050]\ttrain-logloss:0.160348\tvalid-logloss:0.210377\n",
      "[2060]\ttrain-logloss:0.160158\tvalid-logloss:0.210387\n",
      "[2070]\ttrain-logloss:0.159927\tvalid-logloss:0.210356\n",
      "[2080]\ttrain-logloss:0.159722\tvalid-logloss:0.210338\n",
      "[2090]\ttrain-logloss:0.159535\tvalid-logloss:0.210323\n",
      "[2100]\ttrain-logloss:0.159317\tvalid-logloss:0.210321\n",
      "[2110]\ttrain-logloss:0.159119\tvalid-logloss:0.210317\n",
      "[2120]\ttrain-logloss:0.158931\tvalid-logloss:0.21029\n",
      "[2130]\ttrain-logloss:0.158724\tvalid-logloss:0.210277\n",
      "[2140]\ttrain-logloss:0.158551\tvalid-logloss:0.210272\n",
      "[2150]\ttrain-logloss:0.158349\tvalid-logloss:0.210265\n",
      "[2160]\ttrain-logloss:0.158125\tvalid-logloss:0.210261\n",
      "[2170]\ttrain-logloss:0.157923\tvalid-logloss:0.210263\n",
      "[2180]\ttrain-logloss:0.157714\tvalid-logloss:0.210247\n",
      "[2190]\ttrain-logloss:0.157542\tvalid-logloss:0.210214\n",
      "[2200]\ttrain-logloss:0.157325\tvalid-logloss:0.210189\n",
      "[2210]\ttrain-logloss:0.157134\tvalid-logloss:0.210191\n",
      "[2220]\ttrain-logloss:0.156921\tvalid-logloss:0.210172\n",
      "[2230]\ttrain-logloss:0.156751\tvalid-logloss:0.210148\n",
      "[2240]\ttrain-logloss:0.156561\tvalid-logloss:0.210151\n",
      "[2250]\ttrain-logloss:0.156363\tvalid-logloss:0.210132\n",
      "[2260]\ttrain-logloss:0.156149\tvalid-logloss:0.21013\n",
      "[2270]\ttrain-logloss:0.155978\tvalid-logloss:0.210109\n",
      "[2280]\ttrain-logloss:0.155788\tvalid-logloss:0.210114\n",
      "[2290]\ttrain-logloss:0.155607\tvalid-logloss:0.210109\n",
      "[2300]\ttrain-logloss:0.155394\tvalid-logloss:0.210095\n",
      "[2310]\ttrain-logloss:0.155217\tvalid-logloss:0.210086\n",
      "[2320]\ttrain-logloss:0.154998\tvalid-logloss:0.210063\n",
      "[2330]\ttrain-logloss:0.154817\tvalid-logloss:0.210065\n",
      "[2340]\ttrain-logloss:0.154631\tvalid-logloss:0.210039\n",
      "[2350]\ttrain-logloss:0.1544\tvalid-logloss:0.210028\n",
      "[2360]\ttrain-logloss:0.154212\tvalid-logloss:0.210005\n",
      "[2370]\ttrain-logloss:0.154048\tvalid-logloss:0.20998\n",
      "[2380]\ttrain-logloss:0.153874\tvalid-logloss:0.20999\n",
      "[2390]\ttrain-logloss:0.153686\tvalid-logloss:0.209972\n",
      "[2400]\ttrain-logloss:0.153474\tvalid-logloss:0.209971\n",
      "[2410]\ttrain-logloss:0.153298\tvalid-logloss:0.209959\n",
      "[2420]\ttrain-logloss:0.153118\tvalid-logloss:0.209936\n",
      "[2430]\ttrain-logloss:0.152947\tvalid-logloss:0.209939\n",
      "[2440]\ttrain-logloss:0.152746\tvalid-logloss:0.209928\n",
      "[2450]\ttrain-logloss:0.152547\tvalid-logloss:0.209935\n",
      "[2460]\ttrain-logloss:0.152361\tvalid-logloss:0.20993\n",
      "[2470]\ttrain-logloss:0.152146\tvalid-logloss:0.209913\n",
      "[2480]\ttrain-logloss:0.151976\tvalid-logloss:0.209897\n",
      "[2490]\ttrain-logloss:0.151832\tvalid-logloss:0.209901\n",
      "[2500]\ttrain-logloss:0.15162\tvalid-logloss:0.209909\n",
      "[2510]\ttrain-logloss:0.151439\tvalid-logloss:0.209896\n",
      "[2520]\ttrain-logloss:0.15123\tvalid-logloss:0.209897\n",
      "[2530]\ttrain-logloss:0.151045\tvalid-logloss:0.209889\n",
      "[2540]\ttrain-logloss:0.150837\tvalid-logloss:0.209856\n",
      "[2550]\ttrain-logloss:0.150665\tvalid-logloss:0.209859\n",
      "[2560]\ttrain-logloss:0.150516\tvalid-logloss:0.209856\n",
      "[2570]\ttrain-logloss:0.150318\tvalid-logloss:0.209829\n",
      "[2580]\ttrain-logloss:0.150123\tvalid-logloss:0.209821\n",
      "[2590]\ttrain-logloss:0.149925\tvalid-logloss:0.209806\n",
      "[2600]\ttrain-logloss:0.14976\tvalid-logloss:0.209797\n",
      "[2610]\ttrain-logloss:0.149573\tvalid-logloss:0.209786\n",
      "[2620]\ttrain-logloss:0.149422\tvalid-logloss:0.209802\n",
      "[2630]\ttrain-logloss:0.149211\tvalid-logloss:0.209785\n",
      "[2640]\ttrain-logloss:0.149044\tvalid-logloss:0.209798\n",
      "[2650]\ttrain-logloss:0.148829\tvalid-logloss:0.209765\n",
      "[2660]\ttrain-logloss:0.148636\tvalid-logloss:0.209756\n",
      "[2670]\ttrain-logloss:0.14846\tvalid-logloss:0.20975\n",
      "[2680]\ttrain-logloss:0.148271\tvalid-logloss:0.20973\n",
      "[2690]\ttrain-logloss:0.148078\tvalid-logloss:0.209713\n",
      "[2700]\ttrain-logloss:0.147897\tvalid-logloss:0.209702\n",
      "[2710]\ttrain-logloss:0.147741\tvalid-logloss:0.209706\n",
      "[2720]\ttrain-logloss:0.14755\tvalid-logloss:0.209707\n",
      "[2730]\ttrain-logloss:0.147415\tvalid-logloss:0.209714\n",
      "[2740]\ttrain-logloss:0.147202\tvalid-logloss:0.209714\n",
      "[2750]\ttrain-logloss:0.147057\tvalid-logloss:0.2097\n",
      "[2760]\ttrain-logloss:0.146868\tvalid-logloss:0.209677\n",
      "[2770]\ttrain-logloss:0.146672\tvalid-logloss:0.209679\n",
      "[2780]\ttrain-logloss:0.146494\tvalid-logloss:0.209686\n",
      "[2790]\ttrain-logloss:0.146297\tvalid-logloss:0.20967\n",
      "[2800]\ttrain-logloss:0.146112\tvalid-logloss:0.209658\n",
      "[2810]\ttrain-logloss:0.145932\tvalid-logloss:0.209629\n",
      "[2820]\ttrain-logloss:0.145746\tvalid-logloss:0.209636\n",
      "[2830]\ttrain-logloss:0.14556\tvalid-logloss:0.209634\n",
      "[2840]\ttrain-logloss:0.145376\tvalid-logloss:0.209612\n",
      "[2850]\ttrain-logloss:0.145181\tvalid-logloss:0.209624\n",
      "[2860]\ttrain-logloss:0.144984\tvalid-logloss:0.209636\n",
      "[2870]\ttrain-logloss:0.144811\tvalid-logloss:0.209638\n",
      "[2880]\ttrain-logloss:0.144596\tvalid-logloss:0.209614\n",
      "[2890]\ttrain-logloss:0.144429\tvalid-logloss:0.20961\n",
      "[2900]\ttrain-logloss:0.144261\tvalid-logloss:0.20958\n",
      "[2910]\ttrain-logloss:0.14411\tvalid-logloss:0.209561\n",
      "[2920]\ttrain-logloss:0.143948\tvalid-logloss:0.209555\n",
      "[2930]\ttrain-logloss:0.143805\tvalid-logloss:0.209555\n",
      "[2940]\ttrain-logloss:0.143628\tvalid-logloss:0.209579\n",
      "[2950]\ttrain-logloss:0.143471\tvalid-logloss:0.209581\n",
      "[2960]\ttrain-logloss:0.14328\tvalid-logloss:0.20958\n",
      "[2970]\ttrain-logloss:0.143144\tvalid-logloss:0.209583\n",
      "[2980]\ttrain-logloss:0.142959\tvalid-logloss:0.209588\n",
      "[2990]\ttrain-logloss:0.142771\tvalid-logloss:0.209603\n",
      "[3000]\ttrain-logloss:0.142581\tvalid-logloss:0.209598\n",
      "[3010]\ttrain-logloss:0.142433\tvalid-logloss:0.2096\n",
      "[3020]\ttrain-logloss:0.142251\tvalid-logloss:0.209603\n",
      "Stopping. Best iteration:\n",
      "[2924]\ttrain-logloss:0.143874\tvalid-logloss:0.209544\n",
      "\n"
     ]
    },
    {
     "name": "stdout",
     "output_type": "stream",
     "text": [
      "best score and limit:  0.209544 2925\n",
      "{'reg_alpha': 0.047868207526880216, 'eval_metric': 'logloss', 'colsample_bylevel': 0.8259820581740578, 'scale_pos_weight': 1, 'learning_rate': 0.01730446906395796, 'n_estimators': 2156, 'colsample_bytree': 0.969727756067095, 'subsample': 0.8844883849650509, 'reg_lambda': 1.0892437626103435, 'objective': 'binary:logistic', 'max_depth': 6, 'gamma': 0.019053895872791694}\n",
      "[0]\ttrain-logloss:0.682076\tvalid-logloss:0.682077\n",
      "Multiple eval metrics have been passed: 'valid-logloss' will be used for early stopping.\n",
      "\n",
      "Will train until valid-logloss hasn't improved in 100 rounds.\n",
      "[10]\ttrain-logloss:0.589421\tvalid-logloss:0.589692\n",
      "[20]\ttrain-logloss:0.520691\tvalid-logloss:0.521097\n",
      "[30]\ttrain-logloss:0.468352\tvalid-logloss:0.46892\n",
      "[40]\ttrain-logloss:0.427129\tvalid-logloss:0.427874\n",
      "[50]\ttrain-logloss:0.394595\tvalid-logloss:0.395495\n",
      "[60]\ttrain-logloss:0.36834\tvalid-logloss:0.369318\n",
      "[70]\ttrain-logloss:0.347234\tvalid-logloss:0.348325\n",
      "[80]\ttrain-logloss:0.329675\tvalid-logloss:0.330825\n",
      "[90]\ttrain-logloss:0.315192\tvalid-logloss:0.316393\n",
      "[100]\ttrain-logloss:0.303165\tvalid-logloss:0.304435\n",
      "[110]\ttrain-logloss:0.293194\tvalid-logloss:0.294605\n",
      "[120]\ttrain-logloss:0.284969\tvalid-logloss:0.286539\n",
      "[130]\ttrain-logloss:0.278013\tvalid-logloss:0.279693\n",
      "[140]\ttrain-logloss:0.272111\tvalid-logloss:0.273885\n",
      "[150]\ttrain-logloss:0.267227\tvalid-logloss:0.269078\n",
      "[160]\ttrain-logloss:0.262927\tvalid-logloss:0.264898\n",
      "[170]\ttrain-logloss:0.259137\tvalid-logloss:0.2612\n",
      "[180]\ttrain-logloss:0.255649\tvalid-logloss:0.257806\n",
      "[190]\ttrain-logloss:0.25275\tvalid-logloss:0.25494\n",
      "[200]\ttrain-logloss:0.250109\tvalid-logloss:0.252362\n",
      "[210]\ttrain-logloss:0.24765\tvalid-logloss:0.249986\n",
      "[220]\ttrain-logloss:0.245549\tvalid-logloss:0.247942\n",
      "[230]\ttrain-logloss:0.243577\tvalid-logloss:0.246052\n",
      "[240]\ttrain-logloss:0.241729\tvalid-logloss:0.244295\n",
      "[250]\ttrain-logloss:0.240081\tvalid-logloss:0.242699\n",
      "[260]\ttrain-logloss:0.23854\tvalid-logloss:0.241248\n",
      "[270]\ttrain-logloss:0.237165\tvalid-logloss:0.239955\n",
      "[280]\ttrain-logloss:0.235876\tvalid-logloss:0.238752\n",
      "[290]\ttrain-logloss:0.234698\tvalid-logloss:0.237674\n",
      "[300]\ttrain-logloss:0.2336\tvalid-logloss:0.236682\n",
      "[310]\ttrain-logloss:0.232518\tvalid-logloss:0.235667\n",
      "[320]\ttrain-logloss:0.231489\tvalid-logloss:0.234688\n",
      "[330]\ttrain-logloss:0.230378\tvalid-logloss:0.233683\n",
      "[340]\ttrain-logloss:0.229437\tvalid-logloss:0.232827\n",
      "[350]\ttrain-logloss:0.228504\tvalid-logloss:0.231992\n",
      "[360]\ttrain-logloss:0.227593\tvalid-logloss:0.231181\n",
      "[370]\ttrain-logloss:0.226669\tvalid-logloss:0.230369\n",
      "[380]\ttrain-logloss:0.225857\tvalid-logloss:0.229643\n",
      "[390]\ttrain-logloss:0.225088\tvalid-logloss:0.228959\n",
      "[400]\ttrain-logloss:0.224276\tvalid-logloss:0.2283\n",
      "[410]\ttrain-logloss:0.223509\tvalid-logloss:0.227628\n",
      "[420]\ttrain-logloss:0.222807\tvalid-logloss:0.227038\n",
      "[430]\ttrain-logloss:0.22218\tvalid-logloss:0.22652\n",
      "[440]\ttrain-logloss:0.221541\tvalid-logloss:0.226005\n",
      "[450]\ttrain-logloss:0.220943\tvalid-logloss:0.225526\n",
      "[460]\ttrain-logloss:0.220369\tvalid-logloss:0.225041\n",
      "[470]\ttrain-logloss:0.219793\tvalid-logloss:0.224608\n",
      "[480]\ttrain-logloss:0.219254\tvalid-logloss:0.224161\n",
      "[490]\ttrain-logloss:0.218721\tvalid-logloss:0.223733\n",
      "[500]\ttrain-logloss:0.21824\tvalid-logloss:0.223341\n",
      "[510]\ttrain-logloss:0.217763\tvalid-logloss:0.222955\n",
      "[520]\ttrain-logloss:0.217306\tvalid-logloss:0.222596\n",
      "[530]\ttrain-logloss:0.216836\tvalid-logloss:0.222215\n",
      "[540]\ttrain-logloss:0.216382\tvalid-logloss:0.22189\n",
      "[550]\ttrain-logloss:0.215942\tvalid-logloss:0.221592\n",
      "[560]\ttrain-logloss:0.215576\tvalid-logloss:0.221325\n",
      "[570]\ttrain-logloss:0.215101\tvalid-logloss:0.220969\n",
      "[580]\ttrain-logloss:0.214645\tvalid-logloss:0.220643\n",
      "[590]\ttrain-logloss:0.214309\tvalid-logloss:0.220379\n",
      "[600]\ttrain-logloss:0.213901\tvalid-logloss:0.220097\n",
      "[610]\ttrain-logloss:0.2135\tvalid-logloss:0.219813\n",
      "[620]\ttrain-logloss:0.213068\tvalid-logloss:0.219576\n",
      "[630]\ttrain-logloss:0.212689\tvalid-logloss:0.219327\n",
      "[640]\ttrain-logloss:0.212336\tvalid-logloss:0.219102\n",
      "[650]\ttrain-logloss:0.211899\tvalid-logloss:0.218801\n",
      "[660]\ttrain-logloss:0.211549\tvalid-logloss:0.218566\n",
      "[670]\ttrain-logloss:0.211167\tvalid-logloss:0.218333\n",
      "[680]\ttrain-logloss:0.210796\tvalid-logloss:0.218088\n",
      "[690]\ttrain-logloss:0.210427\tvalid-logloss:0.217844\n",
      "[700]\ttrain-logloss:0.210074\tvalid-logloss:0.217634\n",
      "[710]\ttrain-logloss:0.209742\tvalid-logloss:0.217462\n",
      "[720]\ttrain-logloss:0.20948\tvalid-logloss:0.217288\n",
      "[730]\ttrain-logloss:0.209146\tvalid-logloss:0.217133\n",
      "[740]\ttrain-logloss:0.208826\tvalid-logloss:0.216967\n",
      "[750]\ttrain-logloss:0.208489\tvalid-logloss:0.216772\n",
      "[760]\ttrain-logloss:0.208185\tvalid-logloss:0.21659\n",
      "[770]\ttrain-logloss:0.207887\tvalid-logloss:0.216443\n",
      "[780]\ttrain-logloss:0.207579\tvalid-logloss:0.216298\n",
      "[790]\ttrain-logloss:0.207241\tvalid-logloss:0.216148\n",
      "[800]\ttrain-logloss:0.20689\tvalid-logloss:0.215972\n",
      "[810]\ttrain-logloss:0.206611\tvalid-logloss:0.215812\n",
      "[820]\ttrain-logloss:0.206342\tvalid-logloss:0.215673\n",
      "[830]\ttrain-logloss:0.206098\tvalid-logloss:0.215555\n",
      "[840]\ttrain-logloss:0.205801\tvalid-logloss:0.215409\n",
      "[850]\ttrain-logloss:0.205537\tvalid-logloss:0.215289\n",
      "[860]\ttrain-logloss:0.205265\tvalid-logloss:0.215182\n",
      "[870]\ttrain-logloss:0.204964\tvalid-logloss:0.215048\n",
      "[880]\ttrain-logloss:0.204699\tvalid-logloss:0.214921\n",
      "[890]\ttrain-logloss:0.204426\tvalid-logloss:0.214823\n",
      "[900]\ttrain-logloss:0.204191\tvalid-logloss:0.214709\n",
      "[910]\ttrain-logloss:0.203958\tvalid-logloss:0.214604\n",
      "[920]\ttrain-logloss:0.203697\tvalid-logloss:0.214486\n",
      "[930]\ttrain-logloss:0.203486\tvalid-logloss:0.214399\n",
      "[940]\ttrain-logloss:0.203268\tvalid-logloss:0.214324\n",
      "[950]\ttrain-logloss:0.203034\tvalid-logloss:0.214216\n",
      "[960]\ttrain-logloss:0.202768\tvalid-logloss:0.214091\n",
      "[970]\ttrain-logloss:0.20251\tvalid-logloss:0.213967\n",
      "[980]\ttrain-logloss:0.202255\tvalid-logloss:0.213867\n",
      "[990]\ttrain-logloss:0.202038\tvalid-logloss:0.213775\n",
      "[1000]\ttrain-logloss:0.20177\tvalid-logloss:0.213677\n",
      "[1010]\ttrain-logloss:0.201518\tvalid-logloss:0.213558\n",
      "[1020]\ttrain-logloss:0.201248\tvalid-logloss:0.213442\n",
      "[1030]\ttrain-logloss:0.201038\tvalid-logloss:0.213323\n",
      "[1040]\ttrain-logloss:0.200793\tvalid-logloss:0.213201\n",
      "[1050]\ttrain-logloss:0.200549\tvalid-logloss:0.213111\n",
      "[1060]\ttrain-logloss:0.200311\tvalid-logloss:0.213026\n",
      "[1070]\ttrain-logloss:0.200119\tvalid-logloss:0.212951\n",
      "[1080]\ttrain-logloss:0.199876\tvalid-logloss:0.212844\n",
      "[1090]\ttrain-logloss:0.199673\tvalid-logloss:0.212756\n",
      "[1100]\ttrain-logloss:0.199476\tvalid-logloss:0.212684\n",
      "[1110]\ttrain-logloss:0.199242\tvalid-logloss:0.212585\n",
      "[1120]\ttrain-logloss:0.199019\tvalid-logloss:0.2125\n",
      "[1130]\ttrain-logloss:0.19882\tvalid-logloss:0.212424\n",
      "[1140]\ttrain-logloss:0.198622\tvalid-logloss:0.212365\n",
      "[1150]\ttrain-logloss:0.198363\tvalid-logloss:0.212272\n",
      "[1160]\ttrain-logloss:0.198203\tvalid-logloss:0.212213\n",
      "[1170]\ttrain-logloss:0.197977\tvalid-logloss:0.212126\n",
      "[1180]\ttrain-logloss:0.197776\tvalid-logloss:0.212053\n",
      "[1190]\ttrain-logloss:0.197566\tvalid-logloss:0.211974\n",
      "[1200]\ttrain-logloss:0.197313\tvalid-logloss:0.211865\n",
      "[1210]\ttrain-logloss:0.197133\tvalid-logloss:0.211817\n",
      "[1220]\ttrain-logloss:0.196946\tvalid-logloss:0.211769\n",
      "[1230]\ttrain-logloss:0.196735\tvalid-logloss:0.211717\n",
      "[1240]\ttrain-logloss:0.196545\tvalid-logloss:0.211646\n",
      "[1250]\ttrain-logloss:0.196346\tvalid-logloss:0.211568\n",
      "[1260]\ttrain-logloss:0.196147\tvalid-logloss:0.211489\n",
      "[1270]\ttrain-logloss:0.195954\tvalid-logloss:0.211413\n",
      "[1280]\ttrain-logloss:0.19575\tvalid-logloss:0.211345\n",
      "[1290]\ttrain-logloss:0.195591\tvalid-logloss:0.211302\n",
      "[1300]\ttrain-logloss:0.195409\tvalid-logloss:0.211246\n",
      "[1310]\ttrain-logloss:0.195189\tvalid-logloss:0.21116\n",
      "[1320]\ttrain-logloss:0.194947\tvalid-logloss:0.211082\n",
      "[1330]\ttrain-logloss:0.194757\tvalid-logloss:0.211012\n",
      "[1340]\ttrain-logloss:0.194548\tvalid-logloss:0.210951\n",
      "[1350]\ttrain-logloss:0.19434\tvalid-logloss:0.210901\n",
      "[1360]\ttrain-logloss:0.19417\tvalid-logloss:0.210842\n",
      "[1370]\ttrain-logloss:0.194015\tvalid-logloss:0.210808\n",
      "[1380]\ttrain-logloss:0.193833\tvalid-logloss:0.210746\n",
      "[1390]\ttrain-logloss:0.19365\tvalid-logloss:0.210707\n",
      "[1400]\ttrain-logloss:0.193444\tvalid-logloss:0.210657\n",
      "[1410]\ttrain-logloss:0.193235\tvalid-logloss:0.210589\n",
      "[1420]\ttrain-logloss:0.193065\tvalid-logloss:0.210564\n",
      "[1430]\ttrain-logloss:0.192878\tvalid-logloss:0.210495\n",
      "[1440]\ttrain-logloss:0.192757\tvalid-logloss:0.210465\n",
      "[1450]\ttrain-logloss:0.192575\tvalid-logloss:0.21042\n",
      "[1460]\ttrain-logloss:0.192382\tvalid-logloss:0.21036\n"
     ]
    },
    {
     "name": "stdout",
     "output_type": "stream",
     "text": [
      "[1470]\ttrain-logloss:0.192198\tvalid-logloss:0.210313\n",
      "[1480]\ttrain-logloss:0.19207\tvalid-logloss:0.210298\n",
      "[1490]\ttrain-logloss:0.191913\tvalid-logloss:0.210243\n",
      "[1500]\ttrain-logloss:0.191774\tvalid-logloss:0.210203\n",
      "[1510]\ttrain-logloss:0.191589\tvalid-logloss:0.210155\n",
      "[1520]\ttrain-logloss:0.191406\tvalid-logloss:0.210104\n",
      "[1530]\ttrain-logloss:0.191235\tvalid-logloss:0.210062\n",
      "[1540]\ttrain-logloss:0.191058\tvalid-logloss:0.210007\n",
      "[1550]\ttrain-logloss:0.190866\tvalid-logloss:0.209936\n",
      "[1560]\ttrain-logloss:0.190707\tvalid-logloss:0.20992\n",
      "[1570]\ttrain-logloss:0.190541\tvalid-logloss:0.209891\n",
      "[1580]\ttrain-logloss:0.190418\tvalid-logloss:0.209853\n",
      "[1590]\ttrain-logloss:0.190235\tvalid-logloss:0.209808\n",
      "[1600]\ttrain-logloss:0.19004\tvalid-logloss:0.209759\n",
      "[1610]\ttrain-logloss:0.189877\tvalid-logloss:0.209727\n",
      "[1620]\ttrain-logloss:0.189728\tvalid-logloss:0.209688\n",
      "[1630]\ttrain-logloss:0.189573\tvalid-logloss:0.20965\n",
      "[1640]\ttrain-logloss:0.189387\tvalid-logloss:0.209619\n",
      "[1650]\ttrain-logloss:0.189239\tvalid-logloss:0.209586\n",
      "[1660]\ttrain-logloss:0.189073\tvalid-logloss:0.209542\n",
      "[1670]\ttrain-logloss:0.188883\tvalid-logloss:0.209516\n",
      "[1680]\ttrain-logloss:0.18874\tvalid-logloss:0.209494\n",
      "[1690]\ttrain-logloss:0.188537\tvalid-logloss:0.20944\n",
      "[1700]\ttrain-logloss:0.188368\tvalid-logloss:0.209388\n",
      "[1710]\ttrain-logloss:0.18821\tvalid-logloss:0.209362\n",
      "[1720]\ttrain-logloss:0.188056\tvalid-logloss:0.209332\n",
      "[1730]\ttrain-logloss:0.187889\tvalid-logloss:0.209297\n",
      "[1740]\ttrain-logloss:0.187716\tvalid-logloss:0.209249\n",
      "[1750]\ttrain-logloss:0.187564\tvalid-logloss:0.20922\n",
      "[1760]\ttrain-logloss:0.187435\tvalid-logloss:0.209197\n",
      "[1770]\ttrain-logloss:0.187284\tvalid-logloss:0.20917\n",
      "[1780]\ttrain-logloss:0.187109\tvalid-logloss:0.209131\n",
      "[1790]\ttrain-logloss:0.186957\tvalid-logloss:0.209109\n",
      "[1800]\ttrain-logloss:0.186799\tvalid-logloss:0.209084\n",
      "[1810]\ttrain-logloss:0.186619\tvalid-logloss:0.209058\n",
      "[1820]\ttrain-logloss:0.186441\tvalid-logloss:0.20903\n",
      "[1830]\ttrain-logloss:0.186284\tvalid-logloss:0.208998\n",
      "[1840]\ttrain-logloss:0.1861\tvalid-logloss:0.208962\n",
      "[1850]\ttrain-logloss:0.18597\tvalid-logloss:0.208937\n",
      "[1860]\ttrain-logloss:0.185822\tvalid-logloss:0.20891\n",
      "[1870]\ttrain-logloss:0.18568\tvalid-logloss:0.20887\n",
      "[1880]\ttrain-logloss:0.185562\tvalid-logloss:0.208849\n",
      "[1890]\ttrain-logloss:0.185392\tvalid-logloss:0.208821\n",
      "[1900]\ttrain-logloss:0.185231\tvalid-logloss:0.208798\n",
      "[1910]\ttrain-logloss:0.185119\tvalid-logloss:0.208781\n",
      "[1920]\ttrain-logloss:0.184958\tvalid-logloss:0.208771\n",
      "[1930]\ttrain-logloss:0.184805\tvalid-logloss:0.208732\n",
      "[1940]\ttrain-logloss:0.184677\tvalid-logloss:0.208687\n",
      "[1950]\ttrain-logloss:0.184499\tvalid-logloss:0.208663\n",
      "[1960]\ttrain-logloss:0.184324\tvalid-logloss:0.208648\n",
      "[1970]\ttrain-logloss:0.184187\tvalid-logloss:0.208628\n",
      "[1980]\ttrain-logloss:0.18403\tvalid-logloss:0.208618\n",
      "[1990]\ttrain-logloss:0.183859\tvalid-logloss:0.208577\n",
      "[2000]\ttrain-logloss:0.183741\tvalid-logloss:0.208564\n",
      "[2010]\ttrain-logloss:0.183623\tvalid-logloss:0.208537\n",
      "[2020]\ttrain-logloss:0.183513\tvalid-logloss:0.20852\n",
      "[2030]\ttrain-logloss:0.183372\tvalid-logloss:0.208489\n",
      "[2040]\ttrain-logloss:0.183235\tvalid-logloss:0.208467\n",
      "[2050]\ttrain-logloss:0.183077\tvalid-logloss:0.208443\n",
      "[2060]\ttrain-logloss:0.182927\tvalid-logloss:0.20841\n",
      "[2070]\ttrain-logloss:0.182774\tvalid-logloss:0.208379\n",
      "[2080]\ttrain-logloss:0.182631\tvalid-logloss:0.208373\n",
      "[2090]\ttrain-logloss:0.182515\tvalid-logloss:0.208358\n",
      "[2100]\ttrain-logloss:0.182397\tvalid-logloss:0.208333\n",
      "[2110]\ttrain-logloss:0.182253\tvalid-logloss:0.208335\n",
      "[2120]\ttrain-logloss:0.182119\tvalid-logloss:0.208308\n",
      "[2130]\ttrain-logloss:0.181988\tvalid-logloss:0.208277\n",
      "[2140]\ttrain-logloss:0.181842\tvalid-logloss:0.208256\n",
      "[2150]\ttrain-logloss:0.181712\tvalid-logloss:0.208242\n",
      "[2160]\ttrain-logloss:0.18156\tvalid-logloss:0.208219\n",
      "[2170]\ttrain-logloss:0.181401\tvalid-logloss:0.208178\n",
      "[2180]\ttrain-logloss:0.181261\tvalid-logloss:0.208171\n",
      "[2190]\ttrain-logloss:0.181146\tvalid-logloss:0.208163\n",
      "[2200]\ttrain-logloss:0.181005\tvalid-logloss:0.208146\n",
      "[2210]\ttrain-logloss:0.180865\tvalid-logloss:0.208121\n",
      "[2220]\ttrain-logloss:0.180732\tvalid-logloss:0.20811\n",
      "[2230]\ttrain-logloss:0.18059\tvalid-logloss:0.208086\n",
      "[2240]\ttrain-logloss:0.180458\tvalid-logloss:0.208059\n",
      "[2250]\ttrain-logloss:0.180316\tvalid-logloss:0.208042\n",
      "[2260]\ttrain-logloss:0.180178\tvalid-logloss:0.208022\n",
      "[2270]\ttrain-logloss:0.180022\tvalid-logloss:0.207997\n",
      "[2280]\ttrain-logloss:0.17988\tvalid-logloss:0.207987\n",
      "[2290]\ttrain-logloss:0.179723\tvalid-logloss:0.207979\n",
      "[2300]\ttrain-logloss:0.179579\tvalid-logloss:0.207956\n",
      "[2310]\ttrain-logloss:0.179446\tvalid-logloss:0.207933\n",
      "[2320]\ttrain-logloss:0.179313\tvalid-logloss:0.207897\n",
      "[2330]\ttrain-logloss:0.17918\tvalid-logloss:0.20787\n",
      "[2340]\ttrain-logloss:0.179008\tvalid-logloss:0.207831\n",
      "[2350]\ttrain-logloss:0.178902\tvalid-logloss:0.207814\n",
      "[2360]\ttrain-logloss:0.178801\tvalid-logloss:0.20781\n",
      "[2370]\ttrain-logloss:0.178653\tvalid-logloss:0.207791\n",
      "[2380]\ttrain-logloss:0.178505\tvalid-logloss:0.207766\n",
      "[2390]\ttrain-logloss:0.178377\tvalid-logloss:0.20776\n",
      "[2400]\ttrain-logloss:0.178217\tvalid-logloss:0.207742\n",
      "[2410]\ttrain-logloss:0.178076\tvalid-logloss:0.20772\n",
      "[2420]\ttrain-logloss:0.177952\tvalid-logloss:0.207702\n",
      "[2430]\ttrain-logloss:0.17779\tvalid-logloss:0.207673\n",
      "[2440]\ttrain-logloss:0.177671\tvalid-logloss:0.20766\n",
      "[2450]\ttrain-logloss:0.177536\tvalid-logloss:0.207665\n",
      "[2460]\ttrain-logloss:0.177421\tvalid-logloss:0.207648\n",
      "[2470]\ttrain-logloss:0.177268\tvalid-logloss:0.207636\n",
      "[2480]\ttrain-logloss:0.17712\tvalid-logloss:0.207611\n",
      "[2490]\ttrain-logloss:0.176982\tvalid-logloss:0.207585\n",
      "[2500]\ttrain-logloss:0.17683\tvalid-logloss:0.207579\n",
      "[2510]\ttrain-logloss:0.176719\tvalid-logloss:0.207553\n",
      "[2520]\ttrain-logloss:0.176607\tvalid-logloss:0.207557\n",
      "[2530]\ttrain-logloss:0.17647\tvalid-logloss:0.20754\n",
      "[2540]\ttrain-logloss:0.176355\tvalid-logloss:0.207521\n",
      "[2550]\ttrain-logloss:0.176203\tvalid-logloss:0.20751\n",
      "[2560]\ttrain-logloss:0.176075\tvalid-logloss:0.207492\n",
      "[2570]\ttrain-logloss:0.175931\tvalid-logloss:0.207488\n",
      "[2580]\ttrain-logloss:0.175805\tvalid-logloss:0.207479\n",
      "[2590]\ttrain-logloss:0.175694\tvalid-logloss:0.207468\n",
      "[2600]\ttrain-logloss:0.175574\tvalid-logloss:0.207455\n",
      "[2610]\ttrain-logloss:0.175475\tvalid-logloss:0.207444\n",
      "[2620]\ttrain-logloss:0.175347\tvalid-logloss:0.207442\n",
      "[2630]\ttrain-logloss:0.175239\tvalid-logloss:0.207434\n",
      "[2640]\ttrain-logloss:0.175101\tvalid-logloss:0.207396\n",
      "[2650]\ttrain-logloss:0.17496\tvalid-logloss:0.207372\n",
      "[2660]\ttrain-logloss:0.174801\tvalid-logloss:0.207346\n",
      "[2670]\ttrain-logloss:0.174653\tvalid-logloss:0.207342\n",
      "[2680]\ttrain-logloss:0.174529\tvalid-logloss:0.207328\n",
      "[2690]\ttrain-logloss:0.174389\tvalid-logloss:0.20731\n",
      "[2700]\ttrain-logloss:0.174266\tvalid-logloss:0.207296\n",
      "[2710]\ttrain-logloss:0.174137\tvalid-logloss:0.207293\n",
      "[2720]\ttrain-logloss:0.174002\tvalid-logloss:0.207271\n",
      "[2730]\ttrain-logloss:0.17388\tvalid-logloss:0.207266\n",
      "[2740]\ttrain-logloss:0.173754\tvalid-logloss:0.207259\n",
      "[2750]\ttrain-logloss:0.173616\tvalid-logloss:0.207229\n",
      "[2760]\ttrain-logloss:0.173482\tvalid-logloss:0.207207\n",
      "[2770]\ttrain-logloss:0.173351\tvalid-logloss:0.207188\n",
      "[2780]\ttrain-logloss:0.17322\tvalid-logloss:0.207171\n",
      "[2790]\ttrain-logloss:0.173104\tvalid-logloss:0.207172\n",
      "[2800]\ttrain-logloss:0.172969\tvalid-logloss:0.207152\n",
      "[2810]\ttrain-logloss:0.17285\tvalid-logloss:0.207144\n",
      "[2820]\ttrain-logloss:0.172717\tvalid-logloss:0.207128\n",
      "[2830]\ttrain-logloss:0.172607\tvalid-logloss:0.207096\n",
      "[2840]\ttrain-logloss:0.172508\tvalid-logloss:0.207086\n",
      "[2850]\ttrain-logloss:0.172381\tvalid-logloss:0.207076\n",
      "[2860]\ttrain-logloss:0.172245\tvalid-logloss:0.207076\n",
      "[2870]\ttrain-logloss:0.17212\tvalid-logloss:0.207076\n",
      "[2880]\ttrain-logloss:0.172007\tvalid-logloss:0.207076\n",
      "[2890]\ttrain-logloss:0.17188\tvalid-logloss:0.207071\n",
      "[2900]\ttrain-logloss:0.171769\tvalid-logloss:0.207077\n",
      "[2910]\ttrain-logloss:0.171632\tvalid-logloss:0.207052\n",
      "[2920]\ttrain-logloss:0.171516\tvalid-logloss:0.207046\n",
      "[2930]\ttrain-logloss:0.17137\tvalid-logloss:0.207028\n",
      "[2940]\ttrain-logloss:0.171232\tvalid-logloss:0.207016\n",
      "[2950]\ttrain-logloss:0.171089\tvalid-logloss:0.206998\n",
      "[2960]\ttrain-logloss:0.170982\tvalid-logloss:0.20698\n",
      "[2970]\ttrain-logloss:0.170853\tvalid-logloss:0.206983\n",
      "[2980]\ttrain-logloss:0.170753\tvalid-logloss:0.206976\n",
      "[2990]\ttrain-logloss:0.170634\tvalid-logloss:0.206957\n",
      "[3000]\ttrain-logloss:0.170528\tvalid-logloss:0.206948\n",
      "[3010]\ttrain-logloss:0.170403\tvalid-logloss:0.206927\n",
      "[3020]\ttrain-logloss:0.170278\tvalid-logloss:0.206909\n"
     ]
    },
    {
     "name": "stdout",
     "output_type": "stream",
     "text": [
      "[3030]\ttrain-logloss:0.170151\tvalid-logloss:0.206901\n",
      "[3040]\ttrain-logloss:0.170042\tvalid-logloss:0.206895\n",
      "[3050]\ttrain-logloss:0.169919\tvalid-logloss:0.206893\n",
      "[3060]\ttrain-logloss:0.169793\tvalid-logloss:0.206879\n",
      "[3070]\ttrain-logloss:0.169684\tvalid-logloss:0.206872\n",
      "[3080]\ttrain-logloss:0.169563\tvalid-logloss:0.206853\n",
      "[3090]\ttrain-logloss:0.169442\tvalid-logloss:0.206844\n",
      "[3100]\ttrain-logloss:0.169312\tvalid-logloss:0.206828\n",
      "[3110]\ttrain-logloss:0.169193\tvalid-logloss:0.206806\n",
      "[3120]\ttrain-logloss:0.16907\tvalid-logloss:0.206805\n",
      "[3130]\ttrain-logloss:0.168929\tvalid-logloss:0.206784\n",
      "[3140]\ttrain-logloss:0.168801\tvalid-logloss:0.206768\n",
      "[3150]\ttrain-logloss:0.168688\tvalid-logloss:0.206758\n",
      "[3160]\ttrain-logloss:0.168577\tvalid-logloss:0.206754\n",
      "[3170]\ttrain-logloss:0.168456\tvalid-logloss:0.206747\n",
      "[3180]\ttrain-logloss:0.168352\tvalid-logloss:0.206747\n",
      "[3190]\ttrain-logloss:0.168228\tvalid-logloss:0.20673\n",
      "[3200]\ttrain-logloss:0.168119\tvalid-logloss:0.206719\n",
      "[3210]\ttrain-logloss:0.16799\tvalid-logloss:0.206724\n",
      "[3220]\ttrain-logloss:0.167849\tvalid-logloss:0.206704\n",
      "[3230]\ttrain-logloss:0.167736\tvalid-logloss:0.206703\n",
      "[3240]\ttrain-logloss:0.167627\tvalid-logloss:0.206699\n",
      "[3250]\ttrain-logloss:0.167487\tvalid-logloss:0.206667\n",
      "[3260]\ttrain-logloss:0.167374\tvalid-logloss:0.206675\n",
      "[3270]\ttrain-logloss:0.167254\tvalid-logloss:0.206661\n",
      "[3280]\ttrain-logloss:0.16715\tvalid-logloss:0.206648\n",
      "[3290]\ttrain-logloss:0.167014\tvalid-logloss:0.206643\n",
      "[3300]\ttrain-logloss:0.166913\tvalid-logloss:0.206627\n",
      "[3310]\ttrain-logloss:0.166797\tvalid-logloss:0.206616\n",
      "[3320]\ttrain-logloss:0.166698\tvalid-logloss:0.206614\n",
      "[3330]\ttrain-logloss:0.166587\tvalid-logloss:0.206594\n",
      "[3340]\ttrain-logloss:0.166484\tvalid-logloss:0.20658\n",
      "[3350]\ttrain-logloss:0.166359\tvalid-logloss:0.20657\n",
      "[3360]\ttrain-logloss:0.16625\tvalid-logloss:0.206561\n",
      "[3370]\ttrain-logloss:0.166122\tvalid-logloss:0.206546\n",
      "[3380]\ttrain-logloss:0.166006\tvalid-logloss:0.206535\n",
      "[3390]\ttrain-logloss:0.165873\tvalid-logloss:0.206519\n",
      "[3400]\ttrain-logloss:0.165744\tvalid-logloss:0.206518\n",
      "[3410]\ttrain-logloss:0.16563\tvalid-logloss:0.206515\n",
      "[3420]\ttrain-logloss:0.165516\tvalid-logloss:0.206509\n",
      "[3430]\ttrain-logloss:0.165398\tvalid-logloss:0.20649\n",
      "[3440]\ttrain-logloss:0.165288\tvalid-logloss:0.206475\n",
      "[3450]\ttrain-logloss:0.16515\tvalid-logloss:0.206451\n",
      "[3460]\ttrain-logloss:0.165068\tvalid-logloss:0.206448\n",
      "[3470]\ttrain-logloss:0.164952\tvalid-logloss:0.20643\n",
      "[3480]\ttrain-logloss:0.164825\tvalid-logloss:0.206425\n",
      "[3490]\ttrain-logloss:0.16471\tvalid-logloss:0.206398\n",
      "[3500]\ttrain-logloss:0.164588\tvalid-logloss:0.206384\n",
      "[3510]\ttrain-logloss:0.164486\tvalid-logloss:0.206373\n",
      "[3520]\ttrain-logloss:0.164378\tvalid-logloss:0.206366\n",
      "[3530]\ttrain-logloss:0.164265\tvalid-logloss:0.206361\n",
      "[3540]\ttrain-logloss:0.164138\tvalid-logloss:0.206352\n",
      "[3550]\ttrain-logloss:0.164061\tvalid-logloss:0.206354\n",
      "[3560]\ttrain-logloss:0.163942\tvalid-logloss:0.206337\n",
      "[3570]\ttrain-logloss:0.163826\tvalid-logloss:0.206331\n",
      "[3580]\ttrain-logloss:0.163719\tvalid-logloss:0.206324\n",
      "[3590]\ttrain-logloss:0.163585\tvalid-logloss:0.206327\n",
      "[3600]\ttrain-logloss:0.163469\tvalid-logloss:0.206298\n",
      "[3610]\ttrain-logloss:0.163361\tvalid-logloss:0.206284\n",
      "[3620]\ttrain-logloss:0.163237\tvalid-logloss:0.206274\n",
      "[3630]\ttrain-logloss:0.163134\tvalid-logloss:0.206271\n",
      "[3640]\ttrain-logloss:0.163036\tvalid-logloss:0.206259\n",
      "[3650]\ttrain-logloss:0.162936\tvalid-logloss:0.206252\n",
      "[3660]\ttrain-logloss:0.162822\tvalid-logloss:0.206256\n",
      "[3670]\ttrain-logloss:0.162713\tvalid-logloss:0.206243\n",
      "[3680]\ttrain-logloss:0.162621\tvalid-logloss:0.206241\n",
      "[3690]\ttrain-logloss:0.162512\tvalid-logloss:0.206232\n",
      "[3700]\ttrain-logloss:0.162391\tvalid-logloss:0.206221\n",
      "[3710]\ttrain-logloss:0.162259\tvalid-logloss:0.206214\n",
      "[3720]\ttrain-logloss:0.162162\tvalid-logloss:0.206205\n",
      "[3730]\ttrain-logloss:0.162037\tvalid-logloss:0.206198\n",
      "[3740]\ttrain-logloss:0.161922\tvalid-logloss:0.206178\n",
      "[3750]\ttrain-logloss:0.16181\tvalid-logloss:0.206165\n",
      "[3760]\ttrain-logloss:0.161717\tvalid-logloss:0.206158\n",
      "[3770]\ttrain-logloss:0.161612\tvalid-logloss:0.206141\n",
      "[3780]\ttrain-logloss:0.161493\tvalid-logloss:0.206134\n",
      "[3790]\ttrain-logloss:0.161387\tvalid-logloss:0.206116\n",
      "[3800]\ttrain-logloss:0.161271\tvalid-logloss:0.206105\n",
      "[3810]\ttrain-logloss:0.161159\tvalid-logloss:0.2061\n",
      "[3820]\ttrain-logloss:0.161042\tvalid-logloss:0.206103\n",
      "[3830]\ttrain-logloss:0.160913\tvalid-logloss:0.206085\n",
      "[3840]\ttrain-logloss:0.160826\tvalid-logloss:0.206079\n",
      "[3850]\ttrain-logloss:0.160721\tvalid-logloss:0.206076\n",
      "[3860]\ttrain-logloss:0.160609\tvalid-logloss:0.206066\n",
      "[3870]\ttrain-logloss:0.160497\tvalid-logloss:0.20605\n",
      "[3880]\ttrain-logloss:0.160378\tvalid-logloss:0.206037\n",
      "[3890]\ttrain-logloss:0.160255\tvalid-logloss:0.20603\n",
      "[3900]\ttrain-logloss:0.160129\tvalid-logloss:0.206015\n",
      "[3910]\ttrain-logloss:0.160029\tvalid-logloss:0.206018\n",
      "[3920]\ttrain-logloss:0.159934\tvalid-logloss:0.206005\n",
      "[3930]\ttrain-logloss:0.159827\tvalid-logloss:0.205987\n",
      "[3940]\ttrain-logloss:0.159718\tvalid-logloss:0.205966\n",
      "[3950]\ttrain-logloss:0.159614\tvalid-logloss:0.205974\n",
      "[3960]\ttrain-logloss:0.15952\tvalid-logloss:0.205965\n",
      "[3970]\ttrain-logloss:0.159399\tvalid-logloss:0.205968\n",
      "[3980]\ttrain-logloss:0.159297\tvalid-logloss:0.205958\n",
      "[3990]\ttrain-logloss:0.159206\tvalid-logloss:0.205945\n",
      "[4000]\ttrain-logloss:0.159098\tvalid-logloss:0.205931\n",
      "[4010]\ttrain-logloss:0.15898\tvalid-logloss:0.205919\n",
      "[4020]\ttrain-logloss:0.158878\tvalid-logloss:0.205906\n",
      "[4030]\ttrain-logloss:0.158779\tvalid-logloss:0.205903\n",
      "[4040]\ttrain-logloss:0.15867\tvalid-logloss:0.205898\n",
      "[4050]\ttrain-logloss:0.158545\tvalid-logloss:0.205886\n",
      "[4060]\ttrain-logloss:0.158433\tvalid-logloss:0.205878\n",
      "[4070]\ttrain-logloss:0.15832\tvalid-logloss:0.205878\n",
      "[4080]\ttrain-logloss:0.158227\tvalid-logloss:0.20587\n",
      "[4090]\ttrain-logloss:0.158133\tvalid-logloss:0.20587\n",
      "[4100]\ttrain-logloss:0.15803\tvalid-logloss:0.20587\n",
      "[4110]\ttrain-logloss:0.15794\tvalid-logloss:0.205866\n",
      "[4120]\ttrain-logloss:0.157821\tvalid-logloss:0.205855\n",
      "[4130]\ttrain-logloss:0.157704\tvalid-logloss:0.205851\n",
      "[4140]\ttrain-logloss:0.157598\tvalid-logloss:0.20585\n",
      "[4150]\ttrain-logloss:0.157496\tvalid-logloss:0.205846\n",
      "[4160]\ttrain-logloss:0.15738\tvalid-logloss:0.205833\n",
      "[4170]\ttrain-logloss:0.157283\tvalid-logloss:0.205831\n",
      "[4180]\ttrain-logloss:0.157161\tvalid-logloss:0.205822\n",
      "[4190]\ttrain-logloss:0.157062\tvalid-logloss:0.205813\n",
      "[4200]\ttrain-logloss:0.15695\tvalid-logloss:0.205803\n",
      "[4210]\ttrain-logloss:0.156845\tvalid-logloss:0.2058\n",
      "[4220]\ttrain-logloss:0.156735\tvalid-logloss:0.205793\n",
      "[4230]\ttrain-logloss:0.156644\tvalid-logloss:0.205795\n",
      "[4240]\ttrain-logloss:0.156533\tvalid-logloss:0.205787\n",
      "[4250]\ttrain-logloss:0.156431\tvalid-logloss:0.205773\n",
      "[4260]\ttrain-logloss:0.156334\tvalid-logloss:0.205769\n",
      "[4270]\ttrain-logloss:0.156235\tvalid-logloss:0.205772\n",
      "[4280]\ttrain-logloss:0.156129\tvalid-logloss:0.205756\n",
      "[4290]\ttrain-logloss:0.156031\tvalid-logloss:0.205744\n",
      "[4300]\ttrain-logloss:0.155913\tvalid-logloss:0.205734\n",
      "[4310]\ttrain-logloss:0.1558\tvalid-logloss:0.205725\n",
      "[4320]\ttrain-logloss:0.155688\tvalid-logloss:0.205728\n",
      "[4330]\ttrain-logloss:0.155584\tvalid-logloss:0.205723\n",
      "[4340]\ttrain-logloss:0.155479\tvalid-logloss:0.205716\n",
      "[4350]\ttrain-logloss:0.15537\tvalid-logloss:0.205703\n",
      "[4360]\ttrain-logloss:0.155267\tvalid-logloss:0.205709\n",
      "[4370]\ttrain-logloss:0.155168\tvalid-logloss:0.205698\n",
      "[4380]\ttrain-logloss:0.155046\tvalid-logloss:0.2057\n",
      "[4390]\ttrain-logloss:0.154944\tvalid-logloss:0.20569\n",
      "[4400]\ttrain-logloss:0.154856\tvalid-logloss:0.205681\n",
      "[4410]\ttrain-logloss:0.15476\tvalid-logloss:0.205681\n",
      "[4420]\ttrain-logloss:0.154654\tvalid-logloss:0.205666\n",
      "[4430]\ttrain-logloss:0.154539\tvalid-logloss:0.205657\n",
      "[4440]\ttrain-logloss:0.154417\tvalid-logloss:0.205657\n",
      "[4450]\ttrain-logloss:0.154315\tvalid-logloss:0.205652\n",
      "[4460]\ttrain-logloss:0.154202\tvalid-logloss:0.205654\n",
      "[4470]\ttrain-logloss:0.154134\tvalid-logloss:0.205654\n",
      "[4480]\ttrain-logloss:0.154038\tvalid-logloss:0.205655\n",
      "[4490]\ttrain-logloss:0.153924\tvalid-logloss:0.205657\n",
      "[4500]\ttrain-logloss:0.153806\tvalid-logloss:0.205648\n",
      "[4510]\ttrain-logloss:0.1537\tvalid-logloss:0.205646\n",
      "[4520]\ttrain-logloss:0.153593\tvalid-logloss:0.205637\n",
      "[4530]\ttrain-logloss:0.153498\tvalid-logloss:0.20564\n",
      "[4540]\ttrain-logloss:0.153404\tvalid-logloss:0.205629\n",
      "[4550]\ttrain-logloss:0.153315\tvalid-logloss:0.205616\n",
      "[4560]\ttrain-logloss:0.153208\tvalid-logloss:0.205623\n",
      "[4570]\ttrain-logloss:0.153113\tvalid-logloss:0.205632\n",
      "[4580]\ttrain-logloss:0.153017\tvalid-logloss:0.205626\n"
     ]
    },
    {
     "name": "stdout",
     "output_type": "stream",
     "text": [
      "[4590]\ttrain-logloss:0.152907\tvalid-logloss:0.205632\n",
      "[4600]\ttrain-logloss:0.152798\tvalid-logloss:0.205622\n",
      "[4610]\ttrain-logloss:0.15271\tvalid-logloss:0.205631\n",
      "[4620]\ttrain-logloss:0.152611\tvalid-logloss:0.20562\n",
      "[4630]\ttrain-logloss:0.152498\tvalid-logloss:0.205621\n",
      "[4640]\ttrain-logloss:0.152388\tvalid-logloss:0.205621\n",
      "[4650]\ttrain-logloss:0.152285\tvalid-logloss:0.20561\n",
      "[4660]\ttrain-logloss:0.152189\tvalid-logloss:0.205605\n",
      "[4670]\ttrain-logloss:0.152093\tvalid-logloss:0.205599\n",
      "[4680]\ttrain-logloss:0.15199\tvalid-logloss:0.205592\n",
      "[4690]\ttrain-logloss:0.151884\tvalid-logloss:0.205591\n",
      "[4700]\ttrain-logloss:0.151803\tvalid-logloss:0.205598\n",
      "[4710]\ttrain-logloss:0.151693\tvalid-logloss:0.205585\n",
      "[4720]\ttrain-logloss:0.151591\tvalid-logloss:0.205576\n",
      "[4730]\ttrain-logloss:0.15149\tvalid-logloss:0.205577\n",
      "[4740]\ttrain-logloss:0.151391\tvalid-logloss:0.205569\n",
      "[4750]\ttrain-logloss:0.151291\tvalid-logloss:0.205552\n",
      "[4760]\ttrain-logloss:0.151178\tvalid-logloss:0.20555\n",
      "[4770]\ttrain-logloss:0.151064\tvalid-logloss:0.205551\n",
      "[4780]\ttrain-logloss:0.150977\tvalid-logloss:0.205546\n",
      "[4790]\ttrain-logloss:0.150901\tvalid-logloss:0.205538\n",
      "[4800]\ttrain-logloss:0.150809\tvalid-logloss:0.205535\n",
      "[4810]\ttrain-logloss:0.150696\tvalid-logloss:0.205517\n",
      "[4820]\ttrain-logloss:0.150617\tvalid-logloss:0.205511\n",
      "[4830]\ttrain-logloss:0.150514\tvalid-logloss:0.205507\n",
      "[4840]\ttrain-logloss:0.150429\tvalid-logloss:0.205493\n",
      "[4850]\ttrain-logloss:0.150332\tvalid-logloss:0.205481\n",
      "[4860]\ttrain-logloss:0.150242\tvalid-logloss:0.205475\n",
      "[4870]\ttrain-logloss:0.150142\tvalid-logloss:0.20547\n",
      "[4880]\ttrain-logloss:0.150044\tvalid-logloss:0.205474\n",
      "[4890]\ttrain-logloss:0.149938\tvalid-logloss:0.205469\n",
      "[4900]\ttrain-logloss:0.149852\tvalid-logloss:0.20547\n",
      "[4910]\ttrain-logloss:0.149763\tvalid-logloss:0.205466\n",
      "[4920]\ttrain-logloss:0.149652\tvalid-logloss:0.205465\n",
      "[4930]\ttrain-logloss:0.149549\tvalid-logloss:0.20546\n",
      "[4940]\ttrain-logloss:0.149432\tvalid-logloss:0.20547\n",
      "[4950]\ttrain-logloss:0.149337\tvalid-logloss:0.205471\n",
      "[4960]\ttrain-logloss:0.14925\tvalid-logloss:0.205465\n",
      "[4970]\ttrain-logloss:0.149128\tvalid-logloss:0.205455\n",
      "[4980]\ttrain-logloss:0.149012\tvalid-logloss:0.205455\n",
      "[4990]\ttrain-logloss:0.14892\tvalid-logloss:0.205459\n",
      "[5000]\ttrain-logloss:0.148818\tvalid-logloss:0.205453\n",
      "[5010]\ttrain-logloss:0.148733\tvalid-logloss:0.205445\n",
      "[5020]\ttrain-logloss:0.14865\tvalid-logloss:0.205425\n",
      "[5030]\ttrain-logloss:0.148557\tvalid-logloss:0.205436\n",
      "[5040]\ttrain-logloss:0.148455\tvalid-logloss:0.205431\n",
      "[5050]\ttrain-logloss:0.14836\tvalid-logloss:0.205429\n",
      "[5060]\ttrain-logloss:0.148254\tvalid-logloss:0.205412\n",
      "[5070]\ttrain-logloss:0.148142\tvalid-logloss:0.205408\n",
      "[5080]\ttrain-logloss:0.148051\tvalid-logloss:0.205401\n",
      "[5090]\ttrain-logloss:0.147943\tvalid-logloss:0.205396\n",
      "[5100]\ttrain-logloss:0.147833\tvalid-logloss:0.2054\n",
      "[5110]\ttrain-logloss:0.147731\tvalid-logloss:0.205395\n",
      "[5120]\ttrain-logloss:0.147638\tvalid-logloss:0.2054\n",
      "[5130]\ttrain-logloss:0.147543\tvalid-logloss:0.205392\n",
      "[5140]\ttrain-logloss:0.147454\tvalid-logloss:0.205387\n",
      "[5150]\ttrain-logloss:0.147357\tvalid-logloss:0.205382\n",
      "[5160]\ttrain-logloss:0.147265\tvalid-logloss:0.205379\n",
      "[5170]\ttrain-logloss:0.147179\tvalid-logloss:0.205377\n",
      "[5180]\ttrain-logloss:0.147088\tvalid-logloss:0.205365\n",
      "[5190]\ttrain-logloss:0.146987\tvalid-logloss:0.205366\n",
      "[5200]\ttrain-logloss:0.146904\tvalid-logloss:0.205375\n",
      "[5210]\ttrain-logloss:0.146796\tvalid-logloss:0.205372\n",
      "[5220]\ttrain-logloss:0.146714\tvalid-logloss:0.205373\n",
      "[5230]\ttrain-logloss:0.14663\tvalid-logloss:0.205369\n",
      "[5240]\ttrain-logloss:0.146533\tvalid-logloss:0.205361\n",
      "[5250]\ttrain-logloss:0.146434\tvalid-logloss:0.20535\n",
      "[5260]\ttrain-logloss:0.146341\tvalid-logloss:0.205341\n",
      "[5270]\ttrain-logloss:0.146256\tvalid-logloss:0.205349\n",
      "[5280]\ttrain-logloss:0.146159\tvalid-logloss:0.205341\n",
      "[5290]\ttrain-logloss:0.146074\tvalid-logloss:0.205345\n",
      "[5300]\ttrain-logloss:0.145967\tvalid-logloss:0.205351\n",
      "[5310]\ttrain-logloss:0.145886\tvalid-logloss:0.205349\n",
      "[5320]\ttrain-logloss:0.145801\tvalid-logloss:0.205338\n",
      "[5330]\ttrain-logloss:0.145704\tvalid-logloss:0.205332\n",
      "[5340]\ttrain-logloss:0.145596\tvalid-logloss:0.20532\n",
      "[5350]\ttrain-logloss:0.145504\tvalid-logloss:0.205315\n",
      "[5360]\ttrain-logloss:0.145418\tvalid-logloss:0.205308\n",
      "[5370]\ttrain-logloss:0.145344\tvalid-logloss:0.205306\n",
      "[5380]\ttrain-logloss:0.145252\tvalid-logloss:0.205318\n",
      "[5390]\ttrain-logloss:0.145155\tvalid-logloss:0.205329\n",
      "[5400]\ttrain-logloss:0.145069\tvalid-logloss:0.205326\n",
      "[5410]\ttrain-logloss:0.144972\tvalid-logloss:0.205324\n",
      "[5420]\ttrain-logloss:0.144866\tvalid-logloss:0.205314\n",
      "[5430]\ttrain-logloss:0.144774\tvalid-logloss:0.205307\n",
      "[5440]\ttrain-logloss:0.14468\tvalid-logloss:0.205305\n",
      "[5450]\ttrain-logloss:0.144587\tvalid-logloss:0.205299\n",
      "[5460]\ttrain-logloss:0.144488\tvalid-logloss:0.205286\n",
      "[5470]\ttrain-logloss:0.14438\tvalid-logloss:0.205286\n",
      "[5480]\ttrain-logloss:0.144274\tvalid-logloss:0.205296\n",
      "[5490]\ttrain-logloss:0.144192\tvalid-logloss:0.205288\n",
      "[5500]\ttrain-logloss:0.144104\tvalid-logloss:0.20529\n",
      "[5510]\ttrain-logloss:0.144013\tvalid-logloss:0.205289\n",
      "[5520]\ttrain-logloss:0.143917\tvalid-logloss:0.205283\n",
      "[5530]\ttrain-logloss:0.14384\tvalid-logloss:0.205279\n",
      "[5540]\ttrain-logloss:0.143744\tvalid-logloss:0.205266\n",
      "[5550]\ttrain-logloss:0.143646\tvalid-logloss:0.205257\n",
      "[5560]\ttrain-logloss:0.143554\tvalid-logloss:0.205252\n",
      "[5570]\ttrain-logloss:0.143457\tvalid-logloss:0.205245\n",
      "[5580]\ttrain-logloss:0.143366\tvalid-logloss:0.205236\n",
      "[5590]\ttrain-logloss:0.143282\tvalid-logloss:0.205234\n",
      "[5600]\ttrain-logloss:0.143186\tvalid-logloss:0.205221\n",
      "[5610]\ttrain-logloss:0.143081\tvalid-logloss:0.205208\n",
      "[5620]\ttrain-logloss:0.142984\tvalid-logloss:0.205206\n",
      "[5630]\ttrain-logloss:0.142908\tvalid-logloss:0.205206\n",
      "[5640]\ttrain-logloss:0.142815\tvalid-logloss:0.205207\n",
      "[5650]\ttrain-logloss:0.142713\tvalid-logloss:0.205211\n",
      "[5660]\ttrain-logloss:0.142618\tvalid-logloss:0.205199\n",
      "[5670]\ttrain-logloss:0.142523\tvalid-logloss:0.20519\n",
      "[5680]\ttrain-logloss:0.14243\tvalid-logloss:0.205184\n",
      "[5690]\ttrain-logloss:0.142329\tvalid-logloss:0.205185\n",
      "[5700]\ttrain-logloss:0.142232\tvalid-logloss:0.205181\n",
      "[5710]\ttrain-logloss:0.142151\tvalid-logloss:0.205184\n",
      "[5720]\ttrain-logloss:0.142051\tvalid-logloss:0.205179\n",
      "[5730]\ttrain-logloss:0.141949\tvalid-logloss:0.205176\n",
      "[5740]\ttrain-logloss:0.14187\tvalid-logloss:0.205179\n",
      "[5750]\ttrain-logloss:0.141765\tvalid-logloss:0.20517\n",
      "[5760]\ttrain-logloss:0.14168\tvalid-logloss:0.205178\n",
      "[5770]\ttrain-logloss:0.141592\tvalid-logloss:0.205189\n",
      "[5780]\ttrain-logloss:0.141501\tvalid-logloss:0.205184\n",
      "[5790]\ttrain-logloss:0.141416\tvalid-logloss:0.205176\n",
      "[5800]\ttrain-logloss:0.141326\tvalid-logloss:0.205165\n",
      "[5810]\ttrain-logloss:0.141231\tvalid-logloss:0.205161\n",
      "[5820]\ttrain-logloss:0.141155\tvalid-logloss:0.205158\n",
      "[5830]\ttrain-logloss:0.141054\tvalid-logloss:0.205147\n",
      "[5840]\ttrain-logloss:0.140957\tvalid-logloss:0.205149\n",
      "[5850]\ttrain-logloss:0.140879\tvalid-logloss:0.205143\n",
      "[5860]\ttrain-logloss:0.140788\tvalid-logloss:0.205133\n",
      "[5870]\ttrain-logloss:0.140695\tvalid-logloss:0.205124\n",
      "[5880]\ttrain-logloss:0.14061\tvalid-logloss:0.205123\n",
      "[5890]\ttrain-logloss:0.140497\tvalid-logloss:0.205122\n",
      "[5900]\ttrain-logloss:0.140419\tvalid-logloss:0.205105\n",
      "[5910]\ttrain-logloss:0.140323\tvalid-logloss:0.205103\n",
      "[5920]\ttrain-logloss:0.140225\tvalid-logloss:0.205107\n",
      "[5930]\ttrain-logloss:0.140133\tvalid-logloss:0.205124\n",
      "[5940]\ttrain-logloss:0.140049\tvalid-logloss:0.205117\n",
      "[5950]\ttrain-logloss:0.139963\tvalid-logloss:0.205123\n",
      "[5960]\ttrain-logloss:0.139875\tvalid-logloss:0.205118\n",
      "[5970]\ttrain-logloss:0.139799\tvalid-logloss:0.205119\n",
      "[5980]\ttrain-logloss:0.139697\tvalid-logloss:0.205132\n",
      "[5990]\ttrain-logloss:0.139621\tvalid-logloss:0.20512\n",
      "best score and limit:  0.205099 5914\n",
      "{'reg_alpha': 0.04336728412040154, 'eval_metric': 'logloss', 'colsample_bylevel': 0.8002832856092713, 'scale_pos_weight': 1, 'learning_rate': 0.034020461695847465, 'n_estimators': 2758, 'colsample_bytree': 0.9170073556810385, 'subsample': 0.855166102558848, 'reg_lambda': 1.075069375772109, 'objective': 'binary:logistic', 'max_depth': 6, 'gamma': 0.011423101493907517}\n",
      "[0]\ttrain-logloss:0.671573\tvalid-logloss:0.671676\n",
      "Multiple eval metrics have been passed: 'valid-logloss' will be used for early stopping.\n",
      "\n",
      "Will train until valid-logloss hasn't improved in 100 rounds.\n",
      "[10]\ttrain-logloss:0.519655\tvalid-logloss:0.520531\n",
      "[20]\ttrain-logloss:0.426796\tvalid-logloss:0.428373\n",
      "[30]\ttrain-logloss:0.368619\tvalid-logloss:0.37067\n"
     ]
    },
    {
     "name": "stdout",
     "output_type": "stream",
     "text": [
      "[40]\ttrain-logloss:0.330009\tvalid-logloss:0.332517\n",
      "[50]\ttrain-logloss:0.303756\tvalid-logloss:0.306566\n",
      "[60]\ttrain-logloss:0.285265\tvalid-logloss:0.288374\n",
      "[70]\ttrain-logloss:0.272427\tvalid-logloss:0.27603\n",
      "[80]\ttrain-logloss:0.263142\tvalid-logloss:0.267144\n",
      "[90]\ttrain-logloss:0.256033\tvalid-logloss:0.260426\n",
      "[100]\ttrain-logloss:0.250244\tvalid-logloss:0.254873\n",
      "[110]\ttrain-logloss:0.245823\tvalid-logloss:0.2508\n",
      "[120]\ttrain-logloss:0.242053\tvalid-logloss:0.247372\n",
      "[130]\ttrain-logloss:0.238855\tvalid-logloss:0.244513\n",
      "[140]\ttrain-logloss:0.236153\tvalid-logloss:0.242105\n",
      "[150]\ttrain-logloss:0.233865\tvalid-logloss:0.240074\n",
      "[160]\ttrain-logloss:0.231611\tvalid-logloss:0.238069\n",
      "[170]\ttrain-logloss:0.229412\tvalid-logloss:0.236165\n",
      "[180]\ttrain-logloss:0.227626\tvalid-logloss:0.234696\n",
      "[190]\ttrain-logloss:0.225808\tvalid-logloss:0.233255\n",
      "[200]\ttrain-logloss:0.224222\tvalid-logloss:0.231927\n",
      "[210]\ttrain-logloss:0.222881\tvalid-logloss:0.230875\n",
      "[220]\ttrain-logloss:0.2215\tvalid-logloss:0.229833\n",
      "[230]\ttrain-logloss:0.220181\tvalid-logloss:0.228873\n",
      "[240]\ttrain-logloss:0.218945\tvalid-logloss:0.227908\n",
      "[250]\ttrain-logloss:0.217909\tvalid-logloss:0.22721\n",
      "[260]\ttrain-logloss:0.216968\tvalid-logloss:0.226546\n",
      "[270]\ttrain-logloss:0.216107\tvalid-logloss:0.225917\n",
      "[280]\ttrain-logloss:0.215133\tvalid-logloss:0.22518\n",
      "[290]\ttrain-logloss:0.21435\tvalid-logloss:0.224684\n",
      "[300]\ttrain-logloss:0.21358\tvalid-logloss:0.224207\n",
      "[310]\ttrain-logloss:0.212818\tvalid-logloss:0.223686\n",
      "[320]\ttrain-logloss:0.211997\tvalid-logloss:0.223162\n",
      "[330]\ttrain-logloss:0.21131\tvalid-logloss:0.22269\n",
      "[340]\ttrain-logloss:0.210454\tvalid-logloss:0.222194\n"
     ]
    },
    {
     "ename": "KeyboardInterrupt",
     "evalue": "",
     "output_type": "error",
     "traceback": [
      "\u001b[0;31m---------------------------------------------------------------------------\u001b[0m",
      "\u001b[0;31mKeyboardInterrupt\u001b[0m                         Traceback (most recent call last)",
      "\u001b[0;32m<ipython-input-54-f08207e4158f>\u001b[0m in \u001b[0;36m<module>\u001b[0;34m()\u001b[0m\n\u001b[1;32m     31\u001b[0m     \u001b[0;32mprint\u001b[0m \u001b[0mxgb_params\u001b[0m\u001b[0;34m\u001b[0m\u001b[0m\n\u001b[1;32m     32\u001b[0m \u001b[0;34m\u001b[0m\u001b[0m\n\u001b[0;32m---> 33\u001b[0;31m     \u001b[0mmodel\u001b[0m \u001b[0;34m=\u001b[0m \u001b[0mxgb\u001b[0m\u001b[0;34m.\u001b[0m\u001b[0mtrain\u001b[0m\u001b[0;34m(\u001b[0m\u001b[0mxgb_params\u001b[0m\u001b[0;34m,\u001b[0m \u001b[0md_train\u001b[0m\u001b[0;34m,\u001b[0m \u001b[0;36m6000\u001b[0m\u001b[0;34m,\u001b[0m  \u001b[0mwatchlist\u001b[0m\u001b[0;34m,\u001b[0m \u001b[0mearly_stopping_rounds\u001b[0m\u001b[0;34m=\u001b[0m\u001b[0;36m100\u001b[0m\u001b[0;34m,\u001b[0m \u001b[0mverbose_eval\u001b[0m\u001b[0;34m=\u001b[0m\u001b[0;36m10\u001b[0m\u001b[0;34m)\u001b[0m\u001b[0;31m#,feval=kappa)\u001b[0m\u001b[0;34m\u001b[0m\u001b[0m\n\u001b[0m\u001b[1;32m     34\u001b[0m \u001b[0;34m\u001b[0m\u001b[0m\n\u001b[1;32m     35\u001b[0m \u001b[0;34m\u001b[0m\u001b[0m\n",
      "\u001b[0;32m/home/ubuntu/anaconda2/envs/qenv/lib/python2.7/site-packages/xgboost/training.pyc\u001b[0m in \u001b[0;36mtrain\u001b[0;34m(params, dtrain, num_boost_round, evals, obj, feval, maximize, early_stopping_rounds, evals_result, verbose_eval, learning_rates, xgb_model, callbacks)\u001b[0m\n\u001b[1;32m    203\u001b[0m                            \u001b[0mevals\u001b[0m\u001b[0;34m=\u001b[0m\u001b[0mevals\u001b[0m\u001b[0;34m,\u001b[0m\u001b[0;34m\u001b[0m\u001b[0m\n\u001b[1;32m    204\u001b[0m                            \u001b[0mobj\u001b[0m\u001b[0;34m=\u001b[0m\u001b[0mobj\u001b[0m\u001b[0;34m,\u001b[0m \u001b[0mfeval\u001b[0m\u001b[0;34m=\u001b[0m\u001b[0mfeval\u001b[0m\u001b[0;34m,\u001b[0m\u001b[0;34m\u001b[0m\u001b[0m\n\u001b[0;32m--> 205\u001b[0;31m                            xgb_model=xgb_model, callbacks=callbacks)\n\u001b[0m\u001b[1;32m    206\u001b[0m \u001b[0;34m\u001b[0m\u001b[0m\n\u001b[1;32m    207\u001b[0m \u001b[0;34m\u001b[0m\u001b[0m\n",
      "\u001b[0;32m/home/ubuntu/anaconda2/envs/qenv/lib/python2.7/site-packages/xgboost/training.pyc\u001b[0m in \u001b[0;36m_train_internal\u001b[0;34m(params, dtrain, num_boost_round, evals, obj, feval, xgb_model, callbacks)\u001b[0m\n\u001b[1;32m     74\u001b[0m         \u001b[0;31m# Skip the first update if it is a recovery step.\u001b[0m\u001b[0;34m\u001b[0m\u001b[0;34m\u001b[0m\u001b[0m\n\u001b[1;32m     75\u001b[0m         \u001b[0;32mif\u001b[0m \u001b[0mversion\u001b[0m \u001b[0;34m%\u001b[0m \u001b[0;36m2\u001b[0m \u001b[0;34m==\u001b[0m \u001b[0;36m0\u001b[0m\u001b[0;34m:\u001b[0m\u001b[0;34m\u001b[0m\u001b[0m\n\u001b[0;32m---> 76\u001b[0;31m             \u001b[0mbst\u001b[0m\u001b[0;34m.\u001b[0m\u001b[0mupdate\u001b[0m\u001b[0;34m(\u001b[0m\u001b[0mdtrain\u001b[0m\u001b[0;34m,\u001b[0m \u001b[0mi\u001b[0m\u001b[0;34m,\u001b[0m \u001b[0mobj\u001b[0m\u001b[0;34m)\u001b[0m\u001b[0;34m\u001b[0m\u001b[0m\n\u001b[0m\u001b[1;32m     77\u001b[0m             \u001b[0mbst\u001b[0m\u001b[0;34m.\u001b[0m\u001b[0msave_rabit_checkpoint\u001b[0m\u001b[0;34m(\u001b[0m\u001b[0;34m)\u001b[0m\u001b[0;34m\u001b[0m\u001b[0m\n\u001b[1;32m     78\u001b[0m             \u001b[0mversion\u001b[0m \u001b[0;34m+=\u001b[0m \u001b[0;36m1\u001b[0m\u001b[0;34m\u001b[0m\u001b[0m\n",
      "\u001b[0;32m/home/ubuntu/anaconda2/envs/qenv/lib/python2.7/site-packages/xgboost/core.pyc\u001b[0m in \u001b[0;36mupdate\u001b[0;34m(self, dtrain, iteration, fobj)\u001b[0m\n\u001b[1;32m    804\u001b[0m \u001b[0;34m\u001b[0m\u001b[0m\n\u001b[1;32m    805\u001b[0m         \u001b[0;32mif\u001b[0m \u001b[0mfobj\u001b[0m \u001b[0;32mis\u001b[0m \u001b[0mNone\u001b[0m\u001b[0;34m:\u001b[0m\u001b[0;34m\u001b[0m\u001b[0m\n\u001b[0;32m--> 806\u001b[0;31m             \u001b[0m_check_call\u001b[0m\u001b[0;34m(\u001b[0m\u001b[0m_LIB\u001b[0m\u001b[0;34m.\u001b[0m\u001b[0mXGBoosterUpdateOneIter\u001b[0m\u001b[0;34m(\u001b[0m\u001b[0mself\u001b[0m\u001b[0;34m.\u001b[0m\u001b[0mhandle\u001b[0m\u001b[0;34m,\u001b[0m \u001b[0miteration\u001b[0m\u001b[0;34m,\u001b[0m \u001b[0mdtrain\u001b[0m\u001b[0;34m.\u001b[0m\u001b[0mhandle\u001b[0m\u001b[0;34m)\u001b[0m\u001b[0;34m)\u001b[0m\u001b[0;34m\u001b[0m\u001b[0m\n\u001b[0m\u001b[1;32m    807\u001b[0m         \u001b[0;32melse\u001b[0m\u001b[0;34m:\u001b[0m\u001b[0;34m\u001b[0m\u001b[0m\n\u001b[1;32m    808\u001b[0m             \u001b[0mpred\u001b[0m \u001b[0;34m=\u001b[0m \u001b[0mself\u001b[0m\u001b[0;34m.\u001b[0m\u001b[0mpredict\u001b[0m\u001b[0;34m(\u001b[0m\u001b[0mdtrain\u001b[0m\u001b[0;34m)\u001b[0m\u001b[0;34m\u001b[0m\u001b[0m\n",
      "\u001b[0;31mKeyboardInterrupt\u001b[0m: "
     ]
    }
   ],
   "source": [
    "\n",
    "for i in range(num_trials):\n",
    "    perm = np.random.permutation(len(train_features))\n",
    "    ix_fit = perm[:int(len(train_features)*(0.9))]\n",
    "    ix_valid = perm[int(len(train_features)*(0.9)):]\n",
    "    y_val = labels[ix_valid]\n",
    "    y_train = labels[ix_fit]\n",
    "    \n",
    "    d_train = xgb.DMatrix(train_features[ix_fit],label= y_train)#, weight=weight_train)\n",
    "    d_valid = xgb.DMatrix(train_features[ix_valid],label= y_val)#,weight=weight_val)\n",
    "\n",
    "        \n",
    "    xgb_params = {\n",
    "    'max_depth': np.random.randint(6, 10), \n",
    "    'learning_rate': 0.01 + np.random.rand() * 0.025,\n",
    "    'n_estimators': np.random.randint(2000, 3500), \n",
    "    'objective': 'binary:logistic',\n",
    "        'eval_metric' :'logloss',\n",
    "        'scale_pos_weight': 1,\n",
    "                'gamma': np.random.rand() * 0.1, \n",
    "            'subsample': 0.75+np.random.rand() * 0.25, \n",
    "            'colsample_bytree': 0.75+np.random.rand() * 0.25, \n",
    "            'colsample_bylevel': 0.75+np.random.rand() * 0.25,\n",
    "            'reg_alpha': np.random.rand() * 0.2, \n",
    "            'reg_lambda': 1.0 + np.random.rand() * 0.3, \n",
    "\n",
    "\n",
    "    }\n",
    "    \n",
    "    watchlist = [(d_train, 'train'), (d_valid, 'valid')]\n",
    "    print xgb_params\n",
    "    \n",
    "    model = xgb.train(xgb_params, d_train, 6000,  watchlist, early_stopping_rounds=50, verbose_eval=10)#,feval=kappa)\n",
    "    \n",
    "    \n",
    "    scores.append(model.best_score)\n",
    "    models.append(model)\n",
    "    params.append(xgb_params)\n",
    "    \n",
    "    print \"best score and limit: \", model.best_score, model.best_ntree_limit\n",
    "    \n",
    "    with open(\"data/cache/xgb_models_randomized.pik\", 'w') as f:\n",
    "        pickle.dump(models,f,protocol=pickle.HIGHEST_PROTOCOL)\n",
    "        \n",
    "    \n",
    "    with open(\"data/cache/xgb_scores_randomized.pik\", 'w') as f:\n",
    "        pickle.dump(scores,f,protocol=pickle.HIGHEST_PROTOCOL)    \n",
    "    "
   ]
  },
  {
   "cell_type": "markdown",
   "metadata": {},
   "source": [
    "#### prediction "
   ]
  },
  {
   "cell_type": "code",
   "execution_count": 95,
   "metadata": {
    "collapsed": true
   },
   "outputs": [],
   "source": [
    "d_test = xgb.DMatrix(test_features)\n",
    "preds = np.zeros((test_features.shape[0],1))\n",
    "count = 0 \n",
    "\n",
    "for m in tqdm_notebook(models2):\n",
    "    if m.best_score <= np.median(scores2):\n",
    "        p_test = m.predict(d_test)\n",
    "        preds += p_test.reshape(-1,1)\n",
    "        count +=1\n",
    "\n"
   ]
  },
  {
   "cell_type": "code",
   "execution_count": 96,
   "metadata": {
    "collapsed": true
   },
   "outputs": [],
   "source": [
    "preds_avg = preds / float(count) #devide by number of folds  "
   ]
  },
  {
   "cell_type": "markdown",
   "metadata": {},
   "source": [
    "## KFold"
   ]
  },
  {
   "cell_type": "code",
   "execution_count": 29,
   "metadata": {
    "collapsed": true
   },
   "outputs": [],
   "source": [
    "xgb_params = {\n",
    "'max_depth': 9, \n",
    "'learning_rate': 0.025,\n",
    "'n_estimators': 3000, \n",
    "'objective': 'binary:logistic',\n",
    "    'eval_metric' :'logloss',\n",
    "    'scale_pos_weight': 1,\n",
    "            'gamma': 0.3, \n",
    "        'subsample': 0.75, \n",
    "        'colsample_bytree': 0.75, \n",
    "        'colsample_bylevel': 1,\n",
    "        'reg_alpha': 0.2, \n",
    "        'reg_lambda': 1, \n",
    "    \n",
    "\n",
    "}\n"
   ]
  },
  {
   "cell_type": "code",
   "execution_count": 30,
   "metadata": {
    "collapsed": true
   },
   "outputs": [],
   "source": [
    "skf = StratifiedKFold(n_splits=num_folds, random_state=2019)\n",
    "splits = skf.split(train_features, labels)\n"
   ]
  },
  {
   "cell_type": "code",
   "execution_count": 31,
   "metadata": {
    "scrolled": true
   },
   "outputs": [
    {
     "data": {
      "application/vnd.jupyter.widget-view+json": {
       "model_id": "edb0a2a9be0944bca6c78061de5d5668"
      }
     },
     "metadata": {},
     "output_type": "display_data"
    },
    {
     "name": "stdout",
     "output_type": "stream",
     "text": [
      "[0]\ttrain-logloss:0.674834\tvalid-logloss:0.674969\n",
      "Multiple eval metrics have been passed: 'valid-logloss' will be used for early stopping.\n",
      "\n",
      "Will train until valid-logloss hasn't improved in 50 rounds.\n",
      "[10]\ttrain-logloss:0.535424\tvalid-logloss:0.536969\n",
      "[20]\ttrain-logloss:0.443677\tvalid-logloss:0.446668\n",
      "[30]\ttrain-logloss:0.377698\tvalid-logloss:0.381988\n",
      "[40]\ttrain-logloss:0.330665\tvalid-logloss:0.336224\n",
      "[50]\ttrain-logloss:0.297188\tvalid-logloss:0.304028\n",
      "[60]\ttrain-logloss:0.272292\tvalid-logloss:0.280373\n",
      "[70]\ttrain-logloss:0.253311\tvalid-logloss:0.262566\n",
      "[80]\ttrain-logloss:0.239224\tvalid-logloss:0.249588\n",
      "[90]\ttrain-logloss:0.228449\tvalid-logloss:0.239908\n",
      "[100]\ttrain-logloss:0.22014\tvalid-logloss:0.2326\n",
      "[110]\ttrain-logloss:0.213535\tvalid-logloss:0.226934\n",
      "[120]\ttrain-logloss:0.208489\tvalid-logloss:0.22281\n",
      "[130]\ttrain-logloss:0.204427\tvalid-logloss:0.219574\n",
      "[140]\ttrain-logloss:0.201206\tvalid-logloss:0.217195\n",
      "[150]\ttrain-logloss:0.19869\tvalid-logloss:0.215473\n",
      "[160]\ttrain-logloss:0.196595\tvalid-logloss:0.214069\n",
      "[170]\ttrain-logloss:0.194686\tvalid-logloss:0.212905\n",
      "[180]\ttrain-logloss:0.193413\tvalid-logloss:0.212238\n",
      "[190]\ttrain-logloss:0.192221\tvalid-logloss:0.211651\n",
      "[200]\ttrain-logloss:0.191121\tvalid-logloss:0.211144\n",
      "[210]\ttrain-logloss:0.19025\tvalid-logloss:0.210797\n",
      "[220]\ttrain-logloss:0.189633\tvalid-logloss:0.210593\n",
      "[230]\ttrain-logloss:0.188912\tvalid-logloss:0.210419\n",
      "[240]\ttrain-logloss:0.188463\tvalid-logloss:0.210293\n",
      "[250]\ttrain-logloss:0.188039\tvalid-logloss:0.210224\n",
      "[260]\ttrain-logloss:0.187476\tvalid-logloss:0.210134\n",
      "[270]\ttrain-logloss:0.186859\tvalid-logloss:0.210078\n",
      "[280]\ttrain-logloss:0.186325\tvalid-logloss:0.210054\n",
      "[290]\ttrain-logloss:0.18576\tvalid-logloss:0.209973\n",
      "[300]\ttrain-logloss:0.185312\tvalid-logloss:0.209944\n",
      "[310]\ttrain-logloss:0.184867\tvalid-logloss:0.209952\n",
      "[320]\ttrain-logloss:0.184445\tvalid-logloss:0.209913\n",
      "[330]\ttrain-logloss:0.183853\tvalid-logloss:0.209929\n",
      "[340]\ttrain-logloss:0.18329\tvalid-logloss:0.209944\n",
      "[350]\ttrain-logloss:0.182641\tvalid-logloss:0.209949\n",
      "[360]\ttrain-logloss:0.182089\tvalid-logloss:0.209954\n",
      "[370]\ttrain-logloss:0.18151\tvalid-logloss:0.209973\n",
      "Stopping. Best iteration:\n",
      "[321]\ttrain-logloss:0.184383\tvalid-logloss:0.209912\n",
      "\n",
      "[0]\ttrain-logloss:0.67485\tvalid-logloss:0.674891\n",
      "Multiple eval metrics have been passed: 'valid-logloss' will be used for early stopping.\n",
      "\n",
      "Will train until valid-logloss hasn't improved in 50 rounds.\n",
      "[10]\ttrain-logloss:0.535539\tvalid-logloss:0.536465\n",
      "[20]\ttrain-logloss:0.443888\tvalid-logloss:0.44596\n",
      "[30]\ttrain-logloss:0.377968\tvalid-logloss:0.381003\n",
      "[40]\ttrain-logloss:0.330985\tvalid-logloss:0.335063\n",
      "[50]\ttrain-logloss:0.297565\tvalid-logloss:0.302802\n",
      "[60]\ttrain-logloss:0.272667\tvalid-logloss:0.279057\n",
      "[70]\ttrain-logloss:0.253642\tvalid-logloss:0.261207\n",
      "[80]\ttrain-logloss:0.239526\tvalid-logloss:0.248182\n",
      "[90]\ttrain-logloss:0.228725\tvalid-logloss:0.238431\n",
      "[100]\ttrain-logloss:0.220461\tvalid-logloss:0.231106\n",
      "[110]\ttrain-logloss:0.213881\tvalid-logloss:0.225455\n",
      "[120]\ttrain-logloss:0.208874\tvalid-logloss:0.221312\n",
      "[130]\ttrain-logloss:0.204792\tvalid-logloss:0.218084\n",
      "[140]\ttrain-logloss:0.201632\tvalid-logloss:0.215699\n",
      "[150]\ttrain-logloss:0.19918\tvalid-logloss:0.213925\n",
      "[160]\ttrain-logloss:0.197104\tvalid-logloss:0.212557\n",
      "[170]\ttrain-logloss:0.195197\tvalid-logloss:0.211365\n",
      "[180]\ttrain-logloss:0.193977\tvalid-logloss:0.210714\n",
      "[190]\ttrain-logloss:0.192732\tvalid-logloss:0.2101\n",
      "[200]\ttrain-logloss:0.191632\tvalid-logloss:0.209583\n",
      "[210]\ttrain-logloss:0.190746\tvalid-logloss:0.20925\n",
      "[220]\ttrain-logloss:0.190105\tvalid-logloss:0.209048\n",
      "[230]\ttrain-logloss:0.189446\tvalid-logloss:0.208873\n",
      "[240]\ttrain-logloss:0.188985\tvalid-logloss:0.208751\n",
      "[250]\ttrain-logloss:0.188569\tvalid-logloss:0.208667\n",
      "[260]\ttrain-logloss:0.188032\tvalid-logloss:0.208586\n",
      "[270]\ttrain-logloss:0.187552\tvalid-logloss:0.208528\n",
      "[280]\ttrain-logloss:0.186862\tvalid-logloss:0.208517\n",
      "[290]\ttrain-logloss:0.186308\tvalid-logloss:0.208432\n",
      "[300]\ttrain-logloss:0.185806\tvalid-logloss:0.208419\n",
      "[310]\ttrain-logloss:0.1853\tvalid-logloss:0.208381\n",
      "[320]\ttrain-logloss:0.184835\tvalid-logloss:0.208386\n",
      "[330]\ttrain-logloss:0.18426\tvalid-logloss:0.208375\n",
      "[340]\ttrain-logloss:0.183651\tvalid-logloss:0.208384\n",
      "[350]\ttrain-logloss:0.183097\tvalid-logloss:0.208403\n",
      "[360]\ttrain-logloss:0.18262\tvalid-logloss:0.208427\n",
      "[370]\ttrain-logloss:0.18211\tvalid-logloss:0.208432\n",
      "Stopping. Best iteration:\n",
      "[325]\ttrain-logloss:0.184583\tvalid-logloss:0.208364\n",
      "\n",
      "[0]\ttrain-logloss:0.674843\tvalid-logloss:0.675058\n",
      "Multiple eval metrics have been passed: 'valid-logloss' will be used for early stopping.\n",
      "\n",
      "Will train until valid-logloss hasn't improved in 50 rounds.\n",
      "[10]\ttrain-logloss:0.53397\tvalid-logloss:0.536339\n",
      "[20]\ttrain-logloss:0.442735\tvalid-logloss:0.44697\n",
      "[30]\ttrain-logloss:0.378168\tvalid-logloss:0.384145\n",
      "[40]\ttrain-logloss:0.332368\tvalid-logloss:0.340001\n",
      "[50]\ttrain-logloss:0.298746\tvalid-logloss:0.307939\n",
      "[60]\ttrain-logloss:0.27341\tvalid-logloss:0.284031\n",
      "[70]\ttrain-logloss:0.253793\tvalid-logloss:0.265778\n",
      "[80]\ttrain-logloss:0.23948\tvalid-logloss:0.252755\n",
      "[90]\ttrain-logloss:0.228561\tvalid-logloss:0.243003\n",
      "[100]\ttrain-logloss:0.22034\tvalid-logloss:0.235836\n",
      "[110]\ttrain-logloss:0.213739\tvalid-logloss:0.230264\n",
      "[120]\ttrain-logloss:0.208126\tvalid-logloss:0.225693\n",
      "[130]\ttrain-logloss:0.203792\tvalid-logloss:0.22226\n",
      "[140]\ttrain-logloss:0.200425\tvalid-logloss:0.219757\n",
      "[150]\ttrain-logloss:0.198028\tvalid-logloss:0.218102\n",
      "[160]\ttrain-logloss:0.196009\tvalid-logloss:0.216785\n",
      "[170]\ttrain-logloss:0.19436\tvalid-logloss:0.21577\n",
      "[180]\ttrain-logloss:0.192852\tvalid-logloss:0.214971\n",
      "[190]\ttrain-logloss:0.191655\tvalid-logloss:0.214357\n",
      "[200]\ttrain-logloss:0.190653\tvalid-logloss:0.213913\n",
      "[210]\ttrain-logloss:0.18983\tvalid-logloss:0.213585\n",
      "[220]\ttrain-logloss:0.189105\tvalid-logloss:0.213321\n",
      "[230]\ttrain-logloss:0.188415\tvalid-logloss:0.213144\n",
      "[240]\ttrain-logloss:0.187853\tvalid-logloss:0.212979\n",
      "[250]\ttrain-logloss:0.18737\tvalid-logloss:0.212886\n",
      "[260]\ttrain-logloss:0.186817\tvalid-logloss:0.212776\n",
      "[270]\ttrain-logloss:0.186289\tvalid-logloss:0.212711\n",
      "[280]\ttrain-logloss:0.185857\tvalid-logloss:0.212657\n",
      "[290]\ttrain-logloss:0.185389\tvalid-logloss:0.212655\n",
      "[300]\ttrain-logloss:0.184838\tvalid-logloss:0.212658\n",
      "[310]\ttrain-logloss:0.184395\tvalid-logloss:0.212639\n",
      "[320]\ttrain-logloss:0.183913\tvalid-logloss:0.212647\n",
      "[330]\ttrain-logloss:0.183364\tvalid-logloss:0.21268\n",
      "[340]\ttrain-logloss:0.182795\tvalid-logloss:0.21267\n",
      "[350]\ttrain-logloss:0.182345\tvalid-logloss:0.21267\n",
      "[360]\ttrain-logloss:0.181839\tvalid-logloss:0.212695\n",
      "Stopping. Best iteration:\n",
      "[318]\ttrain-logloss:0.184024\tvalid-logloss:0.212634\n",
      "\n",
      "[0]\ttrain-logloss:0.674859\tvalid-logloss:0.674973\n",
      "Multiple eval metrics have been passed: 'valid-logloss' will be used for early stopping.\n",
      "\n",
      "Will train until valid-logloss hasn't improved in 50 rounds.\n",
      "[10]\ttrain-logloss:0.533296\tvalid-logloss:0.534565\n",
      "[20]\ttrain-logloss:0.439863\tvalid-logloss:0.442308\n",
      "[30]\ttrain-logloss:0.375056\tvalid-logloss:0.378755\n",
      "[40]\ttrain-logloss:0.329279\tvalid-logloss:0.334164\n",
      "[50]\ttrain-logloss:0.297079\tvalid-logloss:0.303177\n",
      "[60]\ttrain-logloss:0.272494\tvalid-logloss:0.279727\n",
      "[70]\ttrain-logloss:0.254161\tvalid-logloss:0.262539\n",
      "[80]\ttrain-logloss:0.24036\tvalid-logloss:0.249827\n",
      "[90]\ttrain-logloss:0.229392\tvalid-logloss:0.239855\n",
      "[100]\ttrain-logloss:0.22062\tvalid-logloss:0.232073\n",
      "[110]\ttrain-logloss:0.213818\tvalid-logloss:0.226228\n",
      "[120]\ttrain-logloss:0.208517\tvalid-logloss:0.221875\n",
      "[130]\ttrain-logloss:0.204675\tvalid-logloss:0.21883\n",
      "[140]\ttrain-logloss:0.201487\tvalid-logloss:0.216447\n",
      "[150]\ttrain-logloss:0.199088\tvalid-logloss:0.214782\n",
      "[160]\ttrain-logloss:0.196845\tvalid-logloss:0.213287\n",
      "[170]\ttrain-logloss:0.195129\tvalid-logloss:0.212262\n",
      "[180]\ttrain-logloss:0.193501\tvalid-logloss:0.211357\n",
      "[190]\ttrain-logloss:0.192226\tvalid-logloss:0.210692\n",
      "[200]\ttrain-logloss:0.191243\tvalid-logloss:0.210276\n",
      "[210]\ttrain-logloss:0.190462\tvalid-logloss:0.209948\n",
      "[220]\ttrain-logloss:0.18978\tvalid-logloss:0.209739\n",
      "[230]\ttrain-logloss:0.189104\tvalid-logloss:0.209548\n",
      "[240]\ttrain-logloss:0.188606\tvalid-logloss:0.209409\n",
      "[250]\ttrain-logloss:0.187994\tvalid-logloss:0.209297\n",
      "[260]\ttrain-logloss:0.187498\tvalid-logloss:0.209238\n",
      "[270]\ttrain-logloss:0.187042\tvalid-logloss:0.209202\n",
      "[280]\ttrain-logloss:0.18664\tvalid-logloss:0.209162\n",
      "[290]\ttrain-logloss:0.186239\tvalid-logloss:0.209127\n"
     ]
    },
    {
     "name": "stdout",
     "output_type": "stream",
     "text": [
      "[300]\ttrain-logloss:0.185792\tvalid-logloss:0.209097\n",
      "[310]\ttrain-logloss:0.185299\tvalid-logloss:0.209078\n",
      "[320]\ttrain-logloss:0.184875\tvalid-logloss:0.20908\n",
      "[330]\ttrain-logloss:0.184461\tvalid-logloss:0.209077\n",
      "[340]\ttrain-logloss:0.183939\tvalid-logloss:0.209064\n",
      "[350]\ttrain-logloss:0.183445\tvalid-logloss:0.209074\n",
      "[360]\ttrain-logloss:0.182815\tvalid-logloss:0.209087\n",
      "[370]\ttrain-logloss:0.182189\tvalid-logloss:0.209101\n",
      "[380]\ttrain-logloss:0.181658\tvalid-logloss:0.209114\n",
      "[390]\ttrain-logloss:0.180912\tvalid-logloss:0.209141\n",
      "[400]\ttrain-logloss:0.18036\tvalid-logloss:0.209196\n",
      "Stopping. Best iteration:\n",
      "[354]\ttrain-logloss:0.183216\tvalid-logloss:0.209062\n",
      "\n",
      "[0]\ttrain-logloss:0.674848\tvalid-logloss:0.674958\n",
      "Multiple eval metrics have been passed: 'valid-logloss' will be used for early stopping.\n",
      "\n",
      "Will train until valid-logloss hasn't improved in 50 rounds.\n",
      "[10]\ttrain-logloss:0.533237\tvalid-logloss:0.534595\n",
      "[20]\ttrain-logloss:0.439826\tvalid-logloss:0.442368\n",
      "[30]\ttrain-logloss:0.375082\tvalid-logloss:0.378832\n",
      "[40]\ttrain-logloss:0.329277\tvalid-logloss:0.334291\n",
      "[50]\ttrain-logloss:0.297052\tvalid-logloss:0.30332\n",
      "[60]\ttrain-logloss:0.272445\tvalid-logloss:0.279887\n",
      "[70]\ttrain-logloss:0.254162\tvalid-logloss:0.262759\n",
      "[80]\ttrain-logloss:0.24031\tvalid-logloss:0.250039\n",
      "[90]\ttrain-logloss:0.229324\tvalid-logloss:0.240126\n",
      "[100]\ttrain-logloss:0.22054\tvalid-logloss:0.232399\n",
      "[110]\ttrain-logloss:0.213754\tvalid-logloss:0.226594\n",
      "[120]\ttrain-logloss:0.208442\tvalid-logloss:0.222242\n",
      "[130]\ttrain-logloss:0.204583\tvalid-logloss:0.219249\n",
      "[140]\ttrain-logloss:0.201401\tvalid-logloss:0.216924\n",
      "[150]\ttrain-logloss:0.198975\tvalid-logloss:0.215293\n",
      "[160]\ttrain-logloss:0.196722\tvalid-logloss:0.21381\n",
      "[170]\ttrain-logloss:0.194986\tvalid-logloss:0.212777\n",
      "[180]\ttrain-logloss:0.193395\tvalid-logloss:0.211918\n",
      "[190]\ttrain-logloss:0.192131\tvalid-logloss:0.211271\n",
      "[200]\ttrain-logloss:0.191118\tvalid-logloss:0.21085\n",
      "[210]\ttrain-logloss:0.190313\tvalid-logloss:0.210543\n",
      "[220]\ttrain-logloss:0.189674\tvalid-logloss:0.210314\n",
      "[230]\ttrain-logloss:0.188977\tvalid-logloss:0.210109\n",
      "[240]\ttrain-logloss:0.188453\tvalid-logloss:0.209975\n",
      "[250]\ttrain-logloss:0.187918\tvalid-logloss:0.209862\n",
      "[260]\ttrain-logloss:0.187352\tvalid-logloss:0.209808\n",
      "[270]\ttrain-logloss:0.186835\tvalid-logloss:0.209767\n",
      "[280]\ttrain-logloss:0.186385\tvalid-logloss:0.209729\n",
      "[290]\ttrain-logloss:0.185934\tvalid-logloss:0.209723\n",
      "[300]\ttrain-logloss:0.185438\tvalid-logloss:0.209722\n",
      "[310]\ttrain-logloss:0.185011\tvalid-logloss:0.209719\n",
      "[320]\ttrain-logloss:0.184529\tvalid-logloss:0.209715\n",
      "[330]\ttrain-logloss:0.183984\tvalid-logloss:0.209722\n",
      "[340]\ttrain-logloss:0.183417\tvalid-logloss:0.209749\n",
      "[350]\ttrain-logloss:0.1828\tvalid-logloss:0.209756\n",
      "[360]\ttrain-logloss:0.182212\tvalid-logloss:0.209778\n",
      "Stopping. Best iteration:\n",
      "[316]\ttrain-logloss:0.18474\tvalid-logloss:0.209701\n",
      "\n"
     ]
    }
   ],
   "source": [
    "xgb_models = []\n",
    "\n",
    "y_oof = np.zeros((train_features.shape[0],1))\n",
    "preds = np.zeros((test_features.shape[0],1))\n",
    "\n",
    "for ix_fit, ix_valid in tqdm_notebook(splits, total=num_folds):\n",
    "    y_val = labels[ix_valid]\n",
    "    y_train = labels[ix_fit]\n",
    "\n",
    "                                           \n",
    "    d_train = xgb.DMatrix(train_features[ix_fit],label= y_train)\n",
    "    d_valid = xgb.DMatrix(train_features[ix_valid],label= y_val)\n",
    "    \n",
    "    \n",
    "    \n",
    "    ############## TRAINING\n",
    "    watchlist = [(d_train, 'train'), (d_valid, 'valid')]\n",
    "    bst = xgb.train(xgb_params, d_train, 5000,  watchlist, early_stopping_rounds=50, verbose_eval=10)\n",
    "    \n",
    "    xgb_models.append(bst)\n",
    "\n",
    "    ################ OOF \n",
    "    y_oof[ix_valid]= bst.predict(d_valid).reshape(-1,1)\n",
    "#     xgb_models.append(bst)\n",
    "\n",
    "    \n",
    "    ################ Test prediction \n",
    "    d_test = xgb.DMatrix(test_features)\n",
    "    p_test = bst.predict(d_test)\n",
    "    preds += p_test.reshape(-1,1)\n",
    "    \n",
    "    \n",
    "\n",
    "    \n"
   ]
  },
  {
   "cell_type": "code",
   "execution_count": 32,
   "metadata": {
    "collapsed": true
   },
   "outputs": [],
   "source": [
    "preds_avg = preds / float(num_folds) #devide by number of folds  "
   ]
  },
  {
   "cell_type": "code",
   "execution_count": 33,
   "metadata": {
    "collapsed": true
   },
   "outputs": [],
   "source": [
    "save_array(\"data/results/xgb_5fold_s2019_test_preds_wm_pseudo.dat\",preds_avg)\n",
    "save_array(\"data/results/xgb_5fold_s2019_oof_preds_wm_pseudo.dat\",y_oof)"
   ]
  },
  {
   "cell_type": "code",
   "execution_count": 212,
   "metadata": {
    "collapsed": true
   },
   "outputs": [],
   "source": [
    "# plt.hist(preds_avg,bins=50)"
   ]
  },
  {
   "cell_type": "code",
   "execution_count": 214,
   "metadata": {
    "collapsed": true
   },
   "outputs": [],
   "source": [
    "# plt.hist(link_function(preds_avg),bins=50)"
   ]
  },
  {
   "cell_type": "code",
   "execution_count": 87,
   "metadata": {
    "collapsed": true
   },
   "outputs": [],
   "source": [
    "# def create_feature_map(features):\n",
    "#     outfile = open('xgb.fmap', 'w')\n",
    "#     i = 0\n",
    "#     for feat in features:\n",
    "#         outfile.write('{0}\\t{1}\\tq\\n'.format(i, feat))\n",
    "#         i = i + 1\n",
    "#     outfile.close()\n",
    "# xgb.plot_importance(bst)"
   ]
  },
  {
   "cell_type": "code",
   "execution_count": 215,
   "metadata": {
    "collapsed": true
   },
   "outputs": [],
   "source": [
    "# d_test = xgb.DMatrix(test_features)\n",
    "# p_test = bst.predict(d_test)\n",
    "# p_test = link_function(p_test)"
   ]
  },
  {
   "cell_type": "code",
   "execution_count": 34,
   "metadata": {
    "collapsed": true
   },
   "outputs": [],
   "source": [
    "p_test = link_function(preds_avg)"
   ]
  },
  {
   "cell_type": "code",
   "execution_count": 35,
   "metadata": {},
   "outputs": [
    {
     "data": {
      "text/html": [
       "<div>\n",
       "<table border=\"1\" class=\"dataframe\">\n",
       "  <thead>\n",
       "    <tr style=\"text-align: right;\">\n",
       "      <th></th>\n",
       "      <th>is_duplicate</th>\n",
       "      <th>test_id</th>\n",
       "    </tr>\n",
       "  </thead>\n",
       "  <tbody>\n",
       "    <tr>\n",
       "      <th>0</th>\n",
       "      <td>0.000057</td>\n",
       "      <td>0</td>\n",
       "    </tr>\n",
       "    <tr>\n",
       "      <th>1</th>\n",
       "      <td>0.092702</td>\n",
       "      <td>1</td>\n",
       "    </tr>\n",
       "  </tbody>\n",
       "</table>\n",
       "</div>"
      ],
      "text/plain": [
       "   is_duplicate  test_id\n",
       "0      0.000057        0\n",
       "1      0.092702        1"
      ]
     },
     "execution_count": 35,
     "metadata": {},
     "output_type": "execute_result"
    }
   ],
   "source": [
    "df_test = pd.read_csv(data_home+'test.csv')\n",
    "\n",
    "sub = pd.DataFrame({'test_id': df_test['test_id'], 'is_duplicate': p_test.ravel()})\n",
    "sub.head(2)"
   ]
  },
  {
   "cell_type": "code",
   "execution_count": 36,
   "metadata": {},
   "outputs": [
    {
     "data": {
      "text/html": [
       "<a href='subm/xgb_wm_psudo.csv' target='_blank'>subm/xgb_wm_psudo.csv</a><br>"
      ],
      "text/plain": [
       "/home/ubuntu/quora/subm/xgb_wm_psudo.csv"
      ]
     },
     "execution_count": 36,
     "metadata": {},
     "output_type": "execute_result"
    }
   ],
   "source": [
    "submission_name = \"subm/xgb_wm_psudo.csv\"\n",
    "\n",
    "sub.to_csv(path+submission_name, index=False)\n",
    "FileLink(submission_name)"
   ]
  },
  {
   "cell_type": "markdown",
   "metadata": {},
   "source": [
    "### Stacking "
   ]
  },
  {
   "cell_type": "code",
   "execution_count": 69,
   "metadata": {
    "collapsed": true
   },
   "outputs": [],
   "source": [
    "from sklearn.ensemble import *\n",
    "\n",
    "clfs = [\n",
    "#         ExtraTreesClassifier(n_estimators=500, n_jobs=-1, criterion='gini',verbose=0),\n",
    "# #     GradientBoostingClassifier(learning_rate=0.05, subsample=0.5, max_depth=9, n_estimators=500,verbose=1),\n",
    "#         ExtraTreesClassifier(n_estimators=500, n_jobs=-1, criterion='entropy',verbose=0),\n",
    "#         RandomForestClassifier(n_estimators=500, n_jobs=-1, criterion='gini',verbose=0),\n",
    "        RandomForestClassifier(n_estimators=1000, n_jobs=-1, criterion='entropy',verbose=1, max_depth=9)\n",
    "]"
   ]
  },
  {
   "cell_type": "code",
   "execution_count": 64,
   "metadata": {
    "collapsed": true
   },
   "outputs": [],
   "source": [
    "dataset_blend_train = np.zeros((train_features.shape[0], len(clfs)+1)) # +1 for xgboost results\n",
    "dataset_blend_test = np.zeros((test_features.shape[0], len(clfs)+1))\n"
   ]
  },
  {
   "cell_type": "code",
   "execution_count": 65,
   "metadata": {
    "collapsed": true
   },
   "outputs": [],
   "source": [
    "num_folds = 5\n",
    "X = train_features\n",
    "X_submission = test_features\n",
    "y = labels\n",
    "\n",
    "skf = StratifiedKFold(n_splits=num_folds, random_state=2019)\n",
    "skf  = list(skf.split(X, y))"
   ]
  },
  {
   "cell_type": "code",
   "execution_count": 66,
   "metadata": {},
   "outputs": [
    {
     "data": {
      "text/plain": [
       "(False, True)"
      ]
     },
     "execution_count": 66,
     "metadata": {},
     "output_type": "execute_result"
    }
   ],
   "source": [
    "np.any(np.isnan(X)), np.all(np.isfinite(X))"
   ]
  },
  {
   "cell_type": "code",
   "execution_count": 67,
   "metadata": {
    "collapsed": true
   },
   "outputs": [],
   "source": [
    "X = np.clip(X,X.min(),1e7)\n",
    "X_submission = np.clip(X_submission,X_submission.min(),1e7)"
   ]
  },
  {
   "cell_type": "code",
   "execution_count": 11,
   "metadata": {
    "collapsed": true
   },
   "outputs": [],
   "source": [
    "# dataset_blend_train =   load_array(\"data/cache/dataset_blend_train_v1.dat\")\n",
    "# dataset_blend_test =    load_array(\"data/cache/dataset_blend_test_v1.dat\")"
   ]
  },
  {
   "cell_type": "code",
   "execution_count": null,
   "metadata": {
    "scrolled": false
   },
   "outputs": [
    {
     "name": "stdout",
     "output_type": "stream",
     "text": [
      "0 RandomForestClassifier(bootstrap=True, class_weight=None, criterion='entropy',\n",
      "            max_depth=9, max_features='auto', max_leaf_nodes=None,\n",
      "            min_impurity_split=1e-07, min_samples_leaf=1,\n",
      "            min_samples_split=2, min_weight_fraction_leaf=0.0,\n",
      "            n_estimators=1000, n_jobs=-1, oob_score=False,\n",
      "            random_state=None, verbose=1, warm_start=False)\n",
      "Fold 0\n"
     ]
    },
    {
     "name": "stderr",
     "output_type": "stream",
     "text": [
      "[Parallel(n_jobs=-1)]: Done  18 tasks      | elapsed:    6.3s\n",
      "[Parallel(n_jobs=-1)]: Done 168 tasks      | elapsed:   37.6s\n",
      "[Parallel(n_jobs=-1)]: Done 418 tasks      | elapsed:  1.5min\n",
      "[Parallel(n_jobs=-1)]: Done 768 tasks      | elapsed:  2.8min\n",
      "[Parallel(n_jobs=-1)]: Done 1000 out of 1000 | elapsed:  3.6min finished\n",
      "[Parallel(n_jobs=16)]: Done  18 tasks      | elapsed:    0.0s\n",
      "[Parallel(n_jobs=16)]: Done 168 tasks      | elapsed:    0.2s\n",
      "[Parallel(n_jobs=16)]: Done 418 tasks      | elapsed:    0.5s\n",
      "[Parallel(n_jobs=16)]: Done 768 tasks      | elapsed:    1.0s\n",
      "[Parallel(n_jobs=16)]: Done 1000 out of 1000 | elapsed:    1.3s finished\n",
      "[Parallel(n_jobs=16)]: Done  18 tasks      | elapsed:    0.6s\n",
      "[Parallel(n_jobs=16)]: Done 168 tasks      | elapsed:    3.7s\n",
      "[Parallel(n_jobs=16)]: Done 418 tasks      | elapsed:    9.0s\n"
     ]
    }
   ],
   "source": [
    "%%time \n",
    "\n",
    "for j, clf in enumerate(clfs):\n",
    "    print j, clf\n",
    " \n",
    "        \n",
    "        \n",
    "    dataset_blend_test_j = np.zeros((test_features.shape[0], num_folds))\n",
    "    \n",
    "    \n",
    "\n",
    "\n",
    "    for i, (train, test) in enumerate(skf):\n",
    "        print \"Fold\", i\n",
    "        \n",
    "        X_train = X[train]\n",
    "        y_train = y[train]\n",
    "        X_test = X[test]\n",
    "        y_test = y[test]\n",
    "        \n",
    "#         print X_train.shape, y_train.shape, X_test.shape, y_test.shape\n",
    "        clf.fit(X_train, y_train)\n",
    "        \n",
    "        y_submission = clf.predict_proba(X_test)[:, 1]\n",
    "        dataset_blend_train[test, j] = y_submission\n",
    "        dataset_blend_test_j[:, i] = clf.predict_proba(X_submission)[:, 1]\n",
    "        \n",
    "    dataset_blend_test[:, j] = dataset_blend_test_j.mean(1)\n",
    "    \n",
    "    #caching to avoid dead-kernel interruptions \n",
    "    save_array(\"data/cache/dataset_blend_train_v1.dat\",dataset_blend_train)\n",
    "    save_array(\"data/cache/dataset_blend_test_v1.dat\",dataset_blend_test)\n"
   ]
  },
  {
   "cell_type": "code",
   "execution_count": 13,
   "metadata": {},
   "outputs": [
    {
     "data": {
      "text/plain": [
       "((404290, 5), (2345796, 5))"
      ]
     },
     "execution_count": 13,
     "metadata": {},
     "output_type": "execute_result"
    }
   ],
   "source": [
    "dataset_blend_train.shape, dataset_blend_test.shape"
   ]
  },
  {
   "cell_type": "code",
   "execution_count": 45,
   "metadata": {},
   "outputs": [
    {
     "data": {
      "text/plain": [
       "array([  4.24634665e-02,   6.59618014e-03,   4.29204762e-01, ...,\n",
       "         2.81577948e-02,   2.92460697e-07,   8.89144659e-01])"
      ]
     },
     "execution_count": 45,
     "metadata": {},
     "output_type": "execute_result"
    }
   ],
   "source": [
    "dataset_blend_train[:,4]"
   ]
  },
  {
   "cell_type": "code",
   "execution_count": 24,
   "metadata": {
    "collapsed": true
   },
   "outputs": [],
   "source": [
    "xgb_preds = load_array(\"data/results/xgb_5fold_s2019_test_preds_maxcore.dat\")\n",
    "xgb_y_oof = load_array(\"data/results/xgb_5fold_s2019_oof_preds_maxcore.dat\")"
   ]
  },
  {
   "cell_type": "code",
   "execution_count": 34,
   "metadata": {
    "collapsed": true
   },
   "outputs": [],
   "source": [
    "dataset_blend_train[:,len(clfs)] = xgb_y_oof.ravel()\n",
    "dataset_blend_test[:,len(clfs)] = xgb_preds.ravel()\n"
   ]
  },
  {
   "cell_type": "code",
   "execution_count": 32,
   "metadata": {},
   "outputs": [
    {
     "data": {
      "text/plain": [
       "4"
      ]
     },
     "execution_count": 32,
     "metadata": {},
     "output_type": "execute_result"
    }
   ],
   "source": [
    "len(clfs)"
   ]
  },
  {
   "cell_type": "code",
   "execution_count": 62,
   "metadata": {},
   "outputs": [
    {
     "data": {
      "text/plain": [
       "array([  1.40080047e-04,   2.09554631e-01])"
      ]
     },
     "execution_count": 62,
     "metadata": {},
     "output_type": "execute_result"
    }
   ],
   "source": [
    "avg_blend_preds = dataset_blend_test.mean(axis=1)\n",
    "avg_blend_preds[0:2]"
   ]
  },
  {
   "cell_type": "markdown",
   "metadata": {},
   "source": [
    "#### Blending"
   ]
  },
  {
   "cell_type": "code",
   "execution_count": null,
   "metadata": {
    "collapsed": true
   },
   "outputs": [],
   "source": []
  },
  {
   "cell_type": "code",
   "execution_count": 58,
   "metadata": {
    "collapsed": true
   },
   "outputs": [],
   "source": [
    "from sklearn.linear_model import LogisticRegression\n",
    "\n",
    "clf = LogisticRegression()\n",
    "clf.fit(dataset_blend_train, y)\n",
    "y_submission = clf.predict_proba(dataset_blend_test) [:, 1]"
   ]
  },
  {
   "cell_type": "code",
   "execution_count": 53,
   "metadata": {},
   "outputs": [
    {
     "data": {
      "text/plain": [
       "0.94942818288017461"
      ]
     },
     "execution_count": 53,
     "metadata": {},
     "output_type": "execute_result"
    }
   ],
   "source": [
    "link_function(y_submission).max()"
   ]
  },
  {
   "cell_type": "code",
   "execution_count": 57,
   "metadata": {
    "collapsed": true
   },
   "outputs": [],
   "source": [
    "# print \"Linear stretch of predictions to [0,1]\"\n",
    "# y_submission = (y_submission - y_submission.min()) / (y_submission.max() - y_submission.min())"
   ]
  },
  {
   "cell_type": "markdown",
   "metadata": {},
   "source": [
    "#### Submission"
   ]
  },
  {
   "cell_type": "code",
   "execution_count": 59,
   "metadata": {},
   "outputs": [
    {
     "data": {
      "text/html": [
       "<div>\n",
       "<table border=\"1\" class=\"dataframe\">\n",
       "  <thead>\n",
       "    <tr style=\"text-align: right;\">\n",
       "      <th></th>\n",
       "      <th>is_duplicate</th>\n",
       "      <th>test_id</th>\n",
       "    </tr>\n",
       "  </thead>\n",
       "  <tbody>\n",
       "    <tr>\n",
       "      <th>0</th>\n",
       "      <td>0.008158</td>\n",
       "      <td>0</td>\n",
       "    </tr>\n",
       "    <tr>\n",
       "      <th>1</th>\n",
       "      <td>0.039296</td>\n",
       "      <td>1</td>\n",
       "    </tr>\n",
       "  </tbody>\n",
       "</table>\n",
       "</div>"
      ],
      "text/plain": [
       "   is_duplicate  test_id\n",
       "0      0.008158        0\n",
       "1      0.039296        1"
      ]
     },
     "execution_count": 59,
     "metadata": {},
     "output_type": "execute_result"
    }
   ],
   "source": [
    "df_test = pd.read_csv(data_home+'test.csv')\n",
    "\n",
    "sub = pd.DataFrame({'test_id': df_test['test_id'], 'is_duplicate': link_function(y_submission)})\n",
    "sub.head(2)"
   ]
  },
  {
   "cell_type": "code",
   "execution_count": 60,
   "metadata": {},
   "outputs": [
    {
     "data": {
      "text/html": [
       "<a href='subm/blendingv1.csv' target='_blank'>subm/blendingv1.csv</a><br>"
      ],
      "text/plain": [
       "/home/ubuntu/quora/subm/blendingv1.csv"
      ]
     },
     "execution_count": 60,
     "metadata": {},
     "output_type": "execute_result"
    }
   ],
   "source": [
    "submission_name = \"subm/blendingv1.csv\"\n",
    "\n",
    "sub.to_csv(path+submission_name, index=False)\n",
    "FileLink(submission_name)"
   ]
  },
  {
   "cell_type": "code",
   "execution_count": null,
   "metadata": {
    "collapsed": true
   },
   "outputs": [],
   "source": []
  }
 ],
 "metadata": {
  "anaconda-cloud": {},
  "kernelspec": {
   "display_name": "Python [conda env:qenv]",
   "language": "python",
   "name": "conda-env-qenv-py"
  },
  "language_info": {
   "codemirror_mode": {
    "name": "ipython",
    "version": 2
   },
   "file_extension": ".py",
   "mimetype": "text/x-python",
   "name": "python",
   "nbconvert_exporter": "python",
   "pygments_lexer": "ipython2",
   "version": "2.7.12"
  }
 },
 "nbformat": 4,
 "nbformat_minor": 1
}
